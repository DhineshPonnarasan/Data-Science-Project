{
 "cells": [
  {
   "cell_type": "code",
   "execution_count": 1,
   "id": "12a7c0d7",
   "metadata": {},
   "outputs": [],
   "source": [
    "import numpy as np \n",
    "import pandas as pd \n",
    "import matplotlib.pyplot as plt \n",
    "import seaborn as sns\n",
    "%matplotlib inline"
   ]
  },
  {
   "cell_type": "markdown",
   "id": "5185f721",
   "metadata": {},
   "source": [
    "# Loading Datasets"
   ]
  },
  {
   "cell_type": "code",
   "execution_count": 2,
   "id": "fb2cd6cd",
   "metadata": {},
   "outputs": [],
   "source": [
    "auction = pd.read_csv(\"C:/Users/23MSP3017/Downloads/IPL IMB381IPL2013 (1).csv\")\n",
    "batsmen = pd.read_excel(\"C:/Users/23MSP3017/Downloads/Top_100_batsman (1).xlsx\")\n",
    "bowlers = pd.read_excel(\"C:/Users/23MSP3017/Downloads/Top_100_bowlers.xlsx\")"
   ]
  },
  {
   "cell_type": "code",
   "execution_count": 3,
   "id": "a41801d7",
   "metadata": {},
   "outputs": [
    {
     "data": {
      "text/html": [
       "<div>\n",
       "<style scoped>\n",
       "    .dataframe tbody tr th:only-of-type {\n",
       "        vertical-align: middle;\n",
       "    }\n",
       "\n",
       "    .dataframe tbody tr th {\n",
       "        vertical-align: top;\n",
       "    }\n",
       "\n",
       "    .dataframe thead th {\n",
       "        text-align: right;\n",
       "    }\n",
       "</style>\n",
       "<table border=\"1\" class=\"dataframe\">\n",
       "  <thead>\n",
       "    <tr style=\"text-align: right;\">\n",
       "      <th></th>\n",
       "      <th>Sl.NO.</th>\n",
       "      <th>PLAYER NAME</th>\n",
       "      <th>AGE</th>\n",
       "      <th>COUNTRY</th>\n",
       "      <th>TEAM</th>\n",
       "      <th>PLAYING ROLE</th>\n",
       "      <th>T-RUNS</th>\n",
       "      <th>T-WKTS</th>\n",
       "      <th>ODI-RUNS-S</th>\n",
       "      <th>ODI-SR-B</th>\n",
       "      <th>...</th>\n",
       "      <th>SR-B</th>\n",
       "      <th>SIXERS</th>\n",
       "      <th>RUNS-C</th>\n",
       "      <th>WKTS</th>\n",
       "      <th>AVE-BL</th>\n",
       "      <th>ECON</th>\n",
       "      <th>SR-BL</th>\n",
       "      <th>AUCTION YEAR</th>\n",
       "      <th>BASE PRICE</th>\n",
       "      <th>SOLD PRICE</th>\n",
       "    </tr>\n",
       "  </thead>\n",
       "  <tbody>\n",
       "    <tr>\n",
       "      <th>0</th>\n",
       "      <td>1</td>\n",
       "      <td>Abdulla, YA</td>\n",
       "      <td>2</td>\n",
       "      <td>SA</td>\n",
       "      <td>KXIP</td>\n",
       "      <td>Allrounder</td>\n",
       "      <td>0</td>\n",
       "      <td>0</td>\n",
       "      <td>0</td>\n",
       "      <td>0.00</td>\n",
       "      <td>...</td>\n",
       "      <td>0.00</td>\n",
       "      <td>0</td>\n",
       "      <td>307</td>\n",
       "      <td>15</td>\n",
       "      <td>20.47</td>\n",
       "      <td>8.90</td>\n",
       "      <td>13.93</td>\n",
       "      <td>2009</td>\n",
       "      <td>50000</td>\n",
       "      <td>50000</td>\n",
       "    </tr>\n",
       "    <tr>\n",
       "      <th>1</th>\n",
       "      <td>2</td>\n",
       "      <td>Abdur Razzak</td>\n",
       "      <td>2</td>\n",
       "      <td>BAN</td>\n",
       "      <td>RCB</td>\n",
       "      <td>Bowler</td>\n",
       "      <td>214</td>\n",
       "      <td>18</td>\n",
       "      <td>657</td>\n",
       "      <td>71.41</td>\n",
       "      <td>...</td>\n",
       "      <td>0.00</td>\n",
       "      <td>0</td>\n",
       "      <td>29</td>\n",
       "      <td>0</td>\n",
       "      <td>0.00</td>\n",
       "      <td>14.50</td>\n",
       "      <td>0.00</td>\n",
       "      <td>2008</td>\n",
       "      <td>50000</td>\n",
       "      <td>50000</td>\n",
       "    </tr>\n",
       "    <tr>\n",
       "      <th>2</th>\n",
       "      <td>3</td>\n",
       "      <td>Agarkar, AB</td>\n",
       "      <td>2</td>\n",
       "      <td>IND</td>\n",
       "      <td>KKR</td>\n",
       "      <td>Bowler</td>\n",
       "      <td>571</td>\n",
       "      <td>58</td>\n",
       "      <td>1269</td>\n",
       "      <td>80.62</td>\n",
       "      <td>...</td>\n",
       "      <td>121.01</td>\n",
       "      <td>5</td>\n",
       "      <td>1059</td>\n",
       "      <td>29</td>\n",
       "      <td>36.52</td>\n",
       "      <td>8.81</td>\n",
       "      <td>24.90</td>\n",
       "      <td>2008</td>\n",
       "      <td>200000</td>\n",
       "      <td>350000</td>\n",
       "    </tr>\n",
       "    <tr>\n",
       "      <th>3</th>\n",
       "      <td>4</td>\n",
       "      <td>Ashwin, R</td>\n",
       "      <td>1</td>\n",
       "      <td>IND</td>\n",
       "      <td>CSK</td>\n",
       "      <td>Bowler</td>\n",
       "      <td>284</td>\n",
       "      <td>31</td>\n",
       "      <td>241</td>\n",
       "      <td>84.56</td>\n",
       "      <td>...</td>\n",
       "      <td>76.32</td>\n",
       "      <td>0</td>\n",
       "      <td>1125</td>\n",
       "      <td>49</td>\n",
       "      <td>22.96</td>\n",
       "      <td>6.23</td>\n",
       "      <td>22.14</td>\n",
       "      <td>2011</td>\n",
       "      <td>100000</td>\n",
       "      <td>850000</td>\n",
       "    </tr>\n",
       "    <tr>\n",
       "      <th>4</th>\n",
       "      <td>5</td>\n",
       "      <td>Badrinath, S</td>\n",
       "      <td>2</td>\n",
       "      <td>IND</td>\n",
       "      <td>CSK</td>\n",
       "      <td>Batsman</td>\n",
       "      <td>63</td>\n",
       "      <td>0</td>\n",
       "      <td>79</td>\n",
       "      <td>45.93</td>\n",
       "      <td>...</td>\n",
       "      <td>120.71</td>\n",
       "      <td>28</td>\n",
       "      <td>0</td>\n",
       "      <td>0</td>\n",
       "      <td>0.00</td>\n",
       "      <td>0.00</td>\n",
       "      <td>0.00</td>\n",
       "      <td>2011</td>\n",
       "      <td>100000</td>\n",
       "      <td>800000</td>\n",
       "    </tr>\n",
       "  </tbody>\n",
       "</table>\n",
       "<p>5 rows × 26 columns</p>\n",
       "</div>"
      ],
      "text/plain": [
       "   Sl.NO.   PLAYER NAME  AGE COUNTRY  TEAM PLAYING ROLE  T-RUNS  T-WKTS  \\\n",
       "0       1   Abdulla, YA    2      SA  KXIP   Allrounder       0       0   \n",
       "1       2  Abdur Razzak    2     BAN   RCB       Bowler     214      18   \n",
       "2       3   Agarkar, AB    2     IND   KKR       Bowler     571      58   \n",
       "3       4     Ashwin, R    1     IND   CSK       Bowler     284      31   \n",
       "4       5  Badrinath, S    2     IND   CSK      Batsman      63       0   \n",
       "\n",
       "   ODI-RUNS-S  ODI-SR-B  ...    SR-B  SIXERS  RUNS-C  WKTS  AVE-BL   ECON  \\\n",
       "0           0      0.00  ...    0.00       0     307    15   20.47   8.90   \n",
       "1         657     71.41  ...    0.00       0      29     0    0.00  14.50   \n",
       "2        1269     80.62  ...  121.01       5    1059    29   36.52   8.81   \n",
       "3         241     84.56  ...   76.32       0    1125    49   22.96   6.23   \n",
       "4          79     45.93  ...  120.71      28       0     0    0.00   0.00   \n",
       "\n",
       "   SR-BL  AUCTION YEAR  BASE PRICE  SOLD PRICE  \n",
       "0  13.93          2009       50000       50000  \n",
       "1   0.00          2008       50000       50000  \n",
       "2  24.90          2008      200000      350000  \n",
       "3  22.14          2011      100000      850000  \n",
       "4   0.00          2011      100000      800000  \n",
       "\n",
       "[5 rows x 26 columns]"
      ]
     },
     "execution_count": 3,
     "metadata": {},
     "output_type": "execute_result"
    }
   ],
   "source": [
    "auction.head()"
   ]
  },
  {
   "cell_type": "code",
   "execution_count": 4,
   "id": "1d439ed7",
   "metadata": {},
   "outputs": [
    {
     "data": {
      "text/html": [
       "<div>\n",
       "<style scoped>\n",
       "    .dataframe tbody tr th:only-of-type {\n",
       "        vertical-align: middle;\n",
       "    }\n",
       "\n",
       "    .dataframe tbody tr th {\n",
       "        vertical-align: top;\n",
       "    }\n",
       "\n",
       "    .dataframe thead th {\n",
       "        text-align: right;\n",
       "    }\n",
       "</style>\n",
       "<table border=\"1\" class=\"dataframe\">\n",
       "  <thead>\n",
       "    <tr style=\"text-align: right;\">\n",
       "      <th></th>\n",
       "      <th>POS</th>\n",
       "      <th>PLAYER</th>\n",
       "      <th>Mat</th>\n",
       "      <th>Inns</th>\n",
       "      <th>NO</th>\n",
       "      <th>Runs</th>\n",
       "      <th>HS</th>\n",
       "      <th>Avg</th>\n",
       "      <th>BF</th>\n",
       "      <th>SR</th>\n",
       "      <th>100</th>\n",
       "      <th>50</th>\n",
       "      <th>4s</th>\n",
       "      <th>6s</th>\n",
       "    </tr>\n",
       "  </thead>\n",
       "  <tbody>\n",
       "    <tr>\n",
       "      <th>0</th>\n",
       "      <td>1</td>\n",
       "      <td>ViratKohli</td>\n",
       "      <td>177</td>\n",
       "      <td>169</td>\n",
       "      <td>26</td>\n",
       "      <td>5412</td>\n",
       "      <td>113</td>\n",
       "      <td>37.84</td>\n",
       "      <td>4112</td>\n",
       "      <td>131.61</td>\n",
       "      <td>5</td>\n",
       "      <td>36</td>\n",
       "      <td>480</td>\n",
       "      <td>190</td>\n",
       "    </tr>\n",
       "    <tr>\n",
       "      <th>1</th>\n",
       "      <td>2</td>\n",
       "      <td>Suresh Raina</td>\n",
       "      <td>193</td>\n",
       "      <td>189</td>\n",
       "      <td>28</td>\n",
       "      <td>5368</td>\n",
       "      <td>100*</td>\n",
       "      <td>33.34</td>\n",
       "      <td>3914</td>\n",
       "      <td>137.14</td>\n",
       "      <td>1</td>\n",
       "      <td>38</td>\n",
       "      <td>493</td>\n",
       "      <td>194</td>\n",
       "    </tr>\n",
       "    <tr>\n",
       "      <th>2</th>\n",
       "      <td>3</td>\n",
       "      <td>Rohit Sharma</td>\n",
       "      <td>188</td>\n",
       "      <td>183</td>\n",
       "      <td>28</td>\n",
       "      <td>4898</td>\n",
       "      <td>109*</td>\n",
       "      <td>31.60</td>\n",
       "      <td>3744</td>\n",
       "      <td>130.82</td>\n",
       "      <td>1</td>\n",
       "      <td>36</td>\n",
       "      <td>431</td>\n",
       "      <td>194</td>\n",
       "    </tr>\n",
       "    <tr>\n",
       "      <th>3</th>\n",
       "      <td>4</td>\n",
       "      <td>David Warner</td>\n",
       "      <td>126</td>\n",
       "      <td>126</td>\n",
       "      <td>17</td>\n",
       "      <td>4706</td>\n",
       "      <td>126</td>\n",
       "      <td>43.17</td>\n",
       "      <td>3305</td>\n",
       "      <td>142.39</td>\n",
       "      <td>4</td>\n",
       "      <td>44</td>\n",
       "      <td>458</td>\n",
       "      <td>181</td>\n",
       "    </tr>\n",
       "    <tr>\n",
       "      <th>4</th>\n",
       "      <td>5</td>\n",
       "      <td>Shikhar Dhawan</td>\n",
       "      <td>159</td>\n",
       "      <td>158</td>\n",
       "      <td>21</td>\n",
       "      <td>4579</td>\n",
       "      <td>97*</td>\n",
       "      <td>33.42</td>\n",
       "      <td>3669</td>\n",
       "      <td>124.80</td>\n",
       "      <td>0</td>\n",
       "      <td>37</td>\n",
       "      <td>524</td>\n",
       "      <td>96</td>\n",
       "    </tr>\n",
       "  </tbody>\n",
       "</table>\n",
       "</div>"
      ],
      "text/plain": [
       "   POS          PLAYER  Mat  Inns  NO  Runs    HS    Avg    BF      SR  100  \\\n",
       "0    1      ViratKohli  177   169  26  5412   113  37.84  4112  131.61    5   \n",
       "1    2    Suresh Raina  193   189  28  5368  100*  33.34  3914  137.14    1   \n",
       "2    3    Rohit Sharma  188   183  28  4898  109*  31.60  3744  130.82    1   \n",
       "3    4    David Warner  126   126  17  4706   126  43.17  3305  142.39    4   \n",
       "4    5  Shikhar Dhawan  159   158  21  4579   97*  33.42  3669  124.80    0   \n",
       "\n",
       "   50   4s   6s  \n",
       "0  36  480  190  \n",
       "1  38  493  194  \n",
       "2  36  431  194  \n",
       "3  44  458  181  \n",
       "4  37  524   96  "
      ]
     },
     "execution_count": 4,
     "metadata": {},
     "output_type": "execute_result"
    }
   ],
   "source": [
    "batsmen.head()"
   ]
  },
  {
   "cell_type": "code",
   "execution_count": 5,
   "id": "41edd63b",
   "metadata": {},
   "outputs": [
    {
     "data": {
      "text/html": [
       "<div>\n",
       "<style scoped>\n",
       "    .dataframe tbody tr th:only-of-type {\n",
       "        vertical-align: middle;\n",
       "    }\n",
       "\n",
       "    .dataframe tbody tr th {\n",
       "        vertical-align: top;\n",
       "    }\n",
       "\n",
       "    .dataframe thead th {\n",
       "        text-align: right;\n",
       "    }\n",
       "</style>\n",
       "<table border=\"1\" class=\"dataframe\">\n",
       "  <thead>\n",
       "    <tr style=\"text-align: right;\">\n",
       "      <th></th>\n",
       "      <th>POS</th>\n",
       "      <th>PLAYER</th>\n",
       "      <th>Mat</th>\n",
       "      <th>Inns</th>\n",
       "      <th>Ov</th>\n",
       "      <th>Runs</th>\n",
       "      <th>Wkts</th>\n",
       "      <th>BBI</th>\n",
       "      <th>Avg</th>\n",
       "      <th>Econ</th>\n",
       "      <th>SR</th>\n",
       "      <th>4w</th>\n",
       "      <th>5w</th>\n",
       "    </tr>\n",
       "  </thead>\n",
       "  <tbody>\n",
       "    <tr>\n",
       "      <th>0</th>\n",
       "      <td>1</td>\n",
       "      <td>LasithMalinga</td>\n",
       "      <td>122</td>\n",
       "      <td>122</td>\n",
       "      <td>471.1</td>\n",
       "      <td>3366</td>\n",
       "      <td>170</td>\n",
       "      <td>0</td>\n",
       "      <td>19.80</td>\n",
       "      <td>7.14</td>\n",
       "      <td>16.62</td>\n",
       "      <td>6</td>\n",
       "      <td>1</td>\n",
       "    </tr>\n",
       "    <tr>\n",
       "      <th>1</th>\n",
       "      <td>2</td>\n",
       "      <td>Amit Mishra</td>\n",
       "      <td>147</td>\n",
       "      <td>147</td>\n",
       "      <td>516.5</td>\n",
       "      <td>3799</td>\n",
       "      <td>157</td>\n",
       "      <td>0</td>\n",
       "      <td>24.19</td>\n",
       "      <td>7.35</td>\n",
       "      <td>19.75</td>\n",
       "      <td>3</td>\n",
       "      <td>1</td>\n",
       "    </tr>\n",
       "    <tr>\n",
       "      <th>2</th>\n",
       "      <td>3</td>\n",
       "      <td>Harbhajan Singh</td>\n",
       "      <td>160</td>\n",
       "      <td>157</td>\n",
       "      <td>562.2</td>\n",
       "      <td>3967</td>\n",
       "      <td>150</td>\n",
       "      <td>0</td>\n",
       "      <td>26.44</td>\n",
       "      <td>7.05</td>\n",
       "      <td>22.49</td>\n",
       "      <td>1</td>\n",
       "      <td>1</td>\n",
       "    </tr>\n",
       "    <tr>\n",
       "      <th>3</th>\n",
       "      <td>4</td>\n",
       "      <td>Piyush Chawla</td>\n",
       "      <td>157</td>\n",
       "      <td>156</td>\n",
       "      <td>520.4</td>\n",
       "      <td>4072</td>\n",
       "      <td>150</td>\n",
       "      <td>0</td>\n",
       "      <td>27.14</td>\n",
       "      <td>7.82</td>\n",
       "      <td>20.82</td>\n",
       "      <td>2</td>\n",
       "      <td>0</td>\n",
       "    </tr>\n",
       "    <tr>\n",
       "      <th>4</th>\n",
       "      <td>5</td>\n",
       "      <td>Dwayne Bravo</td>\n",
       "      <td>134</td>\n",
       "      <td>131</td>\n",
       "      <td>431.0</td>\n",
       "      <td>3617</td>\n",
       "      <td>147</td>\n",
       "      <td>0</td>\n",
       "      <td>24.60</td>\n",
       "      <td>8.39</td>\n",
       "      <td>17.59</td>\n",
       "      <td>2</td>\n",
       "      <td>0</td>\n",
       "    </tr>\n",
       "  </tbody>\n",
       "</table>\n",
       "</div>"
      ],
      "text/plain": [
       "   POS           PLAYER  Mat  Inns     Ov  Runs  Wkts  BBI    Avg  Econ  \\\n",
       "0    1    LasithMalinga  122   122  471.1  3366   170    0  19.80  7.14   \n",
       "1    2      Amit Mishra  147   147  516.5  3799   157    0  24.19  7.35   \n",
       "2    3  Harbhajan Singh  160   157  562.2  3967   150    0  26.44  7.05   \n",
       "3    4    Piyush Chawla  157   156  520.4  4072   150    0  27.14  7.82   \n",
       "4    5     Dwayne Bravo  134   131  431.0  3617   147    0  24.60  8.39   \n",
       "\n",
       "      SR  4w  5w  \n",
       "0  16.62   6   1  \n",
       "1  19.75   3   1  \n",
       "2  22.49   1   1  \n",
       "3  20.82   2   0  \n",
       "4  17.59   2   0  "
      ]
     },
     "execution_count": 5,
     "metadata": {},
     "output_type": "execute_result"
    }
   ],
   "source": [
    "bowlers.head()"
   ]
  },
  {
   "cell_type": "markdown",
   "id": "d14bc83d",
   "metadata": {},
   "source": [
    "# Data pre-processing"
   ]
  },
  {
   "cell_type": "code",
   "execution_count": 6,
   "id": "f00b2050",
   "metadata": {},
   "outputs": [
    {
     "data": {
      "text/html": [
       "<div>\n",
       "<style scoped>\n",
       "    .dataframe tbody tr th:only-of-type {\n",
       "        vertical-align: middle;\n",
       "    }\n",
       "\n",
       "    .dataframe tbody tr th {\n",
       "        vertical-align: top;\n",
       "    }\n",
       "\n",
       "    .dataframe thead th {\n",
       "        text-align: right;\n",
       "    }\n",
       "</style>\n",
       "<table border=\"1\" class=\"dataframe\">\n",
       "  <thead>\n",
       "    <tr style=\"text-align: right;\">\n",
       "      <th></th>\n",
       "      <th>Sl.NO.</th>\n",
       "      <th>PLAYER NAME</th>\n",
       "      <th>AGE</th>\n",
       "      <th>COUNTRY</th>\n",
       "      <th>TEAM</th>\n",
       "      <th>PLAYING ROLE</th>\n",
       "      <th>T-RUNS</th>\n",
       "      <th>T-WKTS</th>\n",
       "      <th>ODI-RUNS-S</th>\n",
       "      <th>ODI-SR-B</th>\n",
       "      <th>...</th>\n",
       "      <th>SR-B</th>\n",
       "      <th>SIXERS</th>\n",
       "      <th>RUNS-C</th>\n",
       "      <th>WKTS</th>\n",
       "      <th>AVE-BL</th>\n",
       "      <th>ECON</th>\n",
       "      <th>SR-BL</th>\n",
       "      <th>AUCTION YEAR</th>\n",
       "      <th>BASE PRICE</th>\n",
       "      <th>SOLD PRICE</th>\n",
       "    </tr>\n",
       "  </thead>\n",
       "  <tbody>\n",
       "    <tr>\n",
       "      <th>0</th>\n",
       "      <td>1</td>\n",
       "      <td>Abdulla, YA</td>\n",
       "      <td>2</td>\n",
       "      <td>SA</td>\n",
       "      <td>KXIP</td>\n",
       "      <td>Allrounder</td>\n",
       "      <td>0</td>\n",
       "      <td>0</td>\n",
       "      <td>0</td>\n",
       "      <td>0.00</td>\n",
       "      <td>...</td>\n",
       "      <td>0.00</td>\n",
       "      <td>0</td>\n",
       "      <td>307</td>\n",
       "      <td>15</td>\n",
       "      <td>20.47</td>\n",
       "      <td>8.90</td>\n",
       "      <td>13.93</td>\n",
       "      <td>2009</td>\n",
       "      <td>50000</td>\n",
       "      <td>50000</td>\n",
       "    </tr>\n",
       "    <tr>\n",
       "      <th>1</th>\n",
       "      <td>2</td>\n",
       "      <td>Abdur Razzak</td>\n",
       "      <td>2</td>\n",
       "      <td>BAN</td>\n",
       "      <td>RCB</td>\n",
       "      <td>Bowler</td>\n",
       "      <td>214</td>\n",
       "      <td>18</td>\n",
       "      <td>657</td>\n",
       "      <td>71.41</td>\n",
       "      <td>...</td>\n",
       "      <td>0.00</td>\n",
       "      <td>0</td>\n",
       "      <td>29</td>\n",
       "      <td>0</td>\n",
       "      <td>0.00</td>\n",
       "      <td>14.50</td>\n",
       "      <td>0.00</td>\n",
       "      <td>2008</td>\n",
       "      <td>50000</td>\n",
       "      <td>50000</td>\n",
       "    </tr>\n",
       "    <tr>\n",
       "      <th>2</th>\n",
       "      <td>3</td>\n",
       "      <td>Agarkar, AB</td>\n",
       "      <td>2</td>\n",
       "      <td>IND</td>\n",
       "      <td>KKR</td>\n",
       "      <td>Bowler</td>\n",
       "      <td>571</td>\n",
       "      <td>58</td>\n",
       "      <td>1269</td>\n",
       "      <td>80.62</td>\n",
       "      <td>...</td>\n",
       "      <td>121.01</td>\n",
       "      <td>5</td>\n",
       "      <td>1059</td>\n",
       "      <td>29</td>\n",
       "      <td>36.52</td>\n",
       "      <td>8.81</td>\n",
       "      <td>24.90</td>\n",
       "      <td>2008</td>\n",
       "      <td>200000</td>\n",
       "      <td>350000</td>\n",
       "    </tr>\n",
       "    <tr>\n",
       "      <th>3</th>\n",
       "      <td>4</td>\n",
       "      <td>Ashwin, R</td>\n",
       "      <td>1</td>\n",
       "      <td>IND</td>\n",
       "      <td>CSK</td>\n",
       "      <td>Bowler</td>\n",
       "      <td>284</td>\n",
       "      <td>31</td>\n",
       "      <td>241</td>\n",
       "      <td>84.56</td>\n",
       "      <td>...</td>\n",
       "      <td>76.32</td>\n",
       "      <td>0</td>\n",
       "      <td>1125</td>\n",
       "      <td>49</td>\n",
       "      <td>22.96</td>\n",
       "      <td>6.23</td>\n",
       "      <td>22.14</td>\n",
       "      <td>2011</td>\n",
       "      <td>100000</td>\n",
       "      <td>850000</td>\n",
       "    </tr>\n",
       "    <tr>\n",
       "      <th>4</th>\n",
       "      <td>5</td>\n",
       "      <td>Badrinath, S</td>\n",
       "      <td>2</td>\n",
       "      <td>IND</td>\n",
       "      <td>CSK</td>\n",
       "      <td>Batsman</td>\n",
       "      <td>63</td>\n",
       "      <td>0</td>\n",
       "      <td>79</td>\n",
       "      <td>45.93</td>\n",
       "      <td>...</td>\n",
       "      <td>120.71</td>\n",
       "      <td>28</td>\n",
       "      <td>0</td>\n",
       "      <td>0</td>\n",
       "      <td>0.00</td>\n",
       "      <td>0.00</td>\n",
       "      <td>0.00</td>\n",
       "      <td>2011</td>\n",
       "      <td>100000</td>\n",
       "      <td>800000</td>\n",
       "    </tr>\n",
       "    <tr>\n",
       "      <th>...</th>\n",
       "      <td>...</td>\n",
       "      <td>...</td>\n",
       "      <td>...</td>\n",
       "      <td>...</td>\n",
       "      <td>...</td>\n",
       "      <td>...</td>\n",
       "      <td>...</td>\n",
       "      <td>...</td>\n",
       "      <td>...</td>\n",
       "      <td>...</td>\n",
       "      <td>...</td>\n",
       "      <td>...</td>\n",
       "      <td>...</td>\n",
       "      <td>...</td>\n",
       "      <td>...</td>\n",
       "      <td>...</td>\n",
       "      <td>...</td>\n",
       "      <td>...</td>\n",
       "      <td>...</td>\n",
       "      <td>...</td>\n",
       "      <td>...</td>\n",
       "    </tr>\n",
       "    <tr>\n",
       "      <th>125</th>\n",
       "      <td>126</td>\n",
       "      <td>Yadav, AS</td>\n",
       "      <td>2</td>\n",
       "      <td>IND</td>\n",
       "      <td>DC</td>\n",
       "      <td>Batsman</td>\n",
       "      <td>0</td>\n",
       "      <td>0</td>\n",
       "      <td>0</td>\n",
       "      <td>0.00</td>\n",
       "      <td>...</td>\n",
       "      <td>125.64</td>\n",
       "      <td>2</td>\n",
       "      <td>0</td>\n",
       "      <td>0</td>\n",
       "      <td>0.00</td>\n",
       "      <td>0.00</td>\n",
       "      <td>0.00</td>\n",
       "      <td>2010</td>\n",
       "      <td>50000</td>\n",
       "      <td>750000</td>\n",
       "    </tr>\n",
       "    <tr>\n",
       "      <th>126</th>\n",
       "      <td>127</td>\n",
       "      <td>Younis Khan</td>\n",
       "      <td>2</td>\n",
       "      <td>PAK</td>\n",
       "      <td>RR</td>\n",
       "      <td>Batsman</td>\n",
       "      <td>6398</td>\n",
       "      <td>7</td>\n",
       "      <td>6814</td>\n",
       "      <td>75.78</td>\n",
       "      <td>...</td>\n",
       "      <td>42.85</td>\n",
       "      <td>0</td>\n",
       "      <td>0</td>\n",
       "      <td>0</td>\n",
       "      <td>0.00</td>\n",
       "      <td>0.00</td>\n",
       "      <td>0.00</td>\n",
       "      <td>2008</td>\n",
       "      <td>225000</td>\n",
       "      <td>225000</td>\n",
       "    </tr>\n",
       "    <tr>\n",
       "      <th>127</th>\n",
       "      <td>128</td>\n",
       "      <td>Yuvraj Singh</td>\n",
       "      <td>2</td>\n",
       "      <td>IND</td>\n",
       "      <td>KXIP+</td>\n",
       "      <td>Batsman</td>\n",
       "      <td>1775</td>\n",
       "      <td>9</td>\n",
       "      <td>8051</td>\n",
       "      <td>87.58</td>\n",
       "      <td>...</td>\n",
       "      <td>131.88</td>\n",
       "      <td>67</td>\n",
       "      <td>569</td>\n",
       "      <td>23</td>\n",
       "      <td>24.74</td>\n",
       "      <td>7.02</td>\n",
       "      <td>21.13</td>\n",
       "      <td>2011</td>\n",
       "      <td>400000</td>\n",
       "      <td>1800000</td>\n",
       "    </tr>\n",
       "    <tr>\n",
       "      <th>128</th>\n",
       "      <td>129</td>\n",
       "      <td>Zaheer Khan</td>\n",
       "      <td>2</td>\n",
       "      <td>IND</td>\n",
       "      <td>MI+</td>\n",
       "      <td>Bowler</td>\n",
       "      <td>1114</td>\n",
       "      <td>288</td>\n",
       "      <td>790</td>\n",
       "      <td>73.55</td>\n",
       "      <td>...</td>\n",
       "      <td>91.67</td>\n",
       "      <td>1</td>\n",
       "      <td>1783</td>\n",
       "      <td>65</td>\n",
       "      <td>27.43</td>\n",
       "      <td>7.75</td>\n",
       "      <td>21.26</td>\n",
       "      <td>2008</td>\n",
       "      <td>200000</td>\n",
       "      <td>450000</td>\n",
       "    </tr>\n",
       "    <tr>\n",
       "      <th>129</th>\n",
       "      <td>130</td>\n",
       "      <td>Zoysa, DNT</td>\n",
       "      <td>2</td>\n",
       "      <td>SL</td>\n",
       "      <td>DC</td>\n",
       "      <td>Bowler</td>\n",
       "      <td>288</td>\n",
       "      <td>64</td>\n",
       "      <td>343</td>\n",
       "      <td>95.81</td>\n",
       "      <td>...</td>\n",
       "      <td>122.22</td>\n",
       "      <td>0</td>\n",
       "      <td>99</td>\n",
       "      <td>2</td>\n",
       "      <td>49.50</td>\n",
       "      <td>9.00</td>\n",
       "      <td>33.00</td>\n",
       "      <td>2008</td>\n",
       "      <td>100000</td>\n",
       "      <td>110000</td>\n",
       "    </tr>\n",
       "  </tbody>\n",
       "</table>\n",
       "<p>130 rows × 26 columns</p>\n",
       "</div>"
      ],
      "text/plain": [
       "     Sl.NO.   PLAYER NAME  AGE COUNTRY   TEAM PLAYING ROLE  T-RUNS  T-WKTS  \\\n",
       "0         1   Abdulla, YA    2      SA   KXIP   Allrounder       0       0   \n",
       "1         2  Abdur Razzak    2     BAN    RCB       Bowler     214      18   \n",
       "2         3   Agarkar, AB    2     IND    KKR       Bowler     571      58   \n",
       "3         4     Ashwin, R    1     IND    CSK       Bowler     284      31   \n",
       "4         5  Badrinath, S    2     IND    CSK      Batsman      63       0   \n",
       "..      ...           ...  ...     ...    ...          ...     ...     ...   \n",
       "125     126     Yadav, AS    2     IND     DC      Batsman       0       0   \n",
       "126     127   Younis Khan    2     PAK     RR      Batsman    6398       7   \n",
       "127     128  Yuvraj Singh    2     IND  KXIP+      Batsman    1775       9   \n",
       "128     129   Zaheer Khan    2     IND    MI+       Bowler    1114     288   \n",
       "129     130    Zoysa, DNT    2      SL     DC       Bowler     288      64   \n",
       "\n",
       "     ODI-RUNS-S  ODI-SR-B  ...    SR-B  SIXERS  RUNS-C  WKTS  AVE-BL   ECON  \\\n",
       "0             0      0.00  ...    0.00       0     307    15   20.47   8.90   \n",
       "1           657     71.41  ...    0.00       0      29     0    0.00  14.50   \n",
       "2          1269     80.62  ...  121.01       5    1059    29   36.52   8.81   \n",
       "3           241     84.56  ...   76.32       0    1125    49   22.96   6.23   \n",
       "4            79     45.93  ...  120.71      28       0     0    0.00   0.00   \n",
       "..          ...       ...  ...     ...     ...     ...   ...     ...    ...   \n",
       "125           0      0.00  ...  125.64       2       0     0    0.00   0.00   \n",
       "126        6814     75.78  ...   42.85       0       0     0    0.00   0.00   \n",
       "127        8051     87.58  ...  131.88      67     569    23   24.74   7.02   \n",
       "128         790     73.55  ...   91.67       1    1783    65   27.43   7.75   \n",
       "129         343     95.81  ...  122.22       0      99     2   49.50   9.00   \n",
       "\n",
       "     SR-BL  AUCTION YEAR  BASE PRICE  SOLD PRICE  \n",
       "0    13.93          2009       50000       50000  \n",
       "1     0.00          2008       50000       50000  \n",
       "2    24.90          2008      200000      350000  \n",
       "3    22.14          2011      100000      850000  \n",
       "4     0.00          2011      100000      800000  \n",
       "..     ...           ...         ...         ...  \n",
       "125   0.00          2010       50000      750000  \n",
       "126   0.00          2008      225000      225000  \n",
       "127  21.13          2011      400000     1800000  \n",
       "128  21.26          2008      200000      450000  \n",
       "129  33.00          2008      100000      110000  \n",
       "\n",
       "[130 rows x 26 columns]"
      ]
     },
     "execution_count": 6,
     "metadata": {},
     "output_type": "execute_result"
    }
   ],
   "source": [
    "auction"
   ]
  },
  {
   "cell_type": "code",
   "execution_count": 8,
   "id": "c0c4c2ee",
   "metadata": {},
   "outputs": [
    {
     "data": {
      "text/plain": [
       "Sl.NO.           0\n",
       "PLAYER NAME      0\n",
       "AGE              0\n",
       "COUNTRY          0\n",
       "TEAM             0\n",
       "PLAYING ROLE     0\n",
       "T-RUNS           0\n",
       "T-WKTS           0\n",
       "ODI-RUNS-S       0\n",
       "ODI-SR-B         0\n",
       "ODI-WKTS         0\n",
       "ODI-SR-BL        0\n",
       "CAPTAINCY EXP    0\n",
       "RUNS-S           0\n",
       "HS               0\n",
       "AVE              0\n",
       "SR-B             0\n",
       "SIXERS           0\n",
       "RUNS-C           0\n",
       "WKTS             0\n",
       "AVE-BL           0\n",
       "ECON             0\n",
       "SR-BL            0\n",
       "AUCTION YEAR     0\n",
       "BASE PRICE       0\n",
       "SOLD PRICE       0\n",
       "dtype: int64"
      ]
     },
     "execution_count": 8,
     "metadata": {},
     "output_type": "execute_result"
    }
   ],
   "source": [
    "auction.isnull().sum()"
   ]
  },
  {
   "cell_type": "code",
   "execution_count": 9,
   "id": "e13f9e25",
   "metadata": {},
   "outputs": [
    {
     "data": {
      "text/html": [
       "<div>\n",
       "<style scoped>\n",
       "    .dataframe tbody tr th:only-of-type {\n",
       "        vertical-align: middle;\n",
       "    }\n",
       "\n",
       "    .dataframe tbody tr th {\n",
       "        vertical-align: top;\n",
       "    }\n",
       "\n",
       "    .dataframe thead th {\n",
       "        text-align: right;\n",
       "    }\n",
       "</style>\n",
       "<table border=\"1\" class=\"dataframe\">\n",
       "  <thead>\n",
       "    <tr style=\"text-align: right;\">\n",
       "      <th></th>\n",
       "      <th>POS</th>\n",
       "      <th>PLAYER</th>\n",
       "      <th>Mat</th>\n",
       "      <th>Inns</th>\n",
       "      <th>NO</th>\n",
       "      <th>Runs</th>\n",
       "      <th>HS</th>\n",
       "      <th>Avg</th>\n",
       "      <th>BF</th>\n",
       "      <th>SR</th>\n",
       "      <th>100</th>\n",
       "      <th>50</th>\n",
       "      <th>4s</th>\n",
       "      <th>6s</th>\n",
       "    </tr>\n",
       "  </thead>\n",
       "  <tbody>\n",
       "    <tr>\n",
       "      <th>0</th>\n",
       "      <td>1</td>\n",
       "      <td>ViratKohli</td>\n",
       "      <td>177</td>\n",
       "      <td>169</td>\n",
       "      <td>26</td>\n",
       "      <td>5412</td>\n",
       "      <td>113</td>\n",
       "      <td>37.84</td>\n",
       "      <td>4112</td>\n",
       "      <td>131.61</td>\n",
       "      <td>5</td>\n",
       "      <td>36</td>\n",
       "      <td>480</td>\n",
       "      <td>190</td>\n",
       "    </tr>\n",
       "    <tr>\n",
       "      <th>1</th>\n",
       "      <td>2</td>\n",
       "      <td>Suresh Raina</td>\n",
       "      <td>193</td>\n",
       "      <td>189</td>\n",
       "      <td>28</td>\n",
       "      <td>5368</td>\n",
       "      <td>100*</td>\n",
       "      <td>33.34</td>\n",
       "      <td>3914</td>\n",
       "      <td>137.14</td>\n",
       "      <td>1</td>\n",
       "      <td>38</td>\n",
       "      <td>493</td>\n",
       "      <td>194</td>\n",
       "    </tr>\n",
       "    <tr>\n",
       "      <th>2</th>\n",
       "      <td>3</td>\n",
       "      <td>Rohit Sharma</td>\n",
       "      <td>188</td>\n",
       "      <td>183</td>\n",
       "      <td>28</td>\n",
       "      <td>4898</td>\n",
       "      <td>109*</td>\n",
       "      <td>31.60</td>\n",
       "      <td>3744</td>\n",
       "      <td>130.82</td>\n",
       "      <td>1</td>\n",
       "      <td>36</td>\n",
       "      <td>431</td>\n",
       "      <td>194</td>\n",
       "    </tr>\n",
       "    <tr>\n",
       "      <th>3</th>\n",
       "      <td>4</td>\n",
       "      <td>David Warner</td>\n",
       "      <td>126</td>\n",
       "      <td>126</td>\n",
       "      <td>17</td>\n",
       "      <td>4706</td>\n",
       "      <td>126</td>\n",
       "      <td>43.17</td>\n",
       "      <td>3305</td>\n",
       "      <td>142.39</td>\n",
       "      <td>4</td>\n",
       "      <td>44</td>\n",
       "      <td>458</td>\n",
       "      <td>181</td>\n",
       "    </tr>\n",
       "    <tr>\n",
       "      <th>4</th>\n",
       "      <td>5</td>\n",
       "      <td>Shikhar Dhawan</td>\n",
       "      <td>159</td>\n",
       "      <td>158</td>\n",
       "      <td>21</td>\n",
       "      <td>4579</td>\n",
       "      <td>97*</td>\n",
       "      <td>33.42</td>\n",
       "      <td>3669</td>\n",
       "      <td>124.80</td>\n",
       "      <td>0</td>\n",
       "      <td>37</td>\n",
       "      <td>524</td>\n",
       "      <td>96</td>\n",
       "    </tr>\n",
       "    <tr>\n",
       "      <th>...</th>\n",
       "      <td>...</td>\n",
       "      <td>...</td>\n",
       "      <td>...</td>\n",
       "      <td>...</td>\n",
       "      <td>...</td>\n",
       "      <td>...</td>\n",
       "      <td>...</td>\n",
       "      <td>...</td>\n",
       "      <td>...</td>\n",
       "      <td>...</td>\n",
       "      <td>...</td>\n",
       "      <td>...</td>\n",
       "      <td>...</td>\n",
       "      <td>...</td>\n",
       "    </tr>\n",
       "    <tr>\n",
       "      <th>95</th>\n",
       "      <td>96</td>\n",
       "      <td>Piyush Chawla</td>\n",
       "      <td>157</td>\n",
       "      <td>81</td>\n",
       "      <td>32</td>\n",
       "      <td>584</td>\n",
       "      <td>24*</td>\n",
       "      <td>11.91</td>\n",
       "      <td>524</td>\n",
       "      <td>111.45</td>\n",
       "      <td>0</td>\n",
       "      <td>0</td>\n",
       "      <td>54</td>\n",
       "      <td>18</td>\n",
       "    </tr>\n",
       "    <tr>\n",
       "      <th>96</th>\n",
       "      <td>97</td>\n",
       "      <td>Hashim Amla</td>\n",
       "      <td>16</td>\n",
       "      <td>16</td>\n",
       "      <td>3</td>\n",
       "      <td>577</td>\n",
       "      <td>104*</td>\n",
       "      <td>44.38</td>\n",
       "      <td>407</td>\n",
       "      <td>141.76</td>\n",
       "      <td>2</td>\n",
       "      <td>3</td>\n",
       "      <td>60</td>\n",
       "      <td>21</td>\n",
       "    </tr>\n",
       "    <tr>\n",
       "      <th>97</th>\n",
       "      <td>98</td>\n",
       "      <td>Vijay Shankar</td>\n",
       "      <td>33</td>\n",
       "      <td>29</td>\n",
       "      <td>11</td>\n",
       "      <td>557</td>\n",
       "      <td>63*</td>\n",
       "      <td>30.94</td>\n",
       "      <td>416</td>\n",
       "      <td>133.89</td>\n",
       "      <td>0</td>\n",
       "      <td>2</td>\n",
       "      <td>34</td>\n",
       "      <td>24</td>\n",
       "    </tr>\n",
       "    <tr>\n",
       "      <th>98</th>\n",
       "      <td>99</td>\n",
       "      <td>Corey Anderson</td>\n",
       "      <td>30</td>\n",
       "      <td>29</td>\n",
       "      <td>7</td>\n",
       "      <td>538</td>\n",
       "      <td>95*</td>\n",
       "      <td>24.45</td>\n",
       "      <td>423</td>\n",
       "      <td>127.18</td>\n",
       "      <td>0</td>\n",
       "      <td>3</td>\n",
       "      <td>40</td>\n",
       "      <td>31</td>\n",
       "    </tr>\n",
       "    <tr>\n",
       "      <th>99</th>\n",
       "      <td>100</td>\n",
       "      <td>Ravi Bopara</td>\n",
       "      <td>24</td>\n",
       "      <td>22</td>\n",
       "      <td>4</td>\n",
       "      <td>531</td>\n",
       "      <td>84</td>\n",
       "      <td>29.50</td>\n",
       "      <td>453</td>\n",
       "      <td>117.21</td>\n",
       "      <td>0</td>\n",
       "      <td>3</td>\n",
       "      <td>39</td>\n",
       "      <td>16</td>\n",
       "    </tr>\n",
       "  </tbody>\n",
       "</table>\n",
       "<p>100 rows × 14 columns</p>\n",
       "</div>"
      ],
      "text/plain": [
       "    POS          PLAYER  Mat  Inns  NO  Runs    HS    Avg    BF      SR  100  \\\n",
       "0     1      ViratKohli  177   169  26  5412   113  37.84  4112  131.61    5   \n",
       "1     2    Suresh Raina  193   189  28  5368  100*  33.34  3914  137.14    1   \n",
       "2     3    Rohit Sharma  188   183  28  4898  109*  31.60  3744  130.82    1   \n",
       "3     4    David Warner  126   126  17  4706   126  43.17  3305  142.39    4   \n",
       "4     5  Shikhar Dhawan  159   158  21  4579   97*  33.42  3669  124.80    0   \n",
       "..  ...             ...  ...   ...  ..   ...   ...    ...   ...     ...  ...   \n",
       "95   96   Piyush Chawla  157    81  32   584   24*  11.91   524  111.45    0   \n",
       "96   97     Hashim Amla   16    16   3   577  104*  44.38   407  141.76    2   \n",
       "97   98   Vijay Shankar   33    29  11   557   63*  30.94   416  133.89    0   \n",
       "98   99  Corey Anderson   30    29   7   538   95*  24.45   423  127.18    0   \n",
       "99  100     Ravi Bopara   24    22   4   531    84  29.50   453  117.21    0   \n",
       "\n",
       "    50   4s   6s  \n",
       "0   36  480  190  \n",
       "1   38  493  194  \n",
       "2   36  431  194  \n",
       "3   44  458  181  \n",
       "4   37  524   96  \n",
       "..  ..  ...  ...  \n",
       "95   0   54   18  \n",
       "96   3   60   21  \n",
       "97   2   34   24  \n",
       "98   3   40   31  \n",
       "99   3   39   16  \n",
       "\n",
       "[100 rows x 14 columns]"
      ]
     },
     "execution_count": 9,
     "metadata": {},
     "output_type": "execute_result"
    }
   ],
   "source": [
    "batsmen"
   ]
  },
  {
   "cell_type": "code",
   "execution_count": 10,
   "id": "d8dcdc0a",
   "metadata": {},
   "outputs": [
    {
     "data": {
      "text/plain": [
       "POS       0\n",
       "PLAYER    0\n",
       "Mat       0\n",
       "Inns      0\n",
       "NO        0\n",
       "Runs      0\n",
       "HS        0\n",
       "Avg       0\n",
       "BF        0\n",
       "SR        0\n",
       "100       0\n",
       "50        0\n",
       "4s        0\n",
       "6s        0\n",
       "dtype: int64"
      ]
     },
     "execution_count": 10,
     "metadata": {},
     "output_type": "execute_result"
    }
   ],
   "source": [
    "batsmen.isnull().sum()"
   ]
  },
  {
   "cell_type": "code",
   "execution_count": 11,
   "id": "1d713758",
   "metadata": {},
   "outputs": [
    {
     "data": {
      "text/html": [
       "<div>\n",
       "<style scoped>\n",
       "    .dataframe tbody tr th:only-of-type {\n",
       "        vertical-align: middle;\n",
       "    }\n",
       "\n",
       "    .dataframe tbody tr th {\n",
       "        vertical-align: top;\n",
       "    }\n",
       "\n",
       "    .dataframe thead th {\n",
       "        text-align: right;\n",
       "    }\n",
       "</style>\n",
       "<table border=\"1\" class=\"dataframe\">\n",
       "  <thead>\n",
       "    <tr style=\"text-align: right;\">\n",
       "      <th></th>\n",
       "      <th>POS</th>\n",
       "      <th>PLAYER</th>\n",
       "      <th>Mat</th>\n",
       "      <th>Inns</th>\n",
       "      <th>Ov</th>\n",
       "      <th>Runs</th>\n",
       "      <th>Wkts</th>\n",
       "      <th>BBI</th>\n",
       "      <th>Avg</th>\n",
       "      <th>Econ</th>\n",
       "      <th>SR</th>\n",
       "      <th>4w</th>\n",
       "      <th>5w</th>\n",
       "    </tr>\n",
       "  </thead>\n",
       "  <tbody>\n",
       "    <tr>\n",
       "      <th>0</th>\n",
       "      <td>1</td>\n",
       "      <td>LasithMalinga</td>\n",
       "      <td>122</td>\n",
       "      <td>122</td>\n",
       "      <td>471.1</td>\n",
       "      <td>3366</td>\n",
       "      <td>170</td>\n",
       "      <td>0</td>\n",
       "      <td>19.80</td>\n",
       "      <td>7.14</td>\n",
       "      <td>16.62</td>\n",
       "      <td>6</td>\n",
       "      <td>1</td>\n",
       "    </tr>\n",
       "    <tr>\n",
       "      <th>1</th>\n",
       "      <td>2</td>\n",
       "      <td>Amit Mishra</td>\n",
       "      <td>147</td>\n",
       "      <td>147</td>\n",
       "      <td>516.5</td>\n",
       "      <td>3799</td>\n",
       "      <td>157</td>\n",
       "      <td>0</td>\n",
       "      <td>24.19</td>\n",
       "      <td>7.35</td>\n",
       "      <td>19.75</td>\n",
       "      <td>3</td>\n",
       "      <td>1</td>\n",
       "    </tr>\n",
       "    <tr>\n",
       "      <th>2</th>\n",
       "      <td>3</td>\n",
       "      <td>Harbhajan Singh</td>\n",
       "      <td>160</td>\n",
       "      <td>157</td>\n",
       "      <td>562.2</td>\n",
       "      <td>3967</td>\n",
       "      <td>150</td>\n",
       "      <td>0</td>\n",
       "      <td>26.44</td>\n",
       "      <td>7.05</td>\n",
       "      <td>22.49</td>\n",
       "      <td>1</td>\n",
       "      <td>1</td>\n",
       "    </tr>\n",
       "    <tr>\n",
       "      <th>3</th>\n",
       "      <td>4</td>\n",
       "      <td>Piyush Chawla</td>\n",
       "      <td>157</td>\n",
       "      <td>156</td>\n",
       "      <td>520.4</td>\n",
       "      <td>4072</td>\n",
       "      <td>150</td>\n",
       "      <td>0</td>\n",
       "      <td>27.14</td>\n",
       "      <td>7.82</td>\n",
       "      <td>20.82</td>\n",
       "      <td>2</td>\n",
       "      <td>0</td>\n",
       "    </tr>\n",
       "    <tr>\n",
       "      <th>4</th>\n",
       "      <td>5</td>\n",
       "      <td>Dwayne Bravo</td>\n",
       "      <td>134</td>\n",
       "      <td>131</td>\n",
       "      <td>431.0</td>\n",
       "      <td>3617</td>\n",
       "      <td>147</td>\n",
       "      <td>0</td>\n",
       "      <td>24.60</td>\n",
       "      <td>8.39</td>\n",
       "      <td>17.59</td>\n",
       "      <td>2</td>\n",
       "      <td>0</td>\n",
       "    </tr>\n",
       "    <tr>\n",
       "      <th>...</th>\n",
       "      <td>...</td>\n",
       "      <td>...</td>\n",
       "      <td>...</td>\n",
       "      <td>...</td>\n",
       "      <td>...</td>\n",
       "      <td>...</td>\n",
       "      <td>...</td>\n",
       "      <td>...</td>\n",
       "      <td>...</td>\n",
       "      <td>...</td>\n",
       "      <td>...</td>\n",
       "      <td>...</td>\n",
       "      <td>...</td>\n",
       "    </tr>\n",
       "    <tr>\n",
       "      <th>95</th>\n",
       "      <td>96</td>\n",
       "      <td>Dwayne Smith</td>\n",
       "      <td>91</td>\n",
       "      <td>46</td>\n",
       "      <td>89.5</td>\n",
       "      <td>810</td>\n",
       "      <td>26</td>\n",
       "      <td>0</td>\n",
       "      <td>31.15</td>\n",
       "      <td>9.01</td>\n",
       "      <td>20.73</td>\n",
       "      <td>1</td>\n",
       "      <td>0</td>\n",
       "    </tr>\n",
       "    <tr>\n",
       "      <th>96</th>\n",
       "      <td>97</td>\n",
       "      <td>Johan Botha</td>\n",
       "      <td>34</td>\n",
       "      <td>34</td>\n",
       "      <td>115.4</td>\n",
       "      <td>800</td>\n",
       "      <td>25</td>\n",
       "      <td>0</td>\n",
       "      <td>32.00</td>\n",
       "      <td>6.91</td>\n",
       "      <td>27.76</td>\n",
       "      <td>0</td>\n",
       "      <td>0</td>\n",
       "    </tr>\n",
       "    <tr>\n",
       "      <th>97</th>\n",
       "      <td>98</td>\n",
       "      <td>Suresh Raina</td>\n",
       "      <td>193</td>\n",
       "      <td>69</td>\n",
       "      <td>151.2</td>\n",
       "      <td>1118</td>\n",
       "      <td>25</td>\n",
       "      <td>0</td>\n",
       "      <td>44.72</td>\n",
       "      <td>7.38</td>\n",
       "      <td>36.32</td>\n",
       "      <td>0</td>\n",
       "      <td>0</td>\n",
       "    </tr>\n",
       "    <tr>\n",
       "      <th>98</th>\n",
       "      <td>99</td>\n",
       "      <td>Brett Lee</td>\n",
       "      <td>38</td>\n",
       "      <td>38</td>\n",
       "      <td>145.5</td>\n",
       "      <td>1095</td>\n",
       "      <td>25</td>\n",
       "      <td>0</td>\n",
       "      <td>43.80</td>\n",
       "      <td>7.50</td>\n",
       "      <td>35.00</td>\n",
       "      <td>0</td>\n",
       "      <td>0</td>\n",
       "    </tr>\n",
       "    <tr>\n",
       "      <th>99</th>\n",
       "      <td>100</td>\n",
       "      <td>Harmeet Singh Bansal</td>\n",
       "      <td>27</td>\n",
       "      <td>26</td>\n",
       "      <td>84.3</td>\n",
       "      <td>674</td>\n",
       "      <td>25</td>\n",
       "      <td>0</td>\n",
       "      <td>26.96</td>\n",
       "      <td>7.97</td>\n",
       "      <td>20.28</td>\n",
       "      <td>0</td>\n",
       "      <td>0</td>\n",
       "    </tr>\n",
       "  </tbody>\n",
       "</table>\n",
       "<p>100 rows × 13 columns</p>\n",
       "</div>"
      ],
      "text/plain": [
       "    POS                PLAYER  Mat  Inns     Ov  Runs  Wkts  BBI    Avg  Econ  \\\n",
       "0     1         LasithMalinga  122   122  471.1  3366   170    0  19.80  7.14   \n",
       "1     2           Amit Mishra  147   147  516.5  3799   157    0  24.19  7.35   \n",
       "2     3       Harbhajan Singh  160   157  562.2  3967   150    0  26.44  7.05   \n",
       "3     4         Piyush Chawla  157   156  520.4  4072   150    0  27.14  7.82   \n",
       "4     5          Dwayne Bravo  134   131  431.0  3617   147    0  24.60  8.39   \n",
       "..  ...                   ...  ...   ...    ...   ...   ...  ...    ...   ...   \n",
       "95   96          Dwayne Smith   91    46   89.5   810    26    0  31.15  9.01   \n",
       "96   97           Johan Botha   34    34  115.4   800    25    0  32.00  6.91   \n",
       "97   98          Suresh Raina  193    69  151.2  1118    25    0  44.72  7.38   \n",
       "98   99             Brett Lee   38    38  145.5  1095    25    0  43.80  7.50   \n",
       "99  100  Harmeet Singh Bansal   27    26   84.3   674    25    0  26.96  7.97   \n",
       "\n",
       "       SR  4w  5w  \n",
       "0   16.62   6   1  \n",
       "1   19.75   3   1  \n",
       "2   22.49   1   1  \n",
       "3   20.82   2   0  \n",
       "4   17.59   2   0  \n",
       "..    ...  ..  ..  \n",
       "95  20.73   1   0  \n",
       "96  27.76   0   0  \n",
       "97  36.32   0   0  \n",
       "98  35.00   0   0  \n",
       "99  20.28   0   0  \n",
       "\n",
       "[100 rows x 13 columns]"
      ]
     },
     "execution_count": 11,
     "metadata": {},
     "output_type": "execute_result"
    }
   ],
   "source": [
    "bowlers"
   ]
  },
  {
   "cell_type": "code",
   "execution_count": 12,
   "id": "c909e373",
   "metadata": {},
   "outputs": [
    {
     "data": {
      "text/plain": [
       "POS       0\n",
       "PLAYER    0\n",
       "Mat       0\n",
       "Inns      0\n",
       "Ov        0\n",
       "Runs      0\n",
       "Wkts      0\n",
       "BBI       0\n",
       "Avg       0\n",
       "Econ      0\n",
       "SR        0\n",
       "4w        0\n",
       "5w        0\n",
       "dtype: int64"
      ]
     },
     "execution_count": 12,
     "metadata": {},
     "output_type": "execute_result"
    }
   ],
   "source": [
    "bowlers.isnull().sum()"
   ]
  },
  {
   "cell_type": "code",
   "execution_count": 3,
   "id": "81cf8349",
   "metadata": {},
   "outputs": [],
   "source": [
    "auction = auction.drop(['Sl.NO.','AGE','COUNTRY','TEAM','T-RUNS','T-WKTS','ODI-RUNS-S','ODI-SR-B','ODI-WKTS','ODI-SR-BL','SIXERS','AUCTION YEAR'],axis=1)"
   ]
  },
  {
   "cell_type": "code",
   "execution_count": 14,
   "id": "da30e674",
   "metadata": {},
   "outputs": [
    {
     "data": {
      "text/html": [
       "<div>\n",
       "<style scoped>\n",
       "    .dataframe tbody tr th:only-of-type {\n",
       "        vertical-align: middle;\n",
       "    }\n",
       "\n",
       "    .dataframe tbody tr th {\n",
       "        vertical-align: top;\n",
       "    }\n",
       "\n",
       "    .dataframe thead th {\n",
       "        text-align: right;\n",
       "    }\n",
       "</style>\n",
       "<table border=\"1\" class=\"dataframe\">\n",
       "  <thead>\n",
       "    <tr style=\"text-align: right;\">\n",
       "      <th></th>\n",
       "      <th>PLAYER NAME</th>\n",
       "      <th>PLAYING ROLE</th>\n",
       "      <th>CAPTAINCY EXP</th>\n",
       "      <th>RUNS-S</th>\n",
       "      <th>HS</th>\n",
       "      <th>AVE</th>\n",
       "      <th>SR-B</th>\n",
       "      <th>RUNS-C</th>\n",
       "      <th>WKTS</th>\n",
       "      <th>AVE-BL</th>\n",
       "      <th>ECON</th>\n",
       "      <th>SR-BL</th>\n",
       "      <th>BASE PRICE</th>\n",
       "      <th>SOLD PRICE</th>\n",
       "    </tr>\n",
       "  </thead>\n",
       "  <tbody>\n",
       "    <tr>\n",
       "      <th>0</th>\n",
       "      <td>Abdulla, YA</td>\n",
       "      <td>Allrounder</td>\n",
       "      <td>0</td>\n",
       "      <td>0</td>\n",
       "      <td>0</td>\n",
       "      <td>0.00</td>\n",
       "      <td>0.00</td>\n",
       "      <td>307</td>\n",
       "      <td>15</td>\n",
       "      <td>20.47</td>\n",
       "      <td>8.90</td>\n",
       "      <td>13.93</td>\n",
       "      <td>50000</td>\n",
       "      <td>50000</td>\n",
       "    </tr>\n",
       "    <tr>\n",
       "      <th>1</th>\n",
       "      <td>Abdur Razzak</td>\n",
       "      <td>Bowler</td>\n",
       "      <td>0</td>\n",
       "      <td>0</td>\n",
       "      <td>0</td>\n",
       "      <td>0.00</td>\n",
       "      <td>0.00</td>\n",
       "      <td>29</td>\n",
       "      <td>0</td>\n",
       "      <td>0.00</td>\n",
       "      <td>14.50</td>\n",
       "      <td>0.00</td>\n",
       "      <td>50000</td>\n",
       "      <td>50000</td>\n",
       "    </tr>\n",
       "    <tr>\n",
       "      <th>2</th>\n",
       "      <td>Agarkar, AB</td>\n",
       "      <td>Bowler</td>\n",
       "      <td>0</td>\n",
       "      <td>167</td>\n",
       "      <td>39</td>\n",
       "      <td>18.56</td>\n",
       "      <td>121.01</td>\n",
       "      <td>1059</td>\n",
       "      <td>29</td>\n",
       "      <td>36.52</td>\n",
       "      <td>8.81</td>\n",
       "      <td>24.90</td>\n",
       "      <td>200000</td>\n",
       "      <td>350000</td>\n",
       "    </tr>\n",
       "    <tr>\n",
       "      <th>3</th>\n",
       "      <td>Ashwin, R</td>\n",
       "      <td>Bowler</td>\n",
       "      <td>0</td>\n",
       "      <td>58</td>\n",
       "      <td>11</td>\n",
       "      <td>5.80</td>\n",
       "      <td>76.32</td>\n",
       "      <td>1125</td>\n",
       "      <td>49</td>\n",
       "      <td>22.96</td>\n",
       "      <td>6.23</td>\n",
       "      <td>22.14</td>\n",
       "      <td>100000</td>\n",
       "      <td>850000</td>\n",
       "    </tr>\n",
       "    <tr>\n",
       "      <th>4</th>\n",
       "      <td>Badrinath, S</td>\n",
       "      <td>Batsman</td>\n",
       "      <td>0</td>\n",
       "      <td>1317</td>\n",
       "      <td>71</td>\n",
       "      <td>32.93</td>\n",
       "      <td>120.71</td>\n",
       "      <td>0</td>\n",
       "      <td>0</td>\n",
       "      <td>0.00</td>\n",
       "      <td>0.00</td>\n",
       "      <td>0.00</td>\n",
       "      <td>100000</td>\n",
       "      <td>800000</td>\n",
       "    </tr>\n",
       "    <tr>\n",
       "      <th>...</th>\n",
       "      <td>...</td>\n",
       "      <td>...</td>\n",
       "      <td>...</td>\n",
       "      <td>...</td>\n",
       "      <td>...</td>\n",
       "      <td>...</td>\n",
       "      <td>...</td>\n",
       "      <td>...</td>\n",
       "      <td>...</td>\n",
       "      <td>...</td>\n",
       "      <td>...</td>\n",
       "      <td>...</td>\n",
       "      <td>...</td>\n",
       "      <td>...</td>\n",
       "    </tr>\n",
       "    <tr>\n",
       "      <th>125</th>\n",
       "      <td>Yadav, AS</td>\n",
       "      <td>Batsman</td>\n",
       "      <td>0</td>\n",
       "      <td>49</td>\n",
       "      <td>16</td>\n",
       "      <td>9.80</td>\n",
       "      <td>125.64</td>\n",
       "      <td>0</td>\n",
       "      <td>0</td>\n",
       "      <td>0.00</td>\n",
       "      <td>0.00</td>\n",
       "      <td>0.00</td>\n",
       "      <td>50000</td>\n",
       "      <td>750000</td>\n",
       "    </tr>\n",
       "    <tr>\n",
       "      <th>126</th>\n",
       "      <td>Younis Khan</td>\n",
       "      <td>Batsman</td>\n",
       "      <td>1</td>\n",
       "      <td>3</td>\n",
       "      <td>3</td>\n",
       "      <td>3.00</td>\n",
       "      <td>42.85</td>\n",
       "      <td>0</td>\n",
       "      <td>0</td>\n",
       "      <td>0.00</td>\n",
       "      <td>0.00</td>\n",
       "      <td>0.00</td>\n",
       "      <td>225000</td>\n",
       "      <td>225000</td>\n",
       "    </tr>\n",
       "    <tr>\n",
       "      <th>127</th>\n",
       "      <td>Yuvraj Singh</td>\n",
       "      <td>Batsman</td>\n",
       "      <td>1</td>\n",
       "      <td>1237</td>\n",
       "      <td>66</td>\n",
       "      <td>26.32</td>\n",
       "      <td>131.88</td>\n",
       "      <td>569</td>\n",
       "      <td>23</td>\n",
       "      <td>24.74</td>\n",
       "      <td>7.02</td>\n",
       "      <td>21.13</td>\n",
       "      <td>400000</td>\n",
       "      <td>1800000</td>\n",
       "    </tr>\n",
       "    <tr>\n",
       "      <th>128</th>\n",
       "      <td>Zaheer Khan</td>\n",
       "      <td>Bowler</td>\n",
       "      <td>0</td>\n",
       "      <td>99</td>\n",
       "      <td>23</td>\n",
       "      <td>9.90</td>\n",
       "      <td>91.67</td>\n",
       "      <td>1783</td>\n",
       "      <td>65</td>\n",
       "      <td>27.43</td>\n",
       "      <td>7.75</td>\n",
       "      <td>21.26</td>\n",
       "      <td>200000</td>\n",
       "      <td>450000</td>\n",
       "    </tr>\n",
       "    <tr>\n",
       "      <th>129</th>\n",
       "      <td>Zoysa, DNT</td>\n",
       "      <td>Bowler</td>\n",
       "      <td>0</td>\n",
       "      <td>11</td>\n",
       "      <td>10</td>\n",
       "      <td>11.00</td>\n",
       "      <td>122.22</td>\n",
       "      <td>99</td>\n",
       "      <td>2</td>\n",
       "      <td>49.50</td>\n",
       "      <td>9.00</td>\n",
       "      <td>33.00</td>\n",
       "      <td>100000</td>\n",
       "      <td>110000</td>\n",
       "    </tr>\n",
       "  </tbody>\n",
       "</table>\n",
       "<p>130 rows × 14 columns</p>\n",
       "</div>"
      ],
      "text/plain": [
       "      PLAYER NAME PLAYING ROLE  CAPTAINCY EXP  RUNS-S  HS    AVE    SR-B  \\\n",
       "0     Abdulla, YA   Allrounder              0       0   0   0.00    0.00   \n",
       "1    Abdur Razzak       Bowler              0       0   0   0.00    0.00   \n",
       "2     Agarkar, AB       Bowler              0     167  39  18.56  121.01   \n",
       "3       Ashwin, R       Bowler              0      58  11   5.80   76.32   \n",
       "4    Badrinath, S      Batsman              0    1317  71  32.93  120.71   \n",
       "..            ...          ...            ...     ...  ..    ...     ...   \n",
       "125     Yadav, AS      Batsman              0      49  16   9.80  125.64   \n",
       "126   Younis Khan      Batsman              1       3   3   3.00   42.85   \n",
       "127  Yuvraj Singh      Batsman              1    1237  66  26.32  131.88   \n",
       "128   Zaheer Khan       Bowler              0      99  23   9.90   91.67   \n",
       "129    Zoysa, DNT       Bowler              0      11  10  11.00  122.22   \n",
       "\n",
       "     RUNS-C  WKTS  AVE-BL   ECON  SR-BL  BASE PRICE  SOLD PRICE  \n",
       "0       307    15   20.47   8.90  13.93       50000       50000  \n",
       "1        29     0    0.00  14.50   0.00       50000       50000  \n",
       "2      1059    29   36.52   8.81  24.90      200000      350000  \n",
       "3      1125    49   22.96   6.23  22.14      100000      850000  \n",
       "4         0     0    0.00   0.00   0.00      100000      800000  \n",
       "..      ...   ...     ...    ...    ...         ...         ...  \n",
       "125       0     0    0.00   0.00   0.00       50000      750000  \n",
       "126       0     0    0.00   0.00   0.00      225000      225000  \n",
       "127     569    23   24.74   7.02  21.13      400000     1800000  \n",
       "128    1783    65   27.43   7.75  21.26      200000      450000  \n",
       "129      99     2   49.50   9.00  33.00      100000      110000  \n",
       "\n",
       "[130 rows x 14 columns]"
      ]
     },
     "execution_count": 14,
     "metadata": {},
     "output_type": "execute_result"
    }
   ],
   "source": [
    "auction"
   ]
  },
  {
   "cell_type": "code",
   "execution_count": 4,
   "id": "4f41247f",
   "metadata": {},
   "outputs": [
    {
     "name": "stdout",
     "output_type": "stream",
     "text": [
      "      PLAYER NAME PLAYING ROLE  CAPTAINCY EXP  RUNS-S  HS    AVE    SR-B  \\\n",
      "0     Abdulla, YA   Allrounder              0       0   0   0.00    0.00   \n",
      "1    Abdur Razzak       Bowler              0       0   0   0.00    0.00   \n",
      "2     Agarkar, AB       Bowler              0     167  39  18.56  121.01   \n",
      "3       Ashwin, R       Bowler              0      58  11   5.80   76.32   \n",
      "4    Badrinath, S      Batsman              0    1317  71  32.93  120.71   \n",
      "..            ...          ...            ...     ...  ..    ...     ...   \n",
      "125     Yadav, AS      Batsman              0      49  16   9.80  125.64   \n",
      "126   Younis Khan      Batsman              1       3   3   3.00   42.85   \n",
      "127  Yuvraj Singh      Batsman              1    1237  66  26.32  131.88   \n",
      "128   Zaheer Khan       Bowler              0      99  23   9.90   91.67   \n",
      "129    Zoysa, DNT       Bowler              0      11  10  11.00  122.22   \n",
      "\n",
      "     RUNS-C  WKTS  AVE-BL   ECON  SR-BL  BASE PRICE  SOLD PRICE  \n",
      "0       307    15   20.47   8.90  13.93        -1.2   -0.815789  \n",
      "1        29     0    0.00  14.50   0.00        -1.2   -0.815789  \n",
      "2      1059    29   36.52   8.81  24.90         0.0   -0.184211  \n",
      "3      1125    49   22.96   6.23  22.14        -0.8    0.868421  \n",
      "4         0     0    0.00   0.00   0.00        -0.8    0.763158  \n",
      "..      ...   ...     ...    ...    ...         ...         ...  \n",
      "125       0     0    0.00   0.00   0.00        -1.2    0.657895  \n",
      "126       0     0    0.00   0.00   0.00         0.2   -0.447368  \n",
      "127     569    23   24.74   7.02  21.13         1.6    2.868421  \n",
      "128    1783    65   27.43   7.75  21.26         0.0    0.026316  \n",
      "129      99     2   49.50   9.00  33.00        -0.8   -0.689474  \n",
      "\n",
      "[130 rows x 14 columns]\n"
     ]
    }
   ],
   "source": [
    "from sklearn.preprocessing import RobustScaler\n",
    "\n",
    "\n",
    "scaler = RobustScaler()\n",
    "\n",
    "# Fit and transform the columns\n",
    "columns_to_scale = ['BASE PRICE', 'SOLD PRICE']\n",
    "auction[columns_to_scale] = scaler.fit_transform(auction[columns_to_scale])\n",
    "\n",
    "\n",
    "print(auction)\n"
   ]
  },
  {
   "cell_type": "code",
   "execution_count": 17,
   "id": "b276248e",
   "metadata": {},
   "outputs": [
    {
     "data": {
      "text/html": [
       "<div>\n",
       "<style scoped>\n",
       "    .dataframe tbody tr th:only-of-type {\n",
       "        vertical-align: middle;\n",
       "    }\n",
       "\n",
       "    .dataframe tbody tr th {\n",
       "        vertical-align: top;\n",
       "    }\n",
       "\n",
       "    .dataframe thead th {\n",
       "        text-align: right;\n",
       "    }\n",
       "</style>\n",
       "<table border=\"1\" class=\"dataframe\">\n",
       "  <thead>\n",
       "    <tr style=\"text-align: right;\">\n",
       "      <th></th>\n",
       "      <th>PLAYER NAME</th>\n",
       "      <th>PLAYING ROLE</th>\n",
       "      <th>CAPTAINCY EXP</th>\n",
       "      <th>RUNS-S</th>\n",
       "      <th>HS</th>\n",
       "      <th>AVE</th>\n",
       "      <th>SR-B</th>\n",
       "      <th>RUNS-C</th>\n",
       "      <th>WKTS</th>\n",
       "      <th>AVE-BL</th>\n",
       "      <th>ECON</th>\n",
       "      <th>SR-BL</th>\n",
       "      <th>BASE PRICE</th>\n",
       "      <th>SOLD PRICE</th>\n",
       "    </tr>\n",
       "  </thead>\n",
       "  <tbody>\n",
       "    <tr>\n",
       "      <th>0</th>\n",
       "      <td>Abdulla, YA</td>\n",
       "      <td>Allrounder</td>\n",
       "      <td>0</td>\n",
       "      <td>0</td>\n",
       "      <td>0</td>\n",
       "      <td>0.00</td>\n",
       "      <td>0.00</td>\n",
       "      <td>307</td>\n",
       "      <td>15</td>\n",
       "      <td>20.47</td>\n",
       "      <td>8.90</td>\n",
       "      <td>13.93</td>\n",
       "      <td>-1.2</td>\n",
       "      <td>-0.815789</td>\n",
       "    </tr>\n",
       "    <tr>\n",
       "      <th>1</th>\n",
       "      <td>Abdur Razzak</td>\n",
       "      <td>Bowler</td>\n",
       "      <td>0</td>\n",
       "      <td>0</td>\n",
       "      <td>0</td>\n",
       "      <td>0.00</td>\n",
       "      <td>0.00</td>\n",
       "      <td>29</td>\n",
       "      <td>0</td>\n",
       "      <td>0.00</td>\n",
       "      <td>14.50</td>\n",
       "      <td>0.00</td>\n",
       "      <td>-1.2</td>\n",
       "      <td>-0.815789</td>\n",
       "    </tr>\n",
       "    <tr>\n",
       "      <th>2</th>\n",
       "      <td>Agarkar, AB</td>\n",
       "      <td>Bowler</td>\n",
       "      <td>0</td>\n",
       "      <td>167</td>\n",
       "      <td>39</td>\n",
       "      <td>18.56</td>\n",
       "      <td>121.01</td>\n",
       "      <td>1059</td>\n",
       "      <td>29</td>\n",
       "      <td>36.52</td>\n",
       "      <td>8.81</td>\n",
       "      <td>24.90</td>\n",
       "      <td>0.0</td>\n",
       "      <td>-0.184211</td>\n",
       "    </tr>\n",
       "    <tr>\n",
       "      <th>3</th>\n",
       "      <td>Ashwin, R</td>\n",
       "      <td>Bowler</td>\n",
       "      <td>0</td>\n",
       "      <td>58</td>\n",
       "      <td>11</td>\n",
       "      <td>5.80</td>\n",
       "      <td>76.32</td>\n",
       "      <td>1125</td>\n",
       "      <td>49</td>\n",
       "      <td>22.96</td>\n",
       "      <td>6.23</td>\n",
       "      <td>22.14</td>\n",
       "      <td>-0.8</td>\n",
       "      <td>0.868421</td>\n",
       "    </tr>\n",
       "    <tr>\n",
       "      <th>4</th>\n",
       "      <td>Badrinath, S</td>\n",
       "      <td>Batsman</td>\n",
       "      <td>0</td>\n",
       "      <td>1317</td>\n",
       "      <td>71</td>\n",
       "      <td>32.93</td>\n",
       "      <td>120.71</td>\n",
       "      <td>0</td>\n",
       "      <td>0</td>\n",
       "      <td>0.00</td>\n",
       "      <td>0.00</td>\n",
       "      <td>0.00</td>\n",
       "      <td>-0.8</td>\n",
       "      <td>0.763158</td>\n",
       "    </tr>\n",
       "    <tr>\n",
       "      <th>...</th>\n",
       "      <td>...</td>\n",
       "      <td>...</td>\n",
       "      <td>...</td>\n",
       "      <td>...</td>\n",
       "      <td>...</td>\n",
       "      <td>...</td>\n",
       "      <td>...</td>\n",
       "      <td>...</td>\n",
       "      <td>...</td>\n",
       "      <td>...</td>\n",
       "      <td>...</td>\n",
       "      <td>...</td>\n",
       "      <td>...</td>\n",
       "      <td>...</td>\n",
       "    </tr>\n",
       "    <tr>\n",
       "      <th>125</th>\n",
       "      <td>Yadav, AS</td>\n",
       "      <td>Batsman</td>\n",
       "      <td>0</td>\n",
       "      <td>49</td>\n",
       "      <td>16</td>\n",
       "      <td>9.80</td>\n",
       "      <td>125.64</td>\n",
       "      <td>0</td>\n",
       "      <td>0</td>\n",
       "      <td>0.00</td>\n",
       "      <td>0.00</td>\n",
       "      <td>0.00</td>\n",
       "      <td>-1.2</td>\n",
       "      <td>0.657895</td>\n",
       "    </tr>\n",
       "    <tr>\n",
       "      <th>126</th>\n",
       "      <td>Younis Khan</td>\n",
       "      <td>Batsman</td>\n",
       "      <td>1</td>\n",
       "      <td>3</td>\n",
       "      <td>3</td>\n",
       "      <td>3.00</td>\n",
       "      <td>42.85</td>\n",
       "      <td>0</td>\n",
       "      <td>0</td>\n",
       "      <td>0.00</td>\n",
       "      <td>0.00</td>\n",
       "      <td>0.00</td>\n",
       "      <td>0.2</td>\n",
       "      <td>-0.447368</td>\n",
       "    </tr>\n",
       "    <tr>\n",
       "      <th>127</th>\n",
       "      <td>Yuvraj Singh</td>\n",
       "      <td>Batsman</td>\n",
       "      <td>1</td>\n",
       "      <td>1237</td>\n",
       "      <td>66</td>\n",
       "      <td>26.32</td>\n",
       "      <td>131.88</td>\n",
       "      <td>569</td>\n",
       "      <td>23</td>\n",
       "      <td>24.74</td>\n",
       "      <td>7.02</td>\n",
       "      <td>21.13</td>\n",
       "      <td>1.6</td>\n",
       "      <td>2.868421</td>\n",
       "    </tr>\n",
       "    <tr>\n",
       "      <th>128</th>\n",
       "      <td>Zaheer Khan</td>\n",
       "      <td>Bowler</td>\n",
       "      <td>0</td>\n",
       "      <td>99</td>\n",
       "      <td>23</td>\n",
       "      <td>9.90</td>\n",
       "      <td>91.67</td>\n",
       "      <td>1783</td>\n",
       "      <td>65</td>\n",
       "      <td>27.43</td>\n",
       "      <td>7.75</td>\n",
       "      <td>21.26</td>\n",
       "      <td>0.0</td>\n",
       "      <td>0.026316</td>\n",
       "    </tr>\n",
       "    <tr>\n",
       "      <th>129</th>\n",
       "      <td>Zoysa, DNT</td>\n",
       "      <td>Bowler</td>\n",
       "      <td>0</td>\n",
       "      <td>11</td>\n",
       "      <td>10</td>\n",
       "      <td>11.00</td>\n",
       "      <td>122.22</td>\n",
       "      <td>99</td>\n",
       "      <td>2</td>\n",
       "      <td>49.50</td>\n",
       "      <td>9.00</td>\n",
       "      <td>33.00</td>\n",
       "      <td>-0.8</td>\n",
       "      <td>-0.689474</td>\n",
       "    </tr>\n",
       "  </tbody>\n",
       "</table>\n",
       "<p>130 rows × 14 columns</p>\n",
       "</div>"
      ],
      "text/plain": [
       "      PLAYER NAME PLAYING ROLE  CAPTAINCY EXP  RUNS-S  HS    AVE    SR-B  \\\n",
       "0     Abdulla, YA   Allrounder              0       0   0   0.00    0.00   \n",
       "1    Abdur Razzak       Bowler              0       0   0   0.00    0.00   \n",
       "2     Agarkar, AB       Bowler              0     167  39  18.56  121.01   \n",
       "3       Ashwin, R       Bowler              0      58  11   5.80   76.32   \n",
       "4    Badrinath, S      Batsman              0    1317  71  32.93  120.71   \n",
       "..            ...          ...            ...     ...  ..    ...     ...   \n",
       "125     Yadav, AS      Batsman              0      49  16   9.80  125.64   \n",
       "126   Younis Khan      Batsman              1       3   3   3.00   42.85   \n",
       "127  Yuvraj Singh      Batsman              1    1237  66  26.32  131.88   \n",
       "128   Zaheer Khan       Bowler              0      99  23   9.90   91.67   \n",
       "129    Zoysa, DNT       Bowler              0      11  10  11.00  122.22   \n",
       "\n",
       "     RUNS-C  WKTS  AVE-BL   ECON  SR-BL  BASE PRICE  SOLD PRICE  \n",
       "0       307    15   20.47   8.90  13.93        -1.2   -0.815789  \n",
       "1        29     0    0.00  14.50   0.00        -1.2   -0.815789  \n",
       "2      1059    29   36.52   8.81  24.90         0.0   -0.184211  \n",
       "3      1125    49   22.96   6.23  22.14        -0.8    0.868421  \n",
       "4         0     0    0.00   0.00   0.00        -0.8    0.763158  \n",
       "..      ...   ...     ...    ...    ...         ...         ...  \n",
       "125       0     0    0.00   0.00   0.00        -1.2    0.657895  \n",
       "126       0     0    0.00   0.00   0.00         0.2   -0.447368  \n",
       "127     569    23   24.74   7.02  21.13         1.6    2.868421  \n",
       "128    1783    65   27.43   7.75  21.26         0.0    0.026316  \n",
       "129      99     2   49.50   9.00  33.00        -0.8   -0.689474  \n",
       "\n",
       "[130 rows x 14 columns]"
      ]
     },
     "execution_count": 17,
     "metadata": {},
     "output_type": "execute_result"
    }
   ],
   "source": [
    "auction"
   ]
  },
  {
   "cell_type": "markdown",
   "id": "4f7a139f",
   "metadata": {},
   "source": [
    "# Visualization"
   ]
  },
  {
   "cell_type": "code",
   "execution_count": 18,
   "id": "72f8e1fa",
   "metadata": {
    "scrolled": true
   },
   "outputs": [
    {
     "data": {
      "text/html": [
       "<div>\n",
       "<style scoped>\n",
       "    .dataframe tbody tr th:only-of-type {\n",
       "        vertical-align: middle;\n",
       "    }\n",
       "\n",
       "    .dataframe tbody tr th {\n",
       "        vertical-align: top;\n",
       "    }\n",
       "\n",
       "    .dataframe thead th {\n",
       "        text-align: right;\n",
       "    }\n",
       "</style>\n",
       "<table border=\"1\" class=\"dataframe\">\n",
       "  <thead>\n",
       "    <tr style=\"text-align: right;\">\n",
       "      <th></th>\n",
       "      <th>PLAYER NAME</th>\n",
       "      <th>PLAYING ROLE</th>\n",
       "      <th>CAPTAINCY EXP</th>\n",
       "      <th>RUNS-S</th>\n",
       "      <th>HS</th>\n",
       "      <th>AVE</th>\n",
       "      <th>SR-B</th>\n",
       "      <th>RUNS-C</th>\n",
       "      <th>WKTS</th>\n",
       "      <th>AVE-BL</th>\n",
       "      <th>ECON</th>\n",
       "      <th>SR-BL</th>\n",
       "      <th>BASE PRICE</th>\n",
       "      <th>SOLD PRICE</th>\n",
       "    </tr>\n",
       "  </thead>\n",
       "  <tbody>\n",
       "    <tr>\n",
       "      <th>93</th>\n",
       "      <td>Sehwag, V</td>\n",
       "      <td>Batsman</td>\n",
       "      <td>1</td>\n",
       "      <td>1879</td>\n",
       "      <td>119</td>\n",
       "      <td>30.31</td>\n",
       "      <td>167.32</td>\n",
       "      <td>226</td>\n",
       "      <td>6</td>\n",
       "      <td>37.67</td>\n",
       "      <td>10.56</td>\n",
       "      <td>21.67</td>\n",
       "      <td>1.6</td>\n",
       "      <td>2.868421</td>\n",
       "    </tr>\n",
       "    <tr>\n",
       "      <th>127</th>\n",
       "      <td>Yuvraj Singh</td>\n",
       "      <td>Batsman</td>\n",
       "      <td>1</td>\n",
       "      <td>1237</td>\n",
       "      <td>66</td>\n",
       "      <td>26.32</td>\n",
       "      <td>131.88</td>\n",
       "      <td>569</td>\n",
       "      <td>23</td>\n",
       "      <td>24.74</td>\n",
       "      <td>7.02</td>\n",
       "      <td>21.13</td>\n",
       "      <td>1.6</td>\n",
       "      <td>2.868421</td>\n",
       "    </tr>\n",
       "    <tr>\n",
       "      <th>50</th>\n",
       "      <td>Kohli, V</td>\n",
       "      <td>Batsman</td>\n",
       "      <td>1</td>\n",
       "      <td>1639</td>\n",
       "      <td>73</td>\n",
       "      <td>28.26</td>\n",
       "      <td>119.29</td>\n",
       "      <td>345</td>\n",
       "      <td>4</td>\n",
       "      <td>86.25</td>\n",
       "      <td>8.84</td>\n",
       "      <td>58.50</td>\n",
       "      <td>-0.4</td>\n",
       "      <td>2.868421</td>\n",
       "    </tr>\n",
       "    <tr>\n",
       "      <th>111</th>\n",
       "      <td>Tendulkar, SR</td>\n",
       "      <td>Batsman</td>\n",
       "      <td>1</td>\n",
       "      <td>2047</td>\n",
       "      <td>100</td>\n",
       "      <td>37.91</td>\n",
       "      <td>119.22</td>\n",
       "      <td>58</td>\n",
       "      <td>0</td>\n",
       "      <td>0.00</td>\n",
       "      <td>9.67</td>\n",
       "      <td>0.00</td>\n",
       "      <td>1.6</td>\n",
       "      <td>2.868421</td>\n",
       "    </tr>\n",
       "    <tr>\n",
       "      <th>113</th>\n",
       "      <td>Tiwary, SS</td>\n",
       "      <td>Batsman</td>\n",
       "      <td>0</td>\n",
       "      <td>836</td>\n",
       "      <td>42</td>\n",
       "      <td>25.33</td>\n",
       "      <td>119.60</td>\n",
       "      <td>0</td>\n",
       "      <td>0</td>\n",
       "      <td>0.00</td>\n",
       "      <td>0.00</td>\n",
       "      <td>0.00</td>\n",
       "      <td>-0.8</td>\n",
       "      <td>2.447368</td>\n",
       "    </tr>\n",
       "    <tr>\n",
       "      <th>83</th>\n",
       "      <td>Pietersen, KP</td>\n",
       "      <td>Batsman</td>\n",
       "      <td>1</td>\n",
       "      <td>634</td>\n",
       "      <td>103</td>\n",
       "      <td>42.27</td>\n",
       "      <td>141.20</td>\n",
       "      <td>215</td>\n",
       "      <td>7</td>\n",
       "      <td>30.71</td>\n",
       "      <td>7.41</td>\n",
       "      <td>24.86</td>\n",
       "      <td>9.2</td>\n",
       "      <td>2.342105</td>\n",
       "    </tr>\n",
       "    <tr>\n",
       "      <th>23</th>\n",
       "      <td>Flintoff, A</td>\n",
       "      <td>Allrounder</td>\n",
       "      <td>1</td>\n",
       "      <td>62</td>\n",
       "      <td>24</td>\n",
       "      <td>31.00</td>\n",
       "      <td>116.98</td>\n",
       "      <td>105</td>\n",
       "      <td>2</td>\n",
       "      <td>52.50</td>\n",
       "      <td>9.55</td>\n",
       "      <td>33.00</td>\n",
       "      <td>6.0</td>\n",
       "      <td>2.342105</td>\n",
       "    </tr>\n",
       "    <tr>\n",
       "      <th>15</th>\n",
       "      <td>Dhoni, MS</td>\n",
       "      <td>W. Keeper</td>\n",
       "      <td>1</td>\n",
       "      <td>1782</td>\n",
       "      <td>70</td>\n",
       "      <td>37.13</td>\n",
       "      <td>136.45</td>\n",
       "      <td>0</td>\n",
       "      <td>0</td>\n",
       "      <td>0.00</td>\n",
       "      <td>0.00</td>\n",
       "      <td>0.00</td>\n",
       "      <td>1.6</td>\n",
       "      <td>2.236842</td>\n",
       "    </tr>\n",
       "    <tr>\n",
       "      <th>108</th>\n",
       "      <td>Symonds, A</td>\n",
       "      <td>Allrounder</td>\n",
       "      <td>0</td>\n",
       "      <td>974</td>\n",
       "      <td>117</td>\n",
       "      <td>36.07</td>\n",
       "      <td>129.87</td>\n",
       "      <td>674</td>\n",
       "      <td>20</td>\n",
       "      <td>33.70</td>\n",
       "      <td>7.70</td>\n",
       "      <td>26.35</td>\n",
       "      <td>0.4</td>\n",
       "      <td>1.921053</td>\n",
       "    </tr>\n",
       "    <tr>\n",
       "      <th>110</th>\n",
       "      <td>Taylor, LRPL</td>\n",
       "      <td>Batsman</td>\n",
       "      <td>1</td>\n",
       "      <td>895</td>\n",
       "      <td>81</td>\n",
       "      <td>27.97</td>\n",
       "      <td>130.28</td>\n",
       "      <td>24</td>\n",
       "      <td>0</td>\n",
       "      <td>0.00</td>\n",
       "      <td>12.00</td>\n",
       "      <td>0.00</td>\n",
       "      <td>1.6</td>\n",
       "      <td>1.184211</td>\n",
       "    </tr>\n",
       "  </tbody>\n",
       "</table>\n",
       "</div>"
      ],
      "text/plain": [
       "       PLAYER NAME PLAYING ROLE  CAPTAINCY EXP  RUNS-S   HS    AVE    SR-B  \\\n",
       "93       Sehwag, V      Batsman              1    1879  119  30.31  167.32   \n",
       "127   Yuvraj Singh      Batsman              1    1237   66  26.32  131.88   \n",
       "50        Kohli, V      Batsman              1    1639   73  28.26  119.29   \n",
       "111  Tendulkar, SR      Batsman              1    2047  100  37.91  119.22   \n",
       "113     Tiwary, SS      Batsman              0     836   42  25.33  119.60   \n",
       "83   Pietersen, KP      Batsman              1     634  103  42.27  141.20   \n",
       "23     Flintoff, A   Allrounder              1      62   24  31.00  116.98   \n",
       "15       Dhoni, MS    W. Keeper              1    1782   70  37.13  136.45   \n",
       "108     Symonds, A   Allrounder              0     974  117  36.07  129.87   \n",
       "110   Taylor, LRPL      Batsman              1     895   81  27.97  130.28   \n",
       "\n",
       "     RUNS-C  WKTS  AVE-BL   ECON  SR-BL  BASE PRICE  SOLD PRICE  \n",
       "93      226     6   37.67  10.56  21.67         1.6    2.868421  \n",
       "127     569    23   24.74   7.02  21.13         1.6    2.868421  \n",
       "50      345     4   86.25   8.84  58.50        -0.4    2.868421  \n",
       "111      58     0    0.00   9.67   0.00         1.6    2.868421  \n",
       "113       0     0    0.00   0.00   0.00        -0.8    2.447368  \n",
       "83      215     7   30.71   7.41  24.86         9.2    2.342105  \n",
       "23      105     2   52.50   9.55  33.00         6.0    2.342105  \n",
       "15        0     0    0.00   0.00   0.00         1.6    2.236842  \n",
       "108     674    20   33.70   7.70  26.35         0.4    1.921053  \n",
       "110      24     0    0.00  12.00   0.00         1.6    1.184211  "
      ]
     },
     "execution_count": 18,
     "metadata": {},
     "output_type": "execute_result"
    }
   ],
   "source": [
    "top_10 = auction.sort_values('SOLD PRICE',ascending = False).head(10)\n",
    "top_10"
   ]
  },
  {
   "cell_type": "markdown",
   "id": "3fe7bef8",
   "metadata": {},
   "source": [
    "Checking for outliers"
   ]
  },
  {
   "cell_type": "code",
   "execution_count": 19,
   "id": "adc3a48e",
   "metadata": {},
   "outputs": [
    {
     "name": "stderr",
     "output_type": "stream",
     "text": [
      "C:\\Users\\balak\\anaconda3\\Lib\\site-packages\\seaborn\\_oldcore.py:1498: FutureWarning: is_categorical_dtype is deprecated and will be removed in a future version. Use isinstance(dtype, CategoricalDtype) instead\n",
      "  if pd.api.types.is_categorical_dtype(vector):\n",
      "C:\\Users\\balak\\anaconda3\\Lib\\site-packages\\seaborn\\_oldcore.py:1498: FutureWarning: is_categorical_dtype is deprecated and will be removed in a future version. Use isinstance(dtype, CategoricalDtype) instead\n",
      "  if pd.api.types.is_categorical_dtype(vector):\n",
      "C:\\Users\\balak\\anaconda3\\Lib\\site-packages\\seaborn\\_oldcore.py:1498: FutureWarning: is_categorical_dtype is deprecated and will be removed in a future version. Use isinstance(dtype, CategoricalDtype) instead\n",
      "  if pd.api.types.is_categorical_dtype(vector):\n",
      "C:\\Users\\balak\\anaconda3\\Lib\\site-packages\\seaborn\\_oldcore.py:1498: FutureWarning: is_categorical_dtype is deprecated and will be removed in a future version. Use isinstance(dtype, CategoricalDtype) instead\n",
      "  if pd.api.types.is_categorical_dtype(vector):\n",
      "C:\\Users\\balak\\anaconda3\\Lib\\site-packages\\seaborn\\_oldcore.py:1498: FutureWarning: is_categorical_dtype is deprecated and will be removed in a future version. Use isinstance(dtype, CategoricalDtype) instead\n",
      "  if pd.api.types.is_categorical_dtype(vector):\n",
      "C:\\Users\\balak\\anaconda3\\Lib\\site-packages\\seaborn\\_oldcore.py:1498: FutureWarning: is_categorical_dtype is deprecated and will be removed in a future version. Use isinstance(dtype, CategoricalDtype) instead\n",
      "  if pd.api.types.is_categorical_dtype(vector):\n",
      "C:\\Users\\balak\\anaconda3\\Lib\\site-packages\\seaborn\\_oldcore.py:1498: FutureWarning: is_categorical_dtype is deprecated and will be removed in a future version. Use isinstance(dtype, CategoricalDtype) instead\n",
      "  if pd.api.types.is_categorical_dtype(vector):\n",
      "C:\\Users\\balak\\anaconda3\\Lib\\site-packages\\seaborn\\_oldcore.py:1498: FutureWarning: is_categorical_dtype is deprecated and will be removed in a future version. Use isinstance(dtype, CategoricalDtype) instead\n",
      "  if pd.api.types.is_categorical_dtype(vector):\n",
      "C:\\Users\\balak\\anaconda3\\Lib\\site-packages\\seaborn\\_oldcore.py:1498: FutureWarning: is_categorical_dtype is deprecated and will be removed in a future version. Use isinstance(dtype, CategoricalDtype) instead\n",
      "  if pd.api.types.is_categorical_dtype(vector):\n",
      "C:\\Users\\balak\\anaconda3\\Lib\\site-packages\\seaborn\\_oldcore.py:1498: FutureWarning: is_categorical_dtype is deprecated and will be removed in a future version. Use isinstance(dtype, CategoricalDtype) instead\n",
      "  if pd.api.types.is_categorical_dtype(vector):\n"
     ]
    },
    {
     "data": {
      "image/png": "[encoded data removed]",
      "text/plain": [
       "<Figure size 800x600 with 1 Axes>"
      ]
     },
     "metadata": {},
     "output_type": "display_data"
    }
   ],
   "source": [
    "import matplotlib.pyplot as plt\n",
    "import seaborn as sns\n",
    "\n",
    "\n",
    "plt.figure(figsize=(8, 6))\n",
    "sns.boxplot(data=auction[['RUNS-S', 'AVE','SR-B', 'RUNS-C','WKTS','ECON','AVE-BL','CAPTAINCY EXP','HS','SR-BL']])\n",
    "plt.title('Boxplot of Runs Scored, Batting Average,Batting Strike rate, Runs Conceded, Wickets,Economy,Bowling Average')\n",
    "plt.xlabel('Features')\n",
    "plt.ylabel('Values')\n",
    "plt.xticks(rotation=45)  # Rotating x-axis labels for better readability\n",
    "plt.show()\n"
   ]
  },
  {
   "cell_type": "code",
   "execution_count": 5,
   "id": "a0a89a08",
   "metadata": {},
   "outputs": [
    {
     "data": {
      "text/html": [
       "<div>\n",
       "<style scoped>\n",
       "    .dataframe tbody tr th:only-of-type {\n",
       "        vertical-align: middle;\n",
       "    }\n",
       "\n",
       "    .dataframe tbody tr th {\n",
       "        vertical-align: top;\n",
       "    }\n",
       "\n",
       "    .dataframe thead th {\n",
       "        text-align: right;\n",
       "    }\n",
       "</style>\n",
       "<table border=\"1\" class=\"dataframe\">\n",
       "  <thead>\n",
       "    <tr style=\"text-align: right;\">\n",
       "      <th></th>\n",
       "      <th>PLAYER NAME</th>\n",
       "      <th>PLAYING ROLE</th>\n",
       "      <th>CAPTAINCY EXP</th>\n",
       "      <th>RUNS-S</th>\n",
       "      <th>HS</th>\n",
       "      <th>AVE</th>\n",
       "      <th>SR-B</th>\n",
       "      <th>RUNS-C</th>\n",
       "      <th>WKTS</th>\n",
       "      <th>AVE-BL</th>\n",
       "      <th>ECON</th>\n",
       "      <th>SR-BL</th>\n",
       "      <th>BASE PRICE</th>\n",
       "      <th>SOLD PRICE</th>\n",
       "    </tr>\n",
       "  </thead>\n",
       "  <tbody>\n",
       "    <tr>\n",
       "      <th>2</th>\n",
       "      <td>Agarkar, AB</td>\n",
       "      <td>Bowler</td>\n",
       "      <td>0</td>\n",
       "      <td>167</td>\n",
       "      <td>39</td>\n",
       "      <td>18.56</td>\n",
       "      <td>121.01</td>\n",
       "      <td>1059</td>\n",
       "      <td>29</td>\n",
       "      <td>36.52</td>\n",
       "      <td>8.81</td>\n",
       "      <td>24.90</td>\n",
       "      <td>0.0</td>\n",
       "      <td>-0.184211</td>\n",
       "    </tr>\n",
       "    <tr>\n",
       "      <th>3</th>\n",
       "      <td>Ashwin, R</td>\n",
       "      <td>Bowler</td>\n",
       "      <td>0</td>\n",
       "      <td>58</td>\n",
       "      <td>11</td>\n",
       "      <td>5.80</td>\n",
       "      <td>76.32</td>\n",
       "      <td>1125</td>\n",
       "      <td>49</td>\n",
       "      <td>22.96</td>\n",
       "      <td>6.23</td>\n",
       "      <td>22.14</td>\n",
       "      <td>-0.8</td>\n",
       "      <td>0.868421</td>\n",
       "    </tr>\n",
       "    <tr>\n",
       "      <th>4</th>\n",
       "      <td>Badrinath, S</td>\n",
       "      <td>Batsman</td>\n",
       "      <td>0</td>\n",
       "      <td>1317</td>\n",
       "      <td>71</td>\n",
       "      <td>32.93</td>\n",
       "      <td>120.71</td>\n",
       "      <td>0</td>\n",
       "      <td>0</td>\n",
       "      <td>0.00</td>\n",
       "      <td>0.00</td>\n",
       "      <td>0.00</td>\n",
       "      <td>-0.8</td>\n",
       "      <td>0.763158</td>\n",
       "    </tr>\n",
       "    <tr>\n",
       "      <th>5</th>\n",
       "      <td>Bailey, GJ</td>\n",
       "      <td>Batsman</td>\n",
       "      <td>1</td>\n",
       "      <td>63</td>\n",
       "      <td>48</td>\n",
       "      <td>21.00</td>\n",
       "      <td>95.45</td>\n",
       "      <td>0</td>\n",
       "      <td>0</td>\n",
       "      <td>0.00</td>\n",
       "      <td>0.00</td>\n",
       "      <td>0.00</td>\n",
       "      <td>-1.2</td>\n",
       "      <td>-0.815789</td>\n",
       "    </tr>\n",
       "    <tr>\n",
       "      <th>6</th>\n",
       "      <td>Balaji, L</td>\n",
       "      <td>Bowler</td>\n",
       "      <td>0</td>\n",
       "      <td>26</td>\n",
       "      <td>15</td>\n",
       "      <td>4.33</td>\n",
       "      <td>72.22</td>\n",
       "      <td>1342</td>\n",
       "      <td>52</td>\n",
       "      <td>25.81</td>\n",
       "      <td>7.98</td>\n",
       "      <td>19.40</td>\n",
       "      <td>-0.8</td>\n",
       "      <td>0.131579</td>\n",
       "    </tr>\n",
       "    <tr>\n",
       "      <th>...</th>\n",
       "      <td>...</td>\n",
       "      <td>...</td>\n",
       "      <td>...</td>\n",
       "      <td>...</td>\n",
       "      <td>...</td>\n",
       "      <td>...</td>\n",
       "      <td>...</td>\n",
       "      <td>...</td>\n",
       "      <td>...</td>\n",
       "      <td>...</td>\n",
       "      <td>...</td>\n",
       "      <td>...</td>\n",
       "      <td>...</td>\n",
       "      <td>...</td>\n",
       "    </tr>\n",
       "    <tr>\n",
       "      <th>124</th>\n",
       "      <td>White, CL</td>\n",
       "      <td>Batsman</td>\n",
       "      <td>1</td>\n",
       "      <td>745</td>\n",
       "      <td>78</td>\n",
       "      <td>31.04</td>\n",
       "      <td>132.09</td>\n",
       "      <td>70</td>\n",
       "      <td>0</td>\n",
       "      <td>0.00</td>\n",
       "      <td>14.00</td>\n",
       "      <td>0.00</td>\n",
       "      <td>-0.8</td>\n",
       "      <td>0.131579</td>\n",
       "    </tr>\n",
       "    <tr>\n",
       "      <th>125</th>\n",
       "      <td>Yadav, AS</td>\n",
       "      <td>Batsman</td>\n",
       "      <td>0</td>\n",
       "      <td>49</td>\n",
       "      <td>16</td>\n",
       "      <td>9.80</td>\n",
       "      <td>125.64</td>\n",
       "      <td>0</td>\n",
       "      <td>0</td>\n",
       "      <td>0.00</td>\n",
       "      <td>0.00</td>\n",
       "      <td>0.00</td>\n",
       "      <td>-1.2</td>\n",
       "      <td>0.657895</td>\n",
       "    </tr>\n",
       "    <tr>\n",
       "      <th>127</th>\n",
       "      <td>Yuvraj Singh</td>\n",
       "      <td>Batsman</td>\n",
       "      <td>1</td>\n",
       "      <td>1237</td>\n",
       "      <td>66</td>\n",
       "      <td>26.32</td>\n",
       "      <td>131.88</td>\n",
       "      <td>569</td>\n",
       "      <td>23</td>\n",
       "      <td>24.74</td>\n",
       "      <td>7.02</td>\n",
       "      <td>21.13</td>\n",
       "      <td>1.6</td>\n",
       "      <td>2.868421</td>\n",
       "    </tr>\n",
       "    <tr>\n",
       "      <th>128</th>\n",
       "      <td>Zaheer Khan</td>\n",
       "      <td>Bowler</td>\n",
       "      <td>0</td>\n",
       "      <td>99</td>\n",
       "      <td>23</td>\n",
       "      <td>9.90</td>\n",
       "      <td>91.67</td>\n",
       "      <td>1783</td>\n",
       "      <td>65</td>\n",
       "      <td>27.43</td>\n",
       "      <td>7.75</td>\n",
       "      <td>21.26</td>\n",
       "      <td>0.0</td>\n",
       "      <td>0.026316</td>\n",
       "    </tr>\n",
       "    <tr>\n",
       "      <th>129</th>\n",
       "      <td>Zoysa, DNT</td>\n",
       "      <td>Bowler</td>\n",
       "      <td>0</td>\n",
       "      <td>11</td>\n",
       "      <td>10</td>\n",
       "      <td>11.00</td>\n",
       "      <td>122.22</td>\n",
       "      <td>99</td>\n",
       "      <td>2</td>\n",
       "      <td>49.50</td>\n",
       "      <td>9.00</td>\n",
       "      <td>33.00</td>\n",
       "      <td>-0.8</td>\n",
       "      <td>-0.689474</td>\n",
       "    </tr>\n",
       "  </tbody>\n",
       "</table>\n",
       "<p>118 rows × 14 columns</p>\n",
       "</div>"
      ],
      "text/plain": [
       "      PLAYER NAME PLAYING ROLE  CAPTAINCY EXP  RUNS-S  HS    AVE    SR-B  \\\n",
       "2     Agarkar, AB       Bowler              0     167  39  18.56  121.01   \n",
       "3       Ashwin, R       Bowler              0      58  11   5.80   76.32   \n",
       "4    Badrinath, S      Batsman              0    1317  71  32.93  120.71   \n",
       "5      Bailey, GJ      Batsman              1      63  48  21.00   95.45   \n",
       "6       Balaji, L       Bowler              0      26  15   4.33   72.22   \n",
       "..            ...          ...            ...     ...  ..    ...     ...   \n",
       "124     White, CL      Batsman              1     745  78  31.04  132.09   \n",
       "125     Yadav, AS      Batsman              0      49  16   9.80  125.64   \n",
       "127  Yuvraj Singh      Batsman              1    1237  66  26.32  131.88   \n",
       "128   Zaheer Khan       Bowler              0      99  23   9.90   91.67   \n",
       "129    Zoysa, DNT       Bowler              0      11  10  11.00  122.22   \n",
       "\n",
       "     RUNS-C  WKTS  AVE-BL   ECON  SR-BL  BASE PRICE  SOLD PRICE  \n",
       "2      1059    29   36.52   8.81  24.90         0.0   -0.184211  \n",
       "3      1125    49   22.96   6.23  22.14        -0.8    0.868421  \n",
       "4         0     0    0.00   0.00   0.00        -0.8    0.763158  \n",
       "5         0     0    0.00   0.00   0.00        -1.2   -0.815789  \n",
       "6      1342    52   25.81   7.98  19.40        -0.8    0.131579  \n",
       "..      ...   ...     ...    ...    ...         ...         ...  \n",
       "124      70     0    0.00  14.00   0.00        -0.8    0.131579  \n",
       "125       0     0    0.00   0.00   0.00        -1.2    0.657895  \n",
       "127     569    23   24.74   7.02  21.13         1.6    2.868421  \n",
       "128    1783    65   27.43   7.75  21.26         0.0    0.026316  \n",
       "129      99     2   49.50   9.00  33.00        -0.8   -0.689474  \n",
       "\n",
       "[118 rows x 14 columns]"
      ]
     },
     "execution_count": 5,
     "metadata": {},
     "output_type": "execute_result"
    }
   ],
   "source": [
    "import pandas as pd\n",
    "\n",
    "column_data = auction['SR-B']\n",
    "\n",
    "Q1 = column_data.quantile(0.25)\n",
    "Q3 = column_data.quantile(0.75)\n",
    "IQR = Q3 - Q1\n",
    "\n",
    "lower_bound = Q1 - 1.5 * IQR\n",
    "upper_bound = Q3 + 1.5 * IQR\n",
    "\n",
    "outliers_index = column_data[(column_data < lower_bound) | (column_data > upper_bound)].index\n",
    "cleaned_data = auction.drop(outliers_index)\n",
    "\n",
    "cleaned_data\n"
   ]
  },
  {
   "cell_type": "code",
   "execution_count": 6,
   "id": "5a28985f",
   "metadata": {},
   "outputs": [
    {
     "data": {
      "text/html": [
       "<div>\n",
       "<style scoped>\n",
       "    .dataframe tbody tr th:only-of-type {\n",
       "        vertical-align: middle;\n",
       "    }\n",
       "\n",
       "    .dataframe tbody tr th {\n",
       "        vertical-align: top;\n",
       "    }\n",
       "\n",
       "    .dataframe thead th {\n",
       "        text-align: right;\n",
       "    }\n",
       "</style>\n",
       "<table border=\"1\" class=\"dataframe\">\n",
       "  <thead>\n",
       "    <tr style=\"text-align: right;\">\n",
       "      <th></th>\n",
       "      <th>PLAYER NAME</th>\n",
       "      <th>PLAYING ROLE</th>\n",
       "      <th>CAPTAINCY EXP</th>\n",
       "      <th>RUNS-S</th>\n",
       "      <th>HS</th>\n",
       "      <th>AVE</th>\n",
       "      <th>SR-B</th>\n",
       "      <th>RUNS-C</th>\n",
       "      <th>WKTS</th>\n",
       "      <th>AVE-BL</th>\n",
       "      <th>ECON</th>\n",
       "      <th>SR-BL</th>\n",
       "      <th>BASE PRICE</th>\n",
       "      <th>SOLD PRICE</th>\n",
       "    </tr>\n",
       "  </thead>\n",
       "  <tbody>\n",
       "    <tr>\n",
       "      <th>2</th>\n",
       "      <td>Agarkar, AB</td>\n",
       "      <td>Bowler</td>\n",
       "      <td>0</td>\n",
       "      <td>167</td>\n",
       "      <td>39</td>\n",
       "      <td>18.56</td>\n",
       "      <td>121.01</td>\n",
       "      <td>1059</td>\n",
       "      <td>29</td>\n",
       "      <td>36.52</td>\n",
       "      <td>8.81</td>\n",
       "      <td>24.90</td>\n",
       "      <td>0.0</td>\n",
       "      <td>-0.184211</td>\n",
       "    </tr>\n",
       "    <tr>\n",
       "      <th>3</th>\n",
       "      <td>Ashwin, R</td>\n",
       "      <td>Bowler</td>\n",
       "      <td>0</td>\n",
       "      <td>58</td>\n",
       "      <td>11</td>\n",
       "      <td>5.80</td>\n",
       "      <td>76.32</td>\n",
       "      <td>1125</td>\n",
       "      <td>49</td>\n",
       "      <td>22.96</td>\n",
       "      <td>6.23</td>\n",
       "      <td>22.14</td>\n",
       "      <td>-0.8</td>\n",
       "      <td>0.868421</td>\n",
       "    </tr>\n",
       "    <tr>\n",
       "      <th>4</th>\n",
       "      <td>Badrinath, S</td>\n",
       "      <td>Batsman</td>\n",
       "      <td>0</td>\n",
       "      <td>1317</td>\n",
       "      <td>71</td>\n",
       "      <td>32.93</td>\n",
       "      <td>120.71</td>\n",
       "      <td>0</td>\n",
       "      <td>0</td>\n",
       "      <td>0.00</td>\n",
       "      <td>0.00</td>\n",
       "      <td>0.00</td>\n",
       "      <td>-0.8</td>\n",
       "      <td>0.763158</td>\n",
       "    </tr>\n",
       "    <tr>\n",
       "      <th>5</th>\n",
       "      <td>Bailey, GJ</td>\n",
       "      <td>Batsman</td>\n",
       "      <td>1</td>\n",
       "      <td>63</td>\n",
       "      <td>48</td>\n",
       "      <td>21.00</td>\n",
       "      <td>95.45</td>\n",
       "      <td>0</td>\n",
       "      <td>0</td>\n",
       "      <td>0.00</td>\n",
       "      <td>0.00</td>\n",
       "      <td>0.00</td>\n",
       "      <td>-1.2</td>\n",
       "      <td>-0.815789</td>\n",
       "    </tr>\n",
       "    <tr>\n",
       "      <th>6</th>\n",
       "      <td>Balaji, L</td>\n",
       "      <td>Bowler</td>\n",
       "      <td>0</td>\n",
       "      <td>26</td>\n",
       "      <td>15</td>\n",
       "      <td>4.33</td>\n",
       "      <td>72.22</td>\n",
       "      <td>1342</td>\n",
       "      <td>52</td>\n",
       "      <td>25.81</td>\n",
       "      <td>7.98</td>\n",
       "      <td>19.40</td>\n",
       "      <td>-0.8</td>\n",
       "      <td>0.131579</td>\n",
       "    </tr>\n",
       "    <tr>\n",
       "      <th>...</th>\n",
       "      <td>...</td>\n",
       "      <td>...</td>\n",
       "      <td>...</td>\n",
       "      <td>...</td>\n",
       "      <td>...</td>\n",
       "      <td>...</td>\n",
       "      <td>...</td>\n",
       "      <td>...</td>\n",
       "      <td>...</td>\n",
       "      <td>...</td>\n",
       "      <td>...</td>\n",
       "      <td>...</td>\n",
       "      <td>...</td>\n",
       "      <td>...</td>\n",
       "    </tr>\n",
       "    <tr>\n",
       "      <th>123</th>\n",
       "      <td>Warner, DA</td>\n",
       "      <td>Batsman</td>\n",
       "      <td>0</td>\n",
       "      <td>1025</td>\n",
       "      <td>109</td>\n",
       "      <td>27.70</td>\n",
       "      <td>135.76</td>\n",
       "      <td>0</td>\n",
       "      <td>0</td>\n",
       "      <td>0.00</td>\n",
       "      <td>0.00</td>\n",
       "      <td>0.00</td>\n",
       "      <td>0.0</td>\n",
       "      <td>0.657895</td>\n",
       "    </tr>\n",
       "    <tr>\n",
       "      <th>124</th>\n",
       "      <td>White, CL</td>\n",
       "      <td>Batsman</td>\n",
       "      <td>1</td>\n",
       "      <td>745</td>\n",
       "      <td>78</td>\n",
       "      <td>31.04</td>\n",
       "      <td>132.09</td>\n",
       "      <td>70</td>\n",
       "      <td>0</td>\n",
       "      <td>0.00</td>\n",
       "      <td>14.00</td>\n",
       "      <td>0.00</td>\n",
       "      <td>-0.8</td>\n",
       "      <td>0.131579</td>\n",
       "    </tr>\n",
       "    <tr>\n",
       "      <th>125</th>\n",
       "      <td>Yadav, AS</td>\n",
       "      <td>Batsman</td>\n",
       "      <td>0</td>\n",
       "      <td>49</td>\n",
       "      <td>16</td>\n",
       "      <td>9.80</td>\n",
       "      <td>125.64</td>\n",
       "      <td>0</td>\n",
       "      <td>0</td>\n",
       "      <td>0.00</td>\n",
       "      <td>0.00</td>\n",
       "      <td>0.00</td>\n",
       "      <td>-1.2</td>\n",
       "      <td>0.657895</td>\n",
       "    </tr>\n",
       "    <tr>\n",
       "      <th>127</th>\n",
       "      <td>Yuvraj Singh</td>\n",
       "      <td>Batsman</td>\n",
       "      <td>1</td>\n",
       "      <td>1237</td>\n",
       "      <td>66</td>\n",
       "      <td>26.32</td>\n",
       "      <td>131.88</td>\n",
       "      <td>569</td>\n",
       "      <td>23</td>\n",
       "      <td>24.74</td>\n",
       "      <td>7.02</td>\n",
       "      <td>21.13</td>\n",
       "      <td>1.6</td>\n",
       "      <td>2.868421</td>\n",
       "    </tr>\n",
       "    <tr>\n",
       "      <th>129</th>\n",
       "      <td>Zoysa, DNT</td>\n",
       "      <td>Bowler</td>\n",
       "      <td>0</td>\n",
       "      <td>11</td>\n",
       "      <td>10</td>\n",
       "      <td>11.00</td>\n",
       "      <td>122.22</td>\n",
       "      <td>99</td>\n",
       "      <td>2</td>\n",
       "      <td>49.50</td>\n",
       "      <td>9.00</td>\n",
       "      <td>33.00</td>\n",
       "      <td>-0.8</td>\n",
       "      <td>-0.689474</td>\n",
       "    </tr>\n",
       "  </tbody>\n",
       "</table>\n",
       "<p>112 rows × 14 columns</p>\n",
       "</div>"
      ],
      "text/plain": [
       "      PLAYER NAME PLAYING ROLE  CAPTAINCY EXP  RUNS-S   HS    AVE    SR-B  \\\n",
       "2     Agarkar, AB       Bowler              0     167   39  18.56  121.01   \n",
       "3       Ashwin, R       Bowler              0      58   11   5.80   76.32   \n",
       "4    Badrinath, S      Batsman              0    1317   71  32.93  120.71   \n",
       "5      Bailey, GJ      Batsman              1      63   48  21.00   95.45   \n",
       "6       Balaji, L       Bowler              0      26   15   4.33   72.22   \n",
       "..            ...          ...            ...     ...  ...    ...     ...   \n",
       "123    Warner, DA      Batsman              0    1025  109  27.70  135.76   \n",
       "124     White, CL      Batsman              1     745   78  31.04  132.09   \n",
       "125     Yadav, AS      Batsman              0      49   16   9.80  125.64   \n",
       "127  Yuvraj Singh      Batsman              1    1237   66  26.32  131.88   \n",
       "129    Zoysa, DNT       Bowler              0      11   10  11.00  122.22   \n",
       "\n",
       "     RUNS-C  WKTS  AVE-BL   ECON  SR-BL  BASE PRICE  SOLD PRICE  \n",
       "2      1059    29   36.52   8.81  24.90         0.0   -0.184211  \n",
       "3      1125    49   22.96   6.23  22.14        -0.8    0.868421  \n",
       "4         0     0    0.00   0.00   0.00        -0.8    0.763158  \n",
       "5         0     0    0.00   0.00   0.00        -1.2   -0.815789  \n",
       "6      1342    52   25.81   7.98  19.40        -0.8    0.131579  \n",
       "..      ...   ...     ...    ...    ...         ...         ...  \n",
       "123       0     0    0.00   0.00   0.00         0.0    0.657895  \n",
       "124      70     0    0.00  14.00   0.00        -0.8    0.131579  \n",
       "125       0     0    0.00   0.00   0.00        -1.2    0.657895  \n",
       "127     569    23   24.74   7.02  21.13         1.6    2.868421  \n",
       "129      99     2   49.50   9.00  33.00        -0.8   -0.689474  \n",
       "\n",
       "[112 rows x 14 columns]"
      ]
     },
     "execution_count": 6,
     "metadata": {},
     "output_type": "execute_result"
    }
   ],
   "source": [
    "import pandas as pd\n",
    "\n",
    "column_data = cleaned_data['RUNS-C']\n",
    "\n",
    "Q1 = column_data.quantile(0.25)\n",
    "Q3 = column_data.quantile(0.75)\n",
    "IQR = Q3 - Q1\n",
    "\n",
    "lower_bound = Q1 - 1.5 * IQR\n",
    "upper_bound = Q3 + 1.5 * IQR\n",
    "\n",
    "outliers_index = column_data[(column_data < lower_bound) | (column_data > upper_bound)].index\n",
    "cleaned_data = cleaned_data.drop(outliers_index)\n",
    "\n",
    "cleaned_data\n"
   ]
  },
  {
   "cell_type": "code",
   "execution_count": 7,
   "id": "bf16cb83",
   "metadata": {},
   "outputs": [
    {
     "data": {
      "text/html": [
       "<div>\n",
       "<style scoped>\n",
       "    .dataframe tbody tr th:only-of-type {\n",
       "        vertical-align: middle;\n",
       "    }\n",
       "\n",
       "    .dataframe tbody tr th {\n",
       "        vertical-align: top;\n",
       "    }\n",
       "\n",
       "    .dataframe thead th {\n",
       "        text-align: right;\n",
       "    }\n",
       "</style>\n",
       "<table border=\"1\" class=\"dataframe\">\n",
       "  <thead>\n",
       "    <tr style=\"text-align: right;\">\n",
       "      <th></th>\n",
       "      <th>PLAYER NAME</th>\n",
       "      <th>PLAYING ROLE</th>\n",
       "      <th>CAPTAINCY EXP</th>\n",
       "      <th>RUNS-S</th>\n",
       "      <th>HS</th>\n",
       "      <th>AVE</th>\n",
       "      <th>SR-B</th>\n",
       "      <th>RUNS-C</th>\n",
       "      <th>WKTS</th>\n",
       "      <th>AVE-BL</th>\n",
       "      <th>ECON</th>\n",
       "      <th>SR-BL</th>\n",
       "      <th>BASE PRICE</th>\n",
       "      <th>SOLD PRICE</th>\n",
       "    </tr>\n",
       "  </thead>\n",
       "  <tbody>\n",
       "    <tr>\n",
       "      <th>2</th>\n",
       "      <td>Agarkar, AB</td>\n",
       "      <td>Bowler</td>\n",
       "      <td>0</td>\n",
       "      <td>167</td>\n",
       "      <td>39</td>\n",
       "      <td>18.56</td>\n",
       "      <td>121.01</td>\n",
       "      <td>1059</td>\n",
       "      <td>29</td>\n",
       "      <td>36.52</td>\n",
       "      <td>8.81</td>\n",
       "      <td>24.90</td>\n",
       "      <td>0.0</td>\n",
       "      <td>-0.184211</td>\n",
       "    </tr>\n",
       "    <tr>\n",
       "      <th>3</th>\n",
       "      <td>Ashwin, R</td>\n",
       "      <td>Bowler</td>\n",
       "      <td>0</td>\n",
       "      <td>58</td>\n",
       "      <td>11</td>\n",
       "      <td>5.80</td>\n",
       "      <td>76.32</td>\n",
       "      <td>1125</td>\n",
       "      <td>49</td>\n",
       "      <td>22.96</td>\n",
       "      <td>6.23</td>\n",
       "      <td>22.14</td>\n",
       "      <td>-0.8</td>\n",
       "      <td>0.868421</td>\n",
       "    </tr>\n",
       "    <tr>\n",
       "      <th>4</th>\n",
       "      <td>Badrinath, S</td>\n",
       "      <td>Batsman</td>\n",
       "      <td>0</td>\n",
       "      <td>1317</td>\n",
       "      <td>71</td>\n",
       "      <td>32.93</td>\n",
       "      <td>120.71</td>\n",
       "      <td>0</td>\n",
       "      <td>0</td>\n",
       "      <td>0.00</td>\n",
       "      <td>0.00</td>\n",
       "      <td>0.00</td>\n",
       "      <td>-0.8</td>\n",
       "      <td>0.763158</td>\n",
       "    </tr>\n",
       "    <tr>\n",
       "      <th>5</th>\n",
       "      <td>Bailey, GJ</td>\n",
       "      <td>Batsman</td>\n",
       "      <td>1</td>\n",
       "      <td>63</td>\n",
       "      <td>48</td>\n",
       "      <td>21.00</td>\n",
       "      <td>95.45</td>\n",
       "      <td>0</td>\n",
       "      <td>0</td>\n",
       "      <td>0.00</td>\n",
       "      <td>0.00</td>\n",
       "      <td>0.00</td>\n",
       "      <td>-1.2</td>\n",
       "      <td>-0.815789</td>\n",
       "    </tr>\n",
       "    <tr>\n",
       "      <th>7</th>\n",
       "      <td>Bollinger, DE</td>\n",
       "      <td>Bowler</td>\n",
       "      <td>0</td>\n",
       "      <td>21</td>\n",
       "      <td>16</td>\n",
       "      <td>21.00</td>\n",
       "      <td>165.88</td>\n",
       "      <td>693</td>\n",
       "      <td>37</td>\n",
       "      <td>18.73</td>\n",
       "      <td>7.22</td>\n",
       "      <td>15.57</td>\n",
       "      <td>0.0</td>\n",
       "      <td>0.552632</td>\n",
       "    </tr>\n",
       "    <tr>\n",
       "      <th>...</th>\n",
       "      <td>...</td>\n",
       "      <td>...</td>\n",
       "      <td>...</td>\n",
       "      <td>...</td>\n",
       "      <td>...</td>\n",
       "      <td>...</td>\n",
       "      <td>...</td>\n",
       "      <td>...</td>\n",
       "      <td>...</td>\n",
       "      <td>...</td>\n",
       "      <td>...</td>\n",
       "      <td>...</td>\n",
       "      <td>...</td>\n",
       "      <td>...</td>\n",
       "    </tr>\n",
       "    <tr>\n",
       "      <th>123</th>\n",
       "      <td>Warner, DA</td>\n",
       "      <td>Batsman</td>\n",
       "      <td>0</td>\n",
       "      <td>1025</td>\n",
       "      <td>109</td>\n",
       "      <td>27.70</td>\n",
       "      <td>135.76</td>\n",
       "      <td>0</td>\n",
       "      <td>0</td>\n",
       "      <td>0.00</td>\n",
       "      <td>0.00</td>\n",
       "      <td>0.00</td>\n",
       "      <td>0.0</td>\n",
       "      <td>0.657895</td>\n",
       "    </tr>\n",
       "    <tr>\n",
       "      <th>124</th>\n",
       "      <td>White, CL</td>\n",
       "      <td>Batsman</td>\n",
       "      <td>1</td>\n",
       "      <td>745</td>\n",
       "      <td>78</td>\n",
       "      <td>31.04</td>\n",
       "      <td>132.09</td>\n",
       "      <td>70</td>\n",
       "      <td>0</td>\n",
       "      <td>0.00</td>\n",
       "      <td>14.00</td>\n",
       "      <td>0.00</td>\n",
       "      <td>-0.8</td>\n",
       "      <td>0.131579</td>\n",
       "    </tr>\n",
       "    <tr>\n",
       "      <th>125</th>\n",
       "      <td>Yadav, AS</td>\n",
       "      <td>Batsman</td>\n",
       "      <td>0</td>\n",
       "      <td>49</td>\n",
       "      <td>16</td>\n",
       "      <td>9.80</td>\n",
       "      <td>125.64</td>\n",
       "      <td>0</td>\n",
       "      <td>0</td>\n",
       "      <td>0.00</td>\n",
       "      <td>0.00</td>\n",
       "      <td>0.00</td>\n",
       "      <td>-1.2</td>\n",
       "      <td>0.657895</td>\n",
       "    </tr>\n",
       "    <tr>\n",
       "      <th>127</th>\n",
       "      <td>Yuvraj Singh</td>\n",
       "      <td>Batsman</td>\n",
       "      <td>1</td>\n",
       "      <td>1237</td>\n",
       "      <td>66</td>\n",
       "      <td>26.32</td>\n",
       "      <td>131.88</td>\n",
       "      <td>569</td>\n",
       "      <td>23</td>\n",
       "      <td>24.74</td>\n",
       "      <td>7.02</td>\n",
       "      <td>21.13</td>\n",
       "      <td>1.6</td>\n",
       "      <td>2.868421</td>\n",
       "    </tr>\n",
       "    <tr>\n",
       "      <th>129</th>\n",
       "      <td>Zoysa, DNT</td>\n",
       "      <td>Bowler</td>\n",
       "      <td>0</td>\n",
       "      <td>11</td>\n",
       "      <td>10</td>\n",
       "      <td>11.00</td>\n",
       "      <td>122.22</td>\n",
       "      <td>99</td>\n",
       "      <td>2</td>\n",
       "      <td>49.50</td>\n",
       "      <td>9.00</td>\n",
       "      <td>33.00</td>\n",
       "      <td>-0.8</td>\n",
       "      <td>-0.689474</td>\n",
       "    </tr>\n",
       "  </tbody>\n",
       "</table>\n",
       "<p>104 rows × 14 columns</p>\n",
       "</div>"
      ],
      "text/plain": [
       "       PLAYER NAME PLAYING ROLE  CAPTAINCY EXP  RUNS-S   HS    AVE    SR-B  \\\n",
       "2      Agarkar, AB       Bowler              0     167   39  18.56  121.01   \n",
       "3        Ashwin, R       Bowler              0      58   11   5.80   76.32   \n",
       "4     Badrinath, S      Batsman              0    1317   71  32.93  120.71   \n",
       "5       Bailey, GJ      Batsman              1      63   48  21.00   95.45   \n",
       "7    Bollinger, DE       Bowler              0      21   16  21.00  165.88   \n",
       "..             ...          ...            ...     ...  ...    ...     ...   \n",
       "123     Warner, DA      Batsman              0    1025  109  27.70  135.76   \n",
       "124      White, CL      Batsman              1     745   78  31.04  132.09   \n",
       "125      Yadav, AS      Batsman              0      49   16   9.80  125.64   \n",
       "127   Yuvraj Singh      Batsman              1    1237   66  26.32  131.88   \n",
       "129     Zoysa, DNT       Bowler              0      11   10  11.00  122.22   \n",
       "\n",
       "     RUNS-C  WKTS  AVE-BL   ECON  SR-BL  BASE PRICE  SOLD PRICE  \n",
       "2      1059    29   36.52   8.81  24.90         0.0   -0.184211  \n",
       "3      1125    49   22.96   6.23  22.14        -0.8    0.868421  \n",
       "4         0     0    0.00   0.00   0.00        -0.8    0.763158  \n",
       "5         0     0    0.00   0.00   0.00        -1.2   -0.815789  \n",
       "7       693    37   18.73   7.22  15.57         0.0    0.552632  \n",
       "..      ...   ...     ...    ...    ...         ...         ...  \n",
       "123       0     0    0.00   0.00   0.00         0.0    0.657895  \n",
       "124      70     0    0.00  14.00   0.00        -0.8    0.131579  \n",
       "125       0     0    0.00   0.00   0.00        -1.2    0.657895  \n",
       "127     569    23   24.74   7.02  21.13         1.6    2.868421  \n",
       "129      99     2   49.50   9.00  33.00        -0.8   -0.689474  \n",
       "\n",
       "[104 rows x 14 columns]"
      ]
     },
     "execution_count": 7,
     "metadata": {},
     "output_type": "execute_result"
    }
   ],
   "source": [
    "import pandas as pd\n",
    "\n",
    "column_data = cleaned_data['WKTS']\n",
    "\n",
    "Q1 = column_data.quantile(0.25)\n",
    "Q3 = column_data.quantile(0.75)\n",
    "IQR = Q3 - Q1\n",
    "\n",
    "lower_bound = Q1 - 1.5 * IQR\n",
    "upper_bound = Q3 + 1.5 * IQR\n",
    "\n",
    "outliers_index = column_data[(column_data < lower_bound) | (column_data > upper_bound)].index\n",
    "cleaned_data = cleaned_data.drop(outliers_index)\n",
    "\n",
    "cleaned_data\n"
   ]
  },
  {
   "cell_type": "code",
   "execution_count": 8,
   "id": "b4d90367",
   "metadata": {},
   "outputs": [
    {
     "data": {
      "text/html": [
       "<div>\n",
       "<style scoped>\n",
       "    .dataframe tbody tr th:only-of-type {\n",
       "        vertical-align: middle;\n",
       "    }\n",
       "\n",
       "    .dataframe tbody tr th {\n",
       "        vertical-align: top;\n",
       "    }\n",
       "\n",
       "    .dataframe thead th {\n",
       "        text-align: right;\n",
       "    }\n",
       "</style>\n",
       "<table border=\"1\" class=\"dataframe\">\n",
       "  <thead>\n",
       "    <tr style=\"text-align: right;\">\n",
       "      <th></th>\n",
       "      <th>PLAYER NAME</th>\n",
       "      <th>PLAYING ROLE</th>\n",
       "      <th>CAPTAINCY EXP</th>\n",
       "      <th>RUNS-S</th>\n",
       "      <th>HS</th>\n",
       "      <th>AVE</th>\n",
       "      <th>SR-B</th>\n",
       "      <th>RUNS-C</th>\n",
       "      <th>WKTS</th>\n",
       "      <th>AVE-BL</th>\n",
       "      <th>ECON</th>\n",
       "      <th>SR-BL</th>\n",
       "      <th>BASE PRICE</th>\n",
       "      <th>SOLD PRICE</th>\n",
       "    </tr>\n",
       "  </thead>\n",
       "  <tbody>\n",
       "    <tr>\n",
       "      <th>2</th>\n",
       "      <td>Agarkar, AB</td>\n",
       "      <td>Bowler</td>\n",
       "      <td>0</td>\n",
       "      <td>167</td>\n",
       "      <td>39</td>\n",
       "      <td>18.56</td>\n",
       "      <td>121.01</td>\n",
       "      <td>1059</td>\n",
       "      <td>29</td>\n",
       "      <td>36.52</td>\n",
       "      <td>8.81</td>\n",
       "      <td>24.90</td>\n",
       "      <td>0.0</td>\n",
       "      <td>-0.184211</td>\n",
       "    </tr>\n",
       "    <tr>\n",
       "      <th>3</th>\n",
       "      <td>Ashwin, R</td>\n",
       "      <td>Bowler</td>\n",
       "      <td>0</td>\n",
       "      <td>58</td>\n",
       "      <td>11</td>\n",
       "      <td>5.80</td>\n",
       "      <td>76.32</td>\n",
       "      <td>1125</td>\n",
       "      <td>49</td>\n",
       "      <td>22.96</td>\n",
       "      <td>6.23</td>\n",
       "      <td>22.14</td>\n",
       "      <td>-0.8</td>\n",
       "      <td>0.868421</td>\n",
       "    </tr>\n",
       "    <tr>\n",
       "      <th>4</th>\n",
       "      <td>Badrinath, S</td>\n",
       "      <td>Batsman</td>\n",
       "      <td>0</td>\n",
       "      <td>1317</td>\n",
       "      <td>71</td>\n",
       "      <td>32.93</td>\n",
       "      <td>120.71</td>\n",
       "      <td>0</td>\n",
       "      <td>0</td>\n",
       "      <td>0.00</td>\n",
       "      <td>0.00</td>\n",
       "      <td>0.00</td>\n",
       "      <td>-0.8</td>\n",
       "      <td>0.763158</td>\n",
       "    </tr>\n",
       "    <tr>\n",
       "      <th>5</th>\n",
       "      <td>Bailey, GJ</td>\n",
       "      <td>Batsman</td>\n",
       "      <td>1</td>\n",
       "      <td>63</td>\n",
       "      <td>48</td>\n",
       "      <td>21.00</td>\n",
       "      <td>95.45</td>\n",
       "      <td>0</td>\n",
       "      <td>0</td>\n",
       "      <td>0.00</td>\n",
       "      <td>0.00</td>\n",
       "      <td>0.00</td>\n",
       "      <td>-1.2</td>\n",
       "      <td>-0.815789</td>\n",
       "    </tr>\n",
       "    <tr>\n",
       "      <th>7</th>\n",
       "      <td>Bollinger, DE</td>\n",
       "      <td>Bowler</td>\n",
       "      <td>0</td>\n",
       "      <td>21</td>\n",
       "      <td>16</td>\n",
       "      <td>21.00</td>\n",
       "      <td>165.88</td>\n",
       "      <td>693</td>\n",
       "      <td>37</td>\n",
       "      <td>18.73</td>\n",
       "      <td>7.22</td>\n",
       "      <td>15.57</td>\n",
       "      <td>0.0</td>\n",
       "      <td>0.552632</td>\n",
       "    </tr>\n",
       "    <tr>\n",
       "      <th>...</th>\n",
       "      <td>...</td>\n",
       "      <td>...</td>\n",
       "      <td>...</td>\n",
       "      <td>...</td>\n",
       "      <td>...</td>\n",
       "      <td>...</td>\n",
       "      <td>...</td>\n",
       "      <td>...</td>\n",
       "      <td>...</td>\n",
       "      <td>...</td>\n",
       "      <td>...</td>\n",
       "      <td>...</td>\n",
       "      <td>...</td>\n",
       "      <td>...</td>\n",
       "    </tr>\n",
       "    <tr>\n",
       "      <th>123</th>\n",
       "      <td>Warner, DA</td>\n",
       "      <td>Batsman</td>\n",
       "      <td>0</td>\n",
       "      <td>1025</td>\n",
       "      <td>109</td>\n",
       "      <td>27.70</td>\n",
       "      <td>135.76</td>\n",
       "      <td>0</td>\n",
       "      <td>0</td>\n",
       "      <td>0.00</td>\n",
       "      <td>0.00</td>\n",
       "      <td>0.00</td>\n",
       "      <td>0.0</td>\n",
       "      <td>0.657895</td>\n",
       "    </tr>\n",
       "    <tr>\n",
       "      <th>124</th>\n",
       "      <td>White, CL</td>\n",
       "      <td>Batsman</td>\n",
       "      <td>1</td>\n",
       "      <td>745</td>\n",
       "      <td>78</td>\n",
       "      <td>31.04</td>\n",
       "      <td>132.09</td>\n",
       "      <td>70</td>\n",
       "      <td>0</td>\n",
       "      <td>0.00</td>\n",
       "      <td>14.00</td>\n",
       "      <td>0.00</td>\n",
       "      <td>-0.8</td>\n",
       "      <td>0.131579</td>\n",
       "    </tr>\n",
       "    <tr>\n",
       "      <th>125</th>\n",
       "      <td>Yadav, AS</td>\n",
       "      <td>Batsman</td>\n",
       "      <td>0</td>\n",
       "      <td>49</td>\n",
       "      <td>16</td>\n",
       "      <td>9.80</td>\n",
       "      <td>125.64</td>\n",
       "      <td>0</td>\n",
       "      <td>0</td>\n",
       "      <td>0.00</td>\n",
       "      <td>0.00</td>\n",
       "      <td>0.00</td>\n",
       "      <td>-1.2</td>\n",
       "      <td>0.657895</td>\n",
       "    </tr>\n",
       "    <tr>\n",
       "      <th>127</th>\n",
       "      <td>Yuvraj Singh</td>\n",
       "      <td>Batsman</td>\n",
       "      <td>1</td>\n",
       "      <td>1237</td>\n",
       "      <td>66</td>\n",
       "      <td>26.32</td>\n",
       "      <td>131.88</td>\n",
       "      <td>569</td>\n",
       "      <td>23</td>\n",
       "      <td>24.74</td>\n",
       "      <td>7.02</td>\n",
       "      <td>21.13</td>\n",
       "      <td>1.6</td>\n",
       "      <td>2.868421</td>\n",
       "    </tr>\n",
       "    <tr>\n",
       "      <th>129</th>\n",
       "      <td>Zoysa, DNT</td>\n",
       "      <td>Bowler</td>\n",
       "      <td>0</td>\n",
       "      <td>11</td>\n",
       "      <td>10</td>\n",
       "      <td>11.00</td>\n",
       "      <td>122.22</td>\n",
       "      <td>99</td>\n",
       "      <td>2</td>\n",
       "      <td>49.50</td>\n",
       "      <td>9.00</td>\n",
       "      <td>33.00</td>\n",
       "      <td>-0.8</td>\n",
       "      <td>-0.689474</td>\n",
       "    </tr>\n",
       "  </tbody>\n",
       "</table>\n",
       "<p>103 rows × 14 columns</p>\n",
       "</div>"
      ],
      "text/plain": [
       "       PLAYER NAME PLAYING ROLE  CAPTAINCY EXP  RUNS-S   HS    AVE    SR-B  \\\n",
       "2      Agarkar, AB       Bowler              0     167   39  18.56  121.01   \n",
       "3        Ashwin, R       Bowler              0      58   11   5.80   76.32   \n",
       "4     Badrinath, S      Batsman              0    1317   71  32.93  120.71   \n",
       "5       Bailey, GJ      Batsman              1      63   48  21.00   95.45   \n",
       "7    Bollinger, DE       Bowler              0      21   16  21.00  165.88   \n",
       "..             ...          ...            ...     ...  ...    ...     ...   \n",
       "123     Warner, DA      Batsman              0    1025  109  27.70  135.76   \n",
       "124      White, CL      Batsman              1     745   78  31.04  132.09   \n",
       "125      Yadav, AS      Batsman              0      49   16   9.80  125.64   \n",
       "127   Yuvraj Singh      Batsman              1    1237   66  26.32  131.88   \n",
       "129     Zoysa, DNT       Bowler              0      11   10  11.00  122.22   \n",
       "\n",
       "     RUNS-C  WKTS  AVE-BL   ECON  SR-BL  BASE PRICE  SOLD PRICE  \n",
       "2      1059    29   36.52   8.81  24.90         0.0   -0.184211  \n",
       "3      1125    49   22.96   6.23  22.14        -0.8    0.868421  \n",
       "4         0     0    0.00   0.00   0.00        -0.8    0.763158  \n",
       "5         0     0    0.00   0.00   0.00        -1.2   -0.815789  \n",
       "7       693    37   18.73   7.22  15.57         0.0    0.552632  \n",
       "..      ...   ...     ...    ...    ...         ...         ...  \n",
       "123       0     0    0.00   0.00   0.00         0.0    0.657895  \n",
       "124      70     0    0.00  14.00   0.00        -0.8    0.131579  \n",
       "125       0     0    0.00   0.00   0.00        -1.2    0.657895  \n",
       "127     569    23   24.74   7.02  21.13         1.6    2.868421  \n",
       "129      99     2   49.50   9.00  33.00        -0.8   -0.689474  \n",
       "\n",
       "[103 rows x 14 columns]"
      ]
     },
     "execution_count": 8,
     "metadata": {},
     "output_type": "execute_result"
    }
   ],
   "source": [
    "import pandas as pd\n",
    "\n",
    "column_data = cleaned_data['ECON']\n",
    "\n",
    "Q1 = column_data.quantile(0.25)\n",
    "Q3 = column_data.quantile(0.75)\n",
    "IQR = Q3 - Q1\n",
    "\n",
    "lower_bound = Q1 - 1.5 * IQR\n",
    "upper_bound = Q3 + 1.5 * IQR\n",
    "\n",
    "outliers_index = column_data[(column_data < lower_bound) | (column_data > upper_bound)].index\n",
    "cleaned_data = cleaned_data.drop(outliers_index)\n",
    "\n",
    "cleaned_data\n"
   ]
  },
  {
   "cell_type": "code",
   "execution_count": 9,
   "id": "c4a74abc",
   "metadata": {},
   "outputs": [
    {
     "data": {
      "text/html": [
       "<div>\n",
       "<style scoped>\n",
       "    .dataframe tbody tr th:only-of-type {\n",
       "        vertical-align: middle;\n",
       "    }\n",
       "\n",
       "    .dataframe tbody tr th {\n",
       "        vertical-align: top;\n",
       "    }\n",
       "\n",
       "    .dataframe thead th {\n",
       "        text-align: right;\n",
       "    }\n",
       "</style>\n",
       "<table border=\"1\" class=\"dataframe\">\n",
       "  <thead>\n",
       "    <tr style=\"text-align: right;\">\n",
       "      <th></th>\n",
       "      <th>PLAYER NAME</th>\n",
       "      <th>PLAYING ROLE</th>\n",
       "      <th>CAPTAINCY EXP</th>\n",
       "      <th>RUNS-S</th>\n",
       "      <th>HS</th>\n",
       "      <th>AVE</th>\n",
       "      <th>SR-B</th>\n",
       "      <th>RUNS-C</th>\n",
       "      <th>WKTS</th>\n",
       "      <th>AVE-BL</th>\n",
       "      <th>ECON</th>\n",
       "      <th>SR-BL</th>\n",
       "      <th>BASE PRICE</th>\n",
       "      <th>SOLD PRICE</th>\n",
       "    </tr>\n",
       "  </thead>\n",
       "  <tbody>\n",
       "    <tr>\n",
       "      <th>2</th>\n",
       "      <td>Agarkar, AB</td>\n",
       "      <td>Bowler</td>\n",
       "      <td>0</td>\n",
       "      <td>167</td>\n",
       "      <td>39</td>\n",
       "      <td>18.56</td>\n",
       "      <td>121.01</td>\n",
       "      <td>1059</td>\n",
       "      <td>29</td>\n",
       "      <td>36.52</td>\n",
       "      <td>8.81</td>\n",
       "      <td>24.90</td>\n",
       "      <td>0.0</td>\n",
       "      <td>-0.184211</td>\n",
       "    </tr>\n",
       "    <tr>\n",
       "      <th>3</th>\n",
       "      <td>Ashwin, R</td>\n",
       "      <td>Bowler</td>\n",
       "      <td>0</td>\n",
       "      <td>58</td>\n",
       "      <td>11</td>\n",
       "      <td>5.80</td>\n",
       "      <td>76.32</td>\n",
       "      <td>1125</td>\n",
       "      <td>49</td>\n",
       "      <td>22.96</td>\n",
       "      <td>6.23</td>\n",
       "      <td>22.14</td>\n",
       "      <td>-0.8</td>\n",
       "      <td>0.868421</td>\n",
       "    </tr>\n",
       "    <tr>\n",
       "      <th>4</th>\n",
       "      <td>Badrinath, S</td>\n",
       "      <td>Batsman</td>\n",
       "      <td>0</td>\n",
       "      <td>1317</td>\n",
       "      <td>71</td>\n",
       "      <td>32.93</td>\n",
       "      <td>120.71</td>\n",
       "      <td>0</td>\n",
       "      <td>0</td>\n",
       "      <td>0.00</td>\n",
       "      <td>0.00</td>\n",
       "      <td>0.00</td>\n",
       "      <td>-0.8</td>\n",
       "      <td>0.763158</td>\n",
       "    </tr>\n",
       "    <tr>\n",
       "      <th>5</th>\n",
       "      <td>Bailey, GJ</td>\n",
       "      <td>Batsman</td>\n",
       "      <td>1</td>\n",
       "      <td>63</td>\n",
       "      <td>48</td>\n",
       "      <td>21.00</td>\n",
       "      <td>95.45</td>\n",
       "      <td>0</td>\n",
       "      <td>0</td>\n",
       "      <td>0.00</td>\n",
       "      <td>0.00</td>\n",
       "      <td>0.00</td>\n",
       "      <td>-1.2</td>\n",
       "      <td>-0.815789</td>\n",
       "    </tr>\n",
       "    <tr>\n",
       "      <th>7</th>\n",
       "      <td>Bollinger, DE</td>\n",
       "      <td>Bowler</td>\n",
       "      <td>0</td>\n",
       "      <td>21</td>\n",
       "      <td>16</td>\n",
       "      <td>21.00</td>\n",
       "      <td>165.88</td>\n",
       "      <td>693</td>\n",
       "      <td>37</td>\n",
       "      <td>18.73</td>\n",
       "      <td>7.22</td>\n",
       "      <td>15.57</td>\n",
       "      <td>0.0</td>\n",
       "      <td>0.552632</td>\n",
       "    </tr>\n",
       "    <tr>\n",
       "      <th>...</th>\n",
       "      <td>...</td>\n",
       "      <td>...</td>\n",
       "      <td>...</td>\n",
       "      <td>...</td>\n",
       "      <td>...</td>\n",
       "      <td>...</td>\n",
       "      <td>...</td>\n",
       "      <td>...</td>\n",
       "      <td>...</td>\n",
       "      <td>...</td>\n",
       "      <td>...</td>\n",
       "      <td>...</td>\n",
       "      <td>...</td>\n",
       "      <td>...</td>\n",
       "    </tr>\n",
       "    <tr>\n",
       "      <th>123</th>\n",
       "      <td>Warner, DA</td>\n",
       "      <td>Batsman</td>\n",
       "      <td>0</td>\n",
       "      <td>1025</td>\n",
       "      <td>109</td>\n",
       "      <td>27.70</td>\n",
       "      <td>135.76</td>\n",
       "      <td>0</td>\n",
       "      <td>0</td>\n",
       "      <td>0.00</td>\n",
       "      <td>0.00</td>\n",
       "      <td>0.00</td>\n",
       "      <td>0.0</td>\n",
       "      <td>0.657895</td>\n",
       "    </tr>\n",
       "    <tr>\n",
       "      <th>124</th>\n",
       "      <td>White, CL</td>\n",
       "      <td>Batsman</td>\n",
       "      <td>1</td>\n",
       "      <td>745</td>\n",
       "      <td>78</td>\n",
       "      <td>31.04</td>\n",
       "      <td>132.09</td>\n",
       "      <td>70</td>\n",
       "      <td>0</td>\n",
       "      <td>0.00</td>\n",
       "      <td>14.00</td>\n",
       "      <td>0.00</td>\n",
       "      <td>-0.8</td>\n",
       "      <td>0.131579</td>\n",
       "    </tr>\n",
       "    <tr>\n",
       "      <th>125</th>\n",
       "      <td>Yadav, AS</td>\n",
       "      <td>Batsman</td>\n",
       "      <td>0</td>\n",
       "      <td>49</td>\n",
       "      <td>16</td>\n",
       "      <td>9.80</td>\n",
       "      <td>125.64</td>\n",
       "      <td>0</td>\n",
       "      <td>0</td>\n",
       "      <td>0.00</td>\n",
       "      <td>0.00</td>\n",
       "      <td>0.00</td>\n",
       "      <td>-1.2</td>\n",
       "      <td>0.657895</td>\n",
       "    </tr>\n",
       "    <tr>\n",
       "      <th>127</th>\n",
       "      <td>Yuvraj Singh</td>\n",
       "      <td>Batsman</td>\n",
       "      <td>1</td>\n",
       "      <td>1237</td>\n",
       "      <td>66</td>\n",
       "      <td>26.32</td>\n",
       "      <td>131.88</td>\n",
       "      <td>569</td>\n",
       "      <td>23</td>\n",
       "      <td>24.74</td>\n",
       "      <td>7.02</td>\n",
       "      <td>21.13</td>\n",
       "      <td>1.6</td>\n",
       "      <td>2.868421</td>\n",
       "    </tr>\n",
       "    <tr>\n",
       "      <th>129</th>\n",
       "      <td>Zoysa, DNT</td>\n",
       "      <td>Bowler</td>\n",
       "      <td>0</td>\n",
       "      <td>11</td>\n",
       "      <td>10</td>\n",
       "      <td>11.00</td>\n",
       "      <td>122.22</td>\n",
       "      <td>99</td>\n",
       "      <td>2</td>\n",
       "      <td>49.50</td>\n",
       "      <td>9.00</td>\n",
       "      <td>33.00</td>\n",
       "      <td>-0.8</td>\n",
       "      <td>-0.689474</td>\n",
       "    </tr>\n",
       "  </tbody>\n",
       "</table>\n",
       "<p>103 rows × 14 columns</p>\n",
       "</div>"
      ],
      "text/plain": [
       "       PLAYER NAME PLAYING ROLE  CAPTAINCY EXP  RUNS-S   HS    AVE    SR-B  \\\n",
       "2      Agarkar, AB       Bowler              0     167   39  18.56  121.01   \n",
       "3        Ashwin, R       Bowler              0      58   11   5.80   76.32   \n",
       "4     Badrinath, S      Batsman              0    1317   71  32.93  120.71   \n",
       "5       Bailey, GJ      Batsman              1      63   48  21.00   95.45   \n",
       "7    Bollinger, DE       Bowler              0      21   16  21.00  165.88   \n",
       "..             ...          ...            ...     ...  ...    ...     ...   \n",
       "123     Warner, DA      Batsman              0    1025  109  27.70  135.76   \n",
       "124      White, CL      Batsman              1     745   78  31.04  132.09   \n",
       "125      Yadav, AS      Batsman              0      49   16   9.80  125.64   \n",
       "127   Yuvraj Singh      Batsman              1    1237   66  26.32  131.88   \n",
       "129     Zoysa, DNT       Bowler              0      11   10  11.00  122.22   \n",
       "\n",
       "     RUNS-C  WKTS  AVE-BL   ECON  SR-BL  BASE PRICE  SOLD PRICE  \n",
       "2      1059    29   36.52   8.81  24.90         0.0   -0.184211  \n",
       "3      1125    49   22.96   6.23  22.14        -0.8    0.868421  \n",
       "4         0     0    0.00   0.00   0.00        -0.8    0.763158  \n",
       "5         0     0    0.00   0.00   0.00        -1.2   -0.815789  \n",
       "7       693    37   18.73   7.22  15.57         0.0    0.552632  \n",
       "..      ...   ...     ...    ...    ...         ...         ...  \n",
       "123       0     0    0.00   0.00   0.00         0.0    0.657895  \n",
       "124      70     0    0.00  14.00   0.00        -0.8    0.131579  \n",
       "125       0     0    0.00   0.00   0.00        -1.2    0.657895  \n",
       "127     569    23   24.74   7.02  21.13         1.6    2.868421  \n",
       "129      99     2   49.50   9.00  33.00        -0.8   -0.689474  \n",
       "\n",
       "[103 rows x 14 columns]"
      ]
     },
     "execution_count": 9,
     "metadata": {},
     "output_type": "execute_result"
    }
   ],
   "source": [
    "column_data = cleaned_data['AVE-BL']\n",
    "\n",
    "Q1 = column_data.quantile(0.25)\n",
    "Q3 = column_data.quantile(0.75)\n",
    "IQR = Q3 - Q1\n",
    "\n",
    "lower_bound = Q1 - 1.5 * IQR\n",
    "upper_bound = Q3 + 1.5 * IQR\n",
    "\n",
    "outliers_index = column_data[(column_data < lower_bound) | (column_data > upper_bound)].index\n",
    "cleaned_data = cleaned_data.drop(outliers_index)\n",
    "\n",
    "cleaned_data\n"
   ]
  },
  {
   "cell_type": "code",
   "execution_count": 10,
   "id": "db1fe367",
   "metadata": {},
   "outputs": [
    {
     "data": {
      "text/html": [
       "<div>\n",
       "<style scoped>\n",
       "    .dataframe tbody tr th:only-of-type {\n",
       "        vertical-align: middle;\n",
       "    }\n",
       "\n",
       "    .dataframe tbody tr th {\n",
       "        vertical-align: top;\n",
       "    }\n",
       "\n",
       "    .dataframe thead th {\n",
       "        text-align: right;\n",
       "    }\n",
       "</style>\n",
       "<table border=\"1\" class=\"dataframe\">\n",
       "  <thead>\n",
       "    <tr style=\"text-align: right;\">\n",
       "      <th></th>\n",
       "      <th>PLAYER NAME</th>\n",
       "      <th>PLAYING ROLE</th>\n",
       "      <th>CAPTAINCY EXP</th>\n",
       "      <th>RUNS-S</th>\n",
       "      <th>HS</th>\n",
       "      <th>AVE</th>\n",
       "      <th>SR-B</th>\n",
       "      <th>RUNS-C</th>\n",
       "      <th>WKTS</th>\n",
       "      <th>AVE-BL</th>\n",
       "      <th>ECON</th>\n",
       "      <th>SR-BL</th>\n",
       "      <th>BASE PRICE</th>\n",
       "      <th>SOLD PRICE</th>\n",
       "    </tr>\n",
       "  </thead>\n",
       "  <tbody>\n",
       "    <tr>\n",
       "      <th>2</th>\n",
       "      <td>Agarkar, AB</td>\n",
       "      <td>Bowler</td>\n",
       "      <td>0</td>\n",
       "      <td>167</td>\n",
       "      <td>39</td>\n",
       "      <td>18.56</td>\n",
       "      <td>121.01</td>\n",
       "      <td>1059</td>\n",
       "      <td>29</td>\n",
       "      <td>36.52</td>\n",
       "      <td>8.81</td>\n",
       "      <td>24.90</td>\n",
       "      <td>0.0</td>\n",
       "      <td>-0.184211</td>\n",
       "    </tr>\n",
       "    <tr>\n",
       "      <th>3</th>\n",
       "      <td>Ashwin, R</td>\n",
       "      <td>Bowler</td>\n",
       "      <td>0</td>\n",
       "      <td>58</td>\n",
       "      <td>11</td>\n",
       "      <td>5.80</td>\n",
       "      <td>76.32</td>\n",
       "      <td>1125</td>\n",
       "      <td>49</td>\n",
       "      <td>22.96</td>\n",
       "      <td>6.23</td>\n",
       "      <td>22.14</td>\n",
       "      <td>-0.8</td>\n",
       "      <td>0.868421</td>\n",
       "    </tr>\n",
       "    <tr>\n",
       "      <th>4</th>\n",
       "      <td>Badrinath, S</td>\n",
       "      <td>Batsman</td>\n",
       "      <td>0</td>\n",
       "      <td>1317</td>\n",
       "      <td>71</td>\n",
       "      <td>32.93</td>\n",
       "      <td>120.71</td>\n",
       "      <td>0</td>\n",
       "      <td>0</td>\n",
       "      <td>0.00</td>\n",
       "      <td>0.00</td>\n",
       "      <td>0.00</td>\n",
       "      <td>-0.8</td>\n",
       "      <td>0.763158</td>\n",
       "    </tr>\n",
       "    <tr>\n",
       "      <th>5</th>\n",
       "      <td>Bailey, GJ</td>\n",
       "      <td>Batsman</td>\n",
       "      <td>1</td>\n",
       "      <td>63</td>\n",
       "      <td>48</td>\n",
       "      <td>21.00</td>\n",
       "      <td>95.45</td>\n",
       "      <td>0</td>\n",
       "      <td>0</td>\n",
       "      <td>0.00</td>\n",
       "      <td>0.00</td>\n",
       "      <td>0.00</td>\n",
       "      <td>-1.2</td>\n",
       "      <td>-0.815789</td>\n",
       "    </tr>\n",
       "    <tr>\n",
       "      <th>7</th>\n",
       "      <td>Bollinger, DE</td>\n",
       "      <td>Bowler</td>\n",
       "      <td>0</td>\n",
       "      <td>21</td>\n",
       "      <td>16</td>\n",
       "      <td>21.00</td>\n",
       "      <td>165.88</td>\n",
       "      <td>693</td>\n",
       "      <td>37</td>\n",
       "      <td>18.73</td>\n",
       "      <td>7.22</td>\n",
       "      <td>15.57</td>\n",
       "      <td>0.0</td>\n",
       "      <td>0.552632</td>\n",
       "    </tr>\n",
       "    <tr>\n",
       "      <th>...</th>\n",
       "      <td>...</td>\n",
       "      <td>...</td>\n",
       "      <td>...</td>\n",
       "      <td>...</td>\n",
       "      <td>...</td>\n",
       "      <td>...</td>\n",
       "      <td>...</td>\n",
       "      <td>...</td>\n",
       "      <td>...</td>\n",
       "      <td>...</td>\n",
       "      <td>...</td>\n",
       "      <td>...</td>\n",
       "      <td>...</td>\n",
       "      <td>...</td>\n",
       "    </tr>\n",
       "    <tr>\n",
       "      <th>123</th>\n",
       "      <td>Warner, DA</td>\n",
       "      <td>Batsman</td>\n",
       "      <td>0</td>\n",
       "      <td>1025</td>\n",
       "      <td>109</td>\n",
       "      <td>27.70</td>\n",
       "      <td>135.76</td>\n",
       "      <td>0</td>\n",
       "      <td>0</td>\n",
       "      <td>0.00</td>\n",
       "      <td>0.00</td>\n",
       "      <td>0.00</td>\n",
       "      <td>0.0</td>\n",
       "      <td>0.657895</td>\n",
       "    </tr>\n",
       "    <tr>\n",
       "      <th>124</th>\n",
       "      <td>White, CL</td>\n",
       "      <td>Batsman</td>\n",
       "      <td>1</td>\n",
       "      <td>745</td>\n",
       "      <td>78</td>\n",
       "      <td>31.04</td>\n",
       "      <td>132.09</td>\n",
       "      <td>70</td>\n",
       "      <td>0</td>\n",
       "      <td>0.00</td>\n",
       "      <td>14.00</td>\n",
       "      <td>0.00</td>\n",
       "      <td>-0.8</td>\n",
       "      <td>0.131579</td>\n",
       "    </tr>\n",
       "    <tr>\n",
       "      <th>125</th>\n",
       "      <td>Yadav, AS</td>\n",
       "      <td>Batsman</td>\n",
       "      <td>0</td>\n",
       "      <td>49</td>\n",
       "      <td>16</td>\n",
       "      <td>9.80</td>\n",
       "      <td>125.64</td>\n",
       "      <td>0</td>\n",
       "      <td>0</td>\n",
       "      <td>0.00</td>\n",
       "      <td>0.00</td>\n",
       "      <td>0.00</td>\n",
       "      <td>-1.2</td>\n",
       "      <td>0.657895</td>\n",
       "    </tr>\n",
       "    <tr>\n",
       "      <th>127</th>\n",
       "      <td>Yuvraj Singh</td>\n",
       "      <td>Batsman</td>\n",
       "      <td>1</td>\n",
       "      <td>1237</td>\n",
       "      <td>66</td>\n",
       "      <td>26.32</td>\n",
       "      <td>131.88</td>\n",
       "      <td>569</td>\n",
       "      <td>23</td>\n",
       "      <td>24.74</td>\n",
       "      <td>7.02</td>\n",
       "      <td>21.13</td>\n",
       "      <td>1.6</td>\n",
       "      <td>2.868421</td>\n",
       "    </tr>\n",
       "    <tr>\n",
       "      <th>129</th>\n",
       "      <td>Zoysa, DNT</td>\n",
       "      <td>Bowler</td>\n",
       "      <td>0</td>\n",
       "      <td>11</td>\n",
       "      <td>10</td>\n",
       "      <td>11.00</td>\n",
       "      <td>122.22</td>\n",
       "      <td>99</td>\n",
       "      <td>2</td>\n",
       "      <td>49.50</td>\n",
       "      <td>9.00</td>\n",
       "      <td>33.00</td>\n",
       "      <td>-0.8</td>\n",
       "      <td>-0.689474</td>\n",
       "    </tr>\n",
       "  </tbody>\n",
       "</table>\n",
       "<p>103 rows × 14 columns</p>\n",
       "</div>"
      ],
      "text/plain": [
       "       PLAYER NAME PLAYING ROLE  CAPTAINCY EXP  RUNS-S   HS    AVE    SR-B  \\\n",
       "2      Agarkar, AB       Bowler              0     167   39  18.56  121.01   \n",
       "3        Ashwin, R       Bowler              0      58   11   5.80   76.32   \n",
       "4     Badrinath, S      Batsman              0    1317   71  32.93  120.71   \n",
       "5       Bailey, GJ      Batsman              1      63   48  21.00   95.45   \n",
       "7    Bollinger, DE       Bowler              0      21   16  21.00  165.88   \n",
       "..             ...          ...            ...     ...  ...    ...     ...   \n",
       "123     Warner, DA      Batsman              0    1025  109  27.70  135.76   \n",
       "124      White, CL      Batsman              1     745   78  31.04  132.09   \n",
       "125      Yadav, AS      Batsman              0      49   16   9.80  125.64   \n",
       "127   Yuvraj Singh      Batsman              1    1237   66  26.32  131.88   \n",
       "129     Zoysa, DNT       Bowler              0      11   10  11.00  122.22   \n",
       "\n",
       "     RUNS-C  WKTS  AVE-BL   ECON  SR-BL  BASE PRICE  SOLD PRICE  \n",
       "2      1059    29   36.52   8.81  24.90         0.0   -0.184211  \n",
       "3      1125    49   22.96   6.23  22.14        -0.8    0.868421  \n",
       "4         0     0    0.00   0.00   0.00        -0.8    0.763158  \n",
       "5         0     0    0.00   0.00   0.00        -1.2   -0.815789  \n",
       "7       693    37   18.73   7.22  15.57         0.0    0.552632  \n",
       "..      ...   ...     ...    ...    ...         ...         ...  \n",
       "123       0     0    0.00   0.00   0.00         0.0    0.657895  \n",
       "124      70     0    0.00  14.00   0.00        -0.8    0.131579  \n",
       "125       0     0    0.00   0.00   0.00        -1.2    0.657895  \n",
       "127     569    23   24.74   7.02  21.13         1.6    2.868421  \n",
       "129      99     2   49.50   9.00  33.00        -0.8   -0.689474  \n",
       "\n",
       "[103 rows x 14 columns]"
      ]
     },
     "execution_count": 10,
     "metadata": {},
     "output_type": "execute_result"
    }
   ],
   "source": [
    "column_data = cleaned_data['SR-BL']\n",
    "\n",
    "Q1 = column_data.quantile(0.25)\n",
    "Q3 = column_data.quantile(0.75)\n",
    "IQR = Q3 - Q1\n",
    "\n",
    "lower_bound = Q1 - 1.5 * IQR\n",
    "upper_bound = Q3 + 1.5 * IQR\n",
    "\n",
    "outliers_index = column_data[(column_data < lower_bound) | (column_data > upper_bound)].index\n",
    "cleaned_data = cleaned_data.drop(outliers_index)\n",
    "\n",
    "cleaned_data\n"
   ]
  },
  {
   "cell_type": "code",
   "execution_count": 26,
   "id": "0cdab070",
   "metadata": {},
   "outputs": [
    {
     "name": "stderr",
     "output_type": "stream",
     "text": [
      "C:\\Users\\balak\\anaconda3\\Lib\\site-packages\\seaborn\\_oldcore.py:1498: FutureWarning: is_categorical_dtype is deprecated and will be removed in a future version. Use isinstance(dtype, CategoricalDtype) instead\n",
      "  if pd.api.types.is_categorical_dtype(vector):\n",
      "C:\\Users\\balak\\anaconda3\\Lib\\site-packages\\seaborn\\_oldcore.py:1498: FutureWarning: is_categorical_dtype is deprecated and will be removed in a future version. Use isinstance(dtype, CategoricalDtype) instead\n",
      "  if pd.api.types.is_categorical_dtype(vector):\n",
      "C:\\Users\\balak\\anaconda3\\Lib\\site-packages\\seaborn\\_oldcore.py:1498: FutureWarning: is_categorical_dtype is deprecated and will be removed in a future version. Use isinstance(dtype, CategoricalDtype) instead\n",
      "  if pd.api.types.is_categorical_dtype(vector):\n",
      "C:\\Users\\balak\\anaconda3\\Lib\\site-packages\\seaborn\\_oldcore.py:1498: FutureWarning: is_categorical_dtype is deprecated and will be removed in a future version. Use isinstance(dtype, CategoricalDtype) instead\n",
      "  if pd.api.types.is_categorical_dtype(vector):\n",
      "C:\\Users\\balak\\anaconda3\\Lib\\site-packages\\seaborn\\_oldcore.py:1498: FutureWarning: is_categorical_dtype is deprecated and will be removed in a future version. Use isinstance(dtype, CategoricalDtype) instead\n",
      "  if pd.api.types.is_categorical_dtype(vector):\n",
      "C:\\Users\\balak\\anaconda3\\Lib\\site-packages\\seaborn\\_oldcore.py:1498: FutureWarning: is_categorical_dtype is deprecated and will be removed in a future version. Use isinstance(dtype, CategoricalDtype) instead\n",
      "  if pd.api.types.is_categorical_dtype(vector):\n",
      "C:\\Users\\balak\\anaconda3\\Lib\\site-packages\\seaborn\\_oldcore.py:1498: FutureWarning: is_categorical_dtype is deprecated and will be removed in a future version. Use isinstance(dtype, CategoricalDtype) instead\n",
      "  if pd.api.types.is_categorical_dtype(vector):\n",
      "C:\\Users\\balak\\anaconda3\\Lib\\site-packages\\seaborn\\_oldcore.py:1498: FutureWarning: is_categorical_dtype is deprecated and will be removed in a future version. Use isinstance(dtype, CategoricalDtype) instead\n",
      "  if pd.api.types.is_categorical_dtype(vector):\n",
      "C:\\Users\\balak\\anaconda3\\Lib\\site-packages\\seaborn\\_oldcore.py:1498: FutureWarning: is_categorical_dtype is deprecated and will be removed in a future version. Use isinstance(dtype, CategoricalDtype) instead\n",
      "  if pd.api.types.is_categorical_dtype(vector):\n",
      "C:\\Users\\balak\\anaconda3\\Lib\\site-packages\\seaborn\\_oldcore.py:1498: FutureWarning: is_categorical_dtype is deprecated and will be removed in a future version. Use isinstance(dtype, CategoricalDtype) instead\n",
      "  if pd.api.types.is_categorical_dtype(vector):\n"
     ]
    },
    {
     "data": {
      "image/png": "[encoded data removed]",
      "text/plain": [
       "<Figure size 800x600 with 1 Axes>"
      ]
     },
     "metadata": {},
     "output_type": "display_data"
    }
   ],
   "source": [
    "plt.figure(figsize=(8, 6))\n",
    "sns.boxplot(data=cleaned_data[['RUNS-S', 'AVE','SR-B', 'RUNS-C','WKTS','ECON','AVE-BL','CAPTAINCY EXP','HS','SR-BL']])\n",
    "plt.title('Boxplot of Runs Scored, Batting Average,Batting Strike rate, Runs Conceded, Wickets,Economy,Bowling Average')\n",
    "plt.xlabel('Features')\n",
    "plt.ylabel('Values')\n",
    "plt.xticks(rotation=45)  # Rotating x-axis labels for better readability\n",
    "plt.show()"
   ]
  },
  {
   "cell_type": "markdown",
   "id": "6eae49c7",
   "metadata": {},
   "source": [
    "# Most Expensive players in the history of IPL till 2013"
   ]
  },
  {
   "cell_type": "code",
   "execution_count": 27,
   "id": "adcfc4a3",
   "metadata": {
    "scrolled": false
   },
   "outputs": [
    {
     "data": {
      "text/plain": [
       "<BarContainer object of 10 artists>"
      ]
     },
     "execution_count": 27,
     "metadata": {},
     "output_type": "execute_result"
    },
    {
     "data": {
      "image/png": "[encoded data removed]",
      "text/plain": [
       "<Figure size 640x480 with 1 Axes>"
      ]
     },
     "metadata": {},
     "output_type": "display_data"
    }
   ],
   "source": [
    "plt.xticks(rotation=90)\n",
    "plt.xlabel('Player Name')\n",
    "plt.ylabel('Price in Rs. Crores')\n",
    "plt.bar(x='PLAYER NAME', height = 'SOLD PRICE',data = top_10)"
   ]
  },
  {
   "cell_type": "markdown",
   "id": "d13a5007",
   "metadata": {},
   "source": [
    "# Percentage of differenct playing roles who appeared for the Auction till 2013"
   ]
  },
  {
   "cell_type": "code",
   "execution_count": 28,
   "id": "799ae299",
   "metadata": {},
   "outputs": [
    {
     "data": {
      "text/plain": [
       "<AxesSubplot: ylabel='count'>"
      ]
     },
     "execution_count": 28,
     "metadata": {},
     "output_type": "execute_result"
    },
    {
     "data": {
      "image/png": "[encoded data removed]",
      "text/plain": [
       "<Figure size 640x480 with 1 Axes>"
      ]
     },
     "metadata": {},
     "output_type": "display_data"
    }
   ],
   "source": [
    "auction['PLAYING ROLE'].value_counts().plot(kind='pie',autopct= '%0.1f%%')"
   ]
  },
  {
   "cell_type": "code",
   "execution_count": 29,
   "id": "814aee00",
   "metadata": {},
   "outputs": [],
   "source": [
    "most_runs =batsmen.nlargest(10, ['Runs'])"
   ]
  },
  {
   "cell_type": "code",
   "execution_count": 20,
   "id": "dc666c39",
   "metadata": {},
   "outputs": [
    {
     "data": {
      "text/plain": [
       "<AxesSubplot: xlabel='PLAYER', ylabel='Runs'>"
      ]
     },
     "execution_count": 20,
     "metadata": {},
     "output_type": "execute_result"
    },
    {
     "data": {
      "image/png": "[encoded data removed]",
      "text/plain": [
       "<Figure size 800x550 with 1 Axes>"
      ]
     },
     "metadata": {},
     "output_type": "display_data"
    }
   ],
   "source": [
    "plt.xticks(rotation=45)\n",
    "sns.barplot(data = most_runs,x='PLAYER',y='Runs')"
   ]
  },
  {
   "cell_type": "markdown",
   "id": "985c2da7",
   "metadata": {},
   "source": [
    "# Top 10 Batsmen with the highest Average in IPL till 2020"
   ]
  },
  {
   "cell_type": "code",
   "execution_count": 31,
   "id": "9f86d85f",
   "metadata": {},
   "outputs": [],
   "source": [
    " avg = batsmen.nlargest(10,['Avg'])"
   ]
  },
  {
   "cell_type": "code",
   "execution_count": 32,
   "id": "e55eb0f2",
   "metadata": {},
   "outputs": [
    {
     "data": {
      "text/plain": [
       "Text(0.5, 0, 'Average')"
      ]
     },
     "execution_count": 32,
     "metadata": {},
     "output_type": "execute_result"
    },
    {
     "data": {
      "image/png": "[encoded data removed]",
      "text/plain": [
       "<Figure size 640x480 with 1 Axes>"
      ]
     },
     "metadata": {},
     "output_type": "display_data"
    }
   ],
   "source": [
    "plt.barh(data=avg,y='PLAYER',width='Avg')\n",
    "plt.ylabel(\"Player Name\")\n",
    "plt.xlabel('Average')"
   ]
  },
  {
   "cell_type": "code",
   "execution_count": 33,
   "id": "31fbeb3f",
   "metadata": {},
   "outputs": [
    {
     "name": "stderr",
     "output_type": "stream",
     "text": [
      "C:\\Users\\balak\\AppData\\Local\\Temp\\ipykernel_20012\\1101319910.py:1: UserWarning: \n",
      "\n",
      "`distplot` is a deprecated function and will be removed in seaborn v0.14.0.\n",
      "\n",
      "Please adapt your code to use either `displot` (a figure-level function with\n",
      "similar flexibility) or `histplot` (an axes-level function for histograms).\n",
      "\n",
      "For a guide to updating your code to use the new functions, please see\n",
      "https://gist.github.com/mwaskom/de44147ed2974457ad6372750bbe5751\n",
      "\n",
      "  sns.distplot(batsmen.Avg)\n",
      "C:\\Users\\balak\\anaconda3\\Lib\\site-packages\\seaborn\\_oldcore.py:1498: FutureWarning: is_categorical_dtype is deprecated and will be removed in a future version. Use isinstance(dtype, CategoricalDtype) instead\n",
      "  if pd.api.types.is_categorical_dtype(vector):\n",
      "C:\\Users\\balak\\anaconda3\\Lib\\site-packages\\seaborn\\_oldcore.py:1119: FutureWarning: use_inf_as_na option is deprecated and will be removed in a future version. Convert inf values to NaN before operating instead.\n",
      "  with pd.option_context('mode.use_inf_as_na', True):\n"
     ]
    },
    {
     "data": {
      "text/plain": [
       "<AxesSubplot: xlabel='Avg', ylabel='Density'>"
      ]
     },
     "execution_count": 33,
     "metadata": {},
     "output_type": "execute_result"
    },
    {
     "data": {
      "image/png": "[encoded data removed]",
      "text/plain": [
       "<Figure size 640x480 with 1 Axes>"
      ]
     },
     "metadata": {},
     "output_type": "display_data"
    }
   ],
   "source": [
    "sns.distplot(batsmen.Avg)"
   ]
  },
  {
   "cell_type": "markdown",
   "id": "dffb36c9",
   "metadata": {},
   "source": [
    "# Top 10 Bowlers with most Number of wickets in the IPL till 2020"
   ]
  },
  {
   "cell_type": "code",
   "execution_count": 34,
   "id": "ea7230c9",
   "metadata": {},
   "outputs": [
    {
     "name": "stderr",
     "output_type": "stream",
     "text": [
      "C:\\Users\\balak\\anaconda3\\Lib\\site-packages\\seaborn\\_oldcore.py:1498: FutureWarning: is_categorical_dtype is deprecated and will be removed in a future version. Use isinstance(dtype, CategoricalDtype) instead\n",
      "  if pd.api.types.is_categorical_dtype(vector):\n",
      "C:\\Users\\balak\\anaconda3\\Lib\\site-packages\\seaborn\\_oldcore.py:1498: FutureWarning: is_categorical_dtype is deprecated and will be removed in a future version. Use isinstance(dtype, CategoricalDtype) instead\n",
      "  if pd.api.types.is_categorical_dtype(vector):\n",
      "C:\\Users\\balak\\anaconda3\\Lib\\site-packages\\seaborn\\_oldcore.py:1498: FutureWarning: is_categorical_dtype is deprecated and will be removed in a future version. Use isinstance(dtype, CategoricalDtype) instead\n",
      "  if pd.api.types.is_categorical_dtype(vector):\n"
     ]
    },
    {
     "data": {
      "text/plain": [
       "Text(0, 0.5, 'No. of wickets')"
      ]
     },
     "execution_count": 34,
     "metadata": {},
     "output_type": "execute_result"
    },
    {
     "data": {
      "image/png": "[encoded data removed]",
      "text/plain": [
       "<Figure size 640x480 with 1 Axes>"
      ]
     },
     "metadata": {},
     "output_type": "display_data"
    }
   ],
   "source": [
    "highest_wickets = bowlers.nlargest(10,'Wkts')\n",
    "sns.barplot(x='PLAYER',y='Wkts',data=highest_wickets)\n",
    "plt.xticks(rotation=90)\n",
    "plt.xlabel('Player Name')\n",
    "plt.ylabel('No. of wickets')"
   ]
  },
  {
   "cell_type": "markdown",
   "id": "736acdef",
   "metadata": {},
   "source": [
    "# Top 10 Bowlers with best Bowling Average in the IPL"
   ]
  },
  {
   "cell_type": "code",
   "execution_count": 35,
   "id": "69bfec2c",
   "metadata": {},
   "outputs": [
    {
     "name": "stderr",
     "output_type": "stream",
     "text": [
      "C:\\Users\\balak\\anaconda3\\Lib\\site-packages\\seaborn\\_oldcore.py:1498: FutureWarning: is_categorical_dtype is deprecated and will be removed in a future version. Use isinstance(dtype, CategoricalDtype) instead\n",
      "  if pd.api.types.is_categorical_dtype(vector):\n",
      "C:\\Users\\balak\\anaconda3\\Lib\\site-packages\\seaborn\\_oldcore.py:1498: FutureWarning: is_categorical_dtype is deprecated and will be removed in a future version. Use isinstance(dtype, CategoricalDtype) instead\n",
      "  if pd.api.types.is_categorical_dtype(vector):\n",
      "C:\\Users\\balak\\anaconda3\\Lib\\site-packages\\seaborn\\_oldcore.py:1498: FutureWarning: is_categorical_dtype is deprecated and will be removed in a future version. Use isinstance(dtype, CategoricalDtype) instead\n",
      "  if pd.api.types.is_categorical_dtype(vector):\n",
      "C:\\Users\\balak\\anaconda3\\Lib\\site-packages\\seaborn\\_oldcore.py:1498: FutureWarning: is_categorical_dtype is deprecated and will be removed in a future version. Use isinstance(dtype, CategoricalDtype) instead\n",
      "  if pd.api.types.is_categorical_dtype(vector):\n",
      "C:\\Users\\balak\\anaconda3\\Lib\\site-packages\\seaborn\\_oldcore.py:1498: FutureWarning: is_categorical_dtype is deprecated and will be removed in a future version. Use isinstance(dtype, CategoricalDtype) instead\n",
      "  if pd.api.types.is_categorical_dtype(vector):\n",
      "C:\\Users\\balak\\anaconda3\\Lib\\site-packages\\seaborn\\_oldcore.py:1498: FutureWarning: is_categorical_dtype is deprecated and will be removed in a future version. Use isinstance(dtype, CategoricalDtype) instead\n",
      "  if pd.api.types.is_categorical_dtype(vector):\n",
      "C:\\Users\\balak\\anaconda3\\Lib\\site-packages\\seaborn\\_oldcore.py:1498: FutureWarning: is_categorical_dtype is deprecated and will be removed in a future version. Use isinstance(dtype, CategoricalDtype) instead\n",
      "  if pd.api.types.is_categorical_dtype(vector):\n",
      "C:\\Users\\balak\\anaconda3\\Lib\\site-packages\\seaborn\\_oldcore.py:1119: FutureWarning: use_inf_as_na option is deprecated and will be removed in a future version. Convert inf values to NaN before operating instead.\n",
      "  with pd.option_context('mode.use_inf_as_na', True):\n",
      "C:\\Users\\balak\\anaconda3\\Lib\\site-packages\\seaborn\\_oldcore.py:1119: FutureWarning: use_inf_as_na option is deprecated and will be removed in a future version. Convert inf values to NaN before operating instead.\n",
      "  with pd.option_context('mode.use_inf_as_na', True):\n"
     ]
    },
    {
     "data": {
      "text/plain": [
       "Text(0, 0.5, 'Average')"
      ]
     },
     "execution_count": 35,
     "metadata": {},
     "output_type": "execute_result"
    },
    {
     "data": {
      "image/png": "[encoded data removed]",
      "text/plain": [
       "<Figure size 640x480 with 1 Axes>"
      ]
     },
     "metadata": {},
     "output_type": "display_data"
    }
   ],
   "source": [
    "bowler_avg = bowlers.sort_values(by = 'Avg').head(10)\n",
    "sns.stripplot(x=bowler_avg.PLAYER,y=bowler_avg.Avg)\n",
    "plt.xticks(rotation=90)\n",
    "plt.xlabel('Player Name')\n",
    "plt.ylabel('Average')"
   ]
  },
  {
   "cell_type": "markdown",
   "id": "f70a5009",
   "metadata": {},
   "source": [
    "# Top 10 Bowlers with most 5 wicket haul in the IPL till 2020"
   ]
  },
  {
   "cell_type": "code",
   "execution_count": 36,
   "id": "8b2a4051",
   "metadata": {},
   "outputs": [
    {
     "name": "stderr",
     "output_type": "stream",
     "text": [
      "C:\\Users\\balak\\anaconda3\\Lib\\site-packages\\seaborn\\_oldcore.py:1498: FutureWarning: is_categorical_dtype is deprecated and will be removed in a future version. Use isinstance(dtype, CategoricalDtype) instead\n",
      "  if pd.api.types.is_categorical_dtype(vector):\n",
      "C:\\Users\\balak\\anaconda3\\Lib\\site-packages\\seaborn\\_oldcore.py:1498: FutureWarning: is_categorical_dtype is deprecated and will be removed in a future version. Use isinstance(dtype, CategoricalDtype) instead\n",
      "  if pd.api.types.is_categorical_dtype(vector):\n",
      "C:\\Users\\balak\\anaconda3\\Lib\\site-packages\\seaborn\\_oldcore.py:1498: FutureWarning: is_categorical_dtype is deprecated and will be removed in a future version. Use isinstance(dtype, CategoricalDtype) instead\n",
      "  if pd.api.types.is_categorical_dtype(vector):\n"
     ]
    },
    {
     "data": {
      "text/plain": [
       "Text(0, 0.5, 'No. of 5 wikcet haul')"
      ]
     },
     "execution_count": 36,
     "metadata": {},
     "output_type": "execute_result"
    },
    {
     "data": {
      "image/png": "[encoded data removed]",
      "text/plain": [
       "<Figure size 640x480 with 1 Axes>"
      ]
     },
     "metadata": {},
     "output_type": "display_data"
    }
   ],
   "source": [
    "wickets_5 = bowlers.nlargest(10,'5w')\n",
    "sns.barplot(x='PLAYER', y='5w',data = wickets_5)\n",
    "plt.xticks(rotation=90)\n",
    "plt.xlabel('Player Name')\n",
    "plt.ylabel('No. of 5 wikcet haul')"
   ]
  },
  {
   "cell_type": "code",
   "execution_count": 37,
   "id": "810e2806",
   "metadata": {},
   "outputs": [
    {
     "data": {
      "text/html": [
       "<div>\n",
       "<style scoped>\n",
       "    .dataframe tbody tr th:only-of-type {\n",
       "        vertical-align: middle;\n",
       "    }\n",
       "\n",
       "    .dataframe tbody tr th {\n",
       "        vertical-align: top;\n",
       "    }\n",
       "\n",
       "    .dataframe thead th {\n",
       "        text-align: right;\n",
       "    }\n",
       "</style>\n",
       "<table border=\"1\" class=\"dataframe\">\n",
       "  <thead>\n",
       "    <tr style=\"text-align: right;\">\n",
       "      <th></th>\n",
       "      <th>CAPTAINCY EXP</th>\n",
       "      <th>RUNS-S</th>\n",
       "      <th>HS</th>\n",
       "      <th>AVE</th>\n",
       "      <th>SR-B</th>\n",
       "      <th>RUNS-C</th>\n",
       "      <th>WKTS</th>\n",
       "      <th>AVE-BL</th>\n",
       "      <th>ECON</th>\n",
       "      <th>SR-BL</th>\n",
       "      <th>BASE PRICE</th>\n",
       "      <th>SOLD PRICE</th>\n",
       "    </tr>\n",
       "  </thead>\n",
       "  <tbody>\n",
       "    <tr>\n",
       "      <th>0</th>\n",
       "      <td>0</td>\n",
       "      <td>0</td>\n",
       "      <td>0</td>\n",
       "      <td>0.00</td>\n",
       "      <td>0.00</td>\n",
       "      <td>307</td>\n",
       "      <td>15</td>\n",
       "      <td>20.47</td>\n",
       "      <td>8.90</td>\n",
       "      <td>13.93</td>\n",
       "      <td>-1.2</td>\n",
       "      <td>-0.815789</td>\n",
       "    </tr>\n",
       "    <tr>\n",
       "      <th>1</th>\n",
       "      <td>0</td>\n",
       "      <td>0</td>\n",
       "      <td>0</td>\n",
       "      <td>0.00</td>\n",
       "      <td>0.00</td>\n",
       "      <td>29</td>\n",
       "      <td>0</td>\n",
       "      <td>0.00</td>\n",
       "      <td>14.50</td>\n",
       "      <td>0.00</td>\n",
       "      <td>-1.2</td>\n",
       "      <td>-0.815789</td>\n",
       "    </tr>\n",
       "    <tr>\n",
       "      <th>2</th>\n",
       "      <td>0</td>\n",
       "      <td>167</td>\n",
       "      <td>39</td>\n",
       "      <td>18.56</td>\n",
       "      <td>121.01</td>\n",
       "      <td>1059</td>\n",
       "      <td>29</td>\n",
       "      <td>36.52</td>\n",
       "      <td>8.81</td>\n",
       "      <td>24.90</td>\n",
       "      <td>0.0</td>\n",
       "      <td>-0.184211</td>\n",
       "    </tr>\n",
       "    <tr>\n",
       "      <th>3</th>\n",
       "      <td>0</td>\n",
       "      <td>58</td>\n",
       "      <td>11</td>\n",
       "      <td>5.80</td>\n",
       "      <td>76.32</td>\n",
       "      <td>1125</td>\n",
       "      <td>49</td>\n",
       "      <td>22.96</td>\n",
       "      <td>6.23</td>\n",
       "      <td>22.14</td>\n",
       "      <td>-0.8</td>\n",
       "      <td>0.868421</td>\n",
       "    </tr>\n",
       "    <tr>\n",
       "      <th>4</th>\n",
       "      <td>0</td>\n",
       "      <td>1317</td>\n",
       "      <td>71</td>\n",
       "      <td>32.93</td>\n",
       "      <td>120.71</td>\n",
       "      <td>0</td>\n",
       "      <td>0</td>\n",
       "      <td>0.00</td>\n",
       "      <td>0.00</td>\n",
       "      <td>0.00</td>\n",
       "      <td>-0.8</td>\n",
       "      <td>0.763158</td>\n",
       "    </tr>\n",
       "    <tr>\n",
       "      <th>...</th>\n",
       "      <td>...</td>\n",
       "      <td>...</td>\n",
       "      <td>...</td>\n",
       "      <td>...</td>\n",
       "      <td>...</td>\n",
       "      <td>...</td>\n",
       "      <td>...</td>\n",
       "      <td>...</td>\n",
       "      <td>...</td>\n",
       "      <td>...</td>\n",
       "      <td>...</td>\n",
       "      <td>...</td>\n",
       "    </tr>\n",
       "    <tr>\n",
       "      <th>125</th>\n",
       "      <td>0</td>\n",
       "      <td>49</td>\n",
       "      <td>16</td>\n",
       "      <td>9.80</td>\n",
       "      <td>125.64</td>\n",
       "      <td>0</td>\n",
       "      <td>0</td>\n",
       "      <td>0.00</td>\n",
       "      <td>0.00</td>\n",
       "      <td>0.00</td>\n",
       "      <td>-1.2</td>\n",
       "      <td>0.657895</td>\n",
       "    </tr>\n",
       "    <tr>\n",
       "      <th>126</th>\n",
       "      <td>1</td>\n",
       "      <td>3</td>\n",
       "      <td>3</td>\n",
       "      <td>3.00</td>\n",
       "      <td>42.85</td>\n",
       "      <td>0</td>\n",
       "      <td>0</td>\n",
       "      <td>0.00</td>\n",
       "      <td>0.00</td>\n",
       "      <td>0.00</td>\n",
       "      <td>0.2</td>\n",
       "      <td>-0.447368</td>\n",
       "    </tr>\n",
       "    <tr>\n",
       "      <th>127</th>\n",
       "      <td>1</td>\n",
       "      <td>1237</td>\n",
       "      <td>66</td>\n",
       "      <td>26.32</td>\n",
       "      <td>131.88</td>\n",
       "      <td>569</td>\n",
       "      <td>23</td>\n",
       "      <td>24.74</td>\n",
       "      <td>7.02</td>\n",
       "      <td>21.13</td>\n",
       "      <td>1.6</td>\n",
       "      <td>2.868421</td>\n",
       "    </tr>\n",
       "    <tr>\n",
       "      <th>128</th>\n",
       "      <td>0</td>\n",
       "      <td>99</td>\n",
       "      <td>23</td>\n",
       "      <td>9.90</td>\n",
       "      <td>91.67</td>\n",
       "      <td>1783</td>\n",
       "      <td>65</td>\n",
       "      <td>27.43</td>\n",
       "      <td>7.75</td>\n",
       "      <td>21.26</td>\n",
       "      <td>0.0</td>\n",
       "      <td>0.026316</td>\n",
       "    </tr>\n",
       "    <tr>\n",
       "      <th>129</th>\n",
       "      <td>0</td>\n",
       "      <td>11</td>\n",
       "      <td>10</td>\n",
       "      <td>11.00</td>\n",
       "      <td>122.22</td>\n",
       "      <td>99</td>\n",
       "      <td>2</td>\n",
       "      <td>49.50</td>\n",
       "      <td>9.00</td>\n",
       "      <td>33.00</td>\n",
       "      <td>-0.8</td>\n",
       "      <td>-0.689474</td>\n",
       "    </tr>\n",
       "  </tbody>\n",
       "</table>\n",
       "<p>130 rows × 12 columns</p>\n",
       "</div>"
      ],
      "text/plain": [
       "     CAPTAINCY EXP  RUNS-S  HS    AVE    SR-B  RUNS-C  WKTS  AVE-BL   ECON  \\\n",
       "0                0       0   0   0.00    0.00     307    15   20.47   8.90   \n",
       "1                0       0   0   0.00    0.00      29     0    0.00  14.50   \n",
       "2                0     167  39  18.56  121.01    1059    29   36.52   8.81   \n",
       "3                0      58  11   5.80   76.32    1125    49   22.96   6.23   \n",
       "4                0    1317  71  32.93  120.71       0     0    0.00   0.00   \n",
       "..             ...     ...  ..    ...     ...     ...   ...     ...    ...   \n",
       "125              0      49  16   9.80  125.64       0     0    0.00   0.00   \n",
       "126              1       3   3   3.00   42.85       0     0    0.00   0.00   \n",
       "127              1    1237  66  26.32  131.88     569    23   24.74   7.02   \n",
       "128              0      99  23   9.90   91.67    1783    65   27.43   7.75   \n",
       "129              0      11  10  11.00  122.22      99     2   49.50   9.00   \n",
       "\n",
       "     SR-BL  BASE PRICE  SOLD PRICE  \n",
       "0    13.93        -1.2   -0.815789  \n",
       "1     0.00        -1.2   -0.815789  \n",
       "2    24.90         0.0   -0.184211  \n",
       "3    22.14        -0.8    0.868421  \n",
       "4     0.00        -0.8    0.763158  \n",
       "..     ...         ...         ...  \n",
       "125   0.00        -1.2    0.657895  \n",
       "126   0.00         0.2   -0.447368  \n",
       "127  21.13         1.6    2.868421  \n",
       "128  21.26         0.0    0.026316  \n",
       "129  33.00        -0.8   -0.689474  \n",
       "\n",
       "[130 rows x 12 columns]"
      ]
     },
     "execution_count": 37,
     "metadata": {},
     "output_type": "execute_result"
    }
   ],
   "source": [
    "df = auction.drop(['PLAYER NAME','PLAYING ROLE'],axis=1)\n",
    "df"
   ]
  },
  {
   "cell_type": "code",
   "execution_count": 38,
   "id": "d65e3cf7",
   "metadata": {},
   "outputs": [
    {
     "data": {
      "image/png": "[encoded data removed]",
      "text/plain": [
       "<Figure size 1000x800 with 2 Axes>"
      ]
     },
     "metadata": {},
     "output_type": "display_data"
    }
   ],
   "source": [
    "\n",
    "plt.figure(figsize=(10, 8))\n",
    "corr_matrix = df.corr()  \n",
    "sns.heatmap(corr_matrix, annot=True, cmap='coolwarm', fmt=\".2f\")\n",
    "plt.title('Correlation Heatmap')\n",
    "plt.show()\n"
   ]
  },
  {
   "cell_type": "code",
   "execution_count": 11,
   "id": "6d9ca5a6",
   "metadata": {},
   "outputs": [
    {
     "data": {
      "application/vnd.jupyter.widget-view+json": {
       "model_id": "0aa78264de3c43f8833c62500969e1db",
       "version_major": 2,
       "version_minor": 0
      },
      "text/plain": [
       "VBox(children=(IntSlider(value=1, continuous_update=False, description='Select Position:', min=1), Output()))"
      ]
     },
     "metadata": {},
     "output_type": "display_data"
    }
   ],
   "source": [
    "import pandas as pd\n",
    "import ipywidgets as widgets\n",
    "from IPython.display import display\n",
    "\n",
    "\n",
    "def display_batsman_details(POS):\n",
    "    batsman_details = batsmen.iloc[POS - 1]  \n",
    "    display(batsman_details)  \n",
    "\n",
    "max_position = len(batsmen)  \n",
    "\n",
    "slider = widgets.IntSlider(min=1, max=max_position, description='Select Position:', continuous_update=False)\n",
    "\n",
    "interactive_output = widgets.interactive_output(display_batsman_details, {'POS': slider})\n",
    "\n",
    "display(widgets.VBox([slider, interactive_output]))\n"
   ]
  },
  {
   "cell_type": "code",
   "execution_count": 12,
   "id": "ca088905",
   "metadata": {},
   "outputs": [
    {
     "data": {
      "application/vnd.jupyter.widget-view+json": {
       "model_id": "80b71b51ed0a43ad8471f925b134ae2c",
       "version_major": 2,
       "version_minor": 0
      },
      "text/plain": [
       "VBox(children=(IntSlider(value=1, continuous_update=False, description='Select Position:', min=1), Output()))"
      ]
     },
     "metadata": {},
     "output_type": "display_data"
    }
   ],
   "source": [
    "import pandas as pd\n",
    "import ipywidgets as widgets\n",
    "from IPython.display import display\n",
    "\n",
    "\n",
    "def display_bowler_details(POS):\n",
    "    bowler_details = bowlers.iloc[POS - 1]  \n",
    "    display(bowler_details)  \n",
    "\n",
    "max_position = len(bowlers)  \n",
    "\n",
    "slider = widgets.IntSlider(min=1, max=max_position, description='Select Position:', continuous_update=False)\n",
    "\n",
    "interactive_output = widgets.interactive_output(display_bowler_details, {'POS': slider})\n",
    "\n",
    "display(widgets.VBox([slider, interactive_output]))\n"
   ]
  },
  {
   "cell_type": "code",
   "execution_count": 13,
   "id": "af8778c7",
   "metadata": {},
   "outputs": [
    {
     "name": "stdout",
     "output_type": "stream",
     "text": [
      "Multiple Linear Regression Model Mean Squared Error: 0.7967639353119917\n",
      "Predicted 'SOLD PRICE' for allrounder: 662686.4862180458\n"
     ]
    },
    {
     "name": "stderr",
     "output_type": "stream",
     "text": [
      "C:\\ProgramData\\anaconda3\\Lib\\site-packages\\sklearn\\base.py:464: UserWarning: X does not have valid feature names, but LinearRegression was fitted with feature names\n",
      "  warnings.warn(\n"
     ]
    }
   ],
   "source": [
    "from sklearn.model_selection import train_test_split\n",
    "from sklearn.linear_model import LinearRegression\n",
    "from sklearn.metrics import mean_squared_error\n",
    "from sklearn.preprocessing import RobustScaler\n",
    "\n",
    "all_rounder_data = cleaned_data[cleaned_data['PLAYING ROLE'] == 'Allrounder']\n",
    "\n",
    "# Define features and target for batsman model\n",
    "all_rounder_features = ['RUNS-S', 'AVE', 'SR-B','RUNS-C','WKTS','ECON','SR-BL','AVE-BL']\n",
    "all_rounder_target = 'SOLD PRICE'\n",
    "\n",
    "X_train_all_rounder, X_test_all_rounder, y_train_all_rounder, y_test_all_rounder = train_test_split(\n",
    "    all_rounder_data[all_rounder_features], all_rounder_data[all_rounder_target], test_size=0.2,train_size=0.8, random_state=42\n",
    ")\n",
    "\n",
    "# Initialize and train the Multiple Linear Regression model\n",
    "lr_model = LinearRegression()\n",
    "lr_model.fit(X_train_all_rounder, y_train_all_rounder)\n",
    "\n",
    "# Make predictions on the test set\n",
    "predictions_lr = lr_model.predict(X_test_all_rounder)\n",
    "\n",
    "# Calculate Mean Squared Error for Linear Regression model\n",
    "mse_lr_allrounder = mean_squared_error(y_test_all_rounder, predictions_lr)\n",
    "print(f\"Multiple Linear Regression Model Mean Squared Error: {mse_lr_allrounder}\")\n",
    "\n",
    "\n",
    "new_player_features = [300, 45, 130,250,30,7,20,24]  # Replace these values with the new player's data\n",
    "\n",
    "# Reshape the input data to match the model's requirements\n",
    "new_player_features_reshaped = np.array(new_player_features).reshape(1, -1)\n",
    "\n",
    "# Predict the 'SOLD PRICE' for the new player\n",
    "predicted_price_scaled = lr_model.predict(new_player_features_reshaped)\n",
    "\n",
    "# Inverse transform the predicted 'SOLD PRICE' to the original scale\n",
    "predicted_price_original = scaler.inverse_transform([[0, predicted_price_scaled[0]]])[0][1]\n",
    "\n",
    "print(f\"Predicted 'SOLD PRICE' for allrounder: {predicted_price_original}\")"
   ]
  },
  {
   "cell_type": "code",
   "execution_count": 14,
   "id": "488af526",
   "metadata": {},
   "outputs": [
    {
     "name": "stdout",
     "output_type": "stream",
     "text": [
      "Multiple Linear Regression Model Mean Squared Error: 0.471718726272233\n",
      "Predicted 'SOLD PRICE' for Batsman: 307454.00165243103\n"
     ]
    },
    {
     "name": "stderr",
     "output_type": "stream",
     "text": [
      "C:\\ProgramData\\anaconda3\\Lib\\site-packages\\sklearn\\base.py:464: UserWarning: X does not have valid feature names, but LinearRegression was fitted with feature names\n",
      "  warnings.warn(\n"
     ]
    }
   ],
   "source": [
    "from sklearn.model_selection import train_test_split\n",
    "from sklearn.linear_model import LinearRegression\n",
    "from sklearn.metrics import mean_squared_error\n",
    "\n",
    "batsman_data = cleaned_data[cleaned_data['PLAYING ROLE'] == 'Batsman']\n",
    "\n",
    "# Define features and target for batsman model\n",
    "batsman_features = ['RUNS-S', 'AVE', 'SR-B']\n",
    "batsman_target = 'SOLD PRICE'\n",
    "\n",
    "# Split data for batsmen\n",
    "X_train_batsman, X_test_batsman, y_train_batsman, y_test_batsman = train_test_split(\n",
    "    batsman_data[batsman_features], batsman_data[batsman_target], test_size=0.2, random_state=42\n",
    ")\n",
    "\n",
    "# Initialize and train the Multiple Linear Regression model\n",
    "lr_model = LinearRegression()\n",
    "lr_model.fit(X_train_batsman, y_train_batsman)\n",
    "\n",
    "# Make predictions on the test set\n",
    "predictions_lr = lr_model.predict(X_test_batsman)\n",
    "\n",
    "# Calculate Mean Squared Error for Linear Regression model\n",
    "mse_lr_batsman = mean_squared_error(y_test_batsman, predictions_lr)\n",
    "print(f\"Multiple Linear Regression Model Mean Squared Error: {mse_lr_batsman}\")\n",
    "\n",
    "# Example data for a new 'Batsman' player\n",
    "new_player_features = [300, 45, 130]  # Replace these values with the new player's data\n",
    "\n",
    "# Reshape the input data to match the model's requirements\n",
    "new_player_features_reshaped = np.array(new_player_features).reshape(1, -1)\n",
    "\n",
    "# Predict the 'SOLD PRICE' for the new player\n",
    "predicted_price_scaled = lr_model.predict(new_player_features_reshaped)\n",
    "\n",
    "# Inverse transform the predicted 'SOLD PRICE' to the original scale\n",
    "predicted_price_original = scaler.inverse_transform([[0, predicted_price_scaled[0]]])[0][1]\n",
    "\n",
    "# Display the predicted price for the new player in both scales\n",
    "print(f\"Predicted 'SOLD PRICE' for Batsman: {predicted_price_original}\")\n"
   ]
  },
  {
   "cell_type": "code",
   "execution_count": 15,
   "id": "e8df1669",
   "metadata": {},
   "outputs": [
    {
     "name": "stdout",
     "output_type": "stream",
     "text": [
      "Multiple Linear Regression Model Mean Squared Error: 0.2180657530445222\n",
      "Predicted 'SOLD PRICE' for Bowler : 365497.19747163495\n"
     ]
    },
    {
     "name": "stderr",
     "output_type": "stream",
     "text": [
      "C:\\ProgramData\\anaconda3\\Lib\\site-packages\\sklearn\\base.py:464: UserWarning: X does not have valid feature names, but LinearRegression was fitted with feature names\n",
      "  warnings.warn(\n"
     ]
    }
   ],
   "source": [
    "\n",
    "bowler_data = cleaned_data[cleaned_data['PLAYING ROLE'] == 'Bowler']\n",
    "\n",
    "# Define features and target for batsman model\n",
    "bowler_features = ['RUNS-C', 'AVE-BL', 'SR-BL','WKTS']\n",
    "bowler_target = 'SOLD PRICE'\n",
    "\n",
    "# Split data for batsmen\n",
    "X_train_bowler, X_test_bowler, y_train_bowler, y_test_bowler = train_test_split(\n",
    "    bowler_data[bowler_features], bowler_data[bowler_target], test_size=0.2, random_state=42\n",
    ")\n",
    "\n",
    "# Initialize and train the Multiple Linear Regression model\n",
    "lr_model = LinearRegression()\n",
    "lr_model.fit(X_train_bowler, y_train_bowler)\n",
    "\n",
    "# Make predictions on the test set\n",
    "predictions_lr = lr_model.predict(X_test_bowler)\n",
    "\n",
    "# Calculate Mean Squared Error for Linear Regression model\n",
    "mse_lr_bowler = mean_squared_error(y_test_bowler, predictions_lr)\n",
    "print(f\"Multiple Linear Regression Model Mean Squared Error: {mse_lr_bowler}\")\n",
    "\n",
    "new_player_features = [500,25,22,21]  # Replace these values with the new player's data\n",
    "\n",
    "# Reshape the input data to match the model's requirements\n",
    "new_player_features_reshaped = np.array(new_player_features).reshape(1, -1)\n",
    "\n",
    "# Predict the 'SOLD PRICE' for the new player\n",
    "predicted_price_scaled = lr_model.predict(new_player_features_reshaped)\n",
    "\n",
    "# Inverse transform the predicted 'SOLD PRICE' to the original scale\n",
    "predicted_price_original = scaler.inverse_transform([[0, predicted_price_scaled[0]]])[0][1]\n",
    "\n",
    "# Display the predicted price for the new player in both scales\n",
    "print(f\"Predicted 'SOLD PRICE' for Bowler : {predicted_price_original}\")\n"
   ]
  },
  {
   "cell_type": "code",
   "execution_count": 16,
   "id": "fe986133",
   "metadata": {},
   "outputs": [],
   "source": [
    "from sklearn.metrics import mean_absolute_error\n",
    "from sklearn.metrics import r2_score"
   ]
  },
  {
   "cell_type": "code",
   "execution_count": 17,
   "id": "ac4eb2ed",
   "metadata": {},
   "outputs": [
    {
     "name": "stdout",
     "output_type": "stream",
     "text": [
      "Batsman Model Mean Squared Error: 0.6465686634349027\n",
      "Predicted 'SOLD PRICE' for Batsman: 807750.0000000001\n"
     ]
    },
    {
     "name": "stderr",
     "output_type": "stream",
     "text": [
      "C:\\ProgramData\\anaconda3\\Lib\\site-packages\\sklearn\\base.py:464: UserWarning: X does not have valid feature names, but RandomForestRegressor was fitted with feature names\n",
      "  warnings.warn(\n"
     ]
    }
   ],
   "source": [
    "import pandas as pd\n",
    "from sklearn.model_selection import train_test_split\n",
    "from sklearn.ensemble import RandomForestRegressor\n",
    "from sklearn.metrics import mean_squared_error\n",
    "\n",
    "batsman_data = cleaned_data[cleaned_data['PLAYING ROLE'] == 'Batsman']\n",
    "\n",
    "# Define features and target for batsman model\n",
    "batsman_features = ['RUNS-S', 'AVE', 'SR-B']\n",
    "batsman_target = 'SOLD PRICE'\n",
    "\n",
    "# Split data for batsmen\n",
    "X_train_batsman, X_test_batsman, y_train_batsman, y_test_batsman = train_test_split(\n",
    "    batsman_data[batsman_features], batsman_data[batsman_target], test_size=0.2, random_state=42\n",
    ")\n",
    "\n",
    "# Train a model specific to batsmen\n",
    "batsman_model = RandomForestRegressor(n_estimators=100, random_state=42)\n",
    "batsman_model.fit(X_train_batsman, y_train_batsman)\n",
    "\n",
    "# Make predictions on the test set for batsmen\n",
    "predictions_batsman = batsman_model.predict(X_test_batsman)\n",
    "\n",
    "# Calculate Mean Squared Error for batsman model\n",
    "mse_rf_batsman = mean_squared_error(y_test_batsman, predictions_batsman)\n",
    "print(f\"Batsman Model Mean Squared Error: {mse_rf_batsman}\")\n",
    "\n",
    "new_player_features = [300, 45, 130]  # Replace these values with the new player's data\n",
    "\n",
    "# Reshape the input data to match the model's requirements\n",
    "new_player_features_reshaped = np.array(new_player_features).reshape(1, -1)\n",
    "\n",
    "# Predict the 'SOLD PRICE' for the new player\n",
    "predicted_price_scaled = batsman_model.predict(new_player_features_reshaped)\n",
    "\n",
    "# Inverse transform the predicted 'SOLD PRICE' to the original scale\n",
    "predicted_price_original = scaler.inverse_transform([[0, predicted_price_scaled[0]]])[0][1]\n",
    "\n",
    "# Display the predicted price for the new player in both scales\n",
    "print(f\"Predicted 'SOLD PRICE' for Batsman: {predicted_price_original}\")\n"
   ]
  },
  {
   "cell_type": "code",
   "execution_count": 18,
   "id": "9cea9b4b",
   "metadata": {},
   "outputs": [
    {
     "name": "stdout",
     "output_type": "stream",
     "text": [
      "Batsman Model Mean Squared Error: 0.2881239002770084\n",
      "Predicted 'SOLD PRICE' for Bowler : 259059.99999999997\n"
     ]
    },
    {
     "name": "stderr",
     "output_type": "stream",
     "text": [
      "C:\\ProgramData\\anaconda3\\Lib\\site-packages\\sklearn\\base.py:464: UserWarning: X does not have valid feature names, but RandomForestRegressor was fitted with feature names\n",
      "  warnings.warn(\n"
     ]
    }
   ],
   "source": [
    "bowler_data = cleaned_data[cleaned_data['PLAYING ROLE'] == 'Bowler']\n",
    "\n",
    "# Define features and target for batsman model\n",
    "bowler_features = ['RUNS-C', 'AVE-BL', 'SR-BL','WKTS']\n",
    "bowler_target = 'SOLD PRICE'\n",
    "\n",
    "# Split data for batsmen\n",
    "X_train_bowler, X_test_bowler, y_train_bowler, y_test_bowler = train_test_split(\n",
    "    bowler_data[bowler_features], bowler_data[bowler_target], test_size=0.2, random_state=42\n",
    ")\n",
    "# Train a model specific to batsmen\n",
    "bowler_model = RandomForestRegressor(n_estimators=100, random_state=42)\n",
    "bowler_model.fit(X_train_bowler, y_train_bowler)\n",
    "\n",
    "# Make predictions on the test set for batsmen\n",
    "predictions_bowler = bowler_model.predict(X_test_bowler)\n",
    "\n",
    "# Calculate Mean Squared Error for batsman model\n",
    "mse_rf_bowler = mean_squared_error(y_test_bowler, predictions_bowler)\n",
    "print(f\"Batsman Model Mean Squared Error: {mse_rf_bowler}\")\n",
    "\n",
    "new_player_features = [500,25,22,21]  # Replace these values with the new player's data\n",
    "\n",
    "# Reshape the input data to match the model's requirements\n",
    "new_player_features_reshaped = np.array(new_player_features).reshape(1, -1)\n",
    "\n",
    "# Predict the 'SOLD PRICE' for the new player\n",
    "predicted_price_scaled = bowler_model.predict(new_player_features_reshaped)\n",
    "\n",
    "# Inverse transform the predicted 'SOLD PRICE' to the original scale\n",
    "predicted_price_original = scaler.inverse_transform([[0, predicted_price_scaled[0]]])[0][1]\n",
    "\n",
    "# Display the predicted price for the new player in both scales\n",
    "print(f\"Predicted 'SOLD PRICE' for Bowler : {predicted_price_original}\")"
   ]
  },
  {
   "cell_type": "code",
   "execution_count": 19,
   "id": "aeda447c",
   "metadata": {},
   "outputs": [
    {
     "name": "stdout",
     "output_type": "stream",
     "text": [
      "All-Rounder Model Mean Squared Error: 0.9705888402585412\n",
      "Predicted 'SOLD PRICE' for allrounder: 720250.0000000002\n"
     ]
    },
    {
     "name": "stderr",
     "output_type": "stream",
     "text": [
      "C:\\ProgramData\\anaconda3\\Lib\\site-packages\\sklearn\\base.py:464: UserWarning: X does not have valid feature names, but RandomForestRegressor was fitted with feature names\n",
      "  warnings.warn(\n"
     ]
    }
   ],
   "source": [
    "# Filter data for all-rounders\n",
    "all_rounder_data = cleaned_data[cleaned_data['PLAYING ROLE'] == 'Allrounder']\n",
    "\n",
    "# Define features and target for all-rounder model\n",
    "all_rounder_features = ['RUNS-S', 'AVE', 'SR-B','ECON', \n",
    "                        'RUNS-C', 'AVE-BL', 'SR-BL','WKTS']\n",
    "all_rounder_target = 'SOLD PRICE'\n",
    "\n",
    "# Split data for all-rounders\n",
    "X_train_all_rounder, X_test_all_rounder, y_train_all_rounder, y_test_all_rounder = train_test_split(\n",
    "    all_rounder_data[all_rounder_features], all_rounder_data[all_rounder_target], test_size=0.2,train_size=0.8, random_state=42\n",
    ")\n",
    "\n",
    "# Train a model specific to all-rounders\n",
    "all_rounder_model = RandomForestRegressor(n_estimators=100, random_state=42)\n",
    "all_rounder_model.fit(X_train_all_rounder, y_train_all_rounder)\n",
    "\n",
    "# Make predictions on the test set for all-rounders\n",
    "predictions_all_rounder = all_rounder_model.predict(X_test_all_rounder)\n",
    "\n",
    "# Calculate Mean Squared Error for all-rounder model\n",
    "mse_rf_all_rounder = mean_squared_error(y_test_all_rounder, predictions_all_rounder)\n",
    "print(f\"All-Rounder Model Mean Squared Error: {mse_rf_all_rounder}\")\n",
    "\n",
    "new_player_features = [300, 45, 130,250,30,7,20,24]  # Replace these values with the new player's data\n",
    "\n",
    "# Reshape the input data to match the model's requirements\n",
    "new_player_features_reshaped = np.array(new_player_features).reshape(1, -1)\n",
    "\n",
    "# Predict the 'SOLD PRICE' for the new player\n",
    "predicted_price_scaled = all_rounder_model.predict(new_player_features_reshaped)\n",
    "\n",
    "# Inverse transform the predicted 'SOLD PRICE' to the original scale\n",
    "predicted_price_original = scaler.inverse_transform([[0, predicted_price_scaled[0]]])[0][1]\n",
    "\n",
    "print(f\"Predicted 'SOLD PRICE' for allrounder: {predicted_price_original}\")"
   ]
  },
  {
   "cell_type": "code",
   "execution_count": 20,
   "id": "1ab20046",
   "metadata": {},
   "outputs": [
    {
     "name": "stdout",
     "output_type": "stream",
     "text": [
      "Gradient Boosting Regressor Model Mean Squared Error: 1.1736572023642347\n",
      "Predicted 'SOLD PRICE' for Batsman: 1398939.799419694\n"
     ]
    },
    {
     "name": "stderr",
     "output_type": "stream",
     "text": [
      "C:\\ProgramData\\anaconda3\\Lib\\site-packages\\sklearn\\base.py:464: UserWarning: X does not have valid feature names, but GradientBoostingRegressor was fitted with feature names\n",
      "  warnings.warn(\n"
     ]
    }
   ],
   "source": [
    "from sklearn.ensemble import GradientBoostingRegressor\n",
    "\n",
    "batsman_data = cleaned_data[cleaned_data['PLAYING ROLE'] == 'Batsman']\n",
    "\n",
    "# Define features and target for batsman model\n",
    "batsman_features = ['RUNS-S', 'AVE', 'SR-B']\n",
    "batsman_target = 'SOLD PRICE'\n",
    "\n",
    "X_train_batsman, X_test_batsman, y_train_batsman, y_test_batsman = train_test_split(\n",
    "    batsman_data[batsman_features], batsman_data[batsman_target], test_size=0.2, random_state=42\n",
    ")\n",
    "\n",
    "gb_model = GradientBoostingRegressor(n_estimators=100, learning_rate=0.1, random_state=42)\n",
    "gb_model.fit(X_train_batsman, y_train_batsman)\n",
    "\n",
    "# Make predictions on the test set\n",
    "predictions_gb = gb_model.predict(X_test_batsman)\n",
    "\n",
    "# Calculate Mean Squared Error for Gradient Boosting model\n",
    "mse_gb_batsman = mean_squared_error(y_test_batsman, predictions_gb)\n",
    "print(f\"Gradient Boosting Regressor Model Mean Squared Error: {mse_gb_batsman}\")\n",
    "\n",
    "new_player_features = [300, 45, 130]  # Replace these values with the new player's data\n",
    "\n",
    "# Reshape the input data to match the model's requirements\n",
    "new_player_features_reshaped = np.array(new_player_features).reshape(1, -1)\n",
    "\n",
    "# Predict the 'SOLD PRICE' for the new player\n",
    "predicted_price_scaled = gb_model.predict(new_player_features_reshaped)\n",
    "\n",
    "# Inverse transform the predicted 'SOLD PRICE' to the original scale\n",
    "predicted_price_original = scaler.inverse_transform([[0, predicted_price_scaled[0]]])[0][1]\n",
    "\n",
    "# Display the predicted price for the new player in both scales\n",
    "print(f\"Predicted 'SOLD PRICE' for Batsman: {predicted_price_original}\")"
   ]
  },
  {
   "cell_type": "code",
   "execution_count": 21,
   "id": "ea8fad94",
   "metadata": {},
   "outputs": [
    {
     "name": "stdout",
     "output_type": "stream",
     "text": [
      "Gradient Boosting Regressor Model Mean Squared Error: 0.8784269873302838\n",
      "Predicted 'SOLD PRICE' for allrounder: 524800.0062148251\n"
     ]
    },
    {
     "name": "stderr",
     "output_type": "stream",
     "text": [
      "C:\\ProgramData\\anaconda3\\Lib\\site-packages\\sklearn\\base.py:464: UserWarning: X does not have valid feature names, but GradientBoostingRegressor was fitted with feature names\n",
      "  warnings.warn(\n"
     ]
    }
   ],
   "source": [
    "# Filter data for all-rounders\n",
    "all_rounder_data = cleaned_data[cleaned_data['PLAYING ROLE'] == 'Allrounder']\n",
    "\n",
    "# Define features and target for all-rounder model\n",
    "all_rounder_features = ['RUNS-S', 'AVE', 'SR-B','ECON',\n",
    "                        'RUNS-C', 'AVE-BL', 'SR-BL','WKTS']\n",
    "all_rounder_target = 'SOLD PRICE'\n",
    "\n",
    "# Split data for all-rounders\n",
    "X_train_all_rounder, X_test_all_rounder, y_train_all_rounder, y_test_all_rounder = train_test_split(\n",
    "    all_rounder_data[all_rounder_features], all_rounder_data[all_rounder_target], test_size=0.2,train_size=0.8, random_state=42\n",
    ")\n",
    "\n",
    "gb_model = GradientBoostingRegressor(n_estimators=100, learning_rate=0.1, random_state=42)\n",
    "gb_model.fit(X_train_all_rounder, y_train_all_rounder)\n",
    "\n",
    "# Make predictions on the test set\n",
    "predictions_gb = gb_model.predict(X_test_all_rounder)\n",
    "\n",
    "# Calculate Mean Squared Error for Gradient Boosting model\n",
    "mse_gb_allrounder = mean_squared_error(y_test_all_rounder, predictions_gb)\n",
    "print(f\"Gradient Boosting Regressor Model Mean Squared Error: {mse_gb_allrounder}\")\n",
    "\n",
    "new_player_features = [300, 45, 130,250,30,7,20,24]  # Replace these values with the new player's data\n",
    "\n",
    "# Reshape the input data to match the model's requirements\n",
    "new_player_features_reshaped = np.array(new_player_features).reshape(1, -1)\n",
    "\n",
    "# Predict the 'SOLD PRICE' for the new player\n",
    "predicted_price_scaled = gb_model.predict(new_player_features_reshaped)\n",
    "\n",
    "# Inverse transform the predicted 'SOLD PRICE' to the original scale\n",
    "predicted_price_original = scaler.inverse_transform([[0, predicted_price_scaled[0]]])[0][1]\n",
    "\n",
    "print(f\"Predicted 'SOLD PRICE' for allrounder: {predicted_price_original}\")"
   ]
  },
  {
   "cell_type": "code",
   "execution_count": 22,
   "id": "860caeb8",
   "metadata": {},
   "outputs": [
    {
     "name": "stdout",
     "output_type": "stream",
     "text": [
      "Gradient Boosting Regressor Model Mean Squared Error: 0.4448028382331546\n",
      "Predicted 'SOLD PRICE' for Bowler : 224692.68666395365\n"
     ]
    },
    {
     "name": "stderr",
     "output_type": "stream",
     "text": [
      "C:\\ProgramData\\anaconda3\\Lib\\site-packages\\sklearn\\base.py:464: UserWarning: X does not have valid feature names, but GradientBoostingRegressor was fitted with feature names\n",
      "  warnings.warn(\n"
     ]
    }
   ],
   "source": [
    "bowler_data = cleaned_data[cleaned_data['PLAYING ROLE'] == 'Bowler']\n",
    "\n",
    "# Define features and target for batsman model\n",
    "bowler_features = ['RUNS-C', 'AVE-BL', 'SR-BL','WKTS']\n",
    "bowler_target = 'SOLD PRICE'\n",
    "\n",
    "# Split data for batsmen\n",
    "X_train_bowler, X_test_bowler, y_train_bowler, y_test_bowler = train_test_split(\n",
    "    bowler_data[bowler_features], bowler_data[bowler_target], test_size=0.2, random_state=42\n",
    ")\n",
    "\n",
    "gb_model = GradientBoostingRegressor(n_estimators=100, learning_rate=0.1, random_state=42)\n",
    "gb_model.fit(X_train_bowler, y_train_bowler)\n",
    "\n",
    "\n",
    "predictions_gb = gb_model.predict(X_test_bowler)\n",
    "\n",
    "mse_gb_bowler = mean_squared_error(y_test_bowler, predictions_gb)\n",
    "print(f\"Gradient Boosting Regressor Model Mean Squared Error: {mse_gb_bowler}\")\n",
    "\n",
    "new_player_features = [500,25,22,21]  # Replace these values with the new player's data\n",
    "\n",
    "# Reshape the input data to match the model's requirements\n",
    "new_player_features_reshaped = np.array(new_player_features).reshape(1, -1)\n",
    "\n",
    "# Predict the 'SOLD PRICE' for the new player\n",
    "predicted_price_scaled = gb_model.predict(new_player_features_reshaped)\n",
    "\n",
    "# Inverse transform the predicted 'SOLD PRICE' to the original scale\n",
    "predicted_price_original = scaler.inverse_transform([[0, predicted_price_scaled[0]]])[0][1]\n",
    "\n",
    "# Display the predicted price for the new player in both scales\n",
    "print(f\"Predicted 'SOLD PRICE' for Bowler : {predicted_price_original}\")"
   ]
  },
  {
   "cell_type": "code",
   "execution_count": 31,
   "id": "2ed9a946",
   "metadata": {},
   "outputs": [
    {
     "data": {
      "application/vnd.plotly.v1+json": {
       "config": {
        "plotlyServerURL": "https://plot.ly"
       },
       "data": [
        {
         "alignmentgroup": "True",
         "hovertemplate": "color=blue<br>Models=%{x}<br>MSE Values=%{y}<extra></extra>",
         "legendgroup": "blue",
         "marker": {
          "color": "#636efa",
          "pattern": {
           "shape": ""
          }
         },
         "name": "blue",
         "offsetgroup": "blue",
         "orientation": "v",
         "showlegend": true,
         "textposition": "auto",
         "type": "bar",
         "x": [
          "lr"
         ],
         "xaxis": "x",
         "y": [
          0.471718726272233
         ],
         "yaxis": "y"
        },
        {
         "alignmentgroup": "True",
         "hovertemplate": "color=green<br>Models=%{x}<br>MSE Values=%{y}<extra></extra>",
         "legendgroup": "green",
         "marker": {
          "color": "#EF553B",
          "pattern": {
           "shape": ""
          }
         },
         "name": "green",
         "offsetgroup": "green",
         "orientation": "v",
         "showlegend": true,
         "textposition": "auto",
         "type": "bar",
         "x": [
          "rf"
         ],
         "xaxis": "x",
         "y": [
          0.6465686634349027
         ],
         "yaxis": "y"
        },
        {
         "alignmentgroup": "True",
         "hovertemplate": "color=orange<br>Models=%{x}<br>MSE Values=%{y}<extra></extra>",
         "legendgroup": "orange",
         "marker": {
          "color": "#00cc96",
          "pattern": {
           "shape": ""
          }
         },
         "name": "orange",
         "offsetgroup": "orange",
         "orientation": "v",
         "showlegend": true,
         "textposition": "auto",
         "type": "bar",
         "x": [
          "gb"
         ],
         "xaxis": "x",
         "y": [
          1.1736572023642347
         ],
         "yaxis": "y"
        }
       ],
       "layout": {
        "barmode": "relative",
        "hovermode": "closest",
        "legend": {
         "title": {
          "text": "color"
         },
         "tracegroupgap": 0
        },
        "margin": {
         "t": 60
        },
        "template": {
         "data": {
          "bar": [
           {
            "error_x": {
             "color": "#2a3f5f"
            },
            "error_y": {
             "color": "#2a3f5f"
            },
            "marker": {
             "line": {
              "color": "#E5ECF6",
              "width": 0.5
             },
             "pattern": {
              "fillmode": "overlay",
              "size": 10,
              "solidity": 0.2
             }
            },
            "type": "bar"
           }
          ],
          "barpolar": [
           {
            "marker": {
             "line": {
              "color": "#E5ECF6",
              "width": 0.5
             },
             "pattern": {
              "fillmode": "overlay",
              "size": 10,
              "solidity": 0.2
             }
            },
            "type": "barpolar"
           }
          ],
          "carpet": [
           {
            "aaxis": {
             "endlinecolor": "#2a3f5f",
             "gridcolor": "white",
             "linecolor": "white",
             "minorgridcolor": "white",
             "startlinecolor": "#2a3f5f"
            },
            "baxis": {
             "endlinecolor": "#2a3f5f",
             "gridcolor": "white",
             "linecolor": "white",
             "minorgridcolor": "white",
             "startlinecolor": "#2a3f5f"
            },
            "type": "carpet"
           }
          ],
          "choropleth": [
           {
            "colorbar": {
             "outlinewidth": 0,
             "ticks": ""
            },
            "type": "choropleth"
           }
          ],
          "contour": [
           {
            "colorbar": {
             "outlinewidth": 0,
             "ticks": ""
            },
            "colorscale": [
             [
              0,
              "#0d0887"
             ],
             [
              0.1111111111111111,
              "#46039f"
             ],
             [
              0.2222222222222222,
              "#7201a8"
             ],
             [
              0.3333333333333333,
              "#9c179e"
             ],
             [
              0.4444444444444444,
              "#bd3786"
             ],
             [
              0.5555555555555556,
              "#d8576b"
             ],
             [
              0.6666666666666666,
              "#ed7953"
             ],
             [
              0.7777777777777778,
              "#fb9f3a"
             ],
             [
              0.8888888888888888,
              "#fdca26"
             ],
             [
              1,
              "#f0f921"
             ]
            ],
            "type": "contour"
           }
          ],
          "contourcarpet": [
           {
            "colorbar": {
             "outlinewidth": 0,
             "ticks": ""
            },
            "type": "contourcarpet"
           }
          ],
          "heatmap": [
           {
            "colorbar": {
             "outlinewidth": 0,
             "ticks": ""
            },
            "colorscale": [
             [
              0,
              "#0d0887"
             ],
             [
              0.1111111111111111,
              "#46039f"
             ],
             [
              0.2222222222222222,
              "#7201a8"
             ],
             [
              0.3333333333333333,
              "#9c179e"
             ],
             [
              0.4444444444444444,
              "#bd3786"
             ],
             [
              0.5555555555555556,
              "#d8576b"
             ],
             [
              0.6666666666666666,
              "#ed7953"
             ],
             [
              0.7777777777777778,
              "#fb9f3a"
             ],
             [
              0.8888888888888888,
              "#fdca26"
             ],
             [
              1,
              "#f0f921"
             ]
            ],
            "type": "heatmap"
           }
          ],
          "heatmapgl": [
           {
            "colorbar": {
             "outlinewidth": 0,
             "ticks": ""
            },
            "colorscale": [
             [
              0,
              "#0d0887"
             ],
             [
              0.1111111111111111,
              "#46039f"
             ],
             [
              0.2222222222222222,
              "#7201a8"
             ],
             [
              0.3333333333333333,
              "#9c179e"
             ],
             [
              0.4444444444444444,
              "#bd3786"
             ],
             [
              0.5555555555555556,
              "#d8576b"
             ],
             [
              0.6666666666666666,
              "#ed7953"
             ],
             [
              0.7777777777777778,
              "#fb9f3a"
             ],
             [
              0.8888888888888888,
              "#fdca26"
             ],
             [
              1,
              "#f0f921"
             ]
            ],
            "type": "heatmapgl"
           }
          ],
          "histogram": [
           {
            "marker": {
             "pattern": {
              "fillmode": "overlay",
              "size": 10,
              "solidity": 0.2
             }
            },
            "type": "histogram"
           }
          ],
          "histogram2d": [
           {
            "colorbar": {
             "outlinewidth": 0,
             "ticks": ""
            },
            "colorscale": [
             [
              0,
              "#0d0887"
             ],
             [
              0.1111111111111111,
              "#46039f"
             ],
             [
              0.2222222222222222,
              "#7201a8"
             ],
             [
              0.3333333333333333,
              "#9c179e"
             ],
             [
              0.4444444444444444,
              "#bd3786"
             ],
             [
              0.5555555555555556,
              "#d8576b"
             ],
             [
              0.6666666666666666,
              "#ed7953"
             ],
             [
              0.7777777777777778,
              "#fb9f3a"
             ],
             [
              0.8888888888888888,
              "#fdca26"
             ],
             [
              1,
              "#f0f921"
             ]
            ],
            "type": "histogram2d"
           }
          ],
          "histogram2dcontour": [
           {
            "colorbar": {
             "outlinewidth": 0,
             "ticks": ""
            },
            "colorscale": [
             [
              0,
              "#0d0887"
             ],
             [
              0.1111111111111111,
              "#46039f"
             ],
             [
              0.2222222222222222,
              "#7201a8"
             ],
             [
              0.3333333333333333,
              "#9c179e"
             ],
             [
              0.4444444444444444,
              "#bd3786"
             ],
             [
              0.5555555555555556,
              "#d8576b"
             ],
             [
              0.6666666666666666,
              "#ed7953"
             ],
             [
              0.7777777777777778,
              "#fb9f3a"
             ],
             [
              0.8888888888888888,
              "#fdca26"
             ],
             [
              1,
              "#f0f921"
             ]
            ],
            "type": "histogram2dcontour"
           }
          ],
          "mesh3d": [
           {
            "colorbar": {
             "outlinewidth": 0,
             "ticks": ""
            },
            "type": "mesh3d"
           }
          ],
          "parcoords": [
           {
            "line": {
             "colorbar": {
              "outlinewidth": 0,
              "ticks": ""
             }
            },
            "type": "parcoords"
           }
          ],
          "pie": [
           {
            "automargin": true,
            "type": "pie"
           }
          ],
          "scatter": [
           {
            "fillpattern": {
             "fillmode": "overlay",
             "size": 10,
             "solidity": 0.2
            },
            "type": "scatter"
           }
          ],
          "scatter3d": [
           {
            "line": {
             "colorbar": {
              "outlinewidth": 0,
              "ticks": ""
             }
            },
            "marker": {
             "colorbar": {
              "outlinewidth": 0,
              "ticks": ""
             }
            },
            "type": "scatter3d"
           }
          ],
          "scattercarpet": [
           {
            "marker": {
             "colorbar": {
              "outlinewidth": 0,
              "ticks": ""
             }
            },
            "type": "scattercarpet"
           }
          ],
          "scattergeo": [
           {
            "marker": {
             "colorbar": {
              "outlinewidth": 0,
              "ticks": ""
             }
            },
            "type": "scattergeo"
           }
          ],
          "scattergl": [
           {
            "marker": {
             "colorbar": {
              "outlinewidth": 0,
              "ticks": ""
             }
            },
            "type": "scattergl"
           }
          ],
          "scattermapbox": [
           {
            "marker": {
             "colorbar": {
              "outlinewidth": 0,
              "ticks": ""
             }
            },
            "type": "scattermapbox"
           }
          ],
          "scatterpolar": [
           {
            "marker": {
             "colorbar": {
              "outlinewidth": 0,
              "ticks": ""
             }
            },
            "type": "scatterpolar"
           }
          ],
          "scatterpolargl": [
           {
            "marker": {
             "colorbar": {
              "outlinewidth": 0,
              "ticks": ""
             }
            },
            "type": "scatterpolargl"
           }
          ],
          "scatterternary": [
           {
            "marker": {
             "colorbar": {
              "outlinewidth": 0,
              "ticks": ""
             }
            },
            "type": "scatterternary"
           }
          ],
          "surface": [
           {
            "colorbar": {
             "outlinewidth": 0,
             "ticks": ""
            },
            "colorscale": [
             [
              0,
              "#0d0887"
             ],
             [
              0.1111111111111111,
              "#46039f"
             ],
             [
              0.2222222222222222,
              "#7201a8"
             ],
             [
              0.3333333333333333,
              "#9c179e"
             ],
             [
              0.4444444444444444,
              "#bd3786"
             ],
             [
              0.5555555555555556,
              "#d8576b"
             ],
             [
              0.6666666666666666,
              "#ed7953"
             ],
             [
              0.7777777777777778,
              "#fb9f3a"
             ],
             [
              0.8888888888888888,
              "#fdca26"
             ],
             [
              1,
              "#f0f921"
             ]
            ],
            "type": "surface"
           }
          ],
          "table": [
           {
            "cells": {
             "fill": {
              "color": "#EBF0F8"
             },
             "line": {
              "color": "white"
             }
            },
            "header": {
             "fill": {
              "color": "#C8D4E3"
             },
             "line": {
              "color": "white"
             }
            },
            "type": "table"
           }
          ]
         },
         "layout": {
          "annotationdefaults": {
           "arrowcolor": "#2a3f5f",
           "arrowhead": 0,
           "arrowwidth": 1
          },
          "autotypenumbers": "strict",
          "coloraxis": {
           "colorbar": {
            "outlinewidth": 0,
            "ticks": ""
           }
          },
          "colorscale": {
           "diverging": [
            [
             0,
             "#8e0152"
            ],
            [
             0.1,
             "#c51b7d"
            ],
            [
             0.2,
             "#de77ae"
            ],
            [
             0.3,
             "#f1b6da"
            ],
            [
             0.4,
             "#fde0ef"
            ],
            [
             0.5,
             "#f7f7f7"
            ],
            [
             0.6,
             "#e6f5d0"
            ],
            [
             0.7,
             "#b8e186"
            ],
            [
             0.8,
             "#7fbc41"
            ],
            [
             0.9,
             "#4d9221"
            ],
            [
             1,
             "#276419"
            ]
           ],
           "sequential": [
            [
             0,
             "#0d0887"
            ],
            [
             0.1111111111111111,
             "#46039f"
            ],
            [
             0.2222222222222222,
             "#7201a8"
            ],
            [
             0.3333333333333333,
             "#9c179e"
            ],
            [
             0.4444444444444444,
             "#bd3786"
            ],
            [
             0.5555555555555556,
             "#d8576b"
            ],
            [
             0.6666666666666666,
             "#ed7953"
            ],
            [
             0.7777777777777778,
             "#fb9f3a"
            ],
            [
             0.8888888888888888,
             "#fdca26"
            ],
            [
             1,
             "#f0f921"
            ]
           ],
           "sequentialminus": [
            [
             0,
             "#0d0887"
            ],
            [
             0.1111111111111111,
             "#46039f"
            ],
            [
             0.2222222222222222,
             "#7201a8"
            ],
            [
             0.3333333333333333,
             "#9c179e"
            ],
            [
             0.4444444444444444,
             "#bd3786"
            ],
            [
             0.5555555555555556,
             "#d8576b"
            ],
            [
             0.6666666666666666,
             "#ed7953"
            ],
            [
             0.7777777777777778,
             "#fb9f3a"
            ],
            [
             0.8888888888888888,
             "#fdca26"
            ],
            [
             1,
             "#f0f921"
            ]
           ]
          },
          "colorway": [
           "#636efa",
           "#EF553B",
           "#00cc96",
           "#ab63fa",
           "#FFA15A",
           "#19d3f3",
           "#FF6692",
           "#B6E880",
           "#FF97FF",
           "#FECB52"
          ],
          "font": {
           "color": "#2a3f5f"
          },
          "geo": {
           "bgcolor": "white",
           "lakecolor": "white",
           "landcolor": "#E5ECF6",
           "showlakes": true,
           "showland": true,
           "subunitcolor": "white"
          },
          "hoverlabel": {
           "align": "left"
          },
          "hovermode": "closest",
          "mapbox": {
           "style": "light"
          },
          "paper_bgcolor": "white",
          "plot_bgcolor": "#E5ECF6",
          "polar": {
           "angularaxis": {
            "gridcolor": "white",
            "linecolor": "white",
            "ticks": ""
           },
           "bgcolor": "#E5ECF6",
           "radialaxis": {
            "gridcolor": "white",
            "linecolor": "white",
            "ticks": ""
           }
          },
          "scene": {
           "xaxis": {
            "backgroundcolor": "#E5ECF6",
            "gridcolor": "white",
            "gridwidth": 2,
            "linecolor": "white",
            "showbackground": true,
            "ticks": "",
            "zerolinecolor": "white"
           },
           "yaxis": {
            "backgroundcolor": "#E5ECF6",
            "gridcolor": "white",
            "gridwidth": 2,
            "linecolor": "white",
            "showbackground": true,
            "ticks": "",
            "zerolinecolor": "white"
           },
           "zaxis": {
            "backgroundcolor": "#E5ECF6",
            "gridcolor": "white",
            "gridwidth": 2,
            "linecolor": "white",
            "showbackground": true,
            "ticks": "",
            "zerolinecolor": "white"
           }
          },
          "shapedefaults": {
           "line": {
            "color": "#2a3f5f"
           }
          },
          "ternary": {
           "aaxis": {
            "gridcolor": "white",
            "linecolor": "white",
            "ticks": ""
           },
           "baxis": {
            "gridcolor": "white",
            "linecolor": "white",
            "ticks": ""
           },
           "bgcolor": "#E5ECF6",
           "caxis": {
            "gridcolor": "white",
            "linecolor": "white",
            "ticks": ""
           }
          },
          "title": {
           "x": 0.05
          },
          "xaxis": {
           "automargin": true,
           "gridcolor": "white",
           "linecolor": "white",
           "ticks": "",
           "title": {
            "standoff": 15
           },
           "zerolinecolor": "white",
           "zerolinewidth": 2
          },
          "yaxis": {
           "automargin": true,
           "gridcolor": "white",
           "linecolor": "white",
           "ticks": "",
           "title": {
            "standoff": 15
           },
           "zerolinecolor": "white",
           "zerolinewidth": 2
          }
         }
        },
        "title": {
         "text": "Mean Squared Error (MSE) for batsman"
        },
        "xaxis": {
         "anchor": "y",
         "domain": [
          0,
          1
         ],
         "title": {
          "text": "Models"
         }
        },
        "yaxis": {
         "anchor": "x",
         "domain": [
          0,
          1
         ],
         "title": {
          "text": "MSE Values"
         }
        }
       }
      },
      "text/html": [
       "<div>                            <div id=\"c04e7e1d-af33-4475-80d1-3b273f98317b\" class=\"plotly-graph-div\" style=\"height:525px; width:100%;\"></div>            <script type=\"text/javascript\">                require([\"plotly\"], function(Plotly) {                    window.PLOTLYENV=window.PLOTLYENV || {};                                    if (document.getElementById(\"c04e7e1d-af33-4475-80d1-3b273f98317b\")) {                    Plotly.newPlot(                        \"c04e7e1d-af33-4475-80d1-3b273f98317b\",                        [{\"alignmentgroup\":\"True\",\"hovertemplate\":\"color=blue<br>Models=%{x}<br>MSE Values=%{y}<extra></extra>\",\"legendgroup\":\"blue\",\"marker\":{\"color\":\"#636efa\",\"pattern\":{\"shape\":\"\"}},\"name\":\"blue\",\"offsetgroup\":\"blue\",\"orientation\":\"v\",\"showlegend\":true,\"textposition\":\"auto\",\"x\":[\"lr\"],\"xaxis\":\"x\",\"y\":[0.471718726272233],\"yaxis\":\"y\",\"type\":\"bar\"},{\"alignmentgroup\":\"True\",\"hovertemplate\":\"color=green<br>Models=%{x}<br>MSE Values=%{y}<extra></extra>\",\"legendgroup\":\"green\",\"marker\":{\"color\":\"#EF553B\",\"pattern\":{\"shape\":\"\"}},\"name\":\"green\",\"offsetgroup\":\"green\",\"orientation\":\"v\",\"showlegend\":true,\"textposition\":\"auto\",\"x\":[\"rf\"],\"xaxis\":\"x\",\"y\":[0.6465686634349027],\"yaxis\":\"y\",\"type\":\"bar\"},{\"alignmentgroup\":\"True\",\"hovertemplate\":\"color=orange<br>Models=%{x}<br>MSE Values=%{y}<extra></extra>\",\"legendgroup\":\"orange\",\"marker\":{\"color\":\"#00cc96\",\"pattern\":{\"shape\":\"\"}},\"name\":\"orange\",\"offsetgroup\":\"orange\",\"orientation\":\"v\",\"showlegend\":true,\"textposition\":\"auto\",\"x\":[\"gb\"],\"xaxis\":\"x\",\"y\":[1.1736572023642347],\"yaxis\":\"y\",\"type\":\"bar\"}],                        {\"template\":{\"data\":{\"histogram2dcontour\":[{\"type\":\"histogram2dcontour\",\"colorbar\":{\"outlinewidth\":0,\"ticks\":\"\"},\"colorscale\":[[0.0,\"#0d0887\"],[0.1111111111111111,\"#46039f\"],[0.2222222222222222,\"#7201a8\"],[0.3333333333333333,\"#9c179e\"],[0.4444444444444444,\"#bd3786\"],[0.5555555555555556,\"#d8576b\"],[0.6666666666666666,\"#ed7953\"],[0.7777777777777778,\"#fb9f3a\"],[0.8888888888888888,\"#fdca26\"],[1.0,\"#f0f921\"]]}],\"choropleth\":[{\"type\":\"choropleth\",\"colorbar\":{\"outlinewidth\":0,\"ticks\":\"\"}}],\"histogram2d\":[{\"type\":\"histogram2d\",\"colorbar\":{\"outlinewidth\":0,\"ticks\":\"\"},\"colorscale\":[[0.0,\"#0d0887\"],[0.1111111111111111,\"#46039f\"],[0.2222222222222222,\"#7201a8\"],[0.3333333333333333,\"#9c179e\"],[0.4444444444444444,\"#bd3786\"],[0.5555555555555556,\"#d8576b\"],[0.6666666666666666,\"#ed7953\"],[0.7777777777777778,\"#fb9f3a\"],[0.8888888888888888,\"#fdca26\"],[1.0,\"#f0f921\"]]}],\"heatmap\":[{\"type\":\"heatmap\",\"colorbar\":{\"outlinewidth\":0,\"ticks\":\"\"},\"colorscale\":[[0.0,\"#0d0887\"],[0.1111111111111111,\"#46039f\"],[0.2222222222222222,\"#7201a8\"],[0.3333333333333333,\"#9c179e\"],[0.4444444444444444,\"#bd3786\"],[0.5555555555555556,\"#d8576b\"],[0.6666666666666666,\"#ed7953\"],[0.7777777777777778,\"#fb9f3a\"],[0.8888888888888888,\"#fdca26\"],[1.0,\"#f0f921\"]]}],\"heatmapgl\":[{\"type\":\"heatmapgl\",\"colorbar\":{\"outlinewidth\":0,\"ticks\":\"\"},\"colorscale\":[[0.0,\"#0d0887\"],[0.1111111111111111,\"#46039f\"],[0.2222222222222222,\"#7201a8\"],[0.3333333333333333,\"#9c179e\"],[0.4444444444444444,\"#bd3786\"],[0.5555555555555556,\"#d8576b\"],[0.6666666666666666,\"#ed7953\"],[0.7777777777777778,\"#fb9f3a\"],[0.8888888888888888,\"#fdca26\"],[1.0,\"#f0f921\"]]}],\"contourcarpet\":[{\"type\":\"contourcarpet\",\"colorbar\":{\"outlinewidth\":0,\"ticks\":\"\"}}],\"contour\":[{\"type\":\"contour\",\"colorbar\":{\"outlinewidth\":0,\"ticks\":\"\"},\"colorscale\":[[0.0,\"#0d0887\"],[0.1111111111111111,\"#46039f\"],[0.2222222222222222,\"#7201a8\"],[0.3333333333333333,\"#9c179e\"],[0.4444444444444444,\"#bd3786\"],[0.5555555555555556,\"#d8576b\"],[0.6666666666666666,\"#ed7953\"],[0.7777777777777778,\"#fb9f3a\"],[0.8888888888888888,\"#fdca26\"],[1.0,\"#f0f921\"]]}],\"surface\":[{\"type\":\"surface\",\"colorbar\":{\"outlinewidth\":0,\"ticks\":\"\"},\"colorscale\":[[0.0,\"#0d0887\"],[0.1111111111111111,\"#46039f\"],[0.2222222222222222,\"#7201a8\"],[0.3333333333333333,\"#9c179e\"],[0.4444444444444444,\"#bd3786\"],[0.5555555555555556,\"#d8576b\"],[0.6666666666666666,\"#ed7953\"],[0.7777777777777778,\"#fb9f3a\"],[0.8888888888888888,\"#fdca26\"],[1.0,\"#f0f921\"]]}],\"mesh3d\":[{\"type\":\"mesh3d\",\"colorbar\":{\"outlinewidth\":0,\"ticks\":\"\"}}],\"scatter\":[{\"fillpattern\":{\"fillmode\":\"overlay\",\"size\":10,\"solidity\":0.2},\"type\":\"scatter\"}],\"parcoords\":[{\"type\":\"parcoords\",\"line\":{\"colorbar\":{\"outlinewidth\":0,\"ticks\":\"\"}}}],\"scatterpolargl\":[{\"type\":\"scatterpolargl\",\"marker\":{\"colorbar\":{\"outlinewidth\":0,\"ticks\":\"\"}}}],\"bar\":[{\"error_x\":{\"color\":\"#2a3f5f\"},\"error_y\":{\"color\":\"#2a3f5f\"},\"marker\":{\"line\":{\"color\":\"#E5ECF6\",\"width\":0.5},\"pattern\":{\"fillmode\":\"overlay\",\"size\":10,\"solidity\":0.2}},\"type\":\"bar\"}],\"scattergeo\":[{\"type\":\"scattergeo\",\"marker\":{\"colorbar\":{\"outlinewidth\":0,\"ticks\":\"\"}}}],\"scatterpolar\":[{\"type\":\"scatterpolar\",\"marker\":{\"colorbar\":{\"outlinewidth\":0,\"ticks\":\"\"}}}],\"histogram\":[{\"marker\":{\"pattern\":{\"fillmode\":\"overlay\",\"size\":10,\"solidity\":0.2}},\"type\":\"histogram\"}],\"scattergl\":[{\"type\":\"scattergl\",\"marker\":{\"colorbar\":{\"outlinewidth\":0,\"ticks\":\"\"}}}],\"scatter3d\":[{\"type\":\"scatter3d\",\"line\":{\"colorbar\":{\"outlinewidth\":0,\"ticks\":\"\"}},\"marker\":{\"colorbar\":{\"outlinewidth\":0,\"ticks\":\"\"}}}],\"scattermapbox\":[{\"type\":\"scattermapbox\",\"marker\":{\"colorbar\":{\"outlinewidth\":0,\"ticks\":\"\"}}}],\"scatterternary\":[{\"type\":\"scatterternary\",\"marker\":{\"colorbar\":{\"outlinewidth\":0,\"ticks\":\"\"}}}],\"scattercarpet\":[{\"type\":\"scattercarpet\",\"marker\":{\"colorbar\":{\"outlinewidth\":0,\"ticks\":\"\"}}}],\"carpet\":[{\"aaxis\":{\"endlinecolor\":\"#2a3f5f\",\"gridcolor\":\"white\",\"linecolor\":\"white\",\"minorgridcolor\":\"white\",\"startlinecolor\":\"#2a3f5f\"},\"baxis\":{\"endlinecolor\":\"#2a3f5f\",\"gridcolor\":\"white\",\"linecolor\":\"white\",\"minorgridcolor\":\"white\",\"startlinecolor\":\"#2a3f5f\"},\"type\":\"carpet\"}],\"table\":[{\"cells\":{\"fill\":{\"color\":\"#EBF0F8\"},\"line\":{\"color\":\"white\"}},\"header\":{\"fill\":{\"color\":\"#C8D4E3\"},\"line\":{\"color\":\"white\"}},\"type\":\"table\"}],\"barpolar\":[{\"marker\":{\"line\":{\"color\":\"#E5ECF6\",\"width\":0.5},\"pattern\":{\"fillmode\":\"overlay\",\"size\":10,\"solidity\":0.2}},\"type\":\"barpolar\"}],\"pie\":[{\"automargin\":true,\"type\":\"pie\"}]},\"layout\":{\"autotypenumbers\":\"strict\",\"colorway\":[\"#636efa\",\"#EF553B\",\"#00cc96\",\"#ab63fa\",\"#FFA15A\",\"#19d3f3\",\"#FF6692\",\"#B6E880\",\"#FF97FF\",\"#FECB52\"],\"font\":{\"color\":\"#2a3f5f\"},\"hovermode\":\"closest\",\"hoverlabel\":{\"align\":\"left\"},\"paper_bgcolor\":\"white\",\"plot_bgcolor\":\"#E5ECF6\",\"polar\":{\"bgcolor\":\"#E5ECF6\",\"angularaxis\":{\"gridcolor\":\"white\",\"linecolor\":\"white\",\"ticks\":\"\"},\"radialaxis\":{\"gridcolor\":\"white\",\"linecolor\":\"white\",\"ticks\":\"\"}},\"ternary\":{\"bgcolor\":\"#E5ECF6\",\"aaxis\":{\"gridcolor\":\"white\",\"linecolor\":\"white\",\"ticks\":\"\"},\"baxis\":{\"gridcolor\":\"white\",\"linecolor\":\"white\",\"ticks\":\"\"},\"caxis\":{\"gridcolor\":\"white\",\"linecolor\":\"white\",\"ticks\":\"\"}},\"coloraxis\":{\"colorbar\":{\"outlinewidth\":0,\"ticks\":\"\"}},\"colorscale\":{\"sequential\":[[0.0,\"#0d0887\"],[0.1111111111111111,\"#46039f\"],[0.2222222222222222,\"#7201a8\"],[0.3333333333333333,\"#9c179e\"],[0.4444444444444444,\"#bd3786\"],[0.5555555555555556,\"#d8576b\"],[0.6666666666666666,\"#ed7953\"],[0.7777777777777778,\"#fb9f3a\"],[0.8888888888888888,\"#fdca26\"],[1.0,\"#f0f921\"]],\"sequentialminus\":[[0.0,\"#0d0887\"],[0.1111111111111111,\"#46039f\"],[0.2222222222222222,\"#7201a8\"],[0.3333333333333333,\"#9c179e\"],[0.4444444444444444,\"#bd3786\"],[0.5555555555555556,\"#d8576b\"],[0.6666666666666666,\"#ed7953\"],[0.7777777777777778,\"#fb9f3a\"],[0.8888888888888888,\"#fdca26\"],[1.0,\"#f0f921\"]],\"diverging\":[[0,\"#8e0152\"],[0.1,\"#c51b7d\"],[0.2,\"#de77ae\"],[0.3,\"#f1b6da\"],[0.4,\"#fde0ef\"],[0.5,\"#f7f7f7\"],[0.6,\"#e6f5d0\"],[0.7,\"#b8e186\"],[0.8,\"#7fbc41\"],[0.9,\"#4d9221\"],[1,\"#276419\"]]},\"xaxis\":{\"gridcolor\":\"white\",\"linecolor\":\"white\",\"ticks\":\"\",\"title\":{\"standoff\":15},\"zerolinecolor\":\"white\",\"automargin\":true,\"zerolinewidth\":2},\"yaxis\":{\"gridcolor\":\"white\",\"linecolor\":\"white\",\"ticks\":\"\",\"title\":{\"standoff\":15},\"zerolinecolor\":\"white\",\"automargin\":true,\"zerolinewidth\":2},\"scene\":{\"xaxis\":{\"backgroundcolor\":\"#E5ECF6\",\"gridcolor\":\"white\",\"linecolor\":\"white\",\"showbackground\":true,\"ticks\":\"\",\"zerolinecolor\":\"white\",\"gridwidth\":2},\"yaxis\":{\"backgroundcolor\":\"#E5ECF6\",\"gridcolor\":\"white\",\"linecolor\":\"white\",\"showbackground\":true,\"ticks\":\"\",\"zerolinecolor\":\"white\",\"gridwidth\":2},\"zaxis\":{\"backgroundcolor\":\"#E5ECF6\",\"gridcolor\":\"white\",\"linecolor\":\"white\",\"showbackground\":true,\"ticks\":\"\",\"zerolinecolor\":\"white\",\"gridwidth\":2}},\"shapedefaults\":{\"line\":{\"color\":\"#2a3f5f\"}},\"annotationdefaults\":{\"arrowcolor\":\"#2a3f5f\",\"arrowhead\":0,\"arrowwidth\":1},\"geo\":{\"bgcolor\":\"white\",\"landcolor\":\"#E5ECF6\",\"subunitcolor\":\"white\",\"showland\":true,\"showlakes\":true,\"lakecolor\":\"white\"},\"title\":{\"x\":0.05},\"mapbox\":{\"style\":\"light\"}}},\"xaxis\":{\"anchor\":\"y\",\"domain\":[0.0,1.0],\"title\":{\"text\":\"Models\"}},\"yaxis\":{\"anchor\":\"x\",\"domain\":[0.0,1.0],\"title\":{\"text\":\"MSE Values\"}},\"legend\":{\"title\":{\"text\":\"color\"},\"tracegroupgap\":0},\"margin\":{\"t\":60},\"barmode\":\"relative\",\"title\":{\"text\":\"Mean Squared Error (MSE) for batsman\"},\"hovermode\":\"closest\"},                        {\"responsive\": true}                    ).then(function(){\n",
       "                            \n",
       "var gd = document.getElementById('c04e7e1d-af33-4475-80d1-3b273f98317b');\n",
       "var x = new MutationObserver(function (mutations, observer) {{\n",
       "        var display = window.getComputedStyle(gd).display;\n",
       "        if (!display || display === 'none') {{\n",
       "            console.log([gd, 'removed!']);\n",
       "            Plotly.purge(gd);\n",
       "            observer.disconnect();\n",
       "        }}\n",
       "}});\n",
       "\n",
       "// Listen for the removal of the full notebook cells\n",
       "var notebookContainer = gd.closest('#notebook-container');\n",
       "if (notebookContainer) {{\n",
       "    x.observe(notebookContainer, {childList: true});\n",
       "}}\n",
       "\n",
       "// Listen for the clearing of the current output cell\n",
       "var outputEl = gd.closest('.output');\n",
       "if (outputEl) {{\n",
       "    x.observe(outputEl, {childList: true});\n",
       "}}\n",
       "\n",
       "                        })                };                });            </script>        </div>"
      ]
     },
     "metadata": {},
     "output_type": "display_data"
    }
   ],
   "source": [
    "import plotly.express as px\n",
    "\n",
    "\n",
    "# Store the MSE values and their corresponding labels\n",
    "mse_values = [mse_lr_batsman, mse_rf_batsman, mse_gb_batsman]\n",
    "labels = ['lr', 'rf', 'gb']\n",
    "\n",
    "# Create a DataFrame for Plotly\n",
    "data = {'Models': labels, 'MSE Values': mse_values}\n",
    "df = pd.DataFrame(data)\n",
    "\n",
    "# Create an interactive bar graph using Plotly\n",
    "fig = px.bar(df, x='Models', y='MSE Values',color=['blue', 'green', 'orange'])\n",
    "#fig.update_traces(texttemplate='%{text}', textposition='outside')\n",
    "fig.update_layout(\n",
    "    title='Mean Squared Error (MSE) for batsman',\n",
    "    xaxis_title='Models',\n",
    "    yaxis_title='MSE Values',\n",
    "    hovermode='closest',\n",
    ")\n",
    "\n",
    "# Display the interactive graph\n",
    "fig.show()\n"
   ]
  },
  {
   "cell_type": "code",
   "execution_count": 29,
   "id": "580fc5a0",
   "metadata": {},
   "outputs": [
    {
     "data": {
      "application/vnd.plotly.v1+json": {
       "config": {
        "plotlyServerURL": "https://plot.ly"
       },
       "data": [
        {
         "alignmentgroup": "True",
         "hovertemplate": "color=blue<br>Models=%{x}<br>MSE Values=%{y}<extra></extra>",
         "legendgroup": "blue",
         "marker": {
          "color": "#636efa",
          "pattern": {
           "shape": ""
          }
         },
         "name": "blue",
         "offsetgroup": "blue",
         "orientation": "v",
         "showlegend": true,
         "textposition": "auto",
         "type": "bar",
         "x": [
          "lr"
         ],
         "xaxis": "x",
         "y": [
          0.2180657530445222
         ],
         "yaxis": "y"
        },
        {
         "alignmentgroup": "True",
         "hovertemplate": "color=green<br>Models=%{x}<br>MSE Values=%{y}<extra></extra>",
         "legendgroup": "green",
         "marker": {
          "color": "#EF553B",
          "pattern": {
           "shape": ""
          }
         },
         "name": "green",
         "offsetgroup": "green",
         "orientation": "v",
         "showlegend": true,
         "textposition": "auto",
         "type": "bar",
         "x": [
          "rf"
         ],
         "xaxis": "x",
         "y": [
          0.2881239002770084
         ],
         "yaxis": "y"
        },
        {
         "alignmentgroup": "True",
         "hovertemplate": "color=orange<br>Models=%{x}<br>MSE Values=%{y}<extra></extra>",
         "legendgroup": "orange",
         "marker": {
          "color": "#00cc96",
          "pattern": {
           "shape": ""
          }
         },
         "name": "orange",
         "offsetgroup": "orange",
         "orientation": "v",
         "showlegend": true,
         "textposition": "auto",
         "type": "bar",
         "x": [
          "gb"
         ],
         "xaxis": "x",
         "y": [
          0.4448028382331546
         ],
         "yaxis": "y"
        }
       ],
       "layout": {
        "barmode": "relative",
        "hovermode": "closest",
        "legend": {
         "title": {
          "text": "color"
         },
         "tracegroupgap": 0
        },
        "margin": {
         "t": 60
        },
        "template": {
         "data": {
          "bar": [
           {
            "error_x": {
             "color": "#2a3f5f"
            },
            "error_y": {
             "color": "#2a3f5f"
            },
            "marker": {
             "line": {
              "color": "#E5ECF6",
              "width": 0.5
             },
             "pattern": {
              "fillmode": "overlay",
              "size": 10,
              "solidity": 0.2
             }
            },
            "type": "bar"
           }
          ],
          "barpolar": [
           {
            "marker": {
             "line": {
              "color": "#E5ECF6",
              "width": 0.5
             },
             "pattern": {
              "fillmode": "overlay",
              "size": 10,
              "solidity": 0.2
             }
            },
            "type": "barpolar"
           }
          ],
          "carpet": [
           {
            "aaxis": {
             "endlinecolor": "#2a3f5f",
             "gridcolor": "white",
             "linecolor": "white",
             "minorgridcolor": "white",
             "startlinecolor": "#2a3f5f"
            },
            "baxis": {
             "endlinecolor": "#2a3f5f",
             "gridcolor": "white",
             "linecolor": "white",
             "minorgridcolor": "white",
             "startlinecolor": "#2a3f5f"
            },
            "type": "carpet"
           }
          ],
          "choropleth": [
           {
            "colorbar": {
             "outlinewidth": 0,
             "ticks": ""
            },
            "type": "choropleth"
           }
          ],
          "contour": [
           {
            "colorbar": {
             "outlinewidth": 0,
             "ticks": ""
            },
            "colorscale": [
             [
              0,
              "#0d0887"
             ],
             [
              0.1111111111111111,
              "#46039f"
             ],
             [
              0.2222222222222222,
              "#7201a8"
             ],
             [
              0.3333333333333333,
              "#9c179e"
             ],
             [
              0.4444444444444444,
              "#bd3786"
             ],
             [
              0.5555555555555556,
              "#d8576b"
             ],
             [
              0.6666666666666666,
              "#ed7953"
             ],
             [
              0.7777777777777778,
              "#fb9f3a"
             ],
             [
              0.8888888888888888,
              "#fdca26"
             ],
             [
              1,
              "#f0f921"
             ]
            ],
            "type": "contour"
           }
          ],
          "contourcarpet": [
           {
            "colorbar": {
             "outlinewidth": 0,
             "ticks": ""
            },
            "type": "contourcarpet"
           }
          ],
          "heatmap": [
           {
            "colorbar": {
             "outlinewidth": 0,
             "ticks": ""
            },
            "colorscale": [
             [
              0,
              "#0d0887"
             ],
             [
              0.1111111111111111,
              "#46039f"
             ],
             [
              0.2222222222222222,
              "#7201a8"
             ],
             [
              0.3333333333333333,
              "#9c179e"
             ],
             [
              0.4444444444444444,
              "#bd3786"
             ],
             [
              0.5555555555555556,
              "#d8576b"
             ],
             [
              0.6666666666666666,
              "#ed7953"
             ],
             [
              0.7777777777777778,
              "#fb9f3a"
             ],
             [
              0.8888888888888888,
              "#fdca26"
             ],
             [
              1,
              "#f0f921"
             ]
            ],
            "type": "heatmap"
           }
          ],
          "heatmapgl": [
           {
            "colorbar": {
             "outlinewidth": 0,
             "ticks": ""
            },
            "colorscale": [
             [
              0,
              "#0d0887"
             ],
             [
              0.1111111111111111,
              "#46039f"
             ],
             [
              0.2222222222222222,
              "#7201a8"
             ],
             [
              0.3333333333333333,
              "#9c179e"
             ],
             [
              0.4444444444444444,
              "#bd3786"
             ],
             [
              0.5555555555555556,
              "#d8576b"
             ],
             [
              0.6666666666666666,
              "#ed7953"
             ],
             [
              0.7777777777777778,
              "#fb9f3a"
             ],
             [
              0.8888888888888888,
              "#fdca26"
             ],
             [
              1,
              "#f0f921"
             ]
            ],
            "type": "heatmapgl"
           }
          ],
          "histogram": [
           {
            "marker": {
             "pattern": {
              "fillmode": "overlay",
              "size": 10,
              "solidity": 0.2
             }
            },
            "type": "histogram"
           }
          ],
          "histogram2d": [
           {
            "colorbar": {
             "outlinewidth": 0,
             "ticks": ""
            },
            "colorscale": [
             [
              0,
              "#0d0887"
             ],
             [
              0.1111111111111111,
              "#46039f"
             ],
             [
              0.2222222222222222,
              "#7201a8"
             ],
             [
              0.3333333333333333,
              "#9c179e"
             ],
             [
              0.4444444444444444,
              "#bd3786"
             ],
             [
              0.5555555555555556,
              "#d8576b"
             ],
             [
              0.6666666666666666,
              "#ed7953"
             ],
             [
              0.7777777777777778,
              "#fb9f3a"
             ],
             [
              0.8888888888888888,
              "#fdca26"
             ],
             [
              1,
              "#f0f921"
             ]
            ],
            "type": "histogram2d"
           }
          ],
          "histogram2dcontour": [
           {
            "colorbar": {
             "outlinewidth": 0,
             "ticks": ""
            },
            "colorscale": [
             [
              0,
              "#0d0887"
             ],
             [
              0.1111111111111111,
              "#46039f"
             ],
             [
              0.2222222222222222,
              "#7201a8"
             ],
             [
              0.3333333333333333,
              "#9c179e"
             ],
             [
              0.4444444444444444,
              "#bd3786"
             ],
             [
              0.5555555555555556,
              "#d8576b"
             ],
             [
              0.6666666666666666,
              "#ed7953"
             ],
             [
              0.7777777777777778,
              "#fb9f3a"
             ],
             [
              0.8888888888888888,
              "#fdca26"
             ],
             [
              1,
              "#f0f921"
             ]
            ],
            "type": "histogram2dcontour"
           }
          ],
          "mesh3d": [
           {
            "colorbar": {
             "outlinewidth": 0,
             "ticks": ""
            },
            "type": "mesh3d"
           }
          ],
          "parcoords": [
           {
            "line": {
             "colorbar": {
              "outlinewidth": 0,
              "ticks": ""
             }
            },
            "type": "parcoords"
           }
          ],
          "pie": [
           {
            "automargin": true,
            "type": "pie"
           }
          ],
          "scatter": [
           {
            "fillpattern": {
             "fillmode": "overlay",
             "size": 10,
             "solidity": 0.2
            },
            "type": "scatter"
           }
          ],
          "scatter3d": [
           {
            "line": {
             "colorbar": {
              "outlinewidth": 0,
              "ticks": ""
             }
            },
            "marker": {
             "colorbar": {
              "outlinewidth": 0,
              "ticks": ""
             }
            },
            "type": "scatter3d"
           }
          ],
          "scattercarpet": [
           {
            "marker": {
             "colorbar": {
              "outlinewidth": 0,
              "ticks": ""
             }
            },
            "type": "scattercarpet"
           }
          ],
          "scattergeo": [
           {
            "marker": {
             "colorbar": {
              "outlinewidth": 0,
              "ticks": ""
             }
            },
            "type": "scattergeo"
           }
          ],
          "scattergl": [
           {
            "marker": {
             "colorbar": {
              "outlinewidth": 0,
              "ticks": ""
             }
            },
            "type": "scattergl"
           }
          ],
          "scattermapbox": [
           {
            "marker": {
             "colorbar": {
              "outlinewidth": 0,
              "ticks": ""
             }
            },
            "type": "scattermapbox"
           }
          ],
          "scatterpolar": [
           {
            "marker": {
             "colorbar": {
              "outlinewidth": 0,
              "ticks": ""
             }
            },
            "type": "scatterpolar"
           }
          ],
          "scatterpolargl": [
           {
            "marker": {
             "colorbar": {
              "outlinewidth": 0,
              "ticks": ""
             }
            },
            "type": "scatterpolargl"
           }
          ],
          "scatterternary": [
           {
            "marker": {
             "colorbar": {
              "outlinewidth": 0,
              "ticks": ""
             }
            },
            "type": "scatterternary"
           }
          ],
          "surface": [
           {
            "colorbar": {
             "outlinewidth": 0,
             "ticks": ""
            },
            "colorscale": [
             [
              0,
              "#0d0887"
             ],
             [
              0.1111111111111111,
              "#46039f"
             ],
             [
              0.2222222222222222,
              "#7201a8"
             ],
             [
              0.3333333333333333,
              "#9c179e"
             ],
             [
              0.4444444444444444,
              "#bd3786"
             ],
             [
              0.5555555555555556,
              "#d8576b"
             ],
             [
              0.6666666666666666,
              "#ed7953"
             ],
             [
              0.7777777777777778,
              "#fb9f3a"
             ],
             [
              0.8888888888888888,
              "#fdca26"
             ],
             [
              1,
              "#f0f921"
             ]
            ],
            "type": "surface"
           }
          ],
          "table": [
           {
            "cells": {
             "fill": {
              "color": "#EBF0F8"
             },
             "line": {
              "color": "white"
             }
            },
            "header": {
             "fill": {
              "color": "#C8D4E3"
             },
             "line": {
              "color": "white"
             }
            },
            "type": "table"
           }
          ]
         },
         "layout": {
          "annotationdefaults": {
           "arrowcolor": "#2a3f5f",
           "arrowhead": 0,
           "arrowwidth": 1
          },
          "autotypenumbers": "strict",
          "coloraxis": {
           "colorbar": {
            "outlinewidth": 0,
            "ticks": ""
           }
          },
          "colorscale": {
           "diverging": [
            [
             0,
             "#8e0152"
            ],
            [
             0.1,
             "#c51b7d"
            ],
            [
             0.2,
             "#de77ae"
            ],
            [
             0.3,
             "#f1b6da"
            ],
            [
             0.4,
             "#fde0ef"
            ],
            [
             0.5,
             "#f7f7f7"
            ],
            [
             0.6,
             "#e6f5d0"
            ],
            [
             0.7,
             "#b8e186"
            ],
            [
             0.8,
             "#7fbc41"
            ],
            [
             0.9,
             "#4d9221"
            ],
            [
             1,
             "#276419"
            ]
           ],
           "sequential": [
            [
             0,
             "#0d0887"
            ],
            [
             0.1111111111111111,
             "#46039f"
            ],
            [
             0.2222222222222222,
             "#7201a8"
            ],
            [
             0.3333333333333333,
             "#9c179e"
            ],
            [
             0.4444444444444444,
             "#bd3786"
            ],
            [
             0.5555555555555556,
             "#d8576b"
            ],
            [
             0.6666666666666666,
             "#ed7953"
            ],
            [
             0.7777777777777778,
             "#fb9f3a"
            ],
            [
             0.8888888888888888,
             "#fdca26"
            ],
            [
             1,
             "#f0f921"
            ]
           ],
           "sequentialminus": [
            [
             0,
             "#0d0887"
            ],
            [
             0.1111111111111111,
             "#46039f"
            ],
            [
             0.2222222222222222,
             "#7201a8"
            ],
            [
             0.3333333333333333,
             "#9c179e"
            ],
            [
             0.4444444444444444,
             "#bd3786"
            ],
            [
             0.5555555555555556,
             "#d8576b"
            ],
            [
             0.6666666666666666,
             "#ed7953"
            ],
            [
             0.7777777777777778,
             "#fb9f3a"
            ],
            [
             0.8888888888888888,
             "#fdca26"
            ],
            [
             1,
             "#f0f921"
            ]
           ]
          },
          "colorway": [
           "#636efa",
           "#EF553B",
           "#00cc96",
           "#ab63fa",
           "#FFA15A",
           "#19d3f3",
           "#FF6692",
           "#B6E880",
           "#FF97FF",
           "#FECB52"
          ],
          "font": {
           "color": "#2a3f5f"
          },
          "geo": {
           "bgcolor": "white",
           "lakecolor": "white",
           "landcolor": "#E5ECF6",
           "showlakes": true,
           "showland": true,
           "subunitcolor": "white"
          },
          "hoverlabel": {
           "align": "left"
          },
          "hovermode": "closest",
          "mapbox": {
           "style": "light"
          },
          "paper_bgcolor": "white",
          "plot_bgcolor": "#E5ECF6",
          "polar": {
           "angularaxis": {
            "gridcolor": "white",
            "linecolor": "white",
            "ticks": ""
           },
           "bgcolor": "#E5ECF6",
           "radialaxis": {
            "gridcolor": "white",
            "linecolor": "white",
            "ticks": ""
           }
          },
          "scene": {
           "xaxis": {
            "backgroundcolor": "#E5ECF6",
            "gridcolor": "white",
            "gridwidth": 2,
            "linecolor": "white",
            "showbackground": true,
            "ticks": "",
            "zerolinecolor": "white"
           },
           "yaxis": {
            "backgroundcolor": "#E5ECF6",
            "gridcolor": "white",
            "gridwidth": 2,
            "linecolor": "white",
            "showbackground": true,
            "ticks": "",
            "zerolinecolor": "white"
           },
           "zaxis": {
            "backgroundcolor": "#E5ECF6",
            "gridcolor": "white",
            "gridwidth": 2,
            "linecolor": "white",
            "showbackground": true,
            "ticks": "",
            "zerolinecolor": "white"
           }
          },
          "shapedefaults": {
           "line": {
            "color": "#2a3f5f"
           }
          },
          "ternary": {
           "aaxis": {
            "gridcolor": "white",
            "linecolor": "white",
            "ticks": ""
           },
           "baxis": {
            "gridcolor": "white",
            "linecolor": "white",
            "ticks": ""
           },
           "bgcolor": "#E5ECF6",
           "caxis": {
            "gridcolor": "white",
            "linecolor": "white",
            "ticks": ""
           }
          },
          "title": {
           "x": 0.05
          },
          "xaxis": {
           "automargin": true,
           "gridcolor": "white",
           "linecolor": "white",
           "ticks": "",
           "title": {
            "standoff": 15
           },
           "zerolinecolor": "white",
           "zerolinewidth": 2
          },
          "yaxis": {
           "automargin": true,
           "gridcolor": "white",
           "linecolor": "white",
           "ticks": "",
           "title": {
            "standoff": 15
           },
           "zerolinecolor": "white",
           "zerolinewidth": 2
          }
         }
        },
        "title": {
         "text": "Mean Squared Error (MSE) for Bowlers"
        },
        "xaxis": {
         "anchor": "y",
         "domain": [
          0,
          1
         ],
         "title": {
          "text": "Models"
         }
        },
        "yaxis": {
         "anchor": "x",
         "domain": [
          0,
          1
         ],
         "title": {
          "text": "MSE Values"
         }
        }
       }
      },
      "text/html": [
       "<div>                            <div id=\"c19d02de-deb9-4783-b99b-03e45d52f726\" class=\"plotly-graph-div\" style=\"height:525px; width:100%;\"></div>            <script type=\"text/javascript\">                require([\"plotly\"], function(Plotly) {                    window.PLOTLYENV=window.PLOTLYENV || {};                                    if (document.getElementById(\"c19d02de-deb9-4783-b99b-03e45d52f726\")) {                    Plotly.newPlot(                        \"c19d02de-deb9-4783-b99b-03e45d52f726\",                        [{\"alignmentgroup\":\"True\",\"hovertemplate\":\"color=blue<br>Models=%{x}<br>MSE Values=%{y}<extra></extra>\",\"legendgroup\":\"blue\",\"marker\":{\"color\":\"#636efa\",\"pattern\":{\"shape\":\"\"}},\"name\":\"blue\",\"offsetgroup\":\"blue\",\"orientation\":\"v\",\"showlegend\":true,\"textposition\":\"auto\",\"x\":[\"lr\"],\"xaxis\":\"x\",\"y\":[0.2180657530445222],\"yaxis\":\"y\",\"type\":\"bar\"},{\"alignmentgroup\":\"True\",\"hovertemplate\":\"color=green<br>Models=%{x}<br>MSE Values=%{y}<extra></extra>\",\"legendgroup\":\"green\",\"marker\":{\"color\":\"#EF553B\",\"pattern\":{\"shape\":\"\"}},\"name\":\"green\",\"offsetgroup\":\"green\",\"orientation\":\"v\",\"showlegend\":true,\"textposition\":\"auto\",\"x\":[\"rf\"],\"xaxis\":\"x\",\"y\":[0.2881239002770084],\"yaxis\":\"y\",\"type\":\"bar\"},{\"alignmentgroup\":\"True\",\"hovertemplate\":\"color=orange<br>Models=%{x}<br>MSE Values=%{y}<extra></extra>\",\"legendgroup\":\"orange\",\"marker\":{\"color\":\"#00cc96\",\"pattern\":{\"shape\":\"\"}},\"name\":\"orange\",\"offsetgroup\":\"orange\",\"orientation\":\"v\",\"showlegend\":true,\"textposition\":\"auto\",\"x\":[\"gb\"],\"xaxis\":\"x\",\"y\":[0.4448028382331546],\"yaxis\":\"y\",\"type\":\"bar\"}],                        {\"template\":{\"data\":{\"histogram2dcontour\":[{\"type\":\"histogram2dcontour\",\"colorbar\":{\"outlinewidth\":0,\"ticks\":\"\"},\"colorscale\":[[0.0,\"#0d0887\"],[0.1111111111111111,\"#46039f\"],[0.2222222222222222,\"#7201a8\"],[0.3333333333333333,\"#9c179e\"],[0.4444444444444444,\"#bd3786\"],[0.5555555555555556,\"#d8576b\"],[0.6666666666666666,\"#ed7953\"],[0.7777777777777778,\"#fb9f3a\"],[0.8888888888888888,\"#fdca26\"],[1.0,\"#f0f921\"]]}],\"choropleth\":[{\"type\":\"choropleth\",\"colorbar\":{\"outlinewidth\":0,\"ticks\":\"\"}}],\"histogram2d\":[{\"type\":\"histogram2d\",\"colorbar\":{\"outlinewidth\":0,\"ticks\":\"\"},\"colorscale\":[[0.0,\"#0d0887\"],[0.1111111111111111,\"#46039f\"],[0.2222222222222222,\"#7201a8\"],[0.3333333333333333,\"#9c179e\"],[0.4444444444444444,\"#bd3786\"],[0.5555555555555556,\"#d8576b\"],[0.6666666666666666,\"#ed7953\"],[0.7777777777777778,\"#fb9f3a\"],[0.8888888888888888,\"#fdca26\"],[1.0,\"#f0f921\"]]}],\"heatmap\":[{\"type\":\"heatmap\",\"colorbar\":{\"outlinewidth\":0,\"ticks\":\"\"},\"colorscale\":[[0.0,\"#0d0887\"],[0.1111111111111111,\"#46039f\"],[0.2222222222222222,\"#7201a8\"],[0.3333333333333333,\"#9c179e\"],[0.4444444444444444,\"#bd3786\"],[0.5555555555555556,\"#d8576b\"],[0.6666666666666666,\"#ed7953\"],[0.7777777777777778,\"#fb9f3a\"],[0.8888888888888888,\"#fdca26\"],[1.0,\"#f0f921\"]]}],\"heatmapgl\":[{\"type\":\"heatmapgl\",\"colorbar\":{\"outlinewidth\":0,\"ticks\":\"\"},\"colorscale\":[[0.0,\"#0d0887\"],[0.1111111111111111,\"#46039f\"],[0.2222222222222222,\"#7201a8\"],[0.3333333333333333,\"#9c179e\"],[0.4444444444444444,\"#bd3786\"],[0.5555555555555556,\"#d8576b\"],[0.6666666666666666,\"#ed7953\"],[0.7777777777777778,\"#fb9f3a\"],[0.8888888888888888,\"#fdca26\"],[1.0,\"#f0f921\"]]}],\"contourcarpet\":[{\"type\":\"contourcarpet\",\"colorbar\":{\"outlinewidth\":0,\"ticks\":\"\"}}],\"contour\":[{\"type\":\"contour\",\"colorbar\":{\"outlinewidth\":0,\"ticks\":\"\"},\"colorscale\":[[0.0,\"#0d0887\"],[0.1111111111111111,\"#46039f\"],[0.2222222222222222,\"#7201a8\"],[0.3333333333333333,\"#9c179e\"],[0.4444444444444444,\"#bd3786\"],[0.5555555555555556,\"#d8576b\"],[0.6666666666666666,\"#ed7953\"],[0.7777777777777778,\"#fb9f3a\"],[0.8888888888888888,\"#fdca26\"],[1.0,\"#f0f921\"]]}],\"surface\":[{\"type\":\"surface\",\"colorbar\":{\"outlinewidth\":0,\"ticks\":\"\"},\"colorscale\":[[0.0,\"#0d0887\"],[0.1111111111111111,\"#46039f\"],[0.2222222222222222,\"#7201a8\"],[0.3333333333333333,\"#9c179e\"],[0.4444444444444444,\"#bd3786\"],[0.5555555555555556,\"#d8576b\"],[0.6666666666666666,\"#ed7953\"],[0.7777777777777778,\"#fb9f3a\"],[0.8888888888888888,\"#fdca26\"],[1.0,\"#f0f921\"]]}],\"mesh3d\":[{\"type\":\"mesh3d\",\"colorbar\":{\"outlinewidth\":0,\"ticks\":\"\"}}],\"scatter\":[{\"fillpattern\":{\"fillmode\":\"overlay\",\"size\":10,\"solidity\":0.2},\"type\":\"scatter\"}],\"parcoords\":[{\"type\":\"parcoords\",\"line\":{\"colorbar\":{\"outlinewidth\":0,\"ticks\":\"\"}}}],\"scatterpolargl\":[{\"type\":\"scatterpolargl\",\"marker\":{\"colorbar\":{\"outlinewidth\":0,\"ticks\":\"\"}}}],\"bar\":[{\"error_x\":{\"color\":\"#2a3f5f\"},\"error_y\":{\"color\":\"#2a3f5f\"},\"marker\":{\"line\":{\"color\":\"#E5ECF6\",\"width\":0.5},\"pattern\":{\"fillmode\":\"overlay\",\"size\":10,\"solidity\":0.2}},\"type\":\"bar\"}],\"scattergeo\":[{\"type\":\"scattergeo\",\"marker\":{\"colorbar\":{\"outlinewidth\":0,\"ticks\":\"\"}}}],\"scatterpolar\":[{\"type\":\"scatterpolar\",\"marker\":{\"colorbar\":{\"outlinewidth\":0,\"ticks\":\"\"}}}],\"histogram\":[{\"marker\":{\"pattern\":{\"fillmode\":\"overlay\",\"size\":10,\"solidity\":0.2}},\"type\":\"histogram\"}],\"scattergl\":[{\"type\":\"scattergl\",\"marker\":{\"colorbar\":{\"outlinewidth\":0,\"ticks\":\"\"}}}],\"scatter3d\":[{\"type\":\"scatter3d\",\"line\":{\"colorbar\":{\"outlinewidth\":0,\"ticks\":\"\"}},\"marker\":{\"colorbar\":{\"outlinewidth\":0,\"ticks\":\"\"}}}],\"scattermapbox\":[{\"type\":\"scattermapbox\",\"marker\":{\"colorbar\":{\"outlinewidth\":0,\"ticks\":\"\"}}}],\"scatterternary\":[{\"type\":\"scatterternary\",\"marker\":{\"colorbar\":{\"outlinewidth\":0,\"ticks\":\"\"}}}],\"scattercarpet\":[{\"type\":\"scattercarpet\",\"marker\":{\"colorbar\":{\"outlinewidth\":0,\"ticks\":\"\"}}}],\"carpet\":[{\"aaxis\":{\"endlinecolor\":\"#2a3f5f\",\"gridcolor\":\"white\",\"linecolor\":\"white\",\"minorgridcolor\":\"white\",\"startlinecolor\":\"#2a3f5f\"},\"baxis\":{\"endlinecolor\":\"#2a3f5f\",\"gridcolor\":\"white\",\"linecolor\":\"white\",\"minorgridcolor\":\"white\",\"startlinecolor\":\"#2a3f5f\"},\"type\":\"carpet\"}],\"table\":[{\"cells\":{\"fill\":{\"color\":\"#EBF0F8\"},\"line\":{\"color\":\"white\"}},\"header\":{\"fill\":{\"color\":\"#C8D4E3\"},\"line\":{\"color\":\"white\"}},\"type\":\"table\"}],\"barpolar\":[{\"marker\":{\"line\":{\"color\":\"#E5ECF6\",\"width\":0.5},\"pattern\":{\"fillmode\":\"overlay\",\"size\":10,\"solidity\":0.2}},\"type\":\"barpolar\"}],\"pie\":[{\"automargin\":true,\"type\":\"pie\"}]},\"layout\":{\"autotypenumbers\":\"strict\",\"colorway\":[\"#636efa\",\"#EF553B\",\"#00cc96\",\"#ab63fa\",\"#FFA15A\",\"#19d3f3\",\"#FF6692\",\"#B6E880\",\"#FF97FF\",\"#FECB52\"],\"font\":{\"color\":\"#2a3f5f\"},\"hovermode\":\"closest\",\"hoverlabel\":{\"align\":\"left\"},\"paper_bgcolor\":\"white\",\"plot_bgcolor\":\"#E5ECF6\",\"polar\":{\"bgcolor\":\"#E5ECF6\",\"angularaxis\":{\"gridcolor\":\"white\",\"linecolor\":\"white\",\"ticks\":\"\"},\"radialaxis\":{\"gridcolor\":\"white\",\"linecolor\":\"white\",\"ticks\":\"\"}},\"ternary\":{\"bgcolor\":\"#E5ECF6\",\"aaxis\":{\"gridcolor\":\"white\",\"linecolor\":\"white\",\"ticks\":\"\"},\"baxis\":{\"gridcolor\":\"white\",\"linecolor\":\"white\",\"ticks\":\"\"},\"caxis\":{\"gridcolor\":\"white\",\"linecolor\":\"white\",\"ticks\":\"\"}},\"coloraxis\":{\"colorbar\":{\"outlinewidth\":0,\"ticks\":\"\"}},\"colorscale\":{\"sequential\":[[0.0,\"#0d0887\"],[0.1111111111111111,\"#46039f\"],[0.2222222222222222,\"#7201a8\"],[0.3333333333333333,\"#9c179e\"],[0.4444444444444444,\"#bd3786\"],[0.5555555555555556,\"#d8576b\"],[0.6666666666666666,\"#ed7953\"],[0.7777777777777778,\"#fb9f3a\"],[0.8888888888888888,\"#fdca26\"],[1.0,\"#f0f921\"]],\"sequentialminus\":[[0.0,\"#0d0887\"],[0.1111111111111111,\"#46039f\"],[0.2222222222222222,\"#7201a8\"],[0.3333333333333333,\"#9c179e\"],[0.4444444444444444,\"#bd3786\"],[0.5555555555555556,\"#d8576b\"],[0.6666666666666666,\"#ed7953\"],[0.7777777777777778,\"#fb9f3a\"],[0.8888888888888888,\"#fdca26\"],[1.0,\"#f0f921\"]],\"diverging\":[[0,\"#8e0152\"],[0.1,\"#c51b7d\"],[0.2,\"#de77ae\"],[0.3,\"#f1b6da\"],[0.4,\"#fde0ef\"],[0.5,\"#f7f7f7\"],[0.6,\"#e6f5d0\"],[0.7,\"#b8e186\"],[0.8,\"#7fbc41\"],[0.9,\"#4d9221\"],[1,\"#276419\"]]},\"xaxis\":{\"gridcolor\":\"white\",\"linecolor\":\"white\",\"ticks\":\"\",\"title\":{\"standoff\":15},\"zerolinecolor\":\"white\",\"automargin\":true,\"zerolinewidth\":2},\"yaxis\":{\"gridcolor\":\"white\",\"linecolor\":\"white\",\"ticks\":\"\",\"title\":{\"standoff\":15},\"zerolinecolor\":\"white\",\"automargin\":true,\"zerolinewidth\":2},\"scene\":{\"xaxis\":{\"backgroundcolor\":\"#E5ECF6\",\"gridcolor\":\"white\",\"linecolor\":\"white\",\"showbackground\":true,\"ticks\":\"\",\"zerolinecolor\":\"white\",\"gridwidth\":2},\"yaxis\":{\"backgroundcolor\":\"#E5ECF6\",\"gridcolor\":\"white\",\"linecolor\":\"white\",\"showbackground\":true,\"ticks\":\"\",\"zerolinecolor\":\"white\",\"gridwidth\":2},\"zaxis\":{\"backgroundcolor\":\"#E5ECF6\",\"gridcolor\":\"white\",\"linecolor\":\"white\",\"showbackground\":true,\"ticks\":\"\",\"zerolinecolor\":\"white\",\"gridwidth\":2}},\"shapedefaults\":{\"line\":{\"color\":\"#2a3f5f\"}},\"annotationdefaults\":{\"arrowcolor\":\"#2a3f5f\",\"arrowhead\":0,\"arrowwidth\":1},\"geo\":{\"bgcolor\":\"white\",\"landcolor\":\"#E5ECF6\",\"subunitcolor\":\"white\",\"showland\":true,\"showlakes\":true,\"lakecolor\":\"white\"},\"title\":{\"x\":0.05},\"mapbox\":{\"style\":\"light\"}}},\"xaxis\":{\"anchor\":\"y\",\"domain\":[0.0,1.0],\"title\":{\"text\":\"Models\"}},\"yaxis\":{\"anchor\":\"x\",\"domain\":[0.0,1.0],\"title\":{\"text\":\"MSE Values\"}},\"legend\":{\"title\":{\"text\":\"color\"},\"tracegroupgap\":0},\"margin\":{\"t\":60},\"barmode\":\"relative\",\"title\":{\"text\":\"Mean Squared Error (MSE) for Bowlers\"},\"hovermode\":\"closest\"},                        {\"responsive\": true}                    ).then(function(){\n",
       "                            \n",
       "var gd = document.getElementById('c19d02de-deb9-4783-b99b-03e45d52f726');\n",
       "var x = new MutationObserver(function (mutations, observer) {{\n",
       "        var display = window.getComputedStyle(gd).display;\n",
       "        if (!display || display === 'none') {{\n",
       "            console.log([gd, 'removed!']);\n",
       "            Plotly.purge(gd);\n",
       "            observer.disconnect();\n",
       "        }}\n",
       "}});\n",
       "\n",
       "// Listen for the removal of the full notebook cells\n",
       "var notebookContainer = gd.closest('#notebook-container');\n",
       "if (notebookContainer) {{\n",
       "    x.observe(notebookContainer, {childList: true});\n",
       "}}\n",
       "\n",
       "// Listen for the clearing of the current output cell\n",
       "var outputEl = gd.closest('.output');\n",
       "if (outputEl) {{\n",
       "    x.observe(outputEl, {childList: true});\n",
       "}}\n",
       "\n",
       "                        })                };                });            </script>        </div>"
      ]
     },
     "metadata": {},
     "output_type": "display_data"
    }
   ],
   "source": [
    "import plotly.express as px\n",
    "\n",
    "\n",
    "# Store the MSE values and their corresponding labels\n",
    "mse_values = [mse_lr_bowler, mse_rf_bowler, mse_gb_bowler]\n",
    "labels = ['lr', 'rf', 'gb']\n",
    "\n",
    "# Create a DataFrame for Plotly\n",
    "data = {'Models': labels, 'MSE Values': mse_values}\n",
    "df = pd.DataFrame(data)\n",
    "\n",
    "# Create an interactive bar graph using Plotly\n",
    "fig = px.bar(df, x='Models', y='MSE Values',color=['blue', 'green', 'orange'])\n",
    "#fig.update_traces(texttemplate='%{text}', textposition='outside')\n",
    "fig.update_layout(\n",
    "    title='Mean Squared Error (MSE) for Bowlers',\n",
    "    xaxis_title='Models',\n",
    "    yaxis_title='MSE Values',\n",
    "    hovermode='closest',\n",
    ")\n",
    "\n",
    "# Display the interactive graph\n",
    "fig.show()\n"
   ]
  },
  {
   "cell_type": "code",
   "execution_count": 30,
   "id": "89e98342",
   "metadata": {},
   "outputs": [
    {
     "data": {
      "application/vnd.plotly.v1+json": {
       "config": {
        "plotlyServerURL": "https://plot.ly"
       },
       "data": [
        {
         "alignmentgroup": "True",
         "hovertemplate": "color=blue<br>Models=%{x}<br>MSE Values=%{y}<extra></extra>",
         "legendgroup": "blue",
         "marker": {
          "color": "#636efa",
          "pattern": {
           "shape": ""
          }
         },
         "name": "blue",
         "offsetgroup": "blue",
         "orientation": "v",
         "showlegend": true,
         "textposition": "auto",
         "type": "bar",
         "x": [
          "lr"
         ],
         "xaxis": "x",
         "y": [
          0.7967639353119917
         ],
         "yaxis": "y"
        },
        {
         "alignmentgroup": "True",
         "hovertemplate": "color=green<br>Models=%{x}<br>MSE Values=%{y}<extra></extra>",
         "legendgroup": "green",
         "marker": {
          "color": "#EF553B",
          "pattern": {
           "shape": ""
          }
         },
         "name": "green",
         "offsetgroup": "green",
         "orientation": "v",
         "showlegend": true,
         "textposition": "auto",
         "type": "bar",
         "x": [
          "rf"
         ],
         "xaxis": "x",
         "y": [
          0.9705888402585412
         ],
         "yaxis": "y"
        },
        {
         "alignmentgroup": "True",
         "hovertemplate": "color=orange<br>Models=%{x}<br>MSE Values=%{y}<extra></extra>",
         "legendgroup": "orange",
         "marker": {
          "color": "#00cc96",
          "pattern": {
           "shape": ""
          }
         },
         "name": "orange",
         "offsetgroup": "orange",
         "orientation": "v",
         "showlegend": true,
         "textposition": "auto",
         "type": "bar",
         "x": [
          "gb"
         ],
         "xaxis": "x",
         "y": [
          0.8784269873302838
         ],
         "yaxis": "y"
        }
       ],
       "layout": {
        "barmode": "relative",
        "hovermode": "closest",
        "legend": {
         "title": {
          "text": "color"
         },
         "tracegroupgap": 0
        },
        "margin": {
         "t": 60
        },
        "template": {
         "data": {
          "bar": [
           {
            "error_x": {
             "color": "#2a3f5f"
            },
            "error_y": {
             "color": "#2a3f5f"
            },
            "marker": {
             "line": {
              "color": "#E5ECF6",
              "width": 0.5
             },
             "pattern": {
              "fillmode": "overlay",
              "size": 10,
              "solidity": 0.2
             }
            },
            "type": "bar"
           }
          ],
          "barpolar": [
           {
            "marker": {
             "line": {
              "color": "#E5ECF6",
              "width": 0.5
             },
             "pattern": {
              "fillmode": "overlay",
              "size": 10,
              "solidity": 0.2
             }
            },
            "type": "barpolar"
           }
          ],
          "carpet": [
           {
            "aaxis": {
             "endlinecolor": "#2a3f5f",
             "gridcolor": "white",
             "linecolor": "white",
             "minorgridcolor": "white",
             "startlinecolor": "#2a3f5f"
            },
            "baxis": {
             "endlinecolor": "#2a3f5f",
             "gridcolor": "white",
             "linecolor": "white",
             "minorgridcolor": "white",
             "startlinecolor": "#2a3f5f"
            },
            "type": "carpet"
           }
          ],
          "choropleth": [
           {
            "colorbar": {
             "outlinewidth": 0,
             "ticks": ""
            },
            "type": "choropleth"
           }
          ],
          "contour": [
           {
            "colorbar": {
             "outlinewidth": 0,
             "ticks": ""
            },
            "colorscale": [
             [
              0,
              "#0d0887"
             ],
             [
              0.1111111111111111,
              "#46039f"
             ],
             [
              0.2222222222222222,
              "#7201a8"
             ],
             [
              0.3333333333333333,
              "#9c179e"
             ],
             [
              0.4444444444444444,
              "#bd3786"
             ],
             [
              0.5555555555555556,
              "#d8576b"
             ],
             [
              0.6666666666666666,
              "#ed7953"
             ],
             [
              0.7777777777777778,
              "#fb9f3a"
             ],
             [
              0.8888888888888888,
              "#fdca26"
             ],
             [
              1,
              "#f0f921"
             ]
            ],
            "type": "contour"
           }
          ],
          "contourcarpet": [
           {
            "colorbar": {
             "outlinewidth": 0,
             "ticks": ""
            },
            "type": "contourcarpet"
           }
          ],
          "heatmap": [
           {
            "colorbar": {
             "outlinewidth": 0,
             "ticks": ""
            },
            "colorscale": [
             [
              0,
              "#0d0887"
             ],
             [
              0.1111111111111111,
              "#46039f"
             ],
             [
              0.2222222222222222,
              "#7201a8"
             ],
             [
              0.3333333333333333,
              "#9c179e"
             ],
             [
              0.4444444444444444,
              "#bd3786"
             ],
             [
              0.5555555555555556,
              "#d8576b"
             ],
             [
              0.6666666666666666,
              "#ed7953"
             ],
             [
              0.7777777777777778,
              "#fb9f3a"
             ],
             [
              0.8888888888888888,
              "#fdca26"
             ],
             [
              1,
              "#f0f921"
             ]
            ],
            "type": "heatmap"
           }
          ],
          "heatmapgl": [
           {
            "colorbar": {
             "outlinewidth": 0,
             "ticks": ""
            },
            "colorscale": [
             [
              0,
              "#0d0887"
             ],
             [
              0.1111111111111111,
              "#46039f"
             ],
             [
              0.2222222222222222,
              "#7201a8"
             ],
             [
              0.3333333333333333,
              "#9c179e"
             ],
             [
              0.4444444444444444,
              "#bd3786"
             ],
             [
              0.5555555555555556,
              "#d8576b"
             ],
             [
              0.6666666666666666,
              "#ed7953"
             ],
             [
              0.7777777777777778,
              "#fb9f3a"
             ],
             [
              0.8888888888888888,
              "#fdca26"
             ],
             [
              1,
              "#f0f921"
             ]
            ],
            "type": "heatmapgl"
           }
          ],
          "histogram": [
           {
            "marker": {
             "pattern": {
              "fillmode": "overlay",
              "size": 10,
              "solidity": 0.2
             }
            },
            "type": "histogram"
           }
          ],
          "histogram2d": [
           {
            "colorbar": {
             "outlinewidth": 0,
             "ticks": ""
            },
            "colorscale": [
             [
              0,
              "#0d0887"
             ],
             [
              0.1111111111111111,
              "#46039f"
             ],
             [
              0.2222222222222222,
              "#7201a8"
             ],
             [
              0.3333333333333333,
              "#9c179e"
             ],
             [
              0.4444444444444444,
              "#bd3786"
             ],
             [
              0.5555555555555556,
              "#d8576b"
             ],
             [
              0.6666666666666666,
              "#ed7953"
             ],
             [
              0.7777777777777778,
              "#fb9f3a"
             ],
             [
              0.8888888888888888,
              "#fdca26"
             ],
             [
              1,
              "#f0f921"
             ]
            ],
            "type": "histogram2d"
           }
          ],
          "histogram2dcontour": [
           {
            "colorbar": {
             "outlinewidth": 0,
             "ticks": ""
            },
            "colorscale": [
             [
              0,
              "#0d0887"
             ],
             [
              0.1111111111111111,
              "#46039f"
             ],
             [
              0.2222222222222222,
              "#7201a8"
             ],
             [
              0.3333333333333333,
              "#9c179e"
             ],
             [
              0.4444444444444444,
              "#bd3786"
             ],
             [
              0.5555555555555556,
              "#d8576b"
             ],
             [
              0.6666666666666666,
              "#ed7953"
             ],
             [
              0.7777777777777778,
              "#fb9f3a"
             ],
             [
              0.8888888888888888,
              "#fdca26"
             ],
             [
              1,
              "#f0f921"
             ]
            ],
            "type": "histogram2dcontour"
           }
          ],
          "mesh3d": [
           {
            "colorbar": {
             "outlinewidth": 0,
             "ticks": ""
            },
            "type": "mesh3d"
           }
          ],
          "parcoords": [
           {
            "line": {
             "colorbar": {
              "outlinewidth": 0,
              "ticks": ""
             }
            },
            "type": "parcoords"
           }
          ],
          "pie": [
           {
            "automargin": true,
            "type": "pie"
           }
          ],
          "scatter": [
           {
            "fillpattern": {
             "fillmode": "overlay",
             "size": 10,
             "solidity": 0.2
            },
            "type": "scatter"
           }
          ],
          "scatter3d": [
           {
            "line": {
             "colorbar": {
              "outlinewidth": 0,
              "ticks": ""
             }
            },
            "marker": {
             "colorbar": {
              "outlinewidth": 0,
              "ticks": ""
             }
            },
            "type": "scatter3d"
           }
          ],
          "scattercarpet": [
           {
            "marker": {
             "colorbar": {
              "outlinewidth": 0,
              "ticks": ""
             }
            },
            "type": "scattercarpet"
           }
          ],
          "scattergeo": [
           {
            "marker": {
             "colorbar": {
              "outlinewidth": 0,
              "ticks": ""
             }
            },
            "type": "scattergeo"
           }
          ],
          "scattergl": [
           {
            "marker": {
             "colorbar": {
              "outlinewidth": 0,
              "ticks": ""
             }
            },
            "type": "scattergl"
           }
          ],
          "scattermapbox": [
           {
            "marker": {
             "colorbar": {
              "outlinewidth": 0,
              "ticks": ""
             }
            },
            "type": "scattermapbox"
           }
          ],
          "scatterpolar": [
           {
            "marker": {
             "colorbar": {
              "outlinewidth": 0,
              "ticks": ""
             }
            },
            "type": "scatterpolar"
           }
          ],
          "scatterpolargl": [
           {
            "marker": {
             "colorbar": {
              "outlinewidth": 0,
              "ticks": ""
             }
            },
            "type": "scatterpolargl"
           }
          ],
          "scatterternary": [
           {
            "marker": {
             "colorbar": {
              "outlinewidth": 0,
              "ticks": ""
             }
            },
            "type": "scatterternary"
           }
          ],
          "surface": [
           {
            "colorbar": {
             "outlinewidth": 0,
             "ticks": ""
            },
            "colorscale": [
             [
              0,
              "#0d0887"
             ],
             [
              0.1111111111111111,
              "#46039f"
             ],
             [
              0.2222222222222222,
              "#7201a8"
             ],
             [
              0.3333333333333333,
              "#9c179e"
             ],
             [
              0.4444444444444444,
              "#bd3786"
             ],
             [
              0.5555555555555556,
              "#d8576b"
             ],
             [
              0.6666666666666666,
              "#ed7953"
             ],
             [
              0.7777777777777778,
              "#fb9f3a"
             ],
             [
              0.8888888888888888,
              "#fdca26"
             ],
             [
              1,
              "#f0f921"
             ]
            ],
            "type": "surface"
           }
          ],
          "table": [
           {
            "cells": {
             "fill": {
              "color": "#EBF0F8"
             },
             "line": {
              "color": "white"
             }
            },
            "header": {
             "fill": {
              "color": "#C8D4E3"
             },
             "line": {
              "color": "white"
             }
            },
            "type": "table"
           }
          ]
         },
         "layout": {
          "annotationdefaults": {
           "arrowcolor": "#2a3f5f",
           "arrowhead": 0,
           "arrowwidth": 1
          },
          "autotypenumbers": "strict",
          "coloraxis": {
           "colorbar": {
            "outlinewidth": 0,
            "ticks": ""
           }
          },
          "colorscale": {
           "diverging": [
            [
             0,
             "#8e0152"
            ],
            [
             0.1,
             "#c51b7d"
            ],
            [
             0.2,
             "#de77ae"
            ],
            [
             0.3,
             "#f1b6da"
            ],
            [
             0.4,
             "#fde0ef"
            ],
            [
             0.5,
             "#f7f7f7"
            ],
            [
             0.6,
             "#e6f5d0"
            ],
            [
             0.7,
             "#b8e186"
            ],
            [
             0.8,
             "#7fbc41"
            ],
            [
             0.9,
             "#4d9221"
            ],
            [
             1,
             "#276419"
            ]
           ],
           "sequential": [
            [
             0,
             "#0d0887"
            ],
            [
             0.1111111111111111,
             "#46039f"
            ],
            [
             0.2222222222222222,
             "#7201a8"
            ],
            [
             0.3333333333333333,
             "#9c179e"
            ],
            [
             0.4444444444444444,
             "#bd3786"
            ],
            [
             0.5555555555555556,
             "#d8576b"
            ],
            [
             0.6666666666666666,
             "#ed7953"
            ],
            [
             0.7777777777777778,
             "#fb9f3a"
            ],
            [
             0.8888888888888888,
             "#fdca26"
            ],
            [
             1,
             "#f0f921"
            ]
           ],
           "sequentialminus": [
            [
             0,
             "#0d0887"
            ],
            [
             0.1111111111111111,
             "#46039f"
            ],
            [
             0.2222222222222222,
             "#7201a8"
            ],
            [
             0.3333333333333333,
             "#9c179e"
            ],
            [
             0.4444444444444444,
             "#bd3786"
            ],
            [
             0.5555555555555556,
             "#d8576b"
            ],
            [
             0.6666666666666666,
             "#ed7953"
            ],
            [
             0.7777777777777778,
             "#fb9f3a"
            ],
            [
             0.8888888888888888,
             "#fdca26"
            ],
            [
             1,
             "#f0f921"
            ]
           ]
          },
          "colorway": [
           "#636efa",
           "#EF553B",
           "#00cc96",
           "#ab63fa",
           "#FFA15A",
           "#19d3f3",
           "#FF6692",
           "#B6E880",
           "#FF97FF",
           "#FECB52"
          ],
          "font": {
           "color": "#2a3f5f"
          },
          "geo": {
           "bgcolor": "white",
           "lakecolor": "white",
           "landcolor": "#E5ECF6",
           "showlakes": true,
           "showland": true,
           "subunitcolor": "white"
          },
          "hoverlabel": {
           "align": "left"
          },
          "hovermode": "closest",
          "mapbox": {
           "style": "light"
          },
          "paper_bgcolor": "white",
          "plot_bgcolor": "#E5ECF6",
          "polar": {
           "angularaxis": {
            "gridcolor": "white",
            "linecolor": "white",
            "ticks": ""
           },
           "bgcolor": "#E5ECF6",
           "radialaxis": {
            "gridcolor": "white",
            "linecolor": "white",
            "ticks": ""
           }
          },
          "scene": {
           "xaxis": {
            "backgroundcolor": "#E5ECF6",
            "gridcolor": "white",
            "gridwidth": 2,
            "linecolor": "white",
            "showbackground": true,
            "ticks": "",
            "zerolinecolor": "white"
           },
           "yaxis": {
            "backgroundcolor": "#E5ECF6",
            "gridcolor": "white",
            "gridwidth": 2,
            "linecolor": "white",
            "showbackground": true,
            "ticks": "",
            "zerolinecolor": "white"
           },
           "zaxis": {
            "backgroundcolor": "#E5ECF6",
            "gridcolor": "white",
            "gridwidth": 2,
            "linecolor": "white",
            "showbackground": true,
            "ticks": "",
            "zerolinecolor": "white"
           }
          },
          "shapedefaults": {
           "line": {
            "color": "#2a3f5f"
           }
          },
          "ternary": {
           "aaxis": {
            "gridcolor": "white",
            "linecolor": "white",
            "ticks": ""
           },
           "baxis": {
            "gridcolor": "white",
            "linecolor": "white",
            "ticks": ""
           },
           "bgcolor": "#E5ECF6",
           "caxis": {
            "gridcolor": "white",
            "linecolor": "white",
            "ticks": ""
           }
          },
          "title": {
           "x": 0.05
          },
          "xaxis": {
           "automargin": true,
           "gridcolor": "white",
           "linecolor": "white",
           "ticks": "",
           "title": {
            "standoff": 15
           },
           "zerolinecolor": "white",
           "zerolinewidth": 2
          },
          "yaxis": {
           "automargin": true,
           "gridcolor": "white",
           "linecolor": "white",
           "ticks": "",
           "title": {
            "standoff": 15
           },
           "zerolinecolor": "white",
           "zerolinewidth": 2
          }
         }
        },
        "title": {
         "text": "Mean Squared Error (MSE) for all-rounders"
        },
        "xaxis": {
         "anchor": "y",
         "domain": [
          0,
          1
         ],
         "title": {
          "text": "Models"
         }
        },
        "yaxis": {
         "anchor": "x",
         "domain": [
          0,
          1
         ],
         "title": {
          "text": "MSE Values"
         }
        }
       }
      },
      "text/html": [
       "<div>                            <div id=\"6df46bc8-8bb5-4be8-bd21-f53c5ffeaee5\" class=\"plotly-graph-div\" style=\"height:525px; width:100%;\"></div>            <script type=\"text/javascript\">                require([\"plotly\"], function(Plotly) {                    window.PLOTLYENV=window.PLOTLYENV || {};                                    if (document.getElementById(\"6df46bc8-8bb5-4be8-bd21-f53c5ffeaee5\")) {                    Plotly.newPlot(                        \"6df46bc8-8bb5-4be8-bd21-f53c5ffeaee5\",                        [{\"alignmentgroup\":\"True\",\"hovertemplate\":\"color=blue<br>Models=%{x}<br>MSE Values=%{y}<extra></extra>\",\"legendgroup\":\"blue\",\"marker\":{\"color\":\"#636efa\",\"pattern\":{\"shape\":\"\"}},\"name\":\"blue\",\"offsetgroup\":\"blue\",\"orientation\":\"v\",\"showlegend\":true,\"textposition\":\"auto\",\"x\":[\"lr\"],\"xaxis\":\"x\",\"y\":[0.7967639353119917],\"yaxis\":\"y\",\"type\":\"bar\"},{\"alignmentgroup\":\"True\",\"hovertemplate\":\"color=green<br>Models=%{x}<br>MSE Values=%{y}<extra></extra>\",\"legendgroup\":\"green\",\"marker\":{\"color\":\"#EF553B\",\"pattern\":{\"shape\":\"\"}},\"name\":\"green\",\"offsetgroup\":\"green\",\"orientation\":\"v\",\"showlegend\":true,\"textposition\":\"auto\",\"x\":[\"rf\"],\"xaxis\":\"x\",\"y\":[0.9705888402585412],\"yaxis\":\"y\",\"type\":\"bar\"},{\"alignmentgroup\":\"True\",\"hovertemplate\":\"color=orange<br>Models=%{x}<br>MSE Values=%{y}<extra></extra>\",\"legendgroup\":\"orange\",\"marker\":{\"color\":\"#00cc96\",\"pattern\":{\"shape\":\"\"}},\"name\":\"orange\",\"offsetgroup\":\"orange\",\"orientation\":\"v\",\"showlegend\":true,\"textposition\":\"auto\",\"x\":[\"gb\"],\"xaxis\":\"x\",\"y\":[0.8784269873302838],\"yaxis\":\"y\",\"type\":\"bar\"}],                        {\"template\":{\"data\":{\"histogram2dcontour\":[{\"type\":\"histogram2dcontour\",\"colorbar\":{\"outlinewidth\":0,\"ticks\":\"\"},\"colorscale\":[[0.0,\"#0d0887\"],[0.1111111111111111,\"#46039f\"],[0.2222222222222222,\"#7201a8\"],[0.3333333333333333,\"#9c179e\"],[0.4444444444444444,\"#bd3786\"],[0.5555555555555556,\"#d8576b\"],[0.6666666666666666,\"#ed7953\"],[0.7777777777777778,\"#fb9f3a\"],[0.8888888888888888,\"#fdca26\"],[1.0,\"#f0f921\"]]}],\"choropleth\":[{\"type\":\"choropleth\",\"colorbar\":{\"outlinewidth\":0,\"ticks\":\"\"}}],\"histogram2d\":[{\"type\":\"histogram2d\",\"colorbar\":{\"outlinewidth\":0,\"ticks\":\"\"},\"colorscale\":[[0.0,\"#0d0887\"],[0.1111111111111111,\"#46039f\"],[0.2222222222222222,\"#7201a8\"],[0.3333333333333333,\"#9c179e\"],[0.4444444444444444,\"#bd3786\"],[0.5555555555555556,\"#d8576b\"],[0.6666666666666666,\"#ed7953\"],[0.7777777777777778,\"#fb9f3a\"],[0.8888888888888888,\"#fdca26\"],[1.0,\"#f0f921\"]]}],\"heatmap\":[{\"type\":\"heatmap\",\"colorbar\":{\"outlinewidth\":0,\"ticks\":\"\"},\"colorscale\":[[0.0,\"#0d0887\"],[0.1111111111111111,\"#46039f\"],[0.2222222222222222,\"#7201a8\"],[0.3333333333333333,\"#9c179e\"],[0.4444444444444444,\"#bd3786\"],[0.5555555555555556,\"#d8576b\"],[0.6666666666666666,\"#ed7953\"],[0.7777777777777778,\"#fb9f3a\"],[0.8888888888888888,\"#fdca26\"],[1.0,\"#f0f921\"]]}],\"heatmapgl\":[{\"type\":\"heatmapgl\",\"colorbar\":{\"outlinewidth\":0,\"ticks\":\"\"},\"colorscale\":[[0.0,\"#0d0887\"],[0.1111111111111111,\"#46039f\"],[0.2222222222222222,\"#7201a8\"],[0.3333333333333333,\"#9c179e\"],[0.4444444444444444,\"#bd3786\"],[0.5555555555555556,\"#d8576b\"],[0.6666666666666666,\"#ed7953\"],[0.7777777777777778,\"#fb9f3a\"],[0.8888888888888888,\"#fdca26\"],[1.0,\"#f0f921\"]]}],\"contourcarpet\":[{\"type\":\"contourcarpet\",\"colorbar\":{\"outlinewidth\":0,\"ticks\":\"\"}}],\"contour\":[{\"type\":\"contour\",\"colorbar\":{\"outlinewidth\":0,\"ticks\":\"\"},\"colorscale\":[[0.0,\"#0d0887\"],[0.1111111111111111,\"#46039f\"],[0.2222222222222222,\"#7201a8\"],[0.3333333333333333,\"#9c179e\"],[0.4444444444444444,\"#bd3786\"],[0.5555555555555556,\"#d8576b\"],[0.6666666666666666,\"#ed7953\"],[0.7777777777777778,\"#fb9f3a\"],[0.8888888888888888,\"#fdca26\"],[1.0,\"#f0f921\"]]}],\"surface\":[{\"type\":\"surface\",\"colorbar\":{\"outlinewidth\":0,\"ticks\":\"\"},\"colorscale\":[[0.0,\"#0d0887\"],[0.1111111111111111,\"#46039f\"],[0.2222222222222222,\"#7201a8\"],[0.3333333333333333,\"#9c179e\"],[0.4444444444444444,\"#bd3786\"],[0.5555555555555556,\"#d8576b\"],[0.6666666666666666,\"#ed7953\"],[0.7777777777777778,\"#fb9f3a\"],[0.8888888888888888,\"#fdca26\"],[1.0,\"#f0f921\"]]}],\"mesh3d\":[{\"type\":\"mesh3d\",\"colorbar\":{\"outlinewidth\":0,\"ticks\":\"\"}}],\"scatter\":[{\"fillpattern\":{\"fillmode\":\"overlay\",\"size\":10,\"solidity\":0.2},\"type\":\"scatter\"}],\"parcoords\":[{\"type\":\"parcoords\",\"line\":{\"colorbar\":{\"outlinewidth\":0,\"ticks\":\"\"}}}],\"scatterpolargl\":[{\"type\":\"scatterpolargl\",\"marker\":{\"colorbar\":{\"outlinewidth\":0,\"ticks\":\"\"}}}],\"bar\":[{\"error_x\":{\"color\":\"#2a3f5f\"},\"error_y\":{\"color\":\"#2a3f5f\"},\"marker\":{\"line\":{\"color\":\"#E5ECF6\",\"width\":0.5},\"pattern\":{\"fillmode\":\"overlay\",\"size\":10,\"solidity\":0.2}},\"type\":\"bar\"}],\"scattergeo\":[{\"type\":\"scattergeo\",\"marker\":{\"colorbar\":{\"outlinewidth\":0,\"ticks\":\"\"}}}],\"scatterpolar\":[{\"type\":\"scatterpolar\",\"marker\":{\"colorbar\":{\"outlinewidth\":0,\"ticks\":\"\"}}}],\"histogram\":[{\"marker\":{\"pattern\":{\"fillmode\":\"overlay\",\"size\":10,\"solidity\":0.2}},\"type\":\"histogram\"}],\"scattergl\":[{\"type\":\"scattergl\",\"marker\":{\"colorbar\":{\"outlinewidth\":0,\"ticks\":\"\"}}}],\"scatter3d\":[{\"type\":\"scatter3d\",\"line\":{\"colorbar\":{\"outlinewidth\":0,\"ticks\":\"\"}},\"marker\":{\"colorbar\":{\"outlinewidth\":0,\"ticks\":\"\"}}}],\"scattermapbox\":[{\"type\":\"scattermapbox\",\"marker\":{\"colorbar\":{\"outlinewidth\":0,\"ticks\":\"\"}}}],\"scatterternary\":[{\"type\":\"scatterternary\",\"marker\":{\"colorbar\":{\"outlinewidth\":0,\"ticks\":\"\"}}}],\"scattercarpet\":[{\"type\":\"scattercarpet\",\"marker\":{\"colorbar\":{\"outlinewidth\":0,\"ticks\":\"\"}}}],\"carpet\":[{\"aaxis\":{\"endlinecolor\":\"#2a3f5f\",\"gridcolor\":\"white\",\"linecolor\":\"white\",\"minorgridcolor\":\"white\",\"startlinecolor\":\"#2a3f5f\"},\"baxis\":{\"endlinecolor\":\"#2a3f5f\",\"gridcolor\":\"white\",\"linecolor\":\"white\",\"minorgridcolor\":\"white\",\"startlinecolor\":\"#2a3f5f\"},\"type\":\"carpet\"}],\"table\":[{\"cells\":{\"fill\":{\"color\":\"#EBF0F8\"},\"line\":{\"color\":\"white\"}},\"header\":{\"fill\":{\"color\":\"#C8D4E3\"},\"line\":{\"color\":\"white\"}},\"type\":\"table\"}],\"barpolar\":[{\"marker\":{\"line\":{\"color\":\"#E5ECF6\",\"width\":0.5},\"pattern\":{\"fillmode\":\"overlay\",\"size\":10,\"solidity\":0.2}},\"type\":\"barpolar\"}],\"pie\":[{\"automargin\":true,\"type\":\"pie\"}]},\"layout\":{\"autotypenumbers\":\"strict\",\"colorway\":[\"#636efa\",\"#EF553B\",\"#00cc96\",\"#ab63fa\",\"#FFA15A\",\"#19d3f3\",\"#FF6692\",\"#B6E880\",\"#FF97FF\",\"#FECB52\"],\"font\":{\"color\":\"#2a3f5f\"},\"hovermode\":\"closest\",\"hoverlabel\":{\"align\":\"left\"},\"paper_bgcolor\":\"white\",\"plot_bgcolor\":\"#E5ECF6\",\"polar\":{\"bgcolor\":\"#E5ECF6\",\"angularaxis\":{\"gridcolor\":\"white\",\"linecolor\":\"white\",\"ticks\":\"\"},\"radialaxis\":{\"gridcolor\":\"white\",\"linecolor\":\"white\",\"ticks\":\"\"}},\"ternary\":{\"bgcolor\":\"#E5ECF6\",\"aaxis\":{\"gridcolor\":\"white\",\"linecolor\":\"white\",\"ticks\":\"\"},\"baxis\":{\"gridcolor\":\"white\",\"linecolor\":\"white\",\"ticks\":\"\"},\"caxis\":{\"gridcolor\":\"white\",\"linecolor\":\"white\",\"ticks\":\"\"}},\"coloraxis\":{\"colorbar\":{\"outlinewidth\":0,\"ticks\":\"\"}},\"colorscale\":{\"sequential\":[[0.0,\"#0d0887\"],[0.1111111111111111,\"#46039f\"],[0.2222222222222222,\"#7201a8\"],[0.3333333333333333,\"#9c179e\"],[0.4444444444444444,\"#bd3786\"],[0.5555555555555556,\"#d8576b\"],[0.6666666666666666,\"#ed7953\"],[0.7777777777777778,\"#fb9f3a\"],[0.8888888888888888,\"#fdca26\"],[1.0,\"#f0f921\"]],\"sequentialminus\":[[0.0,\"#0d0887\"],[0.1111111111111111,\"#46039f\"],[0.2222222222222222,\"#7201a8\"],[0.3333333333333333,\"#9c179e\"],[0.4444444444444444,\"#bd3786\"],[0.5555555555555556,\"#d8576b\"],[0.6666666666666666,\"#ed7953\"],[0.7777777777777778,\"#fb9f3a\"],[0.8888888888888888,\"#fdca26\"],[1.0,\"#f0f921\"]],\"diverging\":[[0,\"#8e0152\"],[0.1,\"#c51b7d\"],[0.2,\"#de77ae\"],[0.3,\"#f1b6da\"],[0.4,\"#fde0ef\"],[0.5,\"#f7f7f7\"],[0.6,\"#e6f5d0\"],[0.7,\"#b8e186\"],[0.8,\"#7fbc41\"],[0.9,\"#4d9221\"],[1,\"#276419\"]]},\"xaxis\":{\"gridcolor\":\"white\",\"linecolor\":\"white\",\"ticks\":\"\",\"title\":{\"standoff\":15},\"zerolinecolor\":\"white\",\"automargin\":true,\"zerolinewidth\":2},\"yaxis\":{\"gridcolor\":\"white\",\"linecolor\":\"white\",\"ticks\":\"\",\"title\":{\"standoff\":15},\"zerolinecolor\":\"white\",\"automargin\":true,\"zerolinewidth\":2},\"scene\":{\"xaxis\":{\"backgroundcolor\":\"#E5ECF6\",\"gridcolor\":\"white\",\"linecolor\":\"white\",\"showbackground\":true,\"ticks\":\"\",\"zerolinecolor\":\"white\",\"gridwidth\":2},\"yaxis\":{\"backgroundcolor\":\"#E5ECF6\",\"gridcolor\":\"white\",\"linecolor\":\"white\",\"showbackground\":true,\"ticks\":\"\",\"zerolinecolor\":\"white\",\"gridwidth\":2},\"zaxis\":{\"backgroundcolor\":\"#E5ECF6\",\"gridcolor\":\"white\",\"linecolor\":\"white\",\"showbackground\":true,\"ticks\":\"\",\"zerolinecolor\":\"white\",\"gridwidth\":2}},\"shapedefaults\":{\"line\":{\"color\":\"#2a3f5f\"}},\"annotationdefaults\":{\"arrowcolor\":\"#2a3f5f\",\"arrowhead\":0,\"arrowwidth\":1},\"geo\":{\"bgcolor\":\"white\",\"landcolor\":\"#E5ECF6\",\"subunitcolor\":\"white\",\"showland\":true,\"showlakes\":true,\"lakecolor\":\"white\"},\"title\":{\"x\":0.05},\"mapbox\":{\"style\":\"light\"}}},\"xaxis\":{\"anchor\":\"y\",\"domain\":[0.0,1.0],\"title\":{\"text\":\"Models\"}},\"yaxis\":{\"anchor\":\"x\",\"domain\":[0.0,1.0],\"title\":{\"text\":\"MSE Values\"}},\"legend\":{\"title\":{\"text\":\"color\"},\"tracegroupgap\":0},\"margin\":{\"t\":60},\"barmode\":\"relative\",\"title\":{\"text\":\"Mean Squared Error (MSE) for all-rounders\"},\"hovermode\":\"closest\"},                        {\"responsive\": true}                    ).then(function(){\n",
       "                            \n",
       "var gd = document.getElementById('6df46bc8-8bb5-4be8-bd21-f53c5ffeaee5');\n",
       "var x = new MutationObserver(function (mutations, observer) {{\n",
       "        var display = window.getComputedStyle(gd).display;\n",
       "        if (!display || display === 'none') {{\n",
       "            console.log([gd, 'removed!']);\n",
       "            Plotly.purge(gd);\n",
       "            observer.disconnect();\n",
       "        }}\n",
       "}});\n",
       "\n",
       "// Listen for the removal of the full notebook cells\n",
       "var notebookContainer = gd.closest('#notebook-container');\n",
       "if (notebookContainer) {{\n",
       "    x.observe(notebookContainer, {childList: true});\n",
       "}}\n",
       "\n",
       "// Listen for the clearing of the current output cell\n",
       "var outputEl = gd.closest('.output');\n",
       "if (outputEl) {{\n",
       "    x.observe(outputEl, {childList: true});\n",
       "}}\n",
       "\n",
       "                        })                };                });            </script>        </div>"
      ]
     },
     "metadata": {},
     "output_type": "display_data"
    }
   ],
   "source": [
    "import plotly.express as px\n",
    "\n",
    "\n",
    "# Store the MSE values and their corresponding labels\n",
    "mse_values = [mse_lr_allrounder, mse_rf_all_rounder, mse_gb_allrounder]\n",
    "labels = ['lr', 'rf', 'gb']\n",
    "\n",
    "# Create a DataFrame for Plotly\n",
    "data = {'Models': labels, 'MSE Values': mse_values}\n",
    "df = pd.DataFrame(data)\n",
    "\n",
    "# Create an interactive bar graph using Plotly\n",
    "fig = px.bar(df, x='Models', y='MSE Values',color=['blue', 'green', 'orange'])\n",
    "#fig.update_traces(texttemplate='%{text}', textposition='outside')\n",
    "fig.update_layout(\n",
    "    title='Mean Squared Error (MSE) for all-rounders',\n",
    "    xaxis_title='Models',\n",
    "    yaxis_title='MSE Values',\n",
    "    hovermode='closest',\n",
    ")\n",
    "\n",
    "# Display the interactive graph\n",
    "fig.show()\n"
   ]
  },
  {
   "cell_type": "code",
   "execution_count": 96,
   "id": "5b712cb6",
   "metadata": {},
   "outputs": [
    {
     "ename": "ImportError",
     "evalue": "cannot import name '_MissingValues' from 'sklearn.utils._param_validation' (C:\\Users\\balak\\anaconda3\\Lib\\site-packages\\sklearn\\utils\\_param_validation.py)",
     "output_type": "error",
     "traceback": [
      "\u001b[1;31m---------------------------------------------------------------------------\u001b[0m",
      "\u001b[1;31mImportError\u001b[0m                               Traceback (most recent call last)",
      "Cell \u001b[1;32mIn[96], line 1\u001b[0m\n\u001b[1;32m----> 1\u001b[0m \u001b[38;5;28;01mfrom\u001b[39;00m \u001b[38;5;21;01mpycaret\u001b[39;00m\u001b[38;5;21;01m.\u001b[39;00m\u001b[38;5;21;01mregression\u001b[39;00m \u001b[38;5;28;01mimport\u001b[39;00m \u001b[38;5;241m*\u001b[39m\n\u001b[0;32m      4\u001b[0m regression_setup \u001b[38;5;241m=\u001b[39m setup(data\u001b[38;5;241m=\u001b[39mcleaned_data, target\u001b[38;5;241m=\u001b[39m\u001b[38;5;124m'\u001b[39m\u001b[38;5;124mSOLD PRICE\u001b[39m\u001b[38;5;124m'\u001b[39m, train_size\u001b[38;5;241m=\u001b[39m\u001b[38;5;241m0.8\u001b[39m)\n",
      "File \u001b[1;32m~\\AppData\\Roaming\\Python\\Python311\\site-packages\\pycaret\\regression\\__init__.py:1\u001b[0m\n\u001b[1;32m----> 1\u001b[0m \u001b[38;5;28;01mfrom\u001b[39;00m \u001b[38;5;21;01mpycaret\u001b[39;00m\u001b[38;5;21;01m.\u001b[39;00m\u001b[38;5;21;01mregression\u001b[39;00m\u001b[38;5;21;01m.\u001b[39;00m\u001b[38;5;21;01mfunctional\u001b[39;00m \u001b[38;5;28;01mimport\u001b[39;00m (\n\u001b[0;32m      2\u001b[0m     add_metric,\n\u001b[0;32m      3\u001b[0m     automl,\n\u001b[0;32m      4\u001b[0m     blend_models,\n\u001b[0;32m      5\u001b[0m     check_drift,\n\u001b[0;32m      6\u001b[0m     check_fairness,\n\u001b[0;32m      7\u001b[0m     compare_models,\n\u001b[0;32m      8\u001b[0m     convert_model,\n\u001b[0;32m      9\u001b[0m     create_api,\n\u001b[0;32m     10\u001b[0m     create_app,\n\u001b[0;32m     11\u001b[0m     create_docker,\n\u001b[0;32m     12\u001b[0m     create_model,\n\u001b[0;32m     13\u001b[0m     dashboard,\n\u001b[0;32m     14\u001b[0m     deploy_model,\n\u001b[0;32m     15\u001b[0m     ensemble_model,\n\u001b[0;32m     16\u001b[0m     evaluate_model,\n\u001b[0;32m     17\u001b[0m     finalize_model,\n\u001b[0;32m     18\u001b[0m     get_allowed_engines,\n\u001b[0;32m     19\u001b[0m     get_config,\n\u001b[0;32m     20\u001b[0m     get_current_experiment,\n\u001b[0;32m     21\u001b[0m     get_engine,\n\u001b[0;32m     22\u001b[0m     get_leaderboard,\n\u001b[0;32m     23\u001b[0m     get_logs,\n\u001b[0;32m     24\u001b[0m     get_metrics,\n\u001b[0;32m     25\u001b[0m     interpret_model,\n\u001b[0;32m     26\u001b[0m     load_experiment,\n\u001b[0;32m     27\u001b[0m     load_model,\n\u001b[0;32m     28\u001b[0m     models,\n\u001b[0;32m     29\u001b[0m     plot_model,\n\u001b[0;32m     30\u001b[0m     predict_model,\n\u001b[0;32m     31\u001b[0m     pull,\n\u001b[0;32m     32\u001b[0m     remove_metric,\n\u001b[0;32m     33\u001b[0m     save_experiment,\n\u001b[0;32m     34\u001b[0m     save_model,\n\u001b[0;32m     35\u001b[0m     set_config,\n\u001b[0;32m     36\u001b[0m     set_current_experiment,\n\u001b[0;32m     37\u001b[0m     setup,\n\u001b[0;32m     38\u001b[0m     stack_models,\n\u001b[0;32m     39\u001b[0m     tune_model,\n\u001b[0;32m     40\u001b[0m )\n\u001b[0;32m     41\u001b[0m \u001b[38;5;28;01mfrom\u001b[39;00m \u001b[38;5;21;01mpycaret\u001b[39;00m\u001b[38;5;21;01m.\u001b[39;00m\u001b[38;5;21;01mregression\u001b[39;00m\u001b[38;5;21;01m.\u001b[39;00m\u001b[38;5;21;01moop\u001b[39;00m \u001b[38;5;28;01mimport\u001b[39;00m RegressionExperiment\n\u001b[0;32m     43\u001b[0m __all__ \u001b[38;5;241m=\u001b[39m [\n\u001b[0;32m     44\u001b[0m     \u001b[38;5;124m\"\u001b[39m\u001b[38;5;124mRegressionExperiment\u001b[39m\u001b[38;5;124m\"\u001b[39m,\n\u001b[0;32m     45\u001b[0m     \u001b[38;5;124m\"\u001b[39m\u001b[38;5;124msetup\u001b[39m\u001b[38;5;124m\"\u001b[39m,\n\u001b[1;32m   (...)\u001b[0m\n\u001b[0;32m     82\u001b[0m     \u001b[38;5;124m\"\u001b[39m\u001b[38;5;124mcheck_drift\u001b[39m\u001b[38;5;124m\"\u001b[39m,\n\u001b[0;32m     83\u001b[0m ]\n",
      "File \u001b[1;32m~\\AppData\\Roaming\\Python\\Python311\\site-packages\\pycaret\\regression\\functional.py:10\u001b[0m\n\u001b[0;32m      8\u001b[0m \u001b[38;5;28;01mfrom\u001b[39;00m \u001b[38;5;21;01mpycaret\u001b[39;00m\u001b[38;5;21;01m.\u001b[39;00m\u001b[38;5;21;01minternal\u001b[39;00m\u001b[38;5;21;01m.\u001b[39;00m\u001b[38;5;21;01mparallel\u001b[39;00m\u001b[38;5;21;01m.\u001b[39;00m\u001b[38;5;21;01mparallel_backend\u001b[39;00m \u001b[38;5;28;01mimport\u001b[39;00m ParallelBackend\n\u001b[0;32m      9\u001b[0m \u001b[38;5;28;01mfrom\u001b[39;00m \u001b[38;5;21;01mpycaret\u001b[39;00m\u001b[38;5;21;01m.\u001b[39;00m\u001b[38;5;21;01mloggers\u001b[39;00m\u001b[38;5;21;01m.\u001b[39;00m\u001b[38;5;21;01mbase_logger\u001b[39;00m \u001b[38;5;28;01mimport\u001b[39;00m BaseLogger\n\u001b[1;32m---> 10\u001b[0m \u001b[38;5;28;01mfrom\u001b[39;00m \u001b[38;5;21;01mpycaret\u001b[39;00m\u001b[38;5;21;01m.\u001b[39;00m\u001b[38;5;21;01mregression\u001b[39;00m\u001b[38;5;21;01m.\u001b[39;00m\u001b[38;5;21;01moop\u001b[39;00m \u001b[38;5;28;01mimport\u001b[39;00m RegressionExperiment\n\u001b[0;32m     11\u001b[0m \u001b[38;5;28;01mfrom\u001b[39;00m \u001b[38;5;21;01mpycaret\u001b[39;00m\u001b[38;5;21;01m.\u001b[39;00m\u001b[38;5;21;01mutils\u001b[39;00m\u001b[38;5;21;01m.\u001b[39;00m\u001b[38;5;21;01mconstants\u001b[39;00m \u001b[38;5;28;01mimport\u001b[39;00m DATAFRAME_LIKE, SEQUENCE_LIKE, TARGET_LIKE\n\u001b[0;32m     12\u001b[0m \u001b[38;5;28;01mfrom\u001b[39;00m \u001b[38;5;21;01mpycaret\u001b[39;00m\u001b[38;5;21;01m.\u001b[39;00m\u001b[38;5;21;01mutils\u001b[39;00m\u001b[38;5;21;01m.\u001b[39;00m\u001b[38;5;21;01mgeneric\u001b[39;00m \u001b[38;5;28;01mimport\u001b[39;00m check_if_global_is_not_none\n",
      "File \u001b[1;32m~\\AppData\\Roaming\\Python\\Python311\\site-packages\\pycaret\\regression\\oop.py:11\u001b[0m\n\u001b[0;32m      8\u001b[0m \u001b[38;5;28;01mfrom\u001b[39;00m \u001b[38;5;21;01mjoblib\u001b[39;00m\u001b[38;5;21;01m.\u001b[39;00m\u001b[38;5;21;01mmemory\u001b[39;00m \u001b[38;5;28;01mimport\u001b[39;00m Memory\n\u001b[0;32m     10\u001b[0m \u001b[38;5;28;01mfrom\u001b[39;00m \u001b[38;5;21;01mpycaret\u001b[39;00m\u001b[38;5;21;01m.\u001b[39;00m\u001b[38;5;21;01mcontainers\u001b[39;00m\u001b[38;5;21;01m.\u001b[39;00m\u001b[38;5;21;01mmetrics\u001b[39;00m\u001b[38;5;21;01m.\u001b[39;00m\u001b[38;5;21;01mregression\u001b[39;00m \u001b[38;5;28;01mimport\u001b[39;00m get_all_metric_containers\n\u001b[1;32m---> 11\u001b[0m \u001b[38;5;28;01mfrom\u001b[39;00m \u001b[38;5;21;01mpycaret\u001b[39;00m\u001b[38;5;21;01m.\u001b[39;00m\u001b[38;5;21;01mcontainers\u001b[39;00m\u001b[38;5;21;01m.\u001b[39;00m\u001b[38;5;21;01mmodels\u001b[39;00m\u001b[38;5;21;01m.\u001b[39;00m\u001b[38;5;21;01mregression\u001b[39;00m \u001b[38;5;28;01mimport\u001b[39;00m (\n\u001b[0;32m     12\u001b[0m     ALL_ALLOWED_ENGINES,\n\u001b[0;32m     13\u001b[0m     get_all_model_containers,\n\u001b[0;32m     14\u001b[0m     get_container_default_engines,\n\u001b[0;32m     15\u001b[0m )\n\u001b[0;32m     16\u001b[0m \u001b[38;5;28;01mfrom\u001b[39;00m \u001b[38;5;21;01mpycaret\u001b[39;00m\u001b[38;5;21;01m.\u001b[39;00m\u001b[38;5;21;01minternal\u001b[39;00m\u001b[38;5;21;01m.\u001b[39;00m\u001b[38;5;21;01mdisplay\u001b[39;00m \u001b[38;5;28;01mimport\u001b[39;00m CommonDisplay\n\u001b[0;32m     17\u001b[0m \u001b[38;5;28;01mfrom\u001b[39;00m \u001b[38;5;21;01mpycaret\u001b[39;00m\u001b[38;5;21;01m.\u001b[39;00m\u001b[38;5;21;01minternal\u001b[39;00m\u001b[38;5;21;01m.\u001b[39;00m\u001b[38;5;21;01mlogging\u001b[39;00m \u001b[38;5;28;01mimport\u001b[39;00m get_logger\n",
      "File \u001b[1;32m~\\AppData\\Roaming\\Python\\Python311\\site-packages\\pycaret\\containers\\models\\regression.py:18\u001b[0m\n\u001b[0;32m     15\u001b[0m \u001b[38;5;28;01mfrom\u001b[39;00m \u001b[38;5;21;01mpackaging\u001b[39;00m \u001b[38;5;28;01mimport\u001b[39;00m version\n\u001b[0;32m     17\u001b[0m \u001b[38;5;28;01mimport\u001b[39;00m \u001b[38;5;21;01mpycaret\u001b[39;00m\u001b[38;5;21;01m.\u001b[39;00m\u001b[38;5;21;01mcontainers\u001b[39;00m\u001b[38;5;21;01m.\u001b[39;00m\u001b[38;5;21;01mbase_container\u001b[39;00m\n\u001b[1;32m---> 18\u001b[0m \u001b[38;5;28;01mfrom\u001b[39;00m \u001b[38;5;21;01mpycaret\u001b[39;00m\u001b[38;5;21;01m.\u001b[39;00m\u001b[38;5;21;01mcontainers\u001b[39;00m\u001b[38;5;21;01m.\u001b[39;00m\u001b[38;5;21;01mmodels\u001b[39;00m\u001b[38;5;21;01m.\u001b[39;00m\u001b[38;5;21;01mbase_model\u001b[39;00m \u001b[38;5;28;01mimport\u001b[39;00m (\n\u001b[0;32m     19\u001b[0m     ModelContainer,\n\u001b[0;32m     20\u001b[0m     leftover_parameters_to_categorical_distributions,\n\u001b[0;32m     21\u001b[0m )\n\u001b[0;32m     22\u001b[0m \u001b[38;5;28;01mfrom\u001b[39;00m \u001b[38;5;21;01mpycaret\u001b[39;00m\u001b[38;5;21;01m.\u001b[39;00m\u001b[38;5;21;01minternal\u001b[39;00m\u001b[38;5;21;01m.\u001b[39;00m\u001b[38;5;21;01mdistributions\u001b[39;00m \u001b[38;5;28;01mimport\u001b[39;00m (\n\u001b[0;32m     23\u001b[0m     Distribution,\n\u001b[0;32m     24\u001b[0m     IntUniformDistribution,\n\u001b[0;32m     25\u001b[0m     UniformDistribution,\n\u001b[0;32m     26\u001b[0m )\n\u001b[0;32m     27\u001b[0m \u001b[38;5;28;01mfrom\u001b[39;00m \u001b[38;5;21;01mpycaret\u001b[39;00m\u001b[38;5;21;01m.\u001b[39;00m\u001b[38;5;21;01mutils\u001b[39;00m\u001b[38;5;21;01m.\u001b[39;00m\u001b[38;5;21;01m_dependencies\u001b[39;00m \u001b[38;5;28;01mimport\u001b[39;00m _check_soft_dependencies\n",
      "File \u001b[1;32m~\\AppData\\Roaming\\Python\\Python311\\site-packages\\pycaret\\containers\\models\\base_model.py:9\u001b[0m\n\u001b[0;32m      7\u001b[0m \u001b[38;5;28;01mfrom\u001b[39;00m \u001b[38;5;21;01mpycaret\u001b[39;00m\u001b[38;5;21;01m.\u001b[39;00m\u001b[38;5;21;01mcontainers\u001b[39;00m\u001b[38;5;21;01m.\u001b[39;00m\u001b[38;5;21;01mbase_container\u001b[39;00m \u001b[38;5;28;01mimport\u001b[39;00m BaseContainer\n\u001b[0;32m      8\u001b[0m \u001b[38;5;28;01mfrom\u001b[39;00m \u001b[38;5;21;01mpycaret\u001b[39;00m\u001b[38;5;21;01m.\u001b[39;00m\u001b[38;5;21;01minternal\u001b[39;00m\u001b[38;5;21;01m.\u001b[39;00m\u001b[38;5;21;01mdistributions\u001b[39;00m \u001b[38;5;28;01mimport\u001b[39;00m CategoricalDistribution\n\u001b[1;32m----> 9\u001b[0m \u001b[38;5;28;01mfrom\u001b[39;00m \u001b[38;5;21;01mpycaret\u001b[39;00m\u001b[38;5;21;01m.\u001b[39;00m\u001b[38;5;21;01minternal\u001b[39;00m\u001b[38;5;21;01m.\u001b[39;00m\u001b[38;5;21;01mpycaret_experiment\u001b[39;00m\u001b[38;5;21;01m.\u001b[39;00m\u001b[38;5;21;01mpycaret_experiment\u001b[39;00m \u001b[38;5;28;01mimport\u001b[39;00m _PyCaretExperiment\n\u001b[0;32m     10\u001b[0m \u001b[38;5;28;01mfrom\u001b[39;00m \u001b[38;5;21;01mpycaret\u001b[39;00m\u001b[38;5;21;01m.\u001b[39;00m\u001b[38;5;21;01mutils\u001b[39;00m\u001b[38;5;21;01m.\u001b[39;00m\u001b[38;5;21;01mgeneric\u001b[39;00m \u001b[38;5;28;01mimport\u001b[39;00m get_allowed_engines, get_logger\n\u001b[0;32m     13\u001b[0m \u001b[38;5;28;01mclass\u001b[39;00m \u001b[38;5;21;01mModelContainer\u001b[39;00m(BaseContainer):\n",
      "File \u001b[1;32m~\\AppData\\Roaming\\Python\\Python311\\site-packages\\pycaret\\internal\\pycaret_experiment\\pycaret_experiment.py:10\u001b[0m\n\u001b[0;32m      7\u001b[0m \u001b[38;5;28;01mimport\u001b[39;00m \u001b[38;5;21;01mcloudpickle\u001b[39;00m\n\u001b[0;32m      8\u001b[0m \u001b[38;5;28;01mimport\u001b[39;00m \u001b[38;5;21;01mpandas\u001b[39;00m \u001b[38;5;28;01mas\u001b[39;00m \u001b[38;5;21;01mpd\u001b[39;00m\n\u001b[1;32m---> 10\u001b[0m \u001b[38;5;28;01mimport\u001b[39;00m \u001b[38;5;21;01mpycaret\u001b[39;00m\u001b[38;5;21;01m.\u001b[39;00m\u001b[38;5;21;01minternal\u001b[39;00m\u001b[38;5;21;01m.\u001b[39;00m\u001b[38;5;21;01mpatches\u001b[39;00m\u001b[38;5;21;01m.\u001b[39;00m\u001b[38;5;21;01msklearn\u001b[39;00m\n\u001b[0;32m     11\u001b[0m \u001b[38;5;28;01mimport\u001b[39;00m \u001b[38;5;21;01mpycaret\u001b[39;00m\u001b[38;5;21;01m.\u001b[39;00m\u001b[38;5;21;01minternal\u001b[39;00m\u001b[38;5;21;01m.\u001b[39;00m\u001b[38;5;21;01mpatches\u001b[39;00m\u001b[38;5;21;01m.\u001b[39;00m\u001b[38;5;21;01myellowbrick\u001b[39;00m\n\u001b[0;32m     12\u001b[0m \u001b[38;5;28;01mimport\u001b[39;00m \u001b[38;5;21;01mpycaret\u001b[39;00m\u001b[38;5;21;01m.\u001b[39;00m\u001b[38;5;21;01minternal\u001b[39;00m\u001b[38;5;21;01m.\u001b[39;00m\u001b[38;5;21;01mpersistence\u001b[39;00m\n",
      "File \u001b[1;32m~\\AppData\\Roaming\\Python\\Python311\\site-packages\\pycaret\\internal\\patches\\sklearn.py:8\u001b[0m\n\u001b[0;32m      5\u001b[0m \u001b[38;5;28;01mfrom\u001b[39;00m \u001b[38;5;21;01msklearn\u001b[39;00m\u001b[38;5;21;01m.\u001b[39;00m\u001b[38;5;21;01mmodel_selection\u001b[39;00m\u001b[38;5;21;01m.\u001b[39;00m\u001b[38;5;21;01m_validation\u001b[39;00m \u001b[38;5;28;01mimport\u001b[39;00m _fit_and_score, _score\n\u001b[0;32m      6\u001b[0m \u001b[38;5;28;01mfrom\u001b[39;00m \u001b[38;5;21;01msklearn\u001b[39;00m\u001b[38;5;21;01m.\u001b[39;00m\u001b[38;5;21;01mutils\u001b[39;00m \u001b[38;5;28;01mimport\u001b[39;00m check_random_state\n\u001b[1;32m----> 8\u001b[0m \u001b[38;5;28;01mfrom\u001b[39;00m \u001b[38;5;21;01mpycaret\u001b[39;00m\u001b[38;5;21;01m.\u001b[39;00m\u001b[38;5;21;01minternal\u001b[39;00m\u001b[38;5;21;01m.\u001b[39;00m\u001b[38;5;21;01mpipeline\u001b[39;00m \u001b[38;5;28;01mimport\u001b[39;00m pipeline_predict_inverse_only\n\u001b[0;32m     10\u001b[0m \u001b[38;5;66;03m# Monkey patching sklearn.model_selection._search to avoid overflows on windows.\u001b[39;00m\n\u001b[0;32m     11\u001b[0m \n\u001b[0;32m     12\u001b[0m \n\u001b[0;32m     13\u001b[0m \u001b[38;5;66;03m# adapted from https://github.com/scikit-learn/scikit-learn/blob/master/sklearn/utils/_random.pyx\u001b[39;00m\n\u001b[0;32m     14\u001b[0m \u001b[38;5;28;01mdef\u001b[39;00m \u001b[38;5;21m_mp_sample_without_replacement\u001b[39m(\n\u001b[0;32m     15\u001b[0m     n_population: \u001b[38;5;28mint\u001b[39m, n_samples: \u001b[38;5;28mint\u001b[39m, method\u001b[38;5;241m=\u001b[39m\u001b[38;5;28;01mNone\u001b[39;00m, random_state\u001b[38;5;241m=\u001b[39m\u001b[38;5;28;01mNone\u001b[39;00m\n\u001b[0;32m     16\u001b[0m ) \u001b[38;5;241m-\u001b[39m\u001b[38;5;241m>\u001b[39m Any:\n",
      "File \u001b[1;32m~\\AppData\\Roaming\\Python\\Python311\\site-packages\\pycaret\\internal\\pipeline.py:16\u001b[0m\n\u001b[0;32m     13\u001b[0m \u001b[38;5;28;01mfrom\u001b[39;00m \u001b[38;5;21;01mcopy\u001b[39;00m \u001b[38;5;28;01mimport\u001b[39;00m deepcopy\n\u001b[0;32m     14\u001b[0m \u001b[38;5;28;01mfrom\u001b[39;00m \u001b[38;5;21;01minspect\u001b[39;00m \u001b[38;5;28;01mimport\u001b[39;00m signature\n\u001b[1;32m---> 16\u001b[0m \u001b[38;5;28;01mimport\u001b[39;00m \u001b[38;5;21;01mimblearn\u001b[39;00m\u001b[38;5;21;01m.\u001b[39;00m\u001b[38;5;21;01mpipeline\u001b[39;00m\n\u001b[0;32m     17\u001b[0m \u001b[38;5;28;01mimport\u001b[39;00m \u001b[38;5;21;01msklearn\u001b[39;00m\u001b[38;5;21;01m.\u001b[39;00m\u001b[38;5;21;01mpipeline\u001b[39;00m\n\u001b[0;32m     18\u001b[0m \u001b[38;5;28;01mfrom\u001b[39;00m \u001b[38;5;21;01msklearn\u001b[39;00m\u001b[38;5;21;01m.\u001b[39;00m\u001b[38;5;21;01mbase\u001b[39;00m \u001b[38;5;28;01mimport\u001b[39;00m clone\n",
      "File \u001b[1;32m~\\anaconda3\\Lib\\site-packages\\imblearn\\__init__.py:52\u001b[0m\n\u001b[0;32m     48\u001b[0m     sys\u001b[38;5;241m.\u001b[39mstderr\u001b[38;5;241m.\u001b[39mwrite(\u001b[38;5;124m\"\u001b[39m\u001b[38;5;124mPartial import of imblearn during the build process.\u001b[39m\u001b[38;5;130;01m\\n\u001b[39;00m\u001b[38;5;124m\"\u001b[39m)\n\u001b[0;32m     49\u001b[0m     \u001b[38;5;66;03m# We are not importing the rest of scikit-learn during the build\u001b[39;00m\n\u001b[0;32m     50\u001b[0m     \u001b[38;5;66;03m# process, as it may not be compiled yet\u001b[39;00m\n\u001b[0;32m     51\u001b[0m \u001b[38;5;28;01melse\u001b[39;00m:\n\u001b[1;32m---> 52\u001b[0m     \u001b[38;5;28;01mfrom\u001b[39;00m \u001b[38;5;21;01m.\u001b[39;00m \u001b[38;5;28;01mimport\u001b[39;00m (\n\u001b[0;32m     53\u001b[0m         combine,\n\u001b[0;32m     54\u001b[0m         ensemble,\n\u001b[0;32m     55\u001b[0m         exceptions,\n\u001b[0;32m     56\u001b[0m         metrics,\n\u001b[0;32m     57\u001b[0m         over_sampling,\n\u001b[0;32m     58\u001b[0m         pipeline,\n\u001b[0;32m     59\u001b[0m         tensorflow,\n\u001b[0;32m     60\u001b[0m         under_sampling,\n\u001b[0;32m     61\u001b[0m         utils,\n\u001b[0;32m     62\u001b[0m     )\n\u001b[0;32m     63\u001b[0m     \u001b[38;5;28;01mfrom\u001b[39;00m \u001b[38;5;21;01m.\u001b[39;00m\u001b[38;5;21;01m_version\u001b[39;00m \u001b[38;5;28;01mimport\u001b[39;00m __version__\n\u001b[0;32m     64\u001b[0m     \u001b[38;5;28;01mfrom\u001b[39;00m \u001b[38;5;21;01m.\u001b[39;00m\u001b[38;5;21;01mbase\u001b[39;00m \u001b[38;5;28;01mimport\u001b[39;00m FunctionSampler\n",
      "File \u001b[1;32m~\\anaconda3\\Lib\\site-packages\\imblearn\\combine\\__init__.py:5\u001b[0m\n\u001b[0;32m      1\u001b[0m \u001b[38;5;124;03m\"\"\"The :mod:`imblearn.combine` provides methods which combine\u001b[39;00m\n\u001b[0;32m      2\u001b[0m \u001b[38;5;124;03mover-sampling and under-sampling.\u001b[39;00m\n\u001b[0;32m      3\u001b[0m \u001b[38;5;124;03m\"\"\"\u001b[39;00m\n\u001b[1;32m----> 5\u001b[0m \u001b[38;5;28;01mfrom\u001b[39;00m \u001b[38;5;21;01m.\u001b[39;00m\u001b[38;5;21;01m_smote_enn\u001b[39;00m \u001b[38;5;28;01mimport\u001b[39;00m SMOTEENN\n\u001b[0;32m      6\u001b[0m \u001b[38;5;28;01mfrom\u001b[39;00m \u001b[38;5;21;01m.\u001b[39;00m\u001b[38;5;21;01m_smote_tomek\u001b[39;00m \u001b[38;5;28;01mimport\u001b[39;00m SMOTETomek\n\u001b[0;32m      8\u001b[0m __all__ \u001b[38;5;241m=\u001b[39m [\u001b[38;5;124m\"\u001b[39m\u001b[38;5;124mSMOTEENN\u001b[39m\u001b[38;5;124m\"\u001b[39m, \u001b[38;5;124m\"\u001b[39m\u001b[38;5;124mSMOTETomek\u001b[39m\u001b[38;5;124m\"\u001b[39m]\n",
      "File \u001b[1;32m~\\anaconda3\\Lib\\site-packages\\imblearn\\combine\\_smote_enn.py:12\u001b[0m\n\u001b[0;32m      9\u001b[0m \u001b[38;5;28;01mfrom\u001b[39;00m \u001b[38;5;21;01msklearn\u001b[39;00m\u001b[38;5;21;01m.\u001b[39;00m\u001b[38;5;21;01mbase\u001b[39;00m \u001b[38;5;28;01mimport\u001b[39;00m clone\n\u001b[0;32m     10\u001b[0m \u001b[38;5;28;01mfrom\u001b[39;00m \u001b[38;5;21;01msklearn\u001b[39;00m\u001b[38;5;21;01m.\u001b[39;00m\u001b[38;5;21;01mutils\u001b[39;00m \u001b[38;5;28;01mimport\u001b[39;00m check_X_y\n\u001b[1;32m---> 12\u001b[0m \u001b[38;5;28;01mfrom\u001b[39;00m \u001b[38;5;21;01m.\u001b[39;00m\u001b[38;5;21;01m.\u001b[39;00m\u001b[38;5;21;01mbase\u001b[39;00m \u001b[38;5;28;01mimport\u001b[39;00m BaseSampler\n\u001b[0;32m     13\u001b[0m \u001b[38;5;28;01mfrom\u001b[39;00m \u001b[38;5;21;01m.\u001b[39;00m\u001b[38;5;21;01m.\u001b[39;00m\u001b[38;5;21;01mover_sampling\u001b[39;00m \u001b[38;5;28;01mimport\u001b[39;00m SMOTE\n\u001b[0;32m     14\u001b[0m \u001b[38;5;28;01mfrom\u001b[39;00m \u001b[38;5;21;01m.\u001b[39;00m\u001b[38;5;21;01m.\u001b[39;00m\u001b[38;5;21;01mover_sampling\u001b[39;00m\u001b[38;5;21;01m.\u001b[39;00m\u001b[38;5;21;01mbase\u001b[39;00m \u001b[38;5;28;01mimport\u001b[39;00m BaseOverSampler\n",
      "File \u001b[1;32m~\\anaconda3\\Lib\\site-packages\\imblearn\\base.py:21\u001b[0m\n\u001b[0;32m     18\u001b[0m \u001b[38;5;28;01mfrom\u001b[39;00m \u001b[38;5;21;01msklearn\u001b[39;00m\u001b[38;5;21;01m.\u001b[39;00m\u001b[38;5;21;01mutils\u001b[39;00m\u001b[38;5;21;01m.\u001b[39;00m\u001b[38;5;21;01mmulticlass\u001b[39;00m \u001b[38;5;28;01mimport\u001b[39;00m check_classification_targets\n\u001b[0;32m     20\u001b[0m \u001b[38;5;28;01mfrom\u001b[39;00m \u001b[38;5;21;01m.\u001b[39;00m\u001b[38;5;21;01mutils\u001b[39;00m \u001b[38;5;28;01mimport\u001b[39;00m check_sampling_strategy, check_target_type\n\u001b[1;32m---> 21\u001b[0m \u001b[38;5;28;01mfrom\u001b[39;00m \u001b[38;5;21;01m.\u001b[39;00m\u001b[38;5;21;01mutils\u001b[39;00m\u001b[38;5;21;01m.\u001b[39;00m\u001b[38;5;21;01m_param_validation\u001b[39;00m \u001b[38;5;28;01mimport\u001b[39;00m validate_parameter_constraints\n\u001b[0;32m     22\u001b[0m \u001b[38;5;28;01mfrom\u001b[39;00m \u001b[38;5;21;01m.\u001b[39;00m\u001b[38;5;21;01mutils\u001b[39;00m\u001b[38;5;21;01m.\u001b[39;00m\u001b[38;5;21;01m_validation\u001b[39;00m \u001b[38;5;28;01mimport\u001b[39;00m ArraysTransformer\n\u001b[0;32m     25\u001b[0m \u001b[38;5;28;01mclass\u001b[39;00m \u001b[38;5;21;01mSamplerMixin\u001b[39;00m(BaseEstimator, metaclass\u001b[38;5;241m=\u001b[39mABCMeta):\n",
      "File \u001b[1;32m~\\anaconda3\\Lib\\site-packages\\imblearn\\utils\\_param_validation.py:908\u001b[0m\n\u001b[0;32m    906\u001b[0m \u001b[38;5;28;01mfrom\u001b[39;00m \u001b[38;5;21;01msklearn\u001b[39;00m\u001b[38;5;21;01m.\u001b[39;00m\u001b[38;5;21;01mutils\u001b[39;00m\u001b[38;5;21;01m.\u001b[39;00m\u001b[38;5;21;01m_param_validation\u001b[39;00m \u001b[38;5;28;01mimport\u001b[39;00m generate_valid_param  \u001b[38;5;66;03m# noqa\u001b[39;00m\n\u001b[0;32m    907\u001b[0m \u001b[38;5;28;01mfrom\u001b[39;00m \u001b[38;5;21;01msklearn\u001b[39;00m\u001b[38;5;21;01m.\u001b[39;00m\u001b[38;5;21;01mutils\u001b[39;00m\u001b[38;5;21;01m.\u001b[39;00m\u001b[38;5;21;01m_param_validation\u001b[39;00m \u001b[38;5;28;01mimport\u001b[39;00m validate_parameter_constraints  \u001b[38;5;66;03m# noqa\u001b[39;00m\n\u001b[1;32m--> 908\u001b[0m \u001b[38;5;28;01mfrom\u001b[39;00m \u001b[38;5;21;01msklearn\u001b[39;00m\u001b[38;5;21;01m.\u001b[39;00m\u001b[38;5;21;01mutils\u001b[39;00m\u001b[38;5;21;01m.\u001b[39;00m\u001b[38;5;21;01m_param_validation\u001b[39;00m \u001b[38;5;28;01mimport\u001b[39;00m (\n\u001b[0;32m    909\u001b[0m     HasMethods,\n\u001b[0;32m    910\u001b[0m     Hidden,\n\u001b[0;32m    911\u001b[0m     Interval,\n\u001b[0;32m    912\u001b[0m     Options,\n\u001b[0;32m    913\u001b[0m     StrOptions,\n\u001b[0;32m    914\u001b[0m     _ArrayLikes,\n\u001b[0;32m    915\u001b[0m     _Booleans,\n\u001b[0;32m    916\u001b[0m     _Callables,\n\u001b[0;32m    917\u001b[0m     _CVObjects,\n\u001b[0;32m    918\u001b[0m     _InstancesOf,\n\u001b[0;32m    919\u001b[0m     _IterablesNotString,\n\u001b[0;32m    920\u001b[0m     _MissingValues,\n\u001b[0;32m    921\u001b[0m     _NoneConstraint,\n\u001b[0;32m    922\u001b[0m     _PandasNAConstraint,\n\u001b[0;32m    923\u001b[0m     _RandomStates,\n\u001b[0;32m    924\u001b[0m     _SparseMatrices,\n\u001b[0;32m    925\u001b[0m     _VerboseHelper,\n\u001b[0;32m    926\u001b[0m     make_constraint,\n\u001b[0;32m    927\u001b[0m     validate_params,\n\u001b[0;32m    928\u001b[0m )\n",
      "\u001b[1;31mImportError\u001b[0m: cannot import name '_MissingValues' from 'sklearn.utils._param_validation' (C:\\Users\\balak\\anaconda3\\Lib\\site-packages\\sklearn\\utils\\_param_validation.py)"
     ]
    }
   ],
   "source": [
    "from pycaret.regression import *\n",
    "\n",
    "\n",
    "regression_setup = setup(data=cleaned_data, target='SOLD PRICE', train_size=0.8)\n"
   ]
  },
  {
   "cell_type": "code",
   "execution_count": 84,
   "id": "98c14385",
   "metadata": {},
   "outputs": [
    {
     "name": "stdout",
     "output_type": "stream",
     "text": [
      "Found existing installation: scikit-learn 1.3.2\n",
      "Uninstalling scikit-learn-1.3.2:\n",
      "  Successfully uninstalled scikit-learn-1.3.2\n"
     ]
    },
    {
     "name": "stderr",
     "output_type": "stream",
     "text": [
      "ERROR: Exception:\n",
      "Traceback (most recent call last):\n",
      "  File \"C:\\Users\\balak\\anaconda3\\Lib\\site-packages\\pip\\_internal\\cli\\base_command.py\", line 180, in exc_logging_wrapper\n",
      "    status = run_func(*args)\n",
      "             ^^^^^^^^^^^^^^^\n",
      "  File \"C:\\Users\\balak\\anaconda3\\Lib\\site-packages\\pip\\_internal\\commands\\uninstall.py\", line 110, in run\n",
      "    uninstall_pathset.commit()\n",
      "  File \"C:\\Users\\balak\\anaconda3\\Lib\\site-packages\\pip\\_internal\\req\\req_uninstall.py\", line 432, in commit\n",
      "    self._moved_paths.commit()\n",
      "  File \"C:\\Users\\balak\\anaconda3\\Lib\\site-packages\\pip\\_internal\\req\\req_uninstall.py\", line 278, in commit\n",
      "    save_dir.cleanup()\n",
      "  File \"C:\\Users\\balak\\anaconda3\\Lib\\site-packages\\pip\\_internal\\utils\\temp_dir.py\", line 173, in cleanup\n",
      "    rmtree(self._path)\n",
      "  File \"C:\\Users\\balak\\anaconda3\\Lib\\site-packages\\pip\\_vendor\\tenacity\\__init__.py\", line 291, in wrapped_f\n",
      "    return self(f, *args, **kw)\n",
      "           ^^^^^^^^^^^^^^^^^^^^\n",
      "  File \"C:\\Users\\balak\\anaconda3\\Lib\\site-packages\\pip\\_vendor\\tenacity\\__init__.py\", line 381, in __call__\n",
      "    do = self.iter(retry_state=retry_state)\n",
      "         ^^^^^^^^^^^^^^^^^^^^^^^^^^^^^^^^^^\n",
      "  File \"C:\\Users\\balak\\anaconda3\\Lib\\site-packages\\pip\\_vendor\\tenacity\\__init__.py\", line 327, in iter\n",
      "    raise retry_exc.reraise()\n",
      "          ^^^^^^^^^^^^^^^^^^^\n",
      "  File \"C:\\Users\\balak\\anaconda3\\Lib\\site-packages\\pip\\_vendor\\tenacity\\__init__.py\", line 160, in reraise\n",
      "    raise self.last_attempt.result()\n",
      "          ^^^^^^^^^^^^^^^^^^^^^^^^^^\n",
      "  File \"C:\\Users\\balak\\anaconda3\\Lib\\concurrent\\futures\\_base.py\", line 449, in result\n",
      "    return self.__get_result()\n",
      "           ^^^^^^^^^^^^^^^^^^^\n",
      "  File \"C:\\Users\\balak\\anaconda3\\Lib\\concurrent\\futures\\_base.py\", line 401, in __get_result\n",
      "    raise self._exception\n",
      "  File \"C:\\Users\\balak\\anaconda3\\Lib\\site-packages\\pip\\_vendor\\tenacity\\__init__.py\", line 384, in __call__\n",
      "    result = fn(*args, **kwargs)\n",
      "             ^^^^^^^^^^^^^^^^^^^\n",
      "  File \"C:\\Users\\balak\\anaconda3\\Lib\\site-packages\\pip\\_internal\\utils\\misc.py\", line 130, in rmtree\n",
      "    shutil.rmtree(dir, ignore_errors=ignore_errors, onerror=rmtree_errorhandler)\n",
      "  File \"C:\\Users\\balak\\anaconda3\\Lib\\shutil.py\", line 759, in rmtree\n",
      "    return _rmtree_unsafe(path, onerror)\n",
      "           ^^^^^^^^^^^^^^^^^^^^^^^^^^^^^\n",
      "  File \"C:\\Users\\balak\\anaconda3\\Lib\\shutil.py\", line 617, in _rmtree_unsafe\n",
      "    _rmtree_unsafe(fullname, onerror)\n",
      "  File \"C:\\Users\\balak\\anaconda3\\Lib\\shutil.py\", line 622, in _rmtree_unsafe\n",
      "    onerror(os.unlink, fullname, sys.exc_info())\n",
      "  File \"C:\\Users\\balak\\anaconda3\\Lib\\shutil.py\", line 620, in _rmtree_unsafe\n",
      "    os.unlink(fullname)\n",
      "PermissionError: [WinError 5] Access is denied: 'C:\\\\Users\\\\balak\\\\anaconda3\\\\Lib\\\\site-packages\\\\~klearn\\\\.libs\\\\msvcp140.dll'\n"
     ]
    }
   ],
   "source": [
    "!pip uninstall scikit-learn --yes"
   ]
  },
  {
   "cell_type": "code",
   "execution_count": 85,
   "id": "bf8913bb",
   "metadata": {},
   "outputs": [
    {
     "name": "stdout",
     "output_type": "stream",
     "text": [
      "Found existing installation: imblearn 0.0\n",
      "Uninstalling imblearn-0.0:\n",
      "  Successfully uninstalled imblearn-0.0\n"
     ]
    }
   ],
   "source": [
    "!pip uninstall imblearn --yes"
   ]
  },
  {
   "cell_type": "code",
   "execution_count": 86,
   "id": "d5b49c4b",
   "metadata": {},
   "outputs": [
    {
     "name": "stdout",
     "output_type": "stream",
     "text": [
      "Collecting scikit-learn==1.2.2\n",
      "  Using cached scikit_learn-1.2.2-cp311-cp311-win_amd64.whl (8.3 MB)\n",
      "Requirement already satisfied: numpy>=1.17.3 in c:\\users\\balak\\anaconda3\\lib\\site-packages (from scikit-learn==1.2.2) (1.24.3)\n",
      "Requirement already satisfied: scipy>=1.3.2 in c:\\users\\balak\\anaconda3\\lib\\site-packages (from scikit-learn==1.2.2) (1.10.1)\n",
      "Requirement already satisfied: joblib>=1.1.1 in c:\\users\\balak\\anaconda3\\lib\\site-packages (from scikit-learn==1.2.2) (1.2.0)\n",
      "Requirement already satisfied: threadpoolctl>=2.0.0 in c:\\users\\balak\\anaconda3\\lib\\site-packages (from scikit-learn==1.2.2) (2.2.0)\n",
      "Installing collected packages: scikit-learn\n",
      "Successfully installed scikit-learn-1.2.2\n"
     ]
    }
   ],
   "source": [
    "!pip install scikit-learn==1.2.2"
   ]
  },
  {
   "cell_type": "code",
   "execution_count": 87,
   "id": "45c20e97",
   "metadata": {},
   "outputs": [
    {
     "name": "stdout",
     "output_type": "stream",
     "text": [
      "Requirement already satisfied: scikit-learn==1.2.2 in c:\\users\\balak\\anaconda3\\lib\\site-packages (1.2.2)\n",
      "Requirement already satisfied: numpy>=1.17.3 in c:\\users\\balak\\anaconda3\\lib\\site-packages (from scikit-learn==1.2.2) (1.24.3)\n",
      "Requirement already satisfied: scipy>=1.3.2 in c:\\users\\balak\\anaconda3\\lib\\site-packages (from scikit-learn==1.2.2) (1.10.1)\n",
      "Requirement already satisfied: joblib>=1.1.1 in c:\\users\\balak\\anaconda3\\lib\\site-packages (from scikit-learn==1.2.2) (1.2.0)\n",
      "Requirement already satisfied: threadpoolctl>=2.0.0 in c:\\users\\balak\\anaconda3\\lib\\site-packages (from scikit-learn==1.2.2) (2.2.0)\n"
     ]
    }
   ],
   "source": [
    "!pip install scikit-learn==1.2.2"
   ]
  },
  {
   "cell_type": "code",
   "execution_count": 88,
   "id": "ace603b8",
   "metadata": {},
   "outputs": [
    {
     "name": "stdout",
     "output_type": "stream",
     "text": [
      "Collecting imblearn\n",
      "  Using cached imblearn-0.0-py2.py3-none-any.whl (1.9 kB)\n",
      "Requirement already satisfied: imbalanced-learn in c:\\users\\balak\\anaconda3\\lib\\site-packages (from imblearn) (0.10.1)\n",
      "Requirement already satisfied: numpy>=1.17.3 in c:\\users\\balak\\anaconda3\\lib\\site-packages (from imbalanced-learn->imblearn) (1.24.3)\n",
      "Requirement already satisfied: scipy>=1.3.2 in c:\\users\\balak\\anaconda3\\lib\\site-packages (from imbalanced-learn->imblearn) (1.10.1)\n",
      "Requirement already satisfied: scikit-learn>=1.0.2 in c:\\users\\balak\\anaconda3\\lib\\site-packages (from imbalanced-learn->imblearn) (1.2.2)\n",
      "Requirement already satisfied: joblib>=1.1.1 in c:\\users\\balak\\anaconda3\\lib\\site-packages (from imbalanced-learn->imblearn) (1.2.0)\n",
      "Requirement already satisfied: threadpoolctl>=2.0.0 in c:\\users\\balak\\anaconda3\\lib\\site-packages (from imbalanced-learn->imblearn) (2.2.0)\n",
      "Installing collected packages: imblearn\n",
      "Successfully installed imblearn-0.0\n"
     ]
    }
   ],
   "source": [
    "!pip install imblearn"
   ]
  },
  {
   "cell_type": "code",
   "execution_count": 30,
   "id": "174ae4f6",
   "metadata": {},
   "outputs": [
    {
     "data": {
      "text/html": [],
      "text/plain": [
       "<IPython.core.display.HTML object>"
      ]
     },
     "metadata": {},
     "output_type": "display_data"
    },
    {
     "data": {
      "text/html": [
       "<style type=\"text/css\">\n",
       "#T_4c427 th {\n",
       "  text-align: left;\n",
       "}\n",
       "#T_4c427_row0_col0, #T_4c427_row0_col6, #T_4c427_row1_col0, #T_4c427_row1_col1, #T_4c427_row1_col2, #T_4c427_row1_col3, #T_4c427_row1_col4, #T_4c427_row1_col5, #T_4c427_row1_col6, #T_4c427_row2_col0, #T_4c427_row2_col1, #T_4c427_row2_col2, #T_4c427_row2_col3, #T_4c427_row2_col4, #T_4c427_row2_col5, #T_4c427_row2_col6, #T_4c427_row3_col0, #T_4c427_row3_col1, #T_4c427_row3_col2, #T_4c427_row3_col3, #T_4c427_row3_col4, #T_4c427_row3_col5, #T_4c427_row3_col6, #T_4c427_row4_col0, #T_4c427_row4_col1, #T_4c427_row4_col2, #T_4c427_row4_col3, #T_4c427_row4_col4, #T_4c427_row4_col5, #T_4c427_row4_col6, #T_4c427_row5_col0, #T_4c427_row5_col1, #T_4c427_row5_col2, #T_4c427_row5_col3, #T_4c427_row5_col4, #T_4c427_row5_col5, #T_4c427_row5_col6, #T_4c427_row6_col0, #T_4c427_row6_col1, #T_4c427_row6_col2, #T_4c427_row6_col3, #T_4c427_row6_col4, #T_4c427_row6_col5, #T_4c427_row6_col6, #T_4c427_row7_col0, #T_4c427_row7_col1, #T_4c427_row7_col2, #T_4c427_row7_col3, #T_4c427_row7_col4, #T_4c427_row7_col5, #T_4c427_row7_col6, #T_4c427_row8_col0, #T_4c427_row8_col1, #T_4c427_row8_col2, #T_4c427_row8_col3, #T_4c427_row8_col4, #T_4c427_row8_col5, #T_4c427_row8_col6, #T_4c427_row9_col0, #T_4c427_row9_col1, #T_4c427_row9_col2, #T_4c427_row9_col3, #T_4c427_row9_col4, #T_4c427_row9_col5, #T_4c427_row9_col6, #T_4c427_row10_col0, #T_4c427_row10_col1, #T_4c427_row10_col2, #T_4c427_row10_col3, #T_4c427_row10_col4, #T_4c427_row10_col5, #T_4c427_row10_col6, #T_4c427_row11_col0, #T_4c427_row11_col1, #T_4c427_row11_col2, #T_4c427_row11_col3, #T_4c427_row11_col4, #T_4c427_row11_col5, #T_4c427_row11_col6, #T_4c427_row12_col0, #T_4c427_row12_col1, #T_4c427_row12_col2, #T_4c427_row12_col3, #T_4c427_row12_col4, #T_4c427_row12_col5, #T_4c427_row12_col6, #T_4c427_row13_col0, #T_4c427_row13_col1, #T_4c427_row13_col2, #T_4c427_row13_col3, #T_4c427_row13_col4, #T_4c427_row13_col5, #T_4c427_row13_col6, #T_4c427_row14_col0, #T_4c427_row14_col1, #T_4c427_row14_col2, #T_4c427_row14_col3, #T_4c427_row14_col4, #T_4c427_row14_col5, #T_4c427_row14_col6, #T_4c427_row15_col0, #T_4c427_row15_col1, #T_4c427_row15_col2, #T_4c427_row15_col3, #T_4c427_row15_col4, #T_4c427_row15_col5, #T_4c427_row15_col6, #T_4c427_row16_col0, #T_4c427_row16_col1, #T_4c427_row16_col2, #T_4c427_row16_col3, #T_4c427_row16_col4, #T_4c427_row16_col5, #T_4c427_row16_col6, #T_4c427_row17_col0, #T_4c427_row17_col1, #T_4c427_row17_col2, #T_4c427_row17_col3, #T_4c427_row17_col4, #T_4c427_row17_col5, #T_4c427_row18_col0, #T_4c427_row18_col1, #T_4c427_row18_col2, #T_4c427_row18_col3, #T_4c427_row18_col4, #T_4c427_row18_col5, #T_4c427_row18_col6 {\n",
       "  text-align: left;\n",
       "}\n",
       "#T_4c427_row0_col1, #T_4c427_row0_col2, #T_4c427_row0_col3, #T_4c427_row0_col4, #T_4c427_row0_col5, #T_4c427_row17_col6 {\n",
       "  text-align: left;\n",
       "  background-color: yellow;\n",
       "}\n",
       "#T_4c427_row0_col7, #T_4c427_row1_col7, #T_4c427_row2_col7, #T_4c427_row3_col7, #T_4c427_row4_col7, #T_4c427_row5_col7, #T_4c427_row6_col7, #T_4c427_row7_col7, #T_4c427_row8_col7, #T_4c427_row9_col7, #T_4c427_row10_col7, #T_4c427_row11_col7, #T_4c427_row12_col7, #T_4c427_row13_col7, #T_4c427_row14_col7, #T_4c427_row15_col7, #T_4c427_row17_col7, #T_4c427_row18_col7 {\n",
       "  text-align: left;\n",
       "  background-color: lightgrey;\n",
       "}\n",
       "#T_4c427_row16_col7 {\n",
       "  text-align: left;\n",
       "  background-color: yellow;\n",
       "  background-color: lightgrey;\n",
       "}\n",
       "</style>\n",
       "<table id=\"T_4c427\">\n",
       "  <thead>\n",
       "    <tr>\n",
       "      <th class=\"blank level0\" >&nbsp;</th>\n",
       "      <th id=\"T_4c427_level0_col0\" class=\"col_heading level0 col0\" >Model</th>\n",
       "      <th id=\"T_4c427_level0_col1\" class=\"col_heading level0 col1\" >MAE</th>\n",
       "      <th id=\"T_4c427_level0_col2\" class=\"col_heading level0 col2\" >MSE</th>\n",
       "      <th id=\"T_4c427_level0_col3\" class=\"col_heading level0 col3\" >RMSE</th>\n",
       "      <th id=\"T_4c427_level0_col4\" class=\"col_heading level0 col4\" >R2</th>\n",
       "      <th id=\"T_4c427_level0_col5\" class=\"col_heading level0 col5\" >RMSLE</th>\n",
       "      <th id=\"T_4c427_level0_col6\" class=\"col_heading level0 col6\" >MAPE</th>\n",
       "      <th id=\"T_4c427_level0_col7\" class=\"col_heading level0 col7\" >TT (Sec)</th>\n",
       "    </tr>\n",
       "  </thead>\n",
       "  <tbody>\n",
       "    <tr>\n",
       "      <th id=\"T_4c427_level0_row0\" class=\"row_heading level0 row0\" >huber</th>\n",
       "      <td id=\"T_4c427_row0_col0\" class=\"data row0 col0\" >Huber Regressor</td>\n",
       "      <td id=\"T_4c427_row0_col1\" class=\"data row0 col1\" >245625.4369</td>\n",
       "      <td id=\"T_4c427_row0_col2\" class=\"data row0 col2\" >118430663695.8610</td>\n",
       "      <td id=\"T_4c427_row0_col3\" class=\"data row0 col3\" >330352.0691</td>\n",
       "      <td id=\"T_4c427_row0_col4\" class=\"data row0 col4\" >0.2808</td>\n",
       "      <td id=\"T_4c427_row0_col5\" class=\"data row0 col5\" >0.7173</td>\n",
       "      <td id=\"T_4c427_row0_col6\" class=\"data row0 col6\" >0.8420</td>\n",
       "      <td id=\"T_4c427_row0_col7\" class=\"data row0 col7\" >0.1060</td>\n",
       "    </tr>\n",
       "    <tr>\n",
       "      <th id=\"T_4c427_level0_row1\" class=\"row_heading level0 row1\" >omp</th>\n",
       "      <td id=\"T_4c427_row1_col0\" class=\"data row1 col0\" >Orthogonal Matching Pursuit</td>\n",
       "      <td id=\"T_4c427_row1_col1\" class=\"data row1 col1\" >279015.0858</td>\n",
       "      <td id=\"T_4c427_row1_col2\" class=\"data row1 col2\" >137640219604.6543</td>\n",
       "      <td id=\"T_4c427_row1_col3\" class=\"data row1 col3\" >358930.5067</td>\n",
       "      <td id=\"T_4c427_row1_col4\" class=\"data row1 col4\" >0.1717</td>\n",
       "      <td id=\"T_4c427_row1_col5\" class=\"data row1 col5\" >0.8727</td>\n",
       "      <td id=\"T_4c427_row1_col6\" class=\"data row1 col6\" >1.2503</td>\n",
       "      <td id=\"T_4c427_row1_col7\" class=\"data row1 col7\" >0.1070</td>\n",
       "    </tr>\n",
       "    <tr>\n",
       "      <th id=\"T_4c427_level0_row2\" class=\"row_heading level0 row2\" >knn</th>\n",
       "      <td id=\"T_4c427_row2_col0\" class=\"data row2 col0\" >K Neighbors Regressor</td>\n",
       "      <td id=\"T_4c427_row2_col1\" class=\"data row2 col1\" >296217.0909</td>\n",
       "      <td id=\"T_4c427_row2_col2\" class=\"data row2 col2\" >169469181309.0909</td>\n",
       "      <td id=\"T_4c427_row2_col3\" class=\"data row2 col3\" >392260.8720</td>\n",
       "      <td id=\"T_4c427_row2_col4\" class=\"data row2 col4\" >0.0439</td>\n",
       "      <td id=\"T_4c427_row2_col5\" class=\"data row2 col5\" >0.9844</td>\n",
       "      <td id=\"T_4c427_row2_col6\" class=\"data row2 col6\" >1.5248</td>\n",
       "      <td id=\"T_4c427_row2_col7\" class=\"data row2 col7\" >0.1120</td>\n",
       "    </tr>\n",
       "    <tr>\n",
       "      <th id=\"T_4c427_level0_row3\" class=\"row_heading level0 row3\" >catboost</th>\n",
       "      <td id=\"T_4c427_row3_col0\" class=\"data row3 col0\" >CatBoost Regressor</td>\n",
       "      <td id=\"T_4c427_row3_col1\" class=\"data row3 col1\" >309446.0293</td>\n",
       "      <td id=\"T_4c427_row3_col2\" class=\"data row3 col2\" >168483728260.4760</td>\n",
       "      <td id=\"T_4c427_row3_col3\" class=\"data row3 col3\" >397837.5734</td>\n",
       "      <td id=\"T_4c427_row3_col4\" class=\"data row3 col4\" >0.0200</td>\n",
       "      <td id=\"T_4c427_row3_col5\" class=\"data row3 col5\" >1.0036</td>\n",
       "      <td id=\"T_4c427_row3_col6\" class=\"data row3 col6\" >1.7026</td>\n",
       "      <td id=\"T_4c427_row3_col7\" class=\"data row3 col7\" >2.6730</td>\n",
       "    </tr>\n",
       "    <tr>\n",
       "      <th id=\"T_4c427_level0_row4\" class=\"row_heading level0 row4\" >lightgbm</th>\n",
       "      <td id=\"T_4c427_row4_col0\" class=\"data row4 col0\" >Light Gradient Boosting Machine</td>\n",
       "      <td id=\"T_4c427_row4_col1\" class=\"data row4 col1\" >308589.7615</td>\n",
       "      <td id=\"T_4c427_row4_col2\" class=\"data row4 col2\" >164280440245.4062</td>\n",
       "      <td id=\"T_4c427_row4_col3\" class=\"data row4 col3\" >395935.2405</td>\n",
       "      <td id=\"T_4c427_row4_col4\" class=\"data row4 col4\" >0.0015</td>\n",
       "      <td id=\"T_4c427_row4_col5\" class=\"data row4 col5\" >1.0200</td>\n",
       "      <td id=\"T_4c427_row4_col6\" class=\"data row4 col6\" >1.7748</td>\n",
       "      <td id=\"T_4c427_row4_col7\" class=\"data row4 col7\" >0.3220</td>\n",
       "    </tr>\n",
       "    <tr>\n",
       "      <th id=\"T_4c427_level0_row5\" class=\"row_heading level0 row5\" >ada</th>\n",
       "      <td id=\"T_4c427_row5_col0\" class=\"data row5 col0\" >AdaBoost Regressor</td>\n",
       "      <td id=\"T_4c427_row5_col1\" class=\"data row5 col1\" >316692.4242</td>\n",
       "      <td id=\"T_4c427_row5_col2\" class=\"data row5 col2\" >175662572337.0064</td>\n",
       "      <td id=\"T_4c427_row5_col3\" class=\"data row5 col3\" >407228.5701</td>\n",
       "      <td id=\"T_4c427_row5_col4\" class=\"data row5 col4\" >-0.0310</td>\n",
       "      <td id=\"T_4c427_row5_col5\" class=\"data row5 col5\" >1.0361</td>\n",
       "      <td id=\"T_4c427_row5_col6\" class=\"data row5 col6\" >1.8516</td>\n",
       "      <td id=\"T_4c427_row5_col7\" class=\"data row5 col7\" >0.1490</td>\n",
       "    </tr>\n",
       "    <tr>\n",
       "      <th id=\"T_4c427_level0_row6\" class=\"row_heading level0 row6\" >dt</th>\n",
       "      <td id=\"T_4c427_row6_col0\" class=\"data row6 col0\" >Decision Tree Regressor</td>\n",
       "      <td id=\"T_4c427_row6_col1\" class=\"data row6 col1\" >318213.6364</td>\n",
       "      <td id=\"T_4c427_row6_col2\" class=\"data row6 col2\" >176452850000.0000</td>\n",
       "      <td id=\"T_4c427_row6_col3\" class=\"data row6 col3\" >408312.9317</td>\n",
       "      <td id=\"T_4c427_row6_col4\" class=\"data row6 col4\" >-0.0377</td>\n",
       "      <td id=\"T_4c427_row6_col5\" class=\"data row6 col5\" >1.0389</td>\n",
       "      <td id=\"T_4c427_row6_col6\" class=\"data row6 col6\" >1.8575</td>\n",
       "      <td id=\"T_4c427_row6_col7\" class=\"data row6 col7\" >0.0860</td>\n",
       "    </tr>\n",
       "    <tr>\n",
       "      <th id=\"T_4c427_level0_row7\" class=\"row_heading level0 row7\" >gbr</th>\n",
       "      <td id=\"T_4c427_row7_col0\" class=\"data row7 col0\" >Gradient Boosting Regressor</td>\n",
       "      <td id=\"T_4c427_row7_col1\" class=\"data row7 col1\" >318249.1486</td>\n",
       "      <td id=\"T_4c427_row7_col2\" class=\"data row7 col2\" >176784900571.8914</td>\n",
       "      <td id=\"T_4c427_row7_col3\" class=\"data row7 col3\" >408745.6612</td>\n",
       "      <td id=\"T_4c427_row7_col4\" class=\"data row7 col4\" >-0.0405</td>\n",
       "      <td id=\"T_4c427_row7_col5\" class=\"data row7 col5\" >1.0401</td>\n",
       "      <td id=\"T_4c427_row7_col6\" class=\"data row7 col6\" >1.8617</td>\n",
       "      <td id=\"T_4c427_row7_col7\" class=\"data row7 col7\" >0.1950</td>\n",
       "    </tr>\n",
       "    <tr>\n",
       "      <th id=\"T_4c427_level0_row8\" class=\"row_heading level0 row8\" >et</th>\n",
       "      <td id=\"T_4c427_row8_col0\" class=\"data row8 col0\" >Extra Trees Regressor</td>\n",
       "      <td id=\"T_4c427_row8_col1\" class=\"data row8 col1\" >318480.0000</td>\n",
       "      <td id=\"T_4c427_row8_col2\" class=\"data row8 col2\" >176954375713.6364</td>\n",
       "      <td id=\"T_4c427_row8_col3\" class=\"data row8 col3\" >408901.8997</td>\n",
       "      <td id=\"T_4c427_row8_col4\" class=\"data row8 col4\" >-0.0409</td>\n",
       "      <td id=\"T_4c427_row8_col5\" class=\"data row8 col5\" >1.0400</td>\n",
       "      <td id=\"T_4c427_row8_col6\" class=\"data row8 col6\" >1.8623</td>\n",
       "      <td id=\"T_4c427_row8_col7\" class=\"data row8 col7\" >0.2420</td>\n",
       "    </tr>\n",
       "    <tr>\n",
       "      <th id=\"T_4c427_level0_row9\" class=\"row_heading level0 row9\" >rf</th>\n",
       "      <td id=\"T_4c427_row9_col0\" class=\"data row9 col0\" >Random Forest Regressor</td>\n",
       "      <td id=\"T_4c427_row9_col1\" class=\"data row9 col1\" >318400.2273</td>\n",
       "      <td id=\"T_4c427_row9_col2\" class=\"data row9 col2\" >176842380625.0000</td>\n",
       "      <td id=\"T_4c427_row9_col3\" class=\"data row9 col3\" >408934.0954</td>\n",
       "      <td id=\"T_4c427_row9_col4\" class=\"data row9 col4\" >-0.0419</td>\n",
       "      <td id=\"T_4c427_row9_col5\" class=\"data row9 col5\" >1.0391</td>\n",
       "      <td id=\"T_4c427_row9_col6\" class=\"data row9 col6\" >1.8539</td>\n",
       "      <td id=\"T_4c427_row9_col7\" class=\"data row9 col7\" >0.2720</td>\n",
       "    </tr>\n",
       "    <tr>\n",
       "      <th id=\"T_4c427_level0_row10\" class=\"row_heading level0 row10\" >ridge</th>\n",
       "      <td id=\"T_4c427_row10_col0\" class=\"data row10 col0\" >Ridge Regression</td>\n",
       "      <td id=\"T_4c427_row10_col1\" class=\"data row10 col1\" >318709.7658</td>\n",
       "      <td id=\"T_4c427_row10_col2\" class=\"data row10 col2\" >177647413442.4117</td>\n",
       "      <td id=\"T_4c427_row10_col3\" class=\"data row10 col3\" >409655.1250</td>\n",
       "      <td id=\"T_4c427_row10_col4\" class=\"data row10 col4\" >-0.0446</td>\n",
       "      <td id=\"T_4c427_row10_col5\" class=\"data row10 col5\" >1.0418</td>\n",
       "      <td id=\"T_4c427_row10_col6\" class=\"data row10 col6\" >1.8694</td>\n",
       "      <td id=\"T_4c427_row10_col7\" class=\"data row10 col7\" >0.3620</td>\n",
       "    </tr>\n",
       "    <tr>\n",
       "      <th id=\"T_4c427_level0_row11\" class=\"row_heading level0 row11\" >en</th>\n",
       "      <td id=\"T_4c427_row11_col0\" class=\"data row11 col0\" >Elastic Net</td>\n",
       "      <td id=\"T_4c427_row11_col1\" class=\"data row11 col1\" >318709.7658</td>\n",
       "      <td id=\"T_4c427_row11_col2\" class=\"data row11 col2\" >177647413420.1096</td>\n",
       "      <td id=\"T_4c427_row11_col3\" class=\"data row11 col3\" >409655.1250</td>\n",
       "      <td id=\"T_4c427_row11_col4\" class=\"data row11 col4\" >-0.0446</td>\n",
       "      <td id=\"T_4c427_row11_col5\" class=\"data row11 col5\" >1.0418</td>\n",
       "      <td id=\"T_4c427_row11_col6\" class=\"data row11 col6\" >1.8694</td>\n",
       "      <td id=\"T_4c427_row11_col7\" class=\"data row11 col7\" >0.0880</td>\n",
       "    </tr>\n",
       "    <tr>\n",
       "      <th id=\"T_4c427_level0_row12\" class=\"row_heading level0 row12\" >lar</th>\n",
       "      <td id=\"T_4c427_row12_col0\" class=\"data row12 col0\" >Least Angle Regression</td>\n",
       "      <td id=\"T_4c427_row12_col1\" class=\"data row12 col1\" >318709.7658</td>\n",
       "      <td id=\"T_4c427_row12_col2\" class=\"data row12 col2\" >177647413443.8305</td>\n",
       "      <td id=\"T_4c427_row12_col3\" class=\"data row12 col3\" >409655.1250</td>\n",
       "      <td id=\"T_4c427_row12_col4\" class=\"data row12 col4\" >-0.0446</td>\n",
       "      <td id=\"T_4c427_row12_col5\" class=\"data row12 col5\" >1.0418</td>\n",
       "      <td id=\"T_4c427_row12_col6\" class=\"data row12 col6\" >1.8694</td>\n",
       "      <td id=\"T_4c427_row12_col7\" class=\"data row12 col7\" >0.0900</td>\n",
       "    </tr>\n",
       "    <tr>\n",
       "      <th id=\"T_4c427_level0_row13\" class=\"row_heading level0 row13\" >llar</th>\n",
       "      <td id=\"T_4c427_row13_col0\" class=\"data row13 col0\" >Lasso Least Angle Regression</td>\n",
       "      <td id=\"T_4c427_row13_col1\" class=\"data row13 col1\" >318709.7658</td>\n",
       "      <td id=\"T_4c427_row13_col2\" class=\"data row13 col2\" >177647413443.0684</td>\n",
       "      <td id=\"T_4c427_row13_col3\" class=\"data row13 col3\" >409655.1250</td>\n",
       "      <td id=\"T_4c427_row13_col4\" class=\"data row13 col4\" >-0.0446</td>\n",
       "      <td id=\"T_4c427_row13_col5\" class=\"data row13 col5\" >1.0418</td>\n",
       "      <td id=\"T_4c427_row13_col6\" class=\"data row13 col6\" >1.8694</td>\n",
       "      <td id=\"T_4c427_row13_col7\" class=\"data row13 col7\" >0.0980</td>\n",
       "    </tr>\n",
       "    <tr>\n",
       "      <th id=\"T_4c427_level0_row14\" class=\"row_heading level0 row14\" >lr</th>\n",
       "      <td id=\"T_4c427_row14_col0\" class=\"data row14 col0\" >Linear Regression</td>\n",
       "      <td id=\"T_4c427_row14_col1\" class=\"data row14 col1\" >318709.7658</td>\n",
       "      <td id=\"T_4c427_row14_col2\" class=\"data row14 col2\" >177647413443.8306</td>\n",
       "      <td id=\"T_4c427_row14_col3\" class=\"data row14 col3\" >409655.1250</td>\n",
       "      <td id=\"T_4c427_row14_col4\" class=\"data row14 col4\" >-0.0446</td>\n",
       "      <td id=\"T_4c427_row14_col5\" class=\"data row14 col5\" >1.0418</td>\n",
       "      <td id=\"T_4c427_row14_col6\" class=\"data row14 col6\" >1.8694</td>\n",
       "      <td id=\"T_4c427_row14_col7\" class=\"data row14 col7\" >2.7710</td>\n",
       "    </tr>\n",
       "    <tr>\n",
       "      <th id=\"T_4c427_level0_row15\" class=\"row_heading level0 row15\" >lasso</th>\n",
       "      <td id=\"T_4c427_row15_col0\" class=\"data row15 col0\" >Lasso Regression</td>\n",
       "      <td id=\"T_4c427_row15_col1\" class=\"data row15 col1\" >318709.7658</td>\n",
       "      <td id=\"T_4c427_row15_col2\" class=\"data row15 col2\" >177647413443.1324</td>\n",
       "      <td id=\"T_4c427_row15_col3\" class=\"data row15 col3\" >409655.1250</td>\n",
       "      <td id=\"T_4c427_row15_col4\" class=\"data row15 col4\" >-0.0446</td>\n",
       "      <td id=\"T_4c427_row15_col5\" class=\"data row15 col5\" >1.0418</td>\n",
       "      <td id=\"T_4c427_row15_col6\" class=\"data row15 col6\" >1.8694</td>\n",
       "      <td id=\"T_4c427_row15_col7\" class=\"data row15 col7\" >1.6940</td>\n",
       "    </tr>\n",
       "    <tr>\n",
       "      <th id=\"T_4c427_level0_row16\" class=\"row_heading level0 row16\" >dummy</th>\n",
       "      <td id=\"T_4c427_row16_col0\" class=\"data row16 col0\" >Dummy Regressor</td>\n",
       "      <td id=\"T_4c427_row16_col1\" class=\"data row16 col1\" >318709.7658</td>\n",
       "      <td id=\"T_4c427_row16_col2\" class=\"data row16 col2\" >177647413443.8305</td>\n",
       "      <td id=\"T_4c427_row16_col3\" class=\"data row16 col3\" >409655.1250</td>\n",
       "      <td id=\"T_4c427_row16_col4\" class=\"data row16 col4\" >-0.0446</td>\n",
       "      <td id=\"T_4c427_row16_col5\" class=\"data row16 col5\" >1.0418</td>\n",
       "      <td id=\"T_4c427_row16_col6\" class=\"data row16 col6\" >1.8694</td>\n",
       "      <td id=\"T_4c427_row16_col7\" class=\"data row16 col7\" >0.0770</td>\n",
       "    </tr>\n",
       "    <tr>\n",
       "      <th id=\"T_4c427_level0_row17\" class=\"row_heading level0 row17\" >par</th>\n",
       "      <td id=\"T_4c427_row17_col0\" class=\"data row17 col0\" >Passive Aggressive Regressor</td>\n",
       "      <td id=\"T_4c427_row17_col1\" class=\"data row17 col1\" >285898.5480</td>\n",
       "      <td id=\"T_4c427_row17_col2\" class=\"data row17 col2\" >173809356474.7966</td>\n",
       "      <td id=\"T_4c427_row17_col3\" class=\"data row17 col3\" >404167.0269</td>\n",
       "      <td id=\"T_4c427_row17_col4\" class=\"data row17 col4\" >-0.1360</td>\n",
       "      <td id=\"T_4c427_row17_col5\" class=\"data row17 col5\" >0.9567</td>\n",
       "      <td id=\"T_4c427_row17_col6\" class=\"data row17 col6\" >0.7798</td>\n",
       "      <td id=\"T_4c427_row17_col7\" class=\"data row17 col7\" >0.0860</td>\n",
       "    </tr>\n",
       "    <tr>\n",
       "      <th id=\"T_4c427_level0_row18\" class=\"row_heading level0 row18\" >br</th>\n",
       "      <td id=\"T_4c427_row18_col0\" class=\"data row18 col0\" >Bayesian Ridge</td>\n",
       "      <td id=\"T_4c427_row18_col1\" class=\"data row18 col1\" >865703.7673</td>\n",
       "      <td id=\"T_4c427_row18_col2\" class=\"data row18 col2\" >3341864158966.4585</td>\n",
       "      <td id=\"T_4c427_row18_col3\" class=\"data row18 col3\" >1198779.5053</td>\n",
       "      <td id=\"T_4c427_row18_col4\" class=\"data row18 col4\" >-19.1410</td>\n",
       "      <td id=\"T_4c427_row18_col5\" class=\"data row18 col5\" >1.5720</td>\n",
       "      <td id=\"T_4c427_row18_col6\" class=\"data row18 col6\" >4.8317</td>\n",
       "      <td id=\"T_4c427_row18_col7\" class=\"data row18 col7\" >0.1050</td>\n",
       "    </tr>\n",
       "  </tbody>\n",
       "</table>\n"
      ],
      "text/plain": [
       "<pandas.io.formats.style.Styler at 0x21eed985dd0>"
      ]
     },
     "metadata": {},
     "output_type": "display_data"
    },
    {
     "data": {
      "text/html": [],
      "text/plain": [
       "<IPython.core.display.HTML object>"
      ]
     },
     "metadata": {},
     "output_type": "display_data"
    },
    {
     "data": {
      "text/html": [
       "<style>#sk-container-id-1 {color: black;background-color: white;}#sk-container-id-1 pre{padding: 0;}#sk-container-id-1 div.sk-toggleable {background-color: white;}#sk-container-id-1 label.sk-toggleable__label {cursor: pointer;display: block;width: 100%;margin-bottom: 0;padding: 0.3em;box-sizing: border-box;text-align: center;}#sk-container-id-1 label.sk-toggleable__label-arrow:before {content: \"▸\";float: left;margin-right: 0.25em;color: #696969;}#sk-container-id-1 label.sk-toggleable__label-arrow:hover:before {color: black;}#sk-container-id-1 div.sk-estimator:hover label.sk-toggleable__label-arrow:before {color: black;}#sk-container-id-1 div.sk-toggleable__content {max-height: 0;max-width: 0;overflow: hidden;text-align: left;background-color: #f0f8ff;}#sk-container-id-1 div.sk-toggleable__content pre {margin: 0.2em;color: black;border-radius: 0.25em;background-color: #f0f8ff;}#sk-container-id-1 input.sk-toggleable__control:checked~div.sk-toggleable__content {max-height: 200px;max-width: 100%;overflow: auto;}#sk-container-id-1 input.sk-toggleable__control:checked~label.sk-toggleable__label-arrow:before {content: \"▾\";}#sk-container-id-1 div.sk-estimator input.sk-toggleable__control:checked~label.sk-toggleable__label {background-color: #d4ebff;}#sk-container-id-1 div.sk-label input.sk-toggleable__control:checked~label.sk-toggleable__label {background-color: #d4ebff;}#sk-container-id-1 input.sk-hidden--visually {border: 0;clip: rect(1px 1px 1px 1px);clip: rect(1px, 1px, 1px, 1px);height: 1px;margin: -1px;overflow: hidden;padding: 0;position: absolute;width: 1px;}#sk-container-id-1 div.sk-estimator {font-family: monospace;background-color: #f0f8ff;border: 1px dotted black;border-radius: 0.25em;box-sizing: border-box;margin-bottom: 0.5em;}#sk-container-id-1 div.sk-estimator:hover {background-color: #d4ebff;}#sk-container-id-1 div.sk-parallel-item::after {content: \"\";width: 100%;border-bottom: 1px solid gray;flex-grow: 1;}#sk-container-id-1 div.sk-label:hover label.sk-toggleable__label {background-color: #d4ebff;}#sk-container-id-1 div.sk-serial::before {content: \"\";position: absolute;border-left: 1px solid gray;box-sizing: border-box;top: 0;bottom: 0;left: 50%;z-index: 0;}#sk-container-id-1 div.sk-serial {display: flex;flex-direction: column;align-items: center;background-color: white;padding-right: 0.2em;padding-left: 0.2em;position: relative;}#sk-container-id-1 div.sk-item {position: relative;z-index: 1;}#sk-container-id-1 div.sk-parallel {display: flex;align-items: stretch;justify-content: center;background-color: white;position: relative;}#sk-container-id-1 div.sk-item::before, #sk-container-id-1 div.sk-parallel-item::before {content: \"\";position: absolute;border-left: 1px solid gray;box-sizing: border-box;top: 0;bottom: 0;left: 50%;z-index: -1;}#sk-container-id-1 div.sk-parallel-item {display: flex;flex-direction: column;z-index: 1;position: relative;background-color: white;}#sk-container-id-1 div.sk-parallel-item:first-child::after {align-self: flex-end;width: 50%;}#sk-container-id-1 div.sk-parallel-item:last-child::after {align-self: flex-start;width: 50%;}#sk-container-id-1 div.sk-parallel-item:only-child::after {width: 0;}#sk-container-id-1 div.sk-dashed-wrapped {border: 1px dashed gray;margin: 0 0.4em 0.5em 0.4em;box-sizing: border-box;padding-bottom: 0.4em;background-color: white;}#sk-container-id-1 div.sk-label label {font-family: monospace;font-weight: bold;display: inline-block;line-height: 1.2em;}#sk-container-id-1 div.sk-label-container {text-align: center;}#sk-container-id-1 div.sk-container {/* jupyter's `normalize.less` sets `[hidden] { display: none; }` but bootstrap.min.css set `[hidden] { display: none !important; }` so we also need the `!important` here to be able to override the default hidden behavior on the sphinx rendered scikit-learn.org. See: https://github.com/scikit-learn/scikit-learn/issues/21755 */display: inline-block !important;position: relative;}#sk-container-id-1 div.sk-text-repr-fallback {display: none;}</style><div id=\"sk-container-id-1\" class=\"sk-top-container\"><div class=\"sk-text-repr-fallback\"><pre>HuberRegressor()</pre><b>In a Jupyter environment, please rerun this cell to show the HTML representation or trust the notebook. <br />On GitHub, the HTML representation is unable to render, please try loading this page with nbviewer.org.</b></div><div class=\"sk-container\" hidden><div class=\"sk-item\"><div class=\"sk-estimator sk-toggleable\"><input class=\"sk-toggleable__control sk-hidden--visually\" id=\"sk-estimator-id-1\" type=\"checkbox\" checked><label for=\"sk-estimator-id-1\" class=\"sk-toggleable__label sk-toggleable__label-arrow\">HuberRegressor</label><div class=\"sk-toggleable__content\"><pre>HuberRegressor()</pre></div></div></div></div></div>"
      ],
      "text/plain": [
       "HuberRegressor()"
      ]
     },
     "execution_count": 30,
     "metadata": {},
     "output_type": "execute_result"
    }
   ],
   "source": [
    "compare_models()"
   ]
  },
  {
   "cell_type": "code",
   "execution_count": 97,
   "id": "2dd46e77",
   "metadata": {},
   "outputs": [
    {
     "name": "stdout",
     "output_type": "stream",
     "text": [
      "Note: you may need to restart the kernel to use updated packages.Package                       Version\n",
      "----------------------------- ---------------\n",
      "adagio                        0.2.4\n",
      "aiobotocore                   2.5.0\n",
      "aiofiles                      22.1.0\n",
      "aiohttp                       3.8.5\n",
      "aioitertools                  0.7.1\n",
      "aiosignal                     1.2.0\n",
      "aiosqlite                     0.18.0\n",
      "alabaster                     0.7.12\n",
      "alembic                       1.12.1\n",
      "altair                        5.2.0\n",
      "anaconda-anon-usage           0.4.2\n",
      "anaconda-catalogs             0.2.0\n",
      "anaconda-client               1.12.1\n",
      "anaconda-cloud-auth           0.1.3\n",
      "anaconda-navigator            2.5.1\n",
      "anaconda-project              0.11.1\n",
      "ansi2html                     1.8.0\n",
      "antiorm                       1.2.1\n",
      "antlr4-python3-runtime        4.11.1\n",
      "anyio                         3.7.1\n",
      "appdirs                       1.4.4\n",
      "argon2-cffi                   21.3.0\n",
      "argon2-cffi-bindings          21.2.0\n",
      "arrow                         1.2.3\n",
      "astroid                       2.14.2\n",
      "astropy                       5.1\n",
      "asttokens                     2.0.5\n",
      "async-timeout                 4.0.2\n",
      "atomicwrites                  1.4.0\n",
      "attrs                         22.1.0\n",
      "Automat                       20.2.0\n",
      "autopep8                      1.6.0\n",
      "Babel                         2.11.0\n",
      "backcall                      0.2.0\n",
      "backports.functools-lru-cache 1.6.4\n",
      "backports.tempfile            1.0\n",
      "backports.weakref             1.0.post1\n",
      "bcrypt                        3.2.0\n",
      "beautifulsoup4                4.12.2\n",
      "binaryornot                   0.4.4\n",
      "black                         0.0\n",
      "bleach                        4.1.0\n",
      "bokeh                         3.2.1\n",
      "boltons                       23.0.0\n",
      "boto3                         1.33.2\n",
      "botocore                      1.33.2\n",
      "Bottleneck                    1.3.5\n",
      "brotlipy                      0.7.0\n",
      "catboost                      1.2.2\n",
      "category-encoders             2.6.3\n",
      "certifi                       2023.11.17\n",
      "cffi                          1.15.1\n",
      "chardet                       4.0.0\n",
      "charset-normalizer            2.0.4\n",
      "click                         8.0.4\n",
      "cloudpickle                   2.2.1\n",
      "clyent                        1.2.2\n",
      "colorama                      0.4.6\n",
      "colorcet                      3.0.1\n",
      "colorlog                      6.7.0\n",
      "colour                        0.1.5\n",
      "comm                          0.1.2\n",
      "conda                         23.7.4\n",
      "conda-build                   3.26.1\n",
      "conda-content-trust           0.2.0\n",
      "conda_index                   0.3.0\n",
      "conda-libmamba-solver         23.7.0\n",
      "conda-pack                    0.6.0\n",
      "conda-package-handling        2.2.0\n",
      "conda_package_streaming       0.9.0\n",
      "conda-repo-cli                1.0.75\n",
      "conda-token                   0.4.0\n",
      "conda-verify                  3.4.2\n",
      "constantly                    15.1.0\n",
      "contourpy                     1.0.5\n",
      "cookiecutter                  1.7.3\n",
      "cryptography                  41.0.3\n",
      "cssselect                     1.1.0\n",
      "cycler                        0.11.0\n",
      "Cython                        3.0.5\n",
      "cytoolz                       0.12.0\n",
      "daal4py                       2023.1.1\n",
      "dacite                        1.8.1\n",
      "dash                          2.14.1\n",
      "dash-auth                     2.0.0\n",
      "dash-bootstrap-components     1.5.0\n",
      "dash-core-components          2.0.0\n",
      "dash-cytoscape                0.3.0\n",
      "dash-html-components          2.0.0\n",
      "dash-table                    5.0.0\n",
      "dash-testing-stub             0.0.2\n",
      "dask                          2023.6.0\n",
      "databricks-cli                0.18.0\n",
      "datasets                      2.12.0\n",
      "datashader                    0.15.2\n",
      "datashape                     0.5.4\n",
      "db                            0.1.1\n",
      "db-sqlite3                    0.0.1\n",
      "debugpy                       1.6.7\n",
      "decorator                     5.1.1\n",
      "defusedxml                    0.7.1\n",
      "Deprecated                    1.2.14\n",
      "deprecation                   2.1.0\n",
      "diff-match-patch              20200713\n",
      "dill                          0.3.6\n",
      "distributed                   2023.6.0\n",
      "docker                        6.1.3\n",
      "docstring-to-markdown         0.11\n",
      "docutils                      0.18.1\n",
      "dtreeviz                      2.2.2\n",
      "entrypoints                   0.4\n",
      "et-xmlfile                    1.1.0\n",
      "evidently                     0.2.8\n",
      "executing                     0.8.3\n",
      "explainerdashboard            0.4.3\n",
      "fairlearn                     0.7.0\n",
      "fastapi                       0.104.1\n",
      "fastjsonschema                2.16.2\n",
      "ffmpy                         0.3.1\n",
      "filelock                      3.9.0\n",
      "flake8                        6.0.0\n",
      "Flask                         2.2.3\n",
      "flask-simplelogin             0.1.2\n",
      "Flask-WTF                     1.2.1\n",
      "fonttools                     4.25.0\n",
      "frozenlist                    1.3.3\n",
      "fs                            2.4.16\n",
      "fsspec                        2023.4.0\n",
      "fugue                         0.8.6\n",
      "fugue-sql-antlr               0.1.8\n",
      "future                        0.18.3\n",
      "gensim                        4.3.0\n",
      "gevent                        23.9.1\n",
      "gitdb                         4.0.11\n",
      "GitPython                     3.1.40\n",
      "glob2                         0.7\n",
      "gradio                        3.50.2\n",
      "gradio_client                 0.6.1\n",
      "graphviz                      0.20.1\n",
      "greenlet                      3.0.1\n",
      "h11                           0.14.0\n",
      "h5py                          3.9.0\n",
      "HeapDict                      1.0.1\n",
      "holoviews                     1.17.1\n",
      "htmlmin                       0.1.12\n",
      "httpcore                      1.0.2\n",
      "httpx                         0.25.2\n",
      "huggingface-hub               0.15.1\n",
      "hvplot                        0.8.4\n",
      "hyperlink                     21.0.0\n",
      "hyperopt                      0.2.7\n",
      "idna                          3.4\n",
      "imagecodecs                   2023.1.23\n",
      "ImageHash                     4.3.1\n",
      "imageio                       2.26.0\n",
      "imagesize                     1.4.1\n",
      "imbalanced-learn              0.10.1\n",
      "imblearn                      0.0\n",
      "importlib-metadata            5.2.0\n",
      "importlib-resources           6.1.1\n",
      "incremental                   21.3.0\n",
      "inflection                    0.5.1\n",
      "iniconfig                     1.1.1\n",
      "intake                        0.6.8\n",
      "interpret                     0.4.4\n",
      "interpret-core                0.4.4\n",
      "intervaltree                  3.1.0\n",
      "ipykernel                     6.25.0\n",
      "ipython                       8.15.0\n",
      "ipython-genutils              0.2.0\n",
      "ipywidgets                    8.0.4\n",
      "isort                         5.9.3\n",
      "itemadapter                   0.3.0\n",
      "itemloaders                   1.0.4\n",
      "itsdangerous                  2.0.1\n",
      "jaraco.classes                3.2.1\n",
      "jedi                          0.18.1\n",
      "jellyfish                     1.0.1\n",
      "Jinja2                        3.1.2\n",
      "jinja2-time                   0.2.0\n",
      "jmespath                      0.10.0\n",
      "joblib                        1.2.0\n",
      "json5                         0.9.6\n",
      "jsonpatch                     1.32\n",
      "jsonpointer                   2.1\n",
      "jsonschema                    4.17.3\n",
      "jupyter                       1.0.0\n",
      "jupyter_client                7.4.9\n",
      "jupyter-console               6.6.3\n",
      "jupyter_core                  5.3.0\n",
      "jupyter-dash                  0.4.2\n",
      "jupyter-events                0.6.3\n",
      "jupyter-server                1.23.4\n",
      "jupyter_server_fileid         0.9.0\n",
      "jupyter_server_ydoc           0.8.0\n",
      "jupyter-ydoc                  0.2.4\n",
      "jupyterlab                    3.6.3\n",
      "jupyterlab-pygments           0.1.2\n",
      "jupyterlab_server             2.22.0\n",
      "jupyterlab-widgets            3.0.5\n",
      "kaleido                       0.2.1\n",
      "keyring                       23.13.1\n",
      "kiwisolver                    1.4.4\n",
      "kmodes                        0.12.2\n",
      "lazy_loader                   0.2\n",
      "lazy-object-proxy             1.6.0\n",
      "libarchive-c                  2.9\n",
      "libmambapy                    1.5.1\n",
      "lightgbm                      4.1.0\n",
      "lime                          0.2.0.1\n",
      "linkify-it-py                 2.0.0\n",
      "llvmlite                      0.40.0\n",
      "lmdb                          1.4.1\n",
      "locket                        1.0.0\n",
      "lxml                          4.9.3\n",
      "lz4                           4.3.2\n",
      "m2cgen                        0.10.0\n",
      "Mako                          1.3.0\n",
      "Markdown                      3.4.1\n",
      "markdown-it-py                2.2.0\n",
      "MarkupSafe                    2.1.1\n",
      "matplotlib                    3.6.0\n",
      "matplotlib-inline             0.1.6\n",
      "mccabe                        0.7.0\n",
      "mdit-py-plugins               0.3.0\n",
      "mdurl                         0.1.0\n",
      "menuinst                      1.4.19\n",
      "mistune                       0.8.4\n",
      "mkl-fft                       1.3.8\n",
      "mkl-random                    1.2.4\n",
      "mkl-service                   2.4.0\n",
      "mlflow                        1.30.1\n",
      "mlxtend                       0.23.0\n",
      "more-itertools                8.12.0\n",
      "moto                          4.2.10\n",
      "mpmath                        1.3.0\n",
      "msgpack                       1.0.3\n",
      "multidict                     6.0.2\n",
      "multimethod                   1.10\n",
      "multipledispatch              0.6.0\n",
      "multiprocess                  0.70.14\n",
      "munkres                       1.1.4\n",
      "mypy-extensions               1.0.0\n",
      "navigator-updater             0.4.0\n",
      "nbclassic                     0.5.5\n",
      "nbclient                      0.5.13\n",
      "nbconvert                     6.5.4\n",
      "nbformat                      5.9.2\n",
      "nest-asyncio                  1.5.6\n",
      "networkx                      3.1\n",
      "nltk                          3.8.1\n",
      "notebook                      6.5.4\n",
      "notebook_shim                 0.2.2\n",
      "numba                         0.57.1\n",
      "numexpr                       2.8.4\n",
      "numpy                         1.24.3\n",
      "numpydoc                      1.5.0\n",
      "oauthlib                      3.2.2\n",
      "openpyxl                      3.0.10\n",
      "optuna                        3.4.0\n",
      "orjson                        3.9.10\n",
      "outcome                       1.3.0.post0\n",
      "oyaml                         1.0\n",
      "packaging                     21.3\n",
      "pandas                        1.5.3\n",
      "pandocfilters                 1.5.0\n",
      "panel                         1.2.3\n",
      "param                         1.13.0\n",
      "paramiko                      2.8.1\n",
      "parsel                        1.6.0\n",
      "parso                         0.8.3\n",
      "partd                         1.4.0\n",
      "pathlib                       1.0.1\n",
      "pathspec                      0.10.3\n",
      "patsy                         0.5.3\n",
      "pep8                          1.7.1\n",
      "percy                         2.0.2\n",
      "pexpect                       4.8.0\n",
      "phik                          0.12.3\n",
      "pickleshare                   0.7.5\n",
      "Pillow                        10.0.1\n",
      "pip                           23.2.1\n",
      "pkce                          1.0.3\n",
      "pkginfo                       1.9.6\n",
      "platformdirs                  3.10.0\n",
      "plotly                        5.9.0\n",
      "plotly-resampler              0.9.1\n",
      "pluggy                        1.0.0\n",
      "ply                           3.11\n",
      "pmdarima                      2.0.4\n",
      "poyo                          0.5.0\n",
      "prometheus-client             0.14.1\n",
      "prometheus-flask-exporter     0.23.0\n",
      "prompt-toolkit                3.0.36\n",
      "Protego                       0.1.16\n",
      "protobuf                      4.25.1\n",
      "psutil                        5.9.0\n",
      "ptyprocess                    0.7.0\n",
      "pure-eval                     0.2.2\n",
      "py-cpuinfo                    8.0.0\n",
      "py4j                          0.10.9.7\n",
      "pyaml                         23.9.7\n",
      "pyarrow                       11.0.0\n",
      "pyasn1                        0.4.8\n",
      "pyasn1-modules                0.2.8\n",
      "pycaret                       3.2.0\n",
      "pycodestyle                   2.10.0\n",
      "pycosat                       0.6.4\n",
      "pycparser                     2.21\n",
      "pyct                          0.5.0\n",
      "pycurl                        7.45.2\n",
      "pydantic                      1.10.8\n",
      "PyDispatcher                  2.0.5\n",
      "pydocstyle                    6.3.0\n",
      "pydub                         0.25.1\n",
      "pyerfa                        2.0.0\n",
      "pyflakes                      3.0.1\n",
      "Pygments                      2.15.1\n",
      "PyJWT                         2.4.0\n",
      "pylint                        2.16.2\n",
      "pylint-venv                   2.3.0\n",
      "pyls-spyder                   0.4.0\n",
      "PyNaCl                        1.5.0\n",
      "pynndescent                   0.5.11\n",
      "pyod                          1.1.2\n",
      "pyodbc                        4.0.34\n",
      "pyOpenSSL                     23.2.0\n",
      "pyparsing                     3.0.9\n",
      "PyQt5                         5.15.7\n",
      "PyQt5-sip                     12.11.0\n",
      "PyQtWebEngine                 5.15.4\n",
      "pyrsistent                    0.18.0\n",
      "PySocks                       1.7.1\n",
      "pytest                        7.4.0\n",
      "python-dateutil               2.8.2\n",
      "python-dotenv                 0.21.0\n",
      "python-json-logger            2.0.7\n",
      "python-lsp-black              1.2.1\n",
      "python-lsp-jsonrpc            1.0.0\n",
      "python-lsp-server             1.7.2\n",
      "python-multipart              0.0.6\n",
      "python-slugify                5.0.2\n",
      "python-snappy                 0.6.1\n",
      "pytoolconfig                  1.2.5\n",
      "pytz                          2022.7.1\n",
      "pyviz-comms                   2.3.0\n",
      "PyWavelets                    1.4.1\n",
      "pywin32                       305.1\n",
      "pywin32-ctypes                0.2.0\n",
      "pywinpty                      2.0.10\n",
      "PyYAML                        6.0\n",
      "pyzmq                         23.2.0\n",
      "QDarkStyle                    3.0.2\n",
      "qpd                           0.4.4\n",
      "qstylizer                     0.2.2\n",
      "QtAwesome                     1.2.2\n",
      "qtconsole                     5.4.2\n",
      "QtPy                          2.2.0\n",
      "querystring-parser            1.2.4\n",
      "queuelib                      1.5.0\n",
      "regex                         2022.7.9\n",
      "requests                      2.31.0\n",
      "requests-file                 1.5.1\n",
      "requests-toolbelt             1.0.0\n",
      "responses                     0.13.3\n",
      "retrying                      1.3.4\n",
      "rfc3339-validator             0.1.4\n",
      "rfc3986-validator             0.1.1\n",
      "rope                          1.7.0\n",
      "Rtree                         1.0.1\n",
      "ruamel.yaml                   0.17.21\n",
      "ruamel-yaml-conda             0.17.21\n",
      "s3fs                          2023.4.0\n",
      "s3transfer                    0.8.1\n",
      "safetensors                   0.3.2\n",
      "SALib                         1.4.7\n",
      "schemdraw                     0.15\n",
      "scikit-base                   0.5.2\n",
      "scikit-image                  0.20.0\n",
      "scikit-learn                  1.2.2\n",
      "scikit-learn-intelex          20230426.121932\n",
      "scikit-optimize               0.9.0\n",
      "scikit-plot                   0.3.7\n",
      "scipy                         1.10.1\n",
      "Scrapy                        2.8.0\n",
      "seaborn                       0.12.2\n",
      "selenium                      4.2.0\n",
      "semantic-version              2.10.0\n",
      "Send2Trash                    1.8.0\n",
      "service-identity              18.1.0\n",
      "setuptools                    68.0.0\n",
      "shap                          0.43.0\n",
      "sip                           6.6.2\n",
      "six                           1.16.0\n",
      "skope-rules                   1.0.1\n",
      "sktime                        0.21.1\n",
      "slicer                        0.0.7\n",
      "smart-open                    5.2.1\n",
      "smmap                         5.0.1\n",
      "sniffio                       1.3.0\n",
      "snowballstemmer               2.2.0\n",
      "sortedcontainers              2.4.0\n",
      "soupsieve                     2.4\n",
      "Sphinx                        5.0.2\n",
      "sphinxcontrib-applehelp       1.0.2\n",
      "sphinxcontrib-devhelp         1.0.2\n",
      "sphinxcontrib-htmlhelp        2.0.0\n",
      "sphinxcontrib-jsmath          1.0.1\n",
      "sphinxcontrib-qthelp          1.0.3\n",
      "sphinxcontrib-serializinghtml 1.1.5\n",
      "spyder                        5.4.3\n",
      "spyder-kernels                2.4.4\n",
      "SQLAlchemy                    1.4.39\n",
      "sqlglot                       19.7.0\n",
      "sqlparse                      0.4.4\n",
      "stack-data                    0.2.0\n",
      "starlette                     0.27.0\n",
      "statsforecast                 1.5.0\n",
      "statsmodels                   0.14.0\n",
      "sympy                         1.11.1\n",
      "tables                        3.8.0\n",
      "tabulate                      0.8.10\n",
      "tangled-up-in-unicode         0.2.0\n",
      "tbats                         1.1.3\n",
      "TBB                           0.2\n",
      "tblib                         1.7.0\n",
      "tenacity                      8.2.2\n",
      "terminado                     0.17.1\n",
      "text-unidecode                1.3\n",
      "textdistance                  4.2.1\n",
      "threadpoolctl                 2.2.0\n",
      "three-merge                   0.1.1\n",
      "tifffile                      2023.4.12\n",
      "tinycss2                      1.2.1\n",
      "tldextract                    3.2.0\n",
      "tokenizers                    0.13.2\n",
      "toml                          0.10.2\n",
      "tomlkit                       0.11.1\n",
      "toolz                         0.12.0\n",
      "tornado                       6.3.2\n",
      "tqdm                          4.65.0\n",
      "trace-updater                 0.0.9.1\n",
      "traitlets                     5.7.1\n",
      "transformers                  4.32.1\n",
      "treeinterpreter               0.2.3\n",
      "triad                         0.9.1\n",
      "trio                          0.23.1\n",
      "trio-websocket                0.11.1\n",
      "tsdownsample                  0.1.2\n",
      "Twisted                       22.10.0\n",
      "twisted-iocpsupport           1.0.2\n",
      "typeguard                     4.1.5\n",
      "typing_extensions             4.8.0\n",
      "tzdata                        2023.3\n",
      "uc-micro-py                   1.0.1\n",
      "ujson                         5.4.0\n",
      "umap-learn                    0.5.5\n",
      "Unidecode                     1.2.0\n",
      "urllib3                       1.26.16\n",
      "urllib3-secure-extra          0.1.0\n",
      "uvicorn                       0.24.0.post1\n",
      "visions                       0.7.5\n",
      "w3lib                         1.21.0\n",
      "waitress                      2.1.2\n",
      "watchdog                      2.1.6\n",
      "wcwidth                       0.2.5\n",
      "webencodings                  0.5.1\n",
      "websocket-client              0.58.0\n",
      "websockets                    11.0.3\n",
      "Werkzeug                      2.2.3\n",
      "whatthepatch                  1.0.2\n",
      "wheel                         0.38.4\n",
      "widgetsnbextension            4.0.5\n",
      "win-inet-pton                 1.1.0\n",
      "wordcloud                     1.9.2\n",
      "wrapt                         1.14.1\n",
      "wsproto                       1.2.0\n",
      "WTForms                       3.1.1\n",
      "xarray                        2023.6.0\n",
      "xlwings                       0.29.1\n",
      "xmltodict                     0.13.0\n",
      "xxhash                        2.0.2\n",
      "xyzservices                   2022.9.0\n",
      "y-py                          0.5.9\n",
      "yapf                          0.31.0\n",
      "yarl                          1.8.1\n",
      "ydata-profiling               4.6.0\n",
      "yellowbrick                   1.5\n",
      "ypy-websocket                 0.8.2\n",
      "zict                          2.2.0\n",
      "zipp                          3.11.0\n",
      "zope.event                    5.0\n",
      "zope.interface                5.4.0\n",
      "zstandard                     0.19.0\n",
      "\n"
     ]
    }
   ],
   "source": [
    "pip list"
   ]
  },
  {
   "cell_type": "code",
   "execution_count": 41,
   "id": "4728ff6c",
   "metadata": {},
   "outputs": [
    {
     "name": "stdout",
     "output_type": "stream",
     "text": [
      "HI\n"
     ]
    }
   ],
   "source": [
    "print(\"HI\")"
   ]
  }
 ],
 "metadata": {
  "kernelspec": {
   "display_name": "Python 3 (ipykernel)",
   "language": "python",
   "name": "python3"
  },
  "language_info": {
   "codemirror_mode": {
    "name": "ipython",
    "version": 3
   },
   "file_extension": ".py",
   "mimetype": "text/x-python",
   "name": "python",
   "nbconvert_exporter": "python",
   "pygments_lexer": "ipython3",
   "version": "3.11.4"
  }
 },
 "nbformat": 4,
 "nbformat_minor": 5
}
